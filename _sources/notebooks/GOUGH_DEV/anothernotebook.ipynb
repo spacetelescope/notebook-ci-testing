{
 "cells": [
  {
   "cell_type": "code",
   "execution_count": null,
   "id": "hello-world-cell",
   "metadata": {},
   "outputs": [],
   "source": [
    "print('Helloooo world')"
   ]
  }
 ],
 "metadata": {
  "kernelspec": {
   "display_name": "Python 3",
   "language": "python",
   "name": "python3"
  },
  "language_info": {
   "name": "python",
   "version": "3.x"
  }
 },
 "nbformat": 4,
 "nbformat_minor": 5
}
