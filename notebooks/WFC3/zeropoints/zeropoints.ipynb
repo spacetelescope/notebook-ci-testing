{
 "cells": [
  {
   "cell_type": "markdown",
   "metadata": {},
   "source": [
    "<a id=\"title\"></a>\n",
    "# Calculating WFC3 Zeropoints with STSynphot\n",
    "<hr>\n",
    "## Learning Goals \n",
    "By the end of this tutorial, you will:\n",
    "- Calculate zeropoints and other photometric properties using `stsynphot`.\n",
    "- Create, plot, and save 'total system throughput' tables.\n",
    "\n",
    "## Table of Contents\n",
    "[Introduction](#intro) <br>\n",
    "[1. Imports](#imports) <br>\n",
    "[2. Download throughput tables and define variables](#envvar) <br>\n",
    "[3. Set up the 'obsmode' string](#inps) <br>\n",
    "[4. Basic usage for a single 'obsmode'](#usage) <br>\n",
    "[5. Compute zeropoints and other photometric properties](#zps) <br>\n",
    "[6. Iterate over multiple 'obsmodes'](#iterate) <br>\n",
    "[7. Create and plot 'total system throughput' tables](#curves) <br>\n",
    "[8. Conclusions](#conclusions) <br>\n",
    "[Additional Resources](#resources) <br>\n",
    "[About the Notebook](#about) <br>\n",
    "[Citations](#cite) <br>"
   ]
  },
  {
   "cell_type": "markdown",
   "metadata": {},
   "source": [
    "<a id=\"intro\"></a>\n",
    "## Introduction\n",
    "This notebook shows how to calculate photometric zeropoints using the Python package `stsynphot` for any WFC3 detector, filter, date, or aperture. This tutorial is especially useful for calculating Vegamag zeropoints, which require an input spectrum. The notebook is also useful for computing time-dependent WFC3/UVIS zeropoints for any observation date, as the values listed in [WFC3 ISR 2021-04](https://www.stsci.edu/files/live/sites/www/files/home/hst/instrumentation/wfc3/documentation/instrument-science-reports-isrs/_documents/2021/WFC3_ISR_2021-04.pdf) are defined for the reference epoch. As of mid-2021, the WFC3/IR zeropoints are not time-dependent.\n",
    "\n",
    "More documentation on `stsynphot` is available [here](https://stsynphot.readthedocs.io/en/latest/index.html). Using `stsynphot` requires downloading the throughput curves for the HST instruments and optical path.  One method of doing this is shown in [Section 2](#envvar).  More information on the throughput tables can be found [here](https://www.stsci.edu/hst/instrumentation/reference-data-for-calibration-and-tools/synphot-throughput-tables)."
   ]
  },
  {
   "cell_type": "markdown",
   "metadata": {},
   "source": [
    "<a id=\"imports\"></a>\n",
    "## 1. Imports\n",
    "\n",
    "This notebook assumes you have created the virtual environment in [WFC3 notebooks'](https://github.com/spacetelescope/hst_notebooks/blob/main/notebooks/WFC3/README.md) installation instructions.\n",
    "\n",
    "We import:\n",
    "- *os* for setting environment variables\n",
    "- *tarfile* for extracting a .tar archive\n",
    "\n",
    "- *numpy* for handling array functions\n",
    "- *matplotlib.pyplot* for plotting data\n",
    "- *astropy* for astronomy related functions\n",
    "\n",
    "- *synphot* and *stsynphot* for evaluating synthetic photometry\n",
    "\n",
    "We will need to set the `PYSYN_CDBS` environment variable *before* importing stsynphot. We will also create a custom Vega spectrum, as the `stsynphot` will supercede the usual `synphot` functionality regarding the Vega spectrum and would otherwise require a downloaded copy of the spectrum to be provided."
   ]
  },
  {
   "cell_type": "code",
   "execution_count": 1,
   "metadata": {
    "execution": {
     "iopub.execute_input": "2025-10-07T11:31:40.884530Z",
     "iopub.status.busy": "2025-10-07T11:31:40.884387Z",
     "iopub.status.idle": "2025-10-07T11:31:41.843512Z",
     "shell.execute_reply": "2025-10-07T11:31:41.843023Z"
    }
   },
   "outputs": [],
   "source": [
    "import os\n",
    "import tarfile\n",
    "\n",
    "import numpy as np\n",
    "import matplotlib.pyplot as plt\n",
    "\n",
    "from astropy.table import Table\n",
    "\n",
    "from synphot import Observation"
   ]
  },
  {
   "cell_type": "markdown",
   "metadata": {},
   "source": [
    "<a class=\"anchor\" id=\"envvar\"></a>\n",
    "## 2. Download throughput tables and define variables\n",
    "\n",
    "This section obtains the WFC3 throughput component tables for use with `stsynphot`. This step only needs to be done once. If these reference files have already been downloaded, this section can be skipped."
   ]
  },
  {
   "cell_type": "code",
   "execution_count": 2,
   "metadata": {
    "execution": {
     "iopub.execute_input": "2025-10-07T11:31:41.845423Z",
     "iopub.status.busy": "2025-10-07T11:31:41.845186Z",
     "iopub.status.idle": "2025-10-07T11:52:47.957021Z",
     "shell.execute_reply": "2025-10-07T11:52:47.956324Z"
    }
   },
   "outputs": [
    {
     "name": "stdout",
     "output_type": "stream",
     "text": [
      "  % Total    % Received % Xferd  Average Speed   Time    Time     Time  Current\r\n",
      "                                 Dload  Upload   Total   Spent    Left  Speed\r\n",
      "\r",
      "  0     0    0     0    0     0      0      0 --:--:-- --:--:-- --:--:--     0"
     ]
    },
    {
     "name": "stdout",
     "output_type": "stream",
     "text": [
      "\r",
      "  0     0    0     0    0     0      0      0 --:--:-- --:--:-- --:--:--     0"
     ]
    },
    {
     "name": "stdout",
     "output_type": "stream",
     "text": [
      "\r",
      "  0  796M    0 4064k    0     0  3203k      0  0:04:14  0:00:01  0:04:13 3202k"
     ]
    },
    {
     "name": "stdout",
     "output_type": "stream",
     "text": [
      "\r",
      "  1  796M    1 8384k    0     0  3673k      0  0:03:41  0:00:02  0:03:39 3672k"
     ]
    },
    {
     "name": "stdout",
     "output_type": "stream",
     "text": [
      "\r",
      "  1  796M    1  9.8M    0     0  3094k      0  0:04:23  0:00:03  0:04:20 3094k"
     ]
    },
    {
     "name": "stdout",
     "output_type": "stream",
     "text": [
      "\r",
      "  1  796M    1 10.9M    0     0  2626k      0  0:05:10  0:00:04  0:05:06 2626k"
     ]
    },
    {
     "name": "stdout",
     "output_type": "stream",
     "text": [
      "\r",
      "  1  796M    1 11.8M    0     0  2296k      0  0:05:55  0:00:05  0:05:50 2410k"
     ]
    },
    {
     "name": "stdout",
     "output_type": "stream",
     "text": [
      "\r",
      "  1  796M    1 12.4M    0     0  2024k      0  0:06:42  0:00:06  0:06:36 1726k"
     ]
    },
    {
     "name": "stdout",
     "output_type": "stream",
     "text": [
      "\r",
      "  1  796M    1 12.7M    0     0  1805k      0  0:07:31  0:00:07  0:07:24  946k"
     ]
    },
    {
     "name": "stdout",
     "output_type": "stream",
     "text": [
      "\r",
      "  1  796M    1 13.0M    0     0  1620k      0  0:08:23  0:00:08  0:08:15  657k"
     ]
    },
    {
     "name": "stdout",
     "output_type": "stream",
     "text": [
      "\r",
      "  1  796M    1 13.2M    0     0  1470k      0  0:09:14  0:00:09  0:09:05  481k"
     ]
    },
    {
     "name": "stdout",
     "output_type": "stream",
     "text": [
      "\r",
      "  1  796M    1 13.5M    0     0  1346k      0  0:10:05  0:00:10  0:09:55  350k"
     ]
    },
    {
     "name": "stdout",
     "output_type": "stream",
     "text": [
      "\r",
      "  1  796M    1 13.7M    0     0  1249k      0  0:10:52  0:00:11  0:10:41  275k"
     ]
    },
    {
     "name": "stdout",
     "output_type": "stream",
     "text": [
      "\r",
      "  1  796M    1 14.0M    0     0  1172k      0  0:11:35  0:00:12  0:11:23  260k"
     ]
    },
    {
     "name": "stdout",
     "output_type": "stream",
     "text": [
      "\r",
      "  1  796M    1 14.5M    0     0  1120k      0  0:12:07  0:00:13  0:11:54  294k"
     ]
    },
    {
     "name": "stdout",
     "output_type": "stream",
     "text": [
      "\r",
      "  1  796M    1 15.0M    0     0  1084k      0  0:12:31  0:00:14  0:12:17  368k"
     ]
    },
    {
     "name": "stdout",
     "output_type": "stream",
     "text": [
      "\r",
      "  1  796M    1 15.7M    0     0  1056k      0  0:12:51  0:00:15  0:12:36  454k"
     ]
    },
    {
     "name": "stdout",
     "output_type": "stream",
     "text": [
      "\r",
      "  2  796M    2 16.2M    0     0  1020k      0  0:13:19  0:00:16  0:13:03  502k"
     ]
    },
    {
     "name": "stdout",
     "output_type": "stream",
     "text": [
      "\r",
      "  2  796M    2 16.4M    0     0   977k      0  0:13:54  0:00:17  0:13:37  495k"
     ]
    },
    {
     "name": "stdout",
     "output_type": "stream",
     "text": [
      "\r",
      "  2  796M    2 16.7M    0     0   942k      0  0:14:25  0:00:18  0:14:07  469k"
     ]
    },
    {
     "name": "stdout",
     "output_type": "stream",
     "text": [
      "\r",
      "  2  796M    2 17.0M    0     0   908k      0  0:14:57  0:00:19  0:14:38  408k"
     ]
    },
    {
     "name": "stdout",
     "output_type": "stream",
     "text": [
      "\r",
      "  2  796M    2 17.5M    0     0   884k      0  0:15:21  0:00:20  0:15:01  360k"
     ]
    },
    {
     "name": "stdout",
     "output_type": "stream",
     "text": [
      "\r",
      "  2  796M    2 17.9M    0     0   865k      0  0:15:42  0:00:21  0:15:21  357k"
     ]
    },
    {
     "name": "stdout",
     "output_type": "stream",
     "text": [
      "\r",
      "  2  796M    2 18.5M    0     0   851k      0  0:15:57  0:00:22  0:15:35  416k"
     ]
    },
    {
     "name": "stdout",
     "output_type": "stream",
     "text": [
      "\r",
      "  2  796M    2 18.9M    0     0   832k      0  0:16:19  0:00:23  0:15:56  432k"
     ]
    },
    {
     "name": "stdout",
     "output_type": "stream",
     "text": [
      "\r",
      "  2  796M    2 19.3M    0     0   815k      0  0:16:40  0:00:24  0:16:16  454k"
     ]
    },
    {
     "name": "stdout",
     "output_type": "stream",
     "text": [
      "\r",
      "  2  796M    2 19.8M    0     0   803k      0  0:16:55  0:00:25  0:16:30  471k"
     ]
    },
    {
     "name": "stdout",
     "output_type": "stream",
     "text": [
      "\r",
      "  2  796M    2 20.3M    0     0   791k      0  0:17:09  0:00:26  0:16:43  483k"
     ]
    },
    {
     "name": "stdout",
     "output_type": "stream",
     "text": [
      "\r",
      "  2  796M    2 20.6M    0     0   776k      0  0:17:29  0:00:27  0:17:02  445k"
     ]
    },
    {
     "name": "stdout",
     "output_type": "stream",
     "text": [
      "\r",
      "  2  796M    2 21.0M    0     0   762k      0  0:17:48  0:00:28  0:17:20  438k"
     ]
    },
    {
     "name": "stdout",
     "output_type": "stream",
     "text": [
      "\r",
      "  2  796M    2 21.4M    0     0   750k      0  0:18:05  0:00:29  0:17:36  438k"
     ]
    },
    {
     "name": "stdout",
     "output_type": "stream",
     "text": [
      "\r",
      "  2  796M    2 21.9M    0     0   741k      0  0:18:19  0:00:30  0:17:49  432k"
     ]
    },
    {
     "name": "stdout",
     "output_type": "stream",
     "text": [
      "\r",
      "  2  796M    2 22.5M    0     0   738k      0  0:18:24  0:00:31  0:17:53  455k"
     ]
    },
    {
     "name": "stdout",
     "output_type": "stream",
     "text": [
      "\r",
      "  2  796M    2 23.3M    0     0   740k      0  0:18:21  0:00:32  0:17:49  540k"
     ]
    },
    {
     "name": "stdout",
     "output_type": "stream",
     "text": [
      "\r",
      "  3  796M    3 24.2M    0     0   746k      0  0:18:12  0:00:33  0:17:39  653k"
     ]
    },
    {
     "name": "stdout",
     "output_type": "stream",
     "text": [
      "\r",
      "  3  796M    3 25.2M    0     0   754k      0  0:18:00  0:00:34  0:17:26  778k"
     ]
    },
    {
     "name": "stdout",
     "output_type": "stream",
     "text": [
      "\r",
      "  3  796M    3 26.1M    0     0   760k      0  0:17:51  0:00:35  0:17:16  874k"
     ]
    },
    {
     "name": "stdout",
     "output_type": "stream",
     "text": [
      "\r",
      "  3  796M    3 26.9M    0     0   761k      0  0:17:50  0:00:36  0:17:14  906k"
     ]
    },
    {
     "name": "stdout",
     "output_type": "stream",
     "text": [
      "\r",
      "  3  796M    3 27.6M    0     0   759k      0  0:17:53  0:00:37  0:17:16  885k"
     ]
    },
    {
     "name": "stdout",
     "output_type": "stream",
     "text": [
      "\r",
      "  3  796M    3 28.4M    0     0   761k      0  0:17:50  0:00:38  0:17:12  860k"
     ]
    },
    {
     "name": "stdout",
     "output_type": "stream",
     "text": [
      "\r",
      "  3  796M    3 29.3M    0     0   765k      0  0:17:45  0:00:39  0:17:06  835k"
     ]
    },
    {
     "name": "stdout",
     "output_type": "stream",
     "text": [
      "\r",
      "  3  796M    3 30.1M    0     0   767k      0  0:17:42  0:00:40  0:17:02  816k"
     ]
    },
    {
     "name": "stdout",
     "output_type": "stream",
     "text": [
      "\r",
      "  3  796M    3 31.1M    0     0   773k      0  0:17:34  0:00:41  0:16:53  858k"
     ]
    },
    {
     "name": "stdout",
     "output_type": "stream",
     "text": [
      "\r",
      "  4  796M    4 32.1M    0     0   778k      0  0:17:27  0:00:42  0:16:45  921k"
     ]
    },
    {
     "name": "stdout",
     "output_type": "stream",
     "text": [
      "\r",
      "  4  796M    4 33.1M    0     0   784k      0  0:17:19  0:00:43  0:16:36  961k"
     ]
    },
    {
     "name": "stdout",
     "output_type": "stream",
     "text": [
      "\r",
      "  4  796M    4 33.9M    0     0   784k      0  0:17:18  0:00:44  0:16:34  940k"
     ]
    },
    {
     "name": "stdout",
     "output_type": "stream",
     "text": [
      "\r",
      "  4  796M    4 34.5M    0     0   782k      0  0:17:22  0:00:45  0:16:37  900k"
     ]
    },
    {
     "name": "stdout",
     "output_type": "stream",
     "text": [
      "\r",
      "  4  796M    4 34.9M    0     0   773k      0  0:17:33  0:00:46  0:16:47  777k"
     ]
    },
    {
     "name": "stdout",
     "output_type": "stream",
     "text": [
      "\r",
      "  4  796M    4 35.2M    0     0   763k      0  0:17:48  0:00:47  0:17:01  634k"
     ]
    },
    {
     "name": "stdout",
     "output_type": "stream",
     "text": [
      "\r",
      "  4  796M    4 35.6M    0     0   755k      0  0:17:59  0:00:48  0:17:11  506k"
     ]
    },
    {
     "name": "stdout",
     "output_type": "stream",
     "text": [
      "\r",
      "  4  796M    4 36.1M    0     0   750k      0  0:18:06  0:00:49  0:17:17  447k"
     ]
    },
    {
     "name": "stdout",
     "output_type": "stream",
     "text": [
      "\r",
      "  4  796M    4 36.5M    0     0   745k      0  0:18:13  0:00:50  0:17:23  414k"
     ]
    },
    {
     "name": "stdout",
     "output_type": "stream",
     "text": [
      "\r",
      "  4  796M    4 37.0M    0     0   739k      0  0:18:21  0:00:51  0:17:30  427k"
     ]
    },
    {
     "name": "stdout",
     "output_type": "stream",
     "text": [
      "\r",
      "  4  796M    4 37.4M    0     0   734k      0  0:18:30  0:00:52  0:17:38  460k"
     ]
    },
    {
     "name": "stdout",
     "output_type": "stream",
     "text": [
      "\r",
      "  4  796M    4 38.0M    0     0   731k      0  0:18:34  0:00:53  0:17:41  499k"
     ]
    },
    {
     "name": "stdout",
     "output_type": "stream",
     "text": [
      "\r",
      "  4  796M    4 38.5M    0     0   728k      0  0:18:39  0:00:54  0:17:45  506k"
     ]
    },
    {
     "name": "stdout",
     "output_type": "stream",
     "text": [
      "\r",
      "  4  796M    4 39.0M    0     0   723k      0  0:18:47  0:00:55  0:17:52  500k"
     ]
    },
    {
     "name": "stdout",
     "output_type": "stream",
     "text": [
      "\r",
      "  4  796M    4 39.4M    0     0   718k      0  0:18:55  0:00:56  0:17:59  494k"
     ]
    },
    {
     "name": "stdout",
     "output_type": "stream",
     "text": [
      "\r",
      "  5  796M    5 39.8M    0     0   712k      0  0:19:04  0:00:57  0:18:07  485k"
     ]
    },
    {
     "name": "stdout",
     "output_type": "stream",
     "text": [
      "\r",
      "  5  796M    5 40.2M    0     0   708k      0  0:19:11  0:00:58  0:18:13  458k"
     ]
    },
    {
     "name": "stdout",
     "output_type": "stream",
     "text": [
      "\r",
      "  5  796M    5 40.9M    0     0   706k      0  0:19:13  0:00:59  0:18:14  474k"
     ]
    },
    {
     "name": "stdout",
     "output_type": "stream",
     "text": [
      "\r",
      "  5  796M    5 41.5M    0     0   704k      0  0:19:16  0:01:00  0:18:16  503k"
     ]
    },
    {
     "name": "stdout",
     "output_type": "stream",
     "text": [
      "\r",
      "  5  796M    5 42.1M    0     0   704k      0  0:19:16  0:01:01  0:18:15  553k"
     ]
    },
    {
     "name": "stdout",
     "output_type": "stream",
     "text": [
      "\r",
      "  5  796M    5 42.8M    0     0   704k      0  0:19:17  0:01:02  0:18:15  613k"
     ]
    },
    {
     "name": "stdout",
     "output_type": "stream",
     "text": [
      "\r",
      "  5  796M    5 43.4M    0     0   703k      0  0:19:18  0:01:03  0:18:15  653k"
     ]
    },
    {
     "name": "stdout",
     "output_type": "stream",
     "text": [
      "\r",
      "  5  796M    5 44.1M    0     0   703k      0  0:19:19  0:01:04  0:18:15  659k"
     ]
    },
    {
     "name": "stdout",
     "output_type": "stream",
     "text": [
      "\r",
      "  5  796M    5 44.6M    0     0   700k      0  0:19:24  0:01:05  0:18:19  640k"
     ]
    },
    {
     "name": "stdout",
     "output_type": "stream",
     "text": [
      "\r",
      "  5  796M    5 45.2M    0     0   698k      0  0:19:27  0:01:06  0:18:21  620k"
     ]
    },
    {
     "name": "stdout",
     "output_type": "stream",
     "text": [
      "\r",
      "  5  796M    5 45.9M    0     0   699k      0  0:19:26  0:01:07  0:18:19  630k"
     ]
    },
    {
     "name": "stdout",
     "output_type": "stream",
     "text": [
      "\r",
      "  5  796M    5 46.6M    0     0   699k      0  0:19:25  0:01:08  0:18:17  648k"
     ]
    },
    {
     "name": "stdout",
     "output_type": "stream",
     "text": [
      "\r",
      "  5  796M    5 47.2M    0     0   698k      0  0:19:27  0:01:09  0:18:18  638k"
     ]
    },
    {
     "name": "stdout",
     "output_type": "stream",
     "text": [
      "\r",
      "  6  796M    6 47.8M    0     0   697k      0  0:19:29  0:01:10  0:18:19  662k"
     ]
    },
    {
     "name": "stdout",
     "output_type": "stream",
     "text": [
      "\r",
      "  6  796M    6 48.2M    0     0   693k      0  0:19:35  0:01:11  0:18:24  627k"
     ]
    },
    {
     "name": "stdout",
     "output_type": "stream",
     "text": [
      "\r",
      "  6  796M    6 48.6M    0     0   689k      0  0:19:42  0:01:12  0:18:30  557k"
     ]
    },
    {
     "name": "stdout",
     "output_type": "stream",
     "text": [
      "\r",
      "  6  796M    6 49.0M    0     0   686k      0  0:19:48  0:01:13  0:18:35  499k"
     ]
    },
    {
     "name": "stdout",
     "output_type": "stream",
     "text": [
      "\r",
      "  6  796M    6 49.5M    0     0   683k      0  0:19:53  0:01:14  0:18:39  474k"
     ]
    },
    {
     "name": "stdout",
     "output_type": "stream",
     "text": [
      "\r",
      "  6  796M    6 50.1M    0     0   682k      0  0:19:54  0:01:15  0:18:39  475k"
     ]
    },
    {
     "name": "stdout",
     "output_type": "stream",
     "text": [
      "\r",
      "  6  796M    6 50.9M    0     0   684k      0  0:19:51  0:01:16  0:18:35  550k"
     ]
    },
    {
     "name": "stdout",
     "output_type": "stream",
     "text": [
      "\r",
      "  6  796M    6 51.8M    0     0   687k      0  0:19:45  0:01:17  0:18:28  663k"
     ]
    },
    {
     "name": "stdout",
     "output_type": "stream",
     "text": [
      "\r",
      "  6  796M    6 52.8M    0     0   691k      0  0:19:38  0:01:18  0:18:20  773k"
     ]
    },
    {
     "name": "stdout",
     "output_type": "stream",
     "text": [
      "\r",
      "  6  796M    6 53.7M    0     0   694k      0  0:19:33  0:01:19  0:18:14  862k"
     ]
    },
    {
     "name": "stdout",
     "output_type": "stream",
     "text": [
      "\r",
      "  6  796M    6 54.5M    0     0   696k      0  0:19:30  0:01:20  0:18:10  902k"
     ]
    },
    {
     "name": "stdout",
     "output_type": "stream",
     "text": [
      "\r",
      "  6  796M    6 55.6M    0     0   700k      0  0:19:24  0:01:21  0:18:03  947k"
     ]
    },
    {
     "name": "stdout",
     "output_type": "stream",
     "text": [
      "\r",
      "  7  796M    7 56.3M    0     0   701k      0  0:19:22  0:01:22  0:18:00  913k"
     ]
    },
    {
     "name": "stdout",
     "output_type": "stream",
     "text": [
      "\r",
      "  7  796M    7 57.0M    0     0   701k      0  0:19:21  0:01:23  0:17:58  862k"
     ]
    },
    {
     "name": "stdout",
     "output_type": "stream",
     "text": [
      "\r",
      "  7  796M    7 57.7M    0     0   701k      0  0:19:22  0:01:24  0:17:58  810k"
     ]
    },
    {
     "name": "stdout",
     "output_type": "stream",
     "text": [
      "\r",
      "  7  796M    7 58.1M    0     0   698k      0  0:19:27  0:01:25  0:18:02  731k"
     ]
    },
    {
     "name": "stdout",
     "output_type": "stream",
     "text": [
      "\r",
      "  7  796M    7 58.6M    0     0   695k      0  0:19:31  0:01:26  0:18:05  623k"
     ]
    },
    {
     "name": "stdout",
     "output_type": "stream",
     "text": [
      "\r",
      "  7  796M    7 59.0M    0     0   692k      0  0:19:37  0:01:27  0:18:10  547k"
     ]
    },
    {
     "name": "stdout",
     "output_type": "stream",
     "text": [
      "\r",
      "  7  796M    7 59.5M    0     0   690k      0  0:19:40  0:01:28  0:18:12  505k"
     ]
    },
    {
     "name": "stdout",
     "output_type": "stream",
     "text": [
      "\r",
      "  7  796M    7 60.0M    0     0   688k      0  0:19:43  0:01:29  0:18:14  474k"
     ]
    },
    {
     "name": "stdout",
     "output_type": "stream",
     "text": [
      "\r",
      "  7  796M    7 60.6M    0     0   688k      0  0:19:44  0:01:30  0:18:14  514k"
     ]
    },
    {
     "name": "stdout",
     "output_type": "stream",
     "text": [
      "\r",
      "  7  796M    7 61.1M    0     0   685k      0  0:19:48  0:01:31  0:18:17  509k"
     ]
    },
    {
     "name": "stdout",
     "output_type": "stream",
     "text": [
      "\r",
      "  7  796M    7 61.6M    0     0   684k      0  0:19:50  0:01:32  0:18:18  545k"
     ]
    },
    {
     "name": "stdout",
     "output_type": "stream",
     "text": [
      "\r",
      "  7  796M    7 62.2M    0     0   683k      0  0:19:53  0:01:33  0:18:20  547k"
     ]
    },
    {
     "name": "stdout",
     "output_type": "stream",
     "text": [
      "\r",
      "  7  796M    7 62.6M    0     0   680k      0  0:19:57  0:01:34  0:18:23  537k"
     ]
    },
    {
     "name": "stdout",
     "output_type": "stream",
     "text": [
      "\r",
      "  7  796M    7 63.1M    0     0   678k      0  0:20:01  0:01:35  0:18:26  498k"
     ]
    },
    {
     "name": "stdout",
     "output_type": "stream",
     "text": [
      "\r",
      "  7  796M    7 63."
     ]
    },
    {
     "name": "stdout",
     "output_type": "stream",
     "text": [
      "5M    0     0   676k      0  0:20:05  0:01:36  0:18:29  497k"
     ]
    },
    {
     "name": "stdout",
     "output_type": "stream",
     "text": [
      "\r",
      "  8  796M    8 64.1M    0     0   675k      0  0:20:07  0:01:37  0:18:30  500k"
     ]
    },
    {
     "name": "stdout",
     "output_type": "stream",
     "text": [
      "\r",
      "  8  796M    8 64.8M    0     0   675k      0  0:20:06  0:01:38  0:18:28  533k"
     ]
    },
    {
     "name": "stdout",
     "output_type": "stream",
     "text": [
      "\r",
      "  8  796M    8 65.7M    0     0   677k      0  0:20:02  0:01:39  0:18:23  620k"
     ]
    },
    {
     "name": "stdout",
     "output_type": "stream",
     "text": [
      "\r",
      "  8  796M    8 66.4M    0     0   678k      0  0:20:00  0:01:40  0:18:20  690k"
     ]
    },
    {
     "name": "stdout",
     "output_type": "stream",
     "text": [
      "\r",
      "  8  796M    8 67.4M    0     0   681k      0  0:19:56  0:01:41  0:18:15  787k"
     ]
    },
    {
     "name": "stdout",
     "output_type": "stream",
     "text": [
      "\r",
      "  8  796M    8 68.3M    0     0   684k      0  0:19:50  0:01:42  0:18:08  874k"
     ]
    },
    {
     "name": "stdout",
     "output_type": "stream",
     "text": [
      "\r",
      "  8  796M    8 69.4M    0     0   688k      0  0:19:44  0:01:43  0:18:01  938k"
     ]
    },
    {
     "name": "stdout",
     "output_type": "stream",
     "text": [
      "\r",
      "  8  796M    8 70.0M    0     0   688k      0  0:19:45  0:01:44  0:18:01  890k"
     ]
    },
    {
     "name": "stdout",
     "output_type": "stream",
     "text": [
      "\r",
      "  8  796M    8 70.6M    0     0   687k      0  0:19:46  0:01:45  0:18:01  849k"
     ]
    },
    {
     "name": "stdout",
     "output_type": "stream",
     "text": [
      "\r",
      "  8  796M    8 71.0M    0     0   684k      0  0:19:50  0:01:46  0:18:04  746k"
     ]
    },
    {
     "name": "stdout",
     "output_type": "stream",
     "text": [
      "\r",
      "  8  796M    8 71.4M    0     0   682k      0  0:19:55  0:01:47  0:18:08  624k"
     ]
    },
    {
     "name": "stdout",
     "output_type": "stream",
     "text": [
      "\r",
      "  9  796M    9 72.0M    0     0   681k      0  0:19:57  0:01:48  0:18:09  531k"
     ]
    },
    {
     "name": "stdout",
     "output_type": "stream",
     "text": [
      "\r",
      "  9  796M    9 72.7M    0     0   681k      0  0:19:56  0:01:49  0:18:07  541k"
     ]
    },
    {
     "name": "stdout",
     "output_type": "stream",
     "text": [
      "\r",
      "  9  796M    9 73.3M    0     0   681k      0  0:19:56  0:01:50  0:18:06  559k"
     ]
    },
    {
     "name": "stdout",
     "output_type": "stream",
     "text": [
      "\r",
      "  9  796M    9 74.1M    0     0   682k      0  0:19:54  0:01:51  0:18:03  634k"
     ]
    },
    {
     "name": "stdout",
     "output_type": "stream",
     "text": [
      "\r",
      "  9  796M    9 75.0M    0     0   684k      0  0:19:50  0:01:52  0:17:58  738k"
     ]
    },
    {
     "name": "stdout",
     "output_type": "stream",
     "text": [
      "\r",
      "  9  796M    9 75.5M    0     0   682k      0  0:19:53  0:01:53  0:18:00  723k"
     ]
    },
    {
     "name": "stdout",
     "output_type": "stream",
     "text": [
      "\r",
      "  9  796M    9 76.0M    0     0   681k      0  0:19:55  0:01:54  0:18:01  692k"
     ]
    },
    {
     "name": "stdout",
     "output_type": "stream",
     "text": [
      "\r",
      "  9  796M    9 76.6M    0     0   681k      0  0:19:56  0:01:55  0:18:01  680k"
     ]
    },
    {
     "name": "stdout",
     "output_type": "stream",
     "text": [
      "\r",
      "  9  796M    9 77.2M    0     0   680k      0  0:19:58  0:01:56  0:18:02  638k"
     ]
    },
    {
     "name": "stdout",
     "output_type": "stream",
     "text": [
      "\r",
      "  9  796M    9 77.7M    0     0   679k      0  0:20:00  0:01:57  0:18:03  560k"
     ]
    },
    {
     "name": "stdout",
     "output_type": "stream",
     "text": [
      "\r",
      "  9  796M    9 78.2M    0     0   677k      0  0:20:02  0:01:58  0:18:04  560k"
     ]
    },
    {
     "name": "stdout",
     "output_type": "stream",
     "text": [
      "\r",
      "  9  796M    9 78.7M    0     0   676k      0  0:20:05  0:01:59  0:18:06  556k"
     ]
    },
    {
     "name": "stdout",
     "output_type": "stream",
     "text": [
      "\r",
      "  9  796M    9 79.4M    0     0   676k      0  0:20:05  0:02:00  0:18:05  562k"
     ]
    },
    {
     "name": "stdout",
     "output_type": "stream",
     "text": [
      "\r",
      " 10  796M   10 79.9M    0     0   675k      0  0:20:07  0:02:01  0:18:06  557k"
     ]
    },
    {
     "name": "stdout",
     "output_type": "stream",
     "text": [
      "\r",
      " 10  796M   10 80.4M    0     0   673k      0  0:20:10  0:02:02  0:18:08  535k"
     ]
    },
    {
     "name": "stdout",
     "output_type": "stream",
     "text": [
      "\r",
      " 10  796M   10 80.7M    0     0   670k      0  0:20:15  0:02:03  0:18:12  507k"
     ]
    },
    {
     "name": "stdout",
     "output_type": "stream",
     "text": [
      "\r",
      " 10  796M   10 81.0M    0     0   668k      0  0:20:19  0:02:04  0:18:15  473k"
     ]
    },
    {
     "name": "stdout",
     "output_type": "stream",
     "text": [
      "\r",
      " 10  796M   10 81.5M    0     0   666k      0  0:20:23  0:02:05  0:18:18  432k"
     ]
    },
    {
     "name": "stdout",
     "output_type": "stream",
     "text": [
      "\r",
      " 10  796M   10 82.1M    0     0   666k      0  0:20:24  0:02:06  0:18:18  440k"
     ]
    },
    {
     "name": "stdout",
     "output_type": "stream",
     "text": [
      "\r",
      " 10  796M   10 82.8M    0     0   666k      0  0:20:22  0:02:07  0:18:15  504k"
     ]
    },
    {
     "name": "stdout",
     "output_type": "stream",
     "text": [
      "\r",
      " 10  796M   10 83.5M    0     0   667k      0  0:20:21  0:02:08  0:18:13  579k"
     ]
    },
    {
     "name": "stdout",
     "output_type": "stream",
     "text": [
      "\r",
      " 10  796M   10 84.3M    0     0   668k      0  0:20:19  0:02:09  0:18:10  674k"
     ]
    },
    {
     "name": "stdout",
     "output_type": "stream",
     "text": [
      "\r",
      " 10  796M   10 85.1M    0     0   669k      0  0:20:17  0:02:10  0:18:07  747k"
     ]
    },
    {
     "name": "stdout",
     "output_type": "stream",
     "text": [
      "\r",
      " 10  796M   10 85.9M    0     0   670k      0  0:20:15  0:02:11  0:18:04  783k"
     ]
    },
    {
     "name": "stdout",
     "output_type": "stream",
     "text": [
      "\r",
      " 10  796M   10 86.5M    0     0   670k      0  0:20:16  0:02:12  0:18:04  759k"
     ]
    },
    {
     "name": "stdout",
     "output_type": "stream",
     "text": [
      "\r",
      " 10  796M   10 87.2M    0     0   670k      0  0:20:16  0:02:13  0:18:03  746k"
     ]
    },
    {
     "name": "stdout",
     "output_type": "stream",
     "text": [
      "\r",
      " 11  796M   11 87.8M    0     0   669k      0  0:20:17  0:02:14  0:18:03  701k"
     ]
    },
    {
     "name": "stdout",
     "output_type": "stream",
     "text": [
      "\r",
      " 11  796M   11 88.5M    0     0   670k      0  0:20:16  0:02:15  0:18:01  682k"
     ]
    },
    {
     "name": "stdout",
     "output_type": "stream",
     "text": [
      "\r",
      " 11  796M   11 89.4M    0     0   671k      0  0:20:13  0:02:16  0:17:57  707k"
     ]
    },
    {
     "name": "stdout",
     "output_type": "stream",
     "text": [
      "\r",
      " 11  796M   11 90.1M    0     0   672k      0  0:20:12  0:02:17  0:17:55  732k"
     ]
    },
    {
     "name": "stdout",
     "output_type": "stream",
     "text": [
      "\r",
      " 11  796M   11 90.7M    0     0   672k      0  0:20:12  0:02:18  0:17:54  728k"
     ]
    },
    {
     "name": "stdout",
     "output_type": "stream",
     "text": [
      "\r",
      " 11  796M   11 91.6M    0     0   673k      0  0:20:10  0:02:19  0:17:51  776k"
     ]
    },
    {
     "name": "stdout",
     "output_type": "stream",
     "text": [
      "\r",
      " 11  796M   11 92.5M    0     0   675k      0  0:20:07  0:02:20  0:17:47  816k"
     ]
    },
    {
     "name": "stdout",
     "output_type": "stream",
     "text": [
      "\r",
      " 11  796M   11 93.1M    0     0   675k      0  0:20:07  0:02:21  0:17:46  769k"
     ]
    },
    {
     "name": "stdout",
     "output_type": "stream",
     "text": [
      "\r",
      " 11  796M   11 93.7M    0     0   674k      0  0:20:08  0:02:22  0:17:46  738k"
     ]
    },
    {
     "name": "stdout",
     "output_type": "stream",
     "text": [
      "\r",
      " 11  796M   11 94.2M    0     0   673k      0  0:20:09  0:02:23  0:17:46  714k"
     ]
    },
    {
     "name": "stdout",
     "output_type": "stream",
     "text": [
      "\r",
      " 11  796M   11 94.7M    0     0   672k      0  0:20:12  0:02:24  0:17:48  644k"
     ]
    },
    {
     "name": "stdout",
     "output_type": "stream",
     "text": [
      "\r",
      " 11  796M   11 95.3M    0     0   672k      0  0:20:12  0:02:25  0:17:47  588k"
     ]
    },
    {
     "name": "stdout",
     "output_type": "stream",
     "text": [
      "\r",
      " 12  796M   12 96.1M    0     0   673k      0  0:20:11  0:02:26  0:17:45  611k"
     ]
    },
    {
     "name": "stdout",
     "output_type": "stream",
     "text": [
      "\r",
      " 12  796M   12 97.0M    0     0   675k      0  0:20:07  0:02:27  0:17:40  681k"
     ]
    },
    {
     "name": "stdout",
     "output_type": "stream",
     "text": [
      "\r",
      " 12  796M   12 97.9M    0     0   676k      0  0:20:04  0:02:28  0:17:36  757k"
     ]
    },
    {
     "name": "stdout",
     "output_type": "stream",
     "text": [
      "\r",
      " 12  796M   12 98.6M    0     0   676k      0  0:20:04  0:02:29  0:17:35  799k"
     ]
    },
    {
     "name": "stdout",
     "output_type": "stream",
     "text": [
      "\r",
      " 12  796M   12 99.5M    0     0   678k      0  0:20:02  0:02:30  0:17:32  844k"
     ]
    },
    {
     "name": "stdout",
     "output_type": "stream",
     "text": [
      "\r",
      " 12  796M   12  100M    0     0   679k      0  0:20:00  0:02:31  0:17:29  860k"
     ]
    },
    {
     "name": "stdout",
     "output_type": "stream",
     "text": [
      "\r",
      " 12  796M   12  100M    0     0   679k      0  0:20:00  0:02:32  0:17:28  797k"
     ]
    },
    {
     "name": "stdout",
     "output_type": "stream",
     "text": [
      "\r",
      " 12  796M   12  101M    0     0   679k      0  0:20:00  0:02:33  0:17:27  761k"
     ]
    },
    {
     "name": "stdout",
     "output_type": "stream",
     "text": [
      "\r",
      " 12  796M   12  102M    0     0   677k      0  0:20:02  0:02:34  0:17:28  710k"
     ]
    },
    {
     "name": "stdout",
     "output_type": "stream",
     "text": [
      "\r",
      " 12  796M   12  102M    0     0   676k      0  0:20:05  0:02:35  0:17:30  615k"
     ]
    },
    {
     "name": "stdout",
     "output_type": "stream",
     "text": [
      "\r",
      " 12  796M   12  102M    0     0   674k      0  0:20:09  0:02:36  0:17:33  515k"
     ]
    },
    {
     "name": "stdout",
     "output_type": "stream",
     "text": [
      "\r",
      " 12  796M   12  103M    0     0   673k      0  0:20:11  0:02:37  0:17:34  490k"
     ]
    },
    {
     "name": "stdout",
     "output_type": "stream",
     "text": [
      "\r",
      " 13  796M   13  103M    0     0   671k      0  0:20:14  0:02:38  0:17:36  419k"
     ]
    },
    {
     "name": "stdout",
     "output_type": "stream",
     "text": [
      "\r",
      " 13  796M   13  104M    0     0   670k      0  0:20:16  0:02:39  0:17:37  430k"
     ]
    },
    {
     "name": "stdout",
     "output_type": "stream",
     "text": [
      "\r",
      " 13  796M   13  104M    0     0   670k      0  0:20:16  0:02:40  0:17:36  483k"
     ]
    },
    {
     "name": "stdout",
     "output_type": "stream",
     "text": [
      "\r",
      " 13  796M   13  105M    0     0   669k      0  0:20:17  0:02:41  0:17:36  533k"
     ]
    },
    {
     "name": "stdout",
     "output_type": "stream",
     "text": [
      "\r",
      " 13  796M   13  106M    0     0   670k      0  0:20:16  0:02:42  0:17:34  581k"
     ]
    },
    {
     "name": "stdout",
     "output_type": "stream",
     "text": [
      "\r",
      " 13  796M   13  106M    0     0   669k      0  0:20:17  0:02:43  0:17:34  619k"
     ]
    },
    {
     "name": "stdout",
     "output_type": "stream",
     "text": [
      "\r",
      " 13  796M   13  107M    0     0   668k      0  0:20:19  0:02:44  0:17:35  619k"
     ]
    },
    {
     "name": "stdout",
     "output_type": "stream",
     "text": [
      "\r",
      " 13  796M   13  107M    0     0   667k      0  0:20:20  0:02:45  0:17:35  600k"
     ]
    },
    {
     "name": "stdout",
     "output_type": "stream",
     "text": [
      "\r",
      " 13  796M   13  108M    0     0   666k      0  0:20:23  0:02:46  0:17:37  556k"
     ]
    },
    {
     "name": "stdout",
     "output_type": "stream",
     "text": [
      "\r",
      " 13  796M   13  108M    0     0   664k      0  0:20:26  0:02:47  0:17:39  486k"
     ]
    },
    {
     "name": "stdout",
     "output_type": "stream",
     "text": [
      "\r",
      " 13  796M   13  108M    0     0   663k      0  0:20:29  0:02:48  0:17:41  451k"
     ]
    },
    {
     "name": "stdout",
     "output_type": "stream",
     "text": [
      "\r",
      " 13  796M   13  109M    0     0   662k      0  0:20:31  0:02:49  0:17:42  456k"
     ]
    },
    {
     "name": "stdout",
     "output_type": "stream",
     "text": [
      "\r",
      " 13  796M   13  110M    0     0   662k      0  0:20:30  0:02:50  0:17:40  478k"
     ]
    },
    {
     "name": "stdout",
     "output_type": "stream",
     "text": [
      "\r",
      " 13  796M   13  110M    0     0   663k      0  0:20:28  0:02:51  0:17:37  569k"
     ]
    },
    {
     "name": "stdout",
     "output_type": "stream",
     "text": [
      "\r",
      " 14  796M   14  111M    0     0   664k      0  0:20:27  0:02:52  0:17:35  643k"
     ]
    },
    {
     "name": "stdout",
     "output_type": "stream",
     "text": [
      "\r",
      " 14  796M   14  112M    0     0   663k      0  0:20:28  0:02:53  0:17:35  674k"
     ]
    },
    {
     "name": "stdout",
     "output_type": "stream",
     "text": [
      "\r",
      " 14  796M   14  112M    0     0   661k      0  0:20:32  0:02:54  0:17:38  635k"
     ]
    },
    {
     "name": "stdout",
     "output_type": "stream",
     "text": [
      "\r",
      " 14  796M   14  113M    0     0   660k      0  0:20:34  0:02:55  0:17:39  587k"
     ]
    },
    {
     "name": "stdout",
     "output_type": "stream",
     "text": [
      "\r",
      " 14  796M   14  113M    0     0   658k      0  0:20:38  0:02:56  0:17:42  488k"
     ]
    },
    {
     "name": "stdout",
     "output_type": "stream",
     "text": [
      "\r",
      " 14  796M   14  113M    0     0   657k      0  0:20:40  0:02:57  0:17:43  423k"
     ]
    },
    {
     "name": "stdout",
     "output_type": "stream",
     "text": [
      "\r",
      " 14  796M   14  114M    0     0   657k      0  0:20:40  0:02:58  0:17:42  435k"
     ]
    },
    {
     "name": "stdout",
     "output_type": "stream",
     "text": [
      "\r",
      " 14  796M   14  115M    0     0   657k      0  0:20:39  0:02:59  0:17:40  528k"
     ]
    },
    {
     "name": "stdout",
     "output_type": "stream",
     "text": [
      "\r",
      " 14  796M   14  115M    0     0   658k      0  0:20:38  0:03:00  0:17:38  595k"
     ]
    },
    {
     "name": "stdout",
     "output_type": "stream",
     "text": [
      "\r",
      " 14  796M   14  116M    0     0   658k      0  0:20:38  0:03:01  0:17:37  642k"
     ]
    },
    {
     "name": "stdout",
     "output_type": "stream",
     "text": [
      "\r",
      " 14  796M   14  117M    0     0   658k      0  0:20:38  0:03:02  0:17:36  697k"
     ]
    },
    {
     "name": "stdout",
     "output_type": "stream",
     "text": [
      "\r",
      " 14  796M   14  118M    0     0   659k      0  0:20:36  0:03:03  0:17:33  742k"
     ]
    },
    {
     "name": "stdout",
     "output_type": "stream",
     "text": [
      "\r",
      " 14  796M   14  118M    0     0   660k      0  0:20:34  0:03:04  0:17:30  746k"
     ]
    },
    {
     "name": "stdout",
     "output_type": "stream",
     "text": [
      "\r",
      " 15  796M   15  119M    0     0   660k      0  0:20:34  0:03:05  0:17:29  726k"
     ]
    },
    {
     "name": "stdout",
     "output_type": "stream",
     "text": [
      "\r",
      " 15  796M   15  119M    0     0   659k      0  0:20:35  0:03:06  0:17:29  716k"
     ]
    },
    {
     "name": "stdout",
     "output_type": "stream",
     "text": [
      "\r",
      " 15  796M   15  120M    0     0   659k      0  0:20:36  0:03:07  0:17:29  688k"
     ]
    },
    {
     "name": "stdout",
     "output_type": "stream",
     "text": [
      "\r",
      " 15  796M   15  121M    0     0   658k      0  0:20:37  0:03:08  0:17:29  631k"
     ]
    },
    {
     "name": "stdout",
     "output_type": "stream",
     "text": [
      "\r",
      " 15  796M   15  121M    0     0   658k      0  0:20:37  0:03:09  0:17:28  602k"
     ]
    },
    {
     "name": "stdout",
     "output_type": "stream",
     "text": [
      "\r",
      " 15  796M   15  122M    0     0   658k      0  0:20:37  0:03:10  0:17:27  597k"
     ]
    },
    {
     "name": "stdout",
     "output_type": "stream",
     "text": [
      "\r",
      " 15  796M   15  123M    0     0   658k      0  0:20:37  0:03:11  0:17:26  629k"
     ]
    },
    {
     "name": "stdout",
     "output_type": "stream",
     "text": [
      "\r",
      " 15  796M   15  123M    0     0   659k      0  0:20:36  0:03:12  0:17:24  675k"
     ]
    },
    {
     "name": "stdout",
     "output_type": "stream",
     "text": [
      "\r",
      " 15  796M   15  124M    0     0   661k      0  0:20:32  0:03:13  0:17:19  760k"
     ]
    },
    {
     "name": "stdout",
     "output_type": "stream",
     "text": [
      "\r",
      " 15  796M   15  125M    0     0   663k      0  0:20:28  0:03:14  0:17:14  856k"
     ]
    },
    {
     "name": "stdout",
     "output_type": "stream",
     "text": [
      "\r",
      " 15  796M   15  126M    0     0   665k      0  0:20:24  0:03:15  0:17:09  935k"
     ]
    },
    {
     "name": "stdout",
     "output_type": "stream",
     "text": [
      "\r",
      " 16  796M   16  127M    0     0   667k      0  0:20:21  0:03:16  0:17:05  986k"
     ]
    },
    {
     "name": "stdout",
     "output_type": "stream",
     "text": [
      "\r",
      " 16  796M   16  128M    0     0   667k      0  0:20:20  0:03:17  0:17:03  981k"
     ]
    },
    {
     "name": "stdout",
     "output_type": "stream",
     "text": [
      "\r",
      " 16  796M   16  129M    0     0   667k      0  0:20:21  0:03:18  0:17:03  898k"
     ]
    },
    {
     "name": "stdout",
     "output_type": "stream",
     "text": [
      "\r",
      " 16  796M   16  129M    0     0   666k      0  0:20:22  0:03:19  0:17:03  786k"
     ]
    },
    {
     "name": "stdout",
     "output_type": "stream",
     "text": [
      "\r",
      " 16  796M   16  130M    0     0   667k      0  0:20:21  0:03:20  0:17:01  728k"
     ]
    },
    {
     "name": "stdout",
     "output_type": "stream",
     "text": [
      "\r",
      " 16  796M   16  131M    0     0   668k      0  0:20:19  0:03:21  0:16:58  718k"
     ]
    },
    {
     "name": "stdout",
     "output_type": "stream",
     "text": [
      "\r",
      " 16  796M   16  132M    0     0   670k      0  0:20:16  0:03:22  0:16:54  775k"
     ]
    },
    {
     "name": "stdout",
     "output_type": "stream",
     "text": [
      "\r",
      " 16  796M   16  133M    0     0   671k      0  0:20:13  0:03:23  0:16:50  843k"
     ]
    },
    {
     "name": "stdout",
     "output_type": "stream",
     "text": [
      "\r",
      " 16  796M   16  134M    0     0   672k      0  0:20:12  0:03:24  0:16:48  900k"
     ]
    },
    {
     "name": "stdout",
     "output_type": "stream",
     "text": [
      "\r",
      " 16  796M   16  134M    0     0   671k      0  0:20:13  0:03:25  0:16:48  855k"
     ]
    },
    {
     "name": "stdout",
     "output_type": "stream",
     "text": [
      "\r",
      " 16  796M   16  135M    0     0   670k      0  0:20:15  0:03:26  0:16:49  763k"
     ]
    },
    {
     "name": "stdout",
     "output_type": "stream",
     "text": [
      "\r",
      " 17  796M   17  135M    0     0   669k      0  0:20:17  0:03:27  0:16:50  634k"
     ]
    },
    {
     "name": "stdout",
     "output_type": "stream",
     "text": [
      "\r",
      " 17  796M   17  136M    0     0   668k      0  0:20:19  0:03:28  0:16:51  548k"
     ]
    },
    {
     "name": "stdout",
     "output_type": "stream",
     "text": [
      "\r",
      " 17  796M   17  136M    0     0   667k      0  0:20:20  0:03:29  0:16:51  474k"
     ]
    },
    {
     "name": "stdout",
     "output_type": "stream",
     "text": [
      "\r",
      " 17  796M   17  136M    0     0   667k      0  0:20:22  0:03:30  0:16:52  471k"
     ]
    },
    {
     "name": "stdout",
     "output_type": "stream",
     "text": [
      "\r",
      " 17  796M   17  137M    0     0   666k      0  0:20:23  0:03:31  0:16:52  487k"
     ]
    },
    {
     "name": "stdout",
     "output_type": "stream",
     "text": [
      "\r",
      " 17  796M   17  138M    0     0   665k      0  0:20:24  0:03:32  0:16:52  512k"
     ]
    },
    {
     "name": "stdout",
     "output_type": "stream",
     "text": [
      "\r",
      " 17  796M   17  138M    0     0   665k      0  0:20:25  0:03:33  0:16:52  524k"
     ]
    },
    {
     "name": "stdout",
     "output_type": "stream",
     "text": [
      "\r",
      " 17  796M   17  139M    0     0   664k      0  0:20:26  0:03:34  0:16:52  538k"
     ]
    },
    {
     "name": "stdout",
     "output_type": "stream",
     "text": [
      "\r",
      " 17  796M   17  139M    0     0   664k      0  0:20:26  0:03:35  0:16:51  573k"
     ]
    },
    {
     "name": "stdout",
     "output_type": "stream",
     "text": [
      "\r",
      " 17  796M   17  140M    0     0   666k      0  0:20:24  0:03:36  0:16:48  646k"
     ]
    },
    {
     "name": "stdout",
     "output_type": "stream",
     "text": [
      "\r",
      " 17  796M   17  141M    0     0   667k      0  0:20:22  0:03:37  0:16:45  715k"
     ]
    },
    {
     "name": "stdout",
     "output_type": "stream",
     "text": [
      "\r",
      " 17  796M   17  142M    0     0   667k      0  0:20:21  0:03:38  0:16:43  763k"
     ]
    },
    {
     "name": "stdout",
     "output_type": "stream",
     "text": [
      "\r",
      " 17  796M   17  143M    0     0   668k      0  0:20:20  0:03:39  0:16:41  814k"
     ]
    },
    {
     "name": "stdout",
     "output_type": "stream",
     "text": [
      "\r",
      " 18  796M   18  143M    0     0   668k      0  0:20:19  0:03:40  0:16:39  816k"
     ]
    },
    {
     "name": "stdout",
     "output_type": "stream",
     "text": [
      "\r",
      " 18  796M   18  144M    0     0   667k      0  0:20:20  0:03:41  0:16:39  742k"
     ]
    },
    {
     "name": "stdout",
     "output_type": "stream",
     "text": [
      "\r",
      " 18  796M   18  144M    0     0   667k      0  0:20:21  0:03:42  0:16:39  686k"
     ]
    },
    {
     "name": "stdout",
     "output_type": "stream",
     "text": [
      "\r",
      " 18  796M   18  145M    0     0   666k      0  0:20:22  0:03:43  0:16:39  642k"
     ]
    },
    {
     "name": "stdout",
     "output_type": "stream",
     "text": [
      "\r",
      " 18  796M   18  145M    0     0   666k      0  0:20:23  0:03:44  0:16:39  577k"
     ]
    },
    {
     "name": "stdout",
     "output_type": "stream",
     "text": [
      "\r",
      " 18  796M   18  146M    0     0   665k      0  0:20:25  0:03:45  0:16:40  536k"
     ]
    },
    {
     "name": "stdout",
     "output_type": "stream",
     "text": [
      "\r",
      " 18  796M   18  146M    0     0   664k      0  0:20:26  0:03:46  0:16:40  539k"
     ]
    },
    {
     "name": "stdout",
     "output_type": "stream",
     "text": [
      "\r",
      " 18  796M   18  147M    0     0   664k      0  0:20:27  0:03:47  0:16:40  517k"
     ]
    },
    {
     "name": "stdout",
     "output_type": "stream",
     "text": [
      "\r",
      " 18  796M   18  147M    0     0   663k      0  0:20:29  0:03:48  0:16:41  495k"
     ]
    },
    {
     "name": "stdout",
     "output_type": "stream",
     "text": [
      "\r",
      " 18  796M   18  148M    0     0   662k      0  0:20:30  0:03:49  0:16:41  512k"
     ]
    },
    {
     "name": "stdout",
     "output_type": "stream",
     "text": [
      "\r",
      " 18  796M   18  148M    0     0   662k      0  0:20:31  0:03:50  0:16:41  515k"
     ]
    },
    {
     "name": "stdout",
     "output_type": "stream",
     "text": [
      "\r",
      " 18  796M   18  149M    0     0   661k      0  0:20:32  0:03:51  0:16:41  496k"
     ]
    },
    {
     "name": "stdout",
     "output_type": "stream",
     "text": [
      "\r",
      " 18  796M   18  149M    0     0   660k      0  0:20:35  0:03:52  0:16:43  476k"
     ]
    },
    {
     "name": "stdout",
     "output_type": "stream",
     "text": [
      "\r",
      " 18  796M   18  150M    0     0   659k      0  0:20:37  0:03:53  0:16:44  467k"
     ]
    },
    {
     "name": "stdout",
     "output_type": "stream",
     "text": [
      "\r",
      " 18  796M   18  150M    0     0   658k      0  0:20:38  0:03:54  0:16:44  459k"
     ]
    },
    {
     "name": "stdout",
     "output_type": "stream",
     "text": [
      "\r",
      " 19  796M   19  151M    0     0   658k      0  0:20:37  0:03:55  0:16:42  493k"
     ]
    },
    {
     "name": "stdout",
     "output_type": "stream",
     "text": [
      "\r",
      " 19  796M   19  152M    0     0   659k      0  0:20:36  0:03:56  0:16:40  573k"
     ]
    },
    {
     "name": "stdout",
     "output_type": "stream",
     "text": [
      "\r",
      " 19  796M   19  152M    0     0   660k      0  0:20:34  0:03:57  0:16:37  666k"
     ]
    },
    {
     "name": "stdout",
     "output_type": "stream",
     "text": [
      "\r",
      " 19  796M   19  153M    0     0   661k      0  0:20:32  0:03:58  0:16:34  766k"
     ]
    },
    {
     "name": "stdout",
     "output_type": "stream",
     "text": [
      "\r",
      " 19  796M   19  154M    0     0   661k      0  0:20:32  0:03:59  0:16:33  815k"
     ]
    },
    {
     "name": "stdout",
     "output_type": "stream",
     "text": [
      "\r",
      " 19  796M   19  155M    0     0   662k      0  0:20:30  0:04:00  0:16:30  843k"
     ]
    },
    {
     "name": "stdout",
     "output_type": "stream",
     "text": [
      "\r",
      " 19  796M   19  155M    0     0   661k      0  0:20:31  0:04:01  0:16:30  775k"
     ]
    },
    {
     "name": "stdout",
     "output_type": "stream",
     "text": [
      "\r",
      " 19  796M   19  156M    0     0   660k      0  0:20:34  0:04:02  0:16:32  668k"
     ]
    },
    {
     "name": "stdout",
     "output_type": "stream",
     "text": [
      "\r",
      " 19  796M   19  156M    0     0   659k      0  0:20:36  0:04:03  0:16:33  559k"
     ]
    },
    {
     "name": "stdout",
     "output_type": "stream",
     "text": [
      "\r",
      " 19  796M   19  156M    0     0   658k      0  0:20:38  0:04:04  0:16:34  484k"
     ]
    },
    {
     "name": "stdout",
     "output_type": "stream",
     "text": [
      "\r",
      " 19  796M   19  157M    0     0   657k      0  0:20:40  0:04:05  0:16:35  400k"
     ]
    },
    {
     "name": "stdout",
     "output_type": "stream",
     "text": [
      "\r",
      " 19  796M   19  157M    0     0   655k      0  0:20:42  0:04:06  0:16:36  372k"
     ]
    },
    {
     "name": "stdout",
     "output_type": "stream",
     "text": [
      "\r",
      " 19  796M   19  158M    0     0   655k      0  0:20:43  0:04:07  0:16:36  411k"
     ]
    },
    {
     "name": "stdout",
     "output_type": "stream",
     "text": [
      "\r",
      " 19  796M   19  158M    0     0   655k      0  0:20:43  0:04:08  0:16:35  475k"
     ]
    },
    {
     "name": "stdout",
     "output_type": "stream",
     "text": [
      "\r",
      " 20  796M   20  159M    0     0   654k      0  0:20:44  0:04:09  0:16:35  501k"
     ]
    },
    {
     "name": "stdout",
     "output_type": "stream",
     "text": [
      "\r",
      " 20  796M   20  159M    0     0   654k      0  0:20:46  0:04:10  0:16:36  512k"
     ]
    },
    {
     "name": "stdout",
     "output_type": "stream",
     "text": [
      "\r",
      " 20  796M   20  160M    0     0   653k      0  0:20:47  0:04:11  0:16:36  545k"
     ]
    },
    {
     "name": "stdout",
     "output_type": "stream",
     "text": [
      "\r",
      " 20  796M   20  160M    0     0   652k      0  0:20:49  0:04:12  0:16:37  510k"
     ]
    },
    {
     "name": "stdout",
     "output_type": "stream",
     "text": [
      "\r",
      " 20  796M   20  161M    0     0   651k      0  0:20:51  0:04:13  0:16:38  454k"
     ]
    },
    {
     "name": "stdout",
     "output_type": "stream",
     "text": [
      "\r",
      " 20  796M   20  161M    0     0   650k      0  0:20:53  0:04:14  0:16:39  427k"
     ]
    },
    {
     "name": "stdout",
     "output_type": "stream",
     "text": [
      "\r",
      " 20  796M   20  161M    0     0   649k      0  0:20:54  0:04:15  0:16:39  424k"
     ]
    },
    {
     "name": "stdout",
     "output_type": "stream",
     "text": [
      "\r",
      " 20  796M   20  162M    0     0   649k      0  0:20:54  0:04:16  0:16:38  444k"
     ]
    },
    {
     "name": "stdout",
     "output_type": "stream",
     "text": [
      "\r",
      " 20  796M   20  163M    0     0   649k      0  0:20:55  0:04:17  0:16:38  500k"
     ]
    },
    {
     "name": "stdout",
     "output_type": "stream",
     "text": [
      "\r",
      " 20  796M   20  163M    0     0   649k      0  0:20:55  0:04:18  0:16:37  538k"
     ]
    },
    {
     "name": "stdout",
     "output_type": "stream",
     "text": [
      "\r",
      " 20  796M   20  164M    0     0   648k      0  0:20:56  0:04:19  0:16:37  558k"
     ]
    },
    {
     "name": "stdout",
     "output_type": "stream",
     "text": [
      "\r",
      " 20  796M   20  164M    0     0   648k      0  0:20:58  0:04:20  0:16:38  560k"
     ]
    },
    {
     "name": "stdout",
     "output_type": "stream",
     "text": [
      "\r",
      " 20  796M   20  165M    0     0   647k      0  0:20:59  0:04:21  0:16:38  527k"
     ]
    },
    {
     "name": "stdout",
     "output_type": "stream",
     "text": [
      "\r",
      " 20  796M   20  165M    0     0   646k      0  0:21:01  0:04:22  0:16:39  473k"
     ]
    },
    {
     "name": "stdout",
     "output_type": "stream",
     "text": [
      "\r",
      " 20  796M   20  165M    0     0   645k      0  0:21:02  0:04:23  0:16:39  451k"
     ]
    },
    {
     "name": "stdout",
     "output_type": "stream",
     "text": [
      "\r",
      " 20  796M   20  166M    0     0   644k      0  0:21:04  0:04:24  0:16:40  449k"
     ]
    },
    {
     "name": "stdout",
     "output_type": "stream",
     "text": [
      "\r",
      " 20  796M   20  167M    0     0   644k      0  0:21:04  0:04:25  0:16:39  470k"
     ]
    },
    {
     "name": "stdout",
     "output_type": "stream",
     "text": [
      "\r",
      " 21  796M   21  167M    0     0   644k      0  0:21:04  0:04:26  0:16:38  505k"
     ]
    },
    {
     "name": "stdout",
     "output_type": "stream",
     "text": [
      "\r",
      " 21  796M   21  168M    0     0   644k      0  0:21:04  0:04:27  0:16:37  570k"
     ]
    },
    {
     "name": "stdout",
     "output_type": "stream",
     "text": [
      "\r",
      " 21  796M   21  168M    0     0   644k      0  0:21:05  0:04:28  0:16:37  583k"
     ]
    },
    {
     "name": "stdout",
     "output_type": "stream",
     "text": [
      "\r",
      " 21  796M   21  169M    0     0   644k      0  0:21:04  0:04:29  0:16:35  626k"
     ]
    },
    {
     "name": "stdout",
     "output_type": "stream",
     "text": [
      "\r",
      " 21  796M   21  170M    0     0   645k      0  0:21:03  0:04:30  0:16:33  668k"
     ]
    },
    {
     "name": "stdout",
     "output_type": "stream",
     "text": [
      "\r",
      " 21  796M   21  171M    0     0   645k      0  0:21:02  0:04:31  0:16:31  700k"
     ]
    },
    {
     "name": "stdout",
     "output_type": "stream",
     "text": [
      "\r",
      " 21  796M   21  171M    0     0   645k      0  0:21:03  0:04:32  0:16:31  661k"
     ]
    },
    {
     "name": "stdout",
     "output_type": "stream",
     "text": [
      "\r",
      " 21  796M   21  171M    0     0   643k      0  0:21:06  0:04:33  0:16:33  618k"
     ]
    },
    {
     "name": "stdout",
     "output_type": "stream",
     "text": [
      "\r",
      " 21  796M   21  172M    0     0   642k      0  0:21:08  0:04:34  0:16:34  536k"
     ]
    },
    {
     "name": "stdout",
     "output_type": "stream",
     "text": [
      "\r",
      " 21  796M   21  172M    0     0   641k      0  0:21:10  0:04:35  0:16:35  460k"
     ]
    },
    {
     "name": "stdout",
     "output_type": "stream",
     "text": [
      "\r",
      " 21  796M   21  173M    0     0   641k      0  0:21:10  0:04:36  0:16:34  414k"
     ]
    },
    {
     "name": "stdout",
     "output_type": "stream",
     "text": [
      "\r",
      " 21  796M   21  173M    0     0   641k      0  0:21:10  0:04:37  0:16:33  451k"
     ]
    },
    {
     "name": "stdout",
     "output_type": "stream",
     "text": [
      "\r",
      " 21  796M   21  174M    0     0   642k      0  0:21:09  0:04:38  0:16:31  550k"
     ]
    },
    {
     "name": "stdout",
     "output_type": "stream",
     "text": [
      "\r",
      " 22  796M   22  175M    0     0   642k      0  0:21:09  0:04:39  0:16:30  634k"
     ]
    },
    {
     "name": "stdout",
     "output_type": "stream",
     "text": [
      "\r",
      " 22  796M   22  175M    0     0   642k      0  0:21:09  0:04:40  0:16:29  656k"
     ]
    },
    {
     "name": "stdout",
     "output_type": "stream",
     "text": [
      "\r",
      " 22  796M   22  176M    0     0   641k      0  0:21:10  0:04:41  0:16:29  655k"
     ]
    },
    {
     "name": "stdout",
     "output_type": "stream",
     "text": [
      "\r",
      " 22  796M   22  176M    0     0   641k      0  0:21:10  0:04:42  0:16:28  659k"
     ]
    },
    {
     "name": "stdout",
     "output_type": "stream",
     "text": [
      "\r",
      " 22  796M   22  177M    0     0   641k      0  0:21:10  0:04:43  0:16:27  608k"
     ]
    },
    {
     "name": "stdout",
     "output_type": "stream",
     "text": [
      "\r",
      " 22  796M   22  178M    0     0   641k      0  0:21:11  0:04:44  0:16:27  585k"
     ]
    },
    {
     "name": "stdout",
     "output_type": "stream",
     "text": [
      "\r",
      " 22  796M   22  178M    0     0   641k      0  0:21:10  0:04:45  0:16:25  630k"
     ]
    },
    {
     "name": "stdout",
     "output_type": "stream",
     "text": [
      "\r",
      " 22  796M   22  179M    0     0   641k      0  0:21:10  0:04:46  0:16:24  650k"
     ]
    },
    {
     "name": "stdout",
     "output_type": "stream",
     "text": [
      "\r",
      " 22  796M   22  180M    0     0   642k      0  0:21:09  0:04:47  0:16:22  664k"
     ]
    },
    {
     "name": "stdout",
     "output_type": "stream",
     "text": [
      "\r",
      " 22  796M   22  180M    0     0   641k      0  0:21:10  0:04:48  0:16:22  658k"
     ]
    },
    {
     "name": "stdout",
     "output_type": "stream",
     "text": [
      "\r",
      " 22  796M   22  181M    0     0   641k      0  0:21:10  0:04:49  0:16:21  660k"
     ]
    },
    {
     "name": "stdout",
     "output_type": "stream",
     "text": [
      "\r",
      " 22  796M   22  181M    0     0   641k      0  0:21:10  0:04:50  0:16:20  643k"
     ]
    },
    {
     "name": "stdout",
     "output_type": "stream",
     "text": [
      "\r",
      " 22  796M   22  182M    0     0   641k      0  0:21:10  0:04:51  0:16:19  645k"
     ]
    },
    {
     "name": "stdout",
     "output_type": "stream",
     "text": [
      "\r",
      " 23  796M   23  183M    0     0   641k      0  0:21:10  0:04:52  0:16:18  609k"
     ]
    },
    {
     "name": "stdout",
     "output_type": "stream",
     "text": [
      "\r",
      " 23  796M   23  183M    0     0   641k      0  0:21:10  0:04:53  0:16:17  639k"
     ]
    },
    {
     "name": "stdout",
     "output_type": "stream",
     "text": [
      "\r",
      " 23  796M   23  184M    0     0   641k      0  0:21:10  0:04:54  0:16:16  651k"
     ]
    },
    {
     "name": "stdout",
     "output_type": "stream",
     "text": [
      "\r",
      " 23  796M   23  185M    0     0   641k      0  0:21:10  0:04:55  0:16:15  644k"
     ]
    },
    {
     "name": "stdout",
     "output_type": "stream",
     "text": [
      "\r",
      " 23  796M   23  185M    0     0   640k      0  0:21:11  0:04:56  0:16:15  582k"
     ]
    },
    {
     "name": "stdout",
     "output_type": "stream",
     "text": [
      "\r",
      " 23  796M   23  185M    0     0   639k      0  0:21:14  0:04:57  0:16:17  524k"
     ]
    },
    {
     "name": "stdout",
     "output_type": "stream",
     "text": [
      "\r",
      " 23  796M   23  186M    0     0   638k      0  0:21:16  0:04:58  0:16:18  456k"
     ]
    },
    {
     "name": "stdout",
     "output_type": "stream",
     "text": [
      "\r",
      " 23  796M   23  186M    0     0   637k      0  0:21:18  0:04:59  0:16:19  402k"
     ]
    },
    {
     "name": "stdout",
     "output_type": "stream",
     "text": [
      "\r",
      " 23  796M   23  186M    0     0   637k      0  0:21:19  0:05:00  0:16:19  360k"
     ]
    },
    {
     "name": "stdout",
     "output_type": "stream",
     "text": [
      "\r",
      " 23  796M   23  187M    0     0   636k      0  0:21:20  0:05:01  0:16:19  383k"
     ]
    },
    {
     "name": "stdout",
     "output_type": "stream",
     "text": [
      "\r",
      " 23  796M   23  187M    0     0   636k      0  0:21:20  0:05:02  0:16:18  444k"
     ]
    },
    {
     "name": "stdout",
     "output_type": "stream",
     "text": [
      "\r",
      " 23  796M   23  188M    0     0   636k      0  0:21:20  0:05:03  0:16:17  524k"
     ]
    },
    {
     "name": "stdout",
     "output_type": "stream",
     "text": [
      "\r",
      " 23  796M   23  189M    0     0   637k      0  0:21:18  0:05:04  0:16:14  623k"
     ]
    },
    {
     "name": "stdout",
     "output_type": "stream",
     "text": [
      "\r",
      " 23  796M   23  190M    0     0   638k      0  0:21:17  0:05:05  0:16:12  703k"
     ]
    },
    {
     "name": "stdout",
     "output_type": "stream",
     "text": [
      "\r",
      " 24  796M   24  191M    0     0   639k      0  0:21:15  0:05:06  0:16:09  781k"
     ]
    },
    {
     "name": "stdout",
     "output_type": "stream",
     "text": [
      "\r",
      " 24  796M   24  191M    0     0   638k      0  0:21:17  0:05:07  0:16:10  748k"
     ]
    },
    {
     "name": "stdout",
     "output_type": "stream",
     "text": [
      "\r",
      " 24  796M   24  191M    0     0   637k      0  0:21:18  0:05:08  0:16:10  681k"
     ]
    },
    {
     "name": "stdout",
     "output_type": "stream",
     "text": [
      "\r",
      " 24  796M   24  192M    0     0   637k      0  0:21:19  0:05:09  0:16:10  617k"
     ]
    },
    {
     "name": "stdout",
     "output_type": "stream",
     "text": [
      "\r",
      " 24  796M   24  193M    0     0   637k      0  0:21:18  0:05:10  0:16:08  588k"
     ]
    },
    {
     "name": "stdout",
     "output_type": "stream",
     "text": [
      "\r",
      " 24  796M   24  193M    0     0   637k      0  0:21:18  0:05:11  0:16:07  562k"
     ]
    },
    {
     "name": "stdout",
     "output_type": "stream",
     "text": [
      "\r",
      " 24  796M   24  194M    0     0   638k      0  0:21:17  0:05:12  0:16:05  627k"
     ]
    },
    {
     "name": "stdout",
     "output_type": "stream",
     "text": [
      "\r",
      " 24  796M   24  195M    0     0   638k      0  0:21:16  0:05:13  0:16:03  720k"
     ]
    },
    {
     "name": "stdout",
     "output_type": "stream",
     "text": [
      "\r",
      " 24  796M   24  196M    0     0   638k      0  0:21:16  0:05:14  0:16:02  733k"
     ]
    },
    {
     "name": "stdout",
     "output_type": "stream",
     "text": [
      "\r",
      " 24  796M   24  196M    0     0   638k      0  0:21:16  0:05:15  0:16:01  696k"
     ]
    },
    {
     "name": "stdout",
     "output_type": "stream",
     "text": [
      "\r",
      " 24  796M   24  197M    0     0   638k      0  0:21:17  0:05:16  0:16:01  671k"
     ]
    },
    {
     "name": "stdout",
     "output_type": "stream",
     "text": [
      "\r",
      " 24  796M   24  197M    0     0   638k      0  0:21:16  0:05:17  0:15:59  667k"
     ]
    },
    {
     "name": "stdout",
     "output_type": "stream",
     "text": [
      "\r",
      " 24  796M   24  198M    0     0   639k      0  0:21:15  0:05:18  0:15:57  660k"
     ]
    },
    {
     "name": "stdout",
     "output_type": "stream",
     "text": [
      "\r",
      " 25  796M   25  199M    0     0   638k      0  0:21:16  0:05:19  0:15:57  619k"
     ]
    },
    {
     "name": "stdout",
     "output_type": "stream",
     "text": [
      "\r",
      " 25  796M   25  199M    0     0   637k      0  0:21:18  0:05:20  0:15:58  593k"
     ]
    },
    {
     "name": "stdout",
     "output_type": "stream",
     "text": [
      "\r",
      " 25  796M   25  199M    0     0   637k      0  0:21:19  0:05:21  0:15:58  554k"
     ]
    },
    {
     "name": "stdout",
     "output_type": "stream",
     "text": [
      "\r",
      " 25  796M   25  200M    0     0   636k      0  0:21:20  0:05:22  0:15:58  500k"
     ]
    },
    {
     "name": "stdout",
     "output_type": "stream",
     "text": [
      "\r",
      " 25  796M   25  200M    0     0   635k      0  0:21:22  0:05:23  0:15:59  415k"
     ]
    },
    {
     "name": "stdout",
     "output_type": "stream",
     "text": [
      "\r",
      " 25  796M   25  201M    0     0   635k      0  0:21:23  0:05:24  0:15:59  422k"
     ]
    },
    {
     "name": "stdout",
     "output_type": "stream",
     "text": [
      "\r",
      " 25  796M   25  201M    0     0   635k      0  0:21:23  0:05:25  0:15:58  466k"
     ]
    },
    {
     "name": "stdout",
     "output_type": "stream",
     "text": [
      "\r",
      " 25  796M   25  202M    0     0   635k      0  0:21:23  0:05:26  0:15:57  528k"
     ]
    },
    {
     "name": "stdout",
     "output_type": "stream",
     "text": [
      "\r",
      " 25  796M   25  203M    0     0   636k      0  0:21:21  0:05:27  0:15:54  606k"
     ]
    },
    {
     "name": "stdout",
     "output_type": "stream",
     "text": [
      "\r",
      " 25  796M   25  204M    0     0   637k      0  0:21:19  0:05:28  0:15:51  724k"
     ]
    },
    {
     "name": "stdout",
     "output_type": "stream",
     "text": [
      "\r",
      " 25  796M   25  205M    0     0   638k      0  0:21:17  0:05:29  0:15:48  832k"
     ]
    },
    {
     "name": "stdout",
     "output_type": "stream",
     "text": [
      "\r",
      " 25  796M   25  206M    0     0   639k      0  0:21:15  0:05:30  0:15:45  901k"
     ]
    },
    {
     "name": "stdout",
     "output_type": "stream",
     "text": [
      "\r",
      " 25  796M   25  206M    0     0   639k      0  0:21:15  0:05:31  0:15:44  897k"
     ]
    },
    {
     "name": "stdout",
     "output_type": "stream",
     "text": [
      "\r",
      " 26  796M   26  207M    0     0   639k      0  0:21:15  0:05:32  0:15:43  849k"
     ]
    },
    {
     "name": "stdout",
     "output_type": "stream",
     "text": [
      "\r",
      " 26  796M   26  207M    0     0   639k      0  0:21:15  0:05:33  0:15:42  761k"
     ]
    },
    {
     "name": "stdout",
     "output_type": "stream",
     "text": [
      "\r",
      " 26  796M   26  208M    0     0   638k      0  0:21:16  0:05:34  0:15:42  653k"
     ]
    },
    {
     "name": "stdout",
     "output_type": "stream",
     "text": [
      "\r",
      " 26  796M   26  208M    0     0   638k      0  0:21:17  0:05:35  0:15:42  577k"
     ]
    },
    {
     "name": "stdout",
     "output_type": "stream",
     "text": [
      "\r",
      " 26  796M   26  209M    0     0   638k      0  0:21:16  0:05:36  0:15:40  586k"
     ]
    },
    {
     "name": "stdout",
     "output_type": "stream",
     "text": [
      "\r",
      " 26  796M   26  210M    0     0   638k      0  0:21:16  0:05:37  0:15:39  602k"
     ]
    },
    {
     "name": "stdout",
     "output_type": "stream",
     "text": [
      "\r",
      " 26  796M   26  211M    0     0   638k      0  0:21:16  0:05:38  0:15:38  618k"
     ]
    },
    {
     "name": "stdout",
     "output_type": "stream",
     "text": [
      "\r",
      " 26  796M   26  211M    0     0   638k      0  0:21:16  0:05:39  0:15:37  664k"
     ]
    },
    {
     "name": "stdout",
     "output_type": "stream",
     "text": [
      "\r",
      " 26  796M   26  212M    0     0   638k      0  0:21:15  0:05:40  0:15:35  685k"
     ]
    },
    {
     "name": "stdout",
     "output_type": "stream",
     "text": [
      "\r",
      " 26  796M   26  213M    0     0   639k      0  0:21:15  0:05:41  0:15:34  688k"
     ]
    },
    {
     "name": "stdout",
     "output_type": "stream",
     "text": [
      "\r",
      " 26  796M   26  213M    0     0   639k      0  0:21:15  0:05:42  0:15:33  674k"
     ]
    },
    {
     "name": "stdout",
     "output_type": "stream",
     "text": [
      "\r",
      " 26  796M   26  214M    0     0   639k      0  0:21:15  0:05:43  0:15:32  682k"
     ]
    },
    {
     "name": "stdout",
     "output_type": "stream",
     "text": [
      "\r",
      " 26  796M   26  214M    0     0   639k      0  0:21:15  0:05:44  0:15:31  655k"
     ]
    },
    {
     "name": "stdout",
     "output_type": "stream",
     "text": [
      "\r",
      " 27  796M   27  215M    0     0   638k      0  0:21:16  0:05:45  0:15:31  605k"
     ]
    },
    {
     "name": "stdout",
     "output_type": "stream",
     "text": [
      "\r",
      " 27  796M   27  215M    0     0   637k      0  0:21:18  0:05:46  0:15:32  544k"
     ]
    },
    {
     "name": "stdout",
     "output_type": "stream",
     "text": [
      "\r",
      " 27  796M   27  216M    0     0   637k      0  0:21:19  0:05:47  0:15:32  507k"
     ]
    },
    {
     "name": "stdout",
     "output_type": "stream",
     "text": [
      "\r",
      " 27  796M   27  216M    0     0   636k      0  0:21:20  0:05:48  0:15:32  435k"
     ]
    },
    {
     "name": "stdout",
     "output_type": "stream",
     "text": [
      "\r",
      " 27  796M   27  216M    0     0   635k      0  0:21:22  0:05:49  0:15:33  397k"
     ]
    },
    {
     "name": "stdout",
     "output_type": "stream",
     "text": [
      "\r",
      " 27  796M   27  217M    0     0   635k      0  0:21:23  0:05:50  0:15:33  394k"
     ]
    },
    {
     "name": "stdout",
     "output_type": "stream",
     "text": [
      "\r",
      " 27  796M   27  217M    0     0   634k      0  0:21:24  0:05:51  0:15:33  413k"
     ]
    },
    {
     "name": "stdout",
     "output_type": "stream",
     "text": [
      "\r",
      " 27  796M   27  218M    0     0   634k      0  0:21:24  0:05:52  0:15:32  448k"
     ]
    },
    {
     "name": "stdout",
     "output_type": "stream",
     "text": [
      "\r",
      " 27  796M   27  218M    0     0   634k      0  0:21:24  0:05:53  0:15:31  503k"
     ]
    },
    {
     "name": "stdout",
     "output_type": "stream",
     "text": [
      "\r",
      " 27  796M   27  219M    0     0   634k      0  0:21:25  0:05:54  0:15:31  543k"
     ]
    },
    {
     "name": "stdout",
     "output_type": "stream",
     "text": [
      "\r",
      " 27  796M   27  220M    0     0   634k      0  0:21:25  0:05:55  0:15:30  584k"
     ]
    },
    {
     "name": "stdout",
     "output_type": "stream",
     "text": [
      "\r",
      " 27  796M   27  220M    0     0   634k      0  0:21:24  0:05:56  0:15:28  622k"
     ]
    },
    {
     "name": "stdout",
     "output_type": "stream",
     "text": [
      "\r",
      " 27  796M   27  221M    0     0   634k      0  0:21:24  0:05:57  0:15:27  642k"
     ]
    },
    {
     "name": "stdout",
     "output_type": "stream",
     "text": [
      "\r",
      " 27  796M   27  222M    0     0   635k      0  0:21:23  0:05:58  0:15:25  679k"
     ]
    },
    {
     "name": "stdout",
     "output_type": "stream",
     "text": [
      "\r",
      " 28  796M   28  223M    0     0   636k      0  0:21:21  0:05:59  0:15:22  758k"
     ]
    },
    {
     "name": "stdout",
     "output_type": "stream",
     "text": [
      "\r",
      " 28  796M   28  224M    0     0   636k      0  0:21:20  0:06:00  0:15:20  805k"
     ]
    },
    {
     "name": "stdout",
     "output_type": "stream",
     "text": [
      "\r",
      " 28  796M   28  224M    0     0   637k      0  0:21:19  0:06:01  0:15:18  825k"
     ]
    },
    {
     "name": "stdout",
     "output_type": "stream",
     "text": [
      "\r",
      " 28  796M   28  225M    0     0   637k      0  0:21:19  0:06:02  0:15:17  811k"
     ]
    },
    {
     "name": "stdout",
     "output_type": "stream",
     "text": [
      "\r",
      " 28  796M   28  226M    0     0   637k      0  0:21:18  0:06:03  0:15:15  800k"
     ]
    },
    {
     "name": "stdout",
     "output_type": "stream",
     "text": [
      "\r",
      " 28  796M   28  227M    0     0   638k      0  0:21:17  0:06:04  0:15:13  785k"
     ]
    },
    {
     "name": "stdout",
     "output_type": "stream",
     "text": [
      "\r",
      " 28  796M   28  227M    0     0   638k      0  0:21:16  0:06:05  0:15:11  782k"
     ]
    },
    {
     "name": "stdout",
     "output_type": "stream",
     "text": [
      "\r",
      " 28  796M   28  228M    0     0   639k      0  0:21:15  0:06:06  0:15:09  797k"
     ]
    },
    {
     "name": "stdout",
     "output_type": "stream",
     "text": [
      "\r",
      " 28  796M   28  229M    0     0   639k      0  0:21:14  0:06:07  0:15:07  825k"
     ]
    },
    {
     "name": "stdout",
     "output_type": "stream",
     "text": [
      "\r",
      " 28  796M   28  230M    0     0   639k      0  0:21:14  0:06:08  0:15:06  790k"
     ]
    },
    {
     "name": "stdout",
     "output_type": "stream",
     "text": [
      "\r",
      " 28  796M   28  230M    0     0   639k      0  0:21:15  0:06:09  0:15:06  726k"
     ]
    },
    {
     "name": "stdout",
     "output_type": "stream",
     "text": [
      "\r",
      " 29  796M   29  231M    0     0   639k      0  0:21:14  0:06:10  0:15:04  698k"
     ]
    },
    {
     "name": "stdout",
     "output_type": "stream",
     "text": [
      "\r",
      " 29  796M   29  231M    0     0   639k      0  0:21:14  0:06:11  0:15:03  657k"
     ]
    },
    {
     "name": "stdout",
     "output_type": "stream",
     "text": [
      "\r",
      " 29  796M   29  232M    0     0   639k      0  0:21:14  0:06:12  0:15:02  651k"
     ]
    },
    {
     "name": "stdout",
     "output_type": "stream",
     "text": [
      "\r",
      " 29  796M   29  233M    0     0   640k      0  0:21:12  0:06:13  0:14:59  713k"
     ]
    },
    {
     "name": "stdout",
     "output_type": "stream",
     "text": [
      "\r",
      " 29  796M   29  234M    0     0   641k      0  0:21:11  0:06:14  0:14:57  771k"
     ]
    },
    {
     "name": "stdout",
     "output_type": "stream",
     "text": [
      "\r",
      " 29  796M   29  235M    0     0   641k      0  0:21:11  0:06:15  0:14:56  774k"
     ]
    },
    {
     "name": "stdout",
     "output_type": "stream",
     "text": [
      "\r",
      " 29  796M   29  235M    0     0   641k      0  0:21:10  0:06:16  0:14:54  785k"
     ]
    },
    {
     "name": "stdout",
     "output_type": "stream",
     "text": [
      "\r",
      " 29  796M   29  236M    0     0   641k      0  0:21:10  0:06:17  0:14:53  769k"
     ]
    },
    {
     "name": "stdout",
     "output_type": "stream",
     "text": [
      "\r",
      " 29  796M   29  237M    0     0   641k      0  0:21:10  0:06:18  0:14:52  722k"
     ]
    },
    {
     "name": "stdout",
     "output_type": "stream",
     "text": [
      "\r",
      " 29  796M   29  237M    0     0   641k      0  0:21:11  0:06:19  0:14:52  654k"
     ]
    },
    {
     "name": "stdout",
     "output_type": "stream",
     "text": [
      "\r",
      " 29  796M   29  237M    0     0   640k      0  0:21:12  0:06:20  0:14:52  593k"
     ]
    },
    {
     "name": "stdout",
     "output_type": "stream",
     "text": [
      "\r",
      " 29  796M   29  238M    0     0   640k      0  0:21:13  0:06:21  0:14:52  535k"
     ]
    },
    {
     "name": "stdout",
     "output_type": "stream",
     "text": [
      "\r",
      " 30  796M   30  238M    0     0   640k "
     ]
    },
    {
     "name": "stdout",
     "output_type": "stream",
     "text": [
      "     0  0:21:13  0:06:22  0:14:51  525k"
     ]
    },
    {
     "name": "stdout",
     "output_type": "stream",
     "text": [
      "\r",
      " 30  796M   30  239M    0     0   640k      0  0:21:13  0:06:23  0:14:50  536k"
     ]
    },
    {
     "name": "stdout",
     "output_type": "stream",
     "text": [
      "\r",
      " 30  796M   30  240M    0     0   639k      0  0:21:14  0:06:24  0:14:50  538k"
     ]
    },
    {
     "name": "stdout",
     "output_type": "stream",
     "text": [
      "\r",
      " 30  796M   30  240M    0     0   639k      0  0:21:14  0:06:25  0:14:49  563k"
     ]
    },
    {
     "name": "stdout",
     "output_type": "stream",
     "text": [
      "\r",
      " 30  796M   30  241M    0     0   639k      0  0:21:15  0:06:26  0:14:49  566k"
     ]
    },
    {
     "name": "stdout",
     "output_type": "stream",
     "text": [
      "\r",
      " 30  796M   30  241M    0     0   638k      0  0:21:16  0:06:27  0:14:49  547k"
     ]
    },
    {
     "name": "stdout",
     "output_type": "stream",
     "text": [
      "\r",
      " 30  796M   30  242M    0     0   639k      0  0:21:15  0:06:28  0:14:47  541k"
     ]
    },
    {
     "name": "stdout",
     "output_type": "stream",
     "text": [
      "\r",
      " 30  796M   30  242M    0     0   639k      0  0:21:15  0:06:29  0:14:46  572k"
     ]
    },
    {
     "name": "stdout",
     "output_type": "stream",
     "text": [
      "\r",
      " 30  796M   30  243M    0     0   638k      0  0:21:16  0:06:30  0:14:46  553k"
     ]
    },
    {
     "name": "stdout",
     "output_type": "stream",
     "text": [
      "\r",
      " 30  796M   30  243M    0     0   638k      0  0:21:17  0:06:31  0:14:46  565k"
     ]
    },
    {
     "name": "stdout",
     "output_type": "stream",
     "text": [
      "\r",
      " 30  796M   30  244M    0     0   638k      0  0:21:17  0:06:32  0:14:45  594k"
     ]
    },
    {
     "name": "stdout",
     "output_type": "stream",
     "text": [
      "\r",
      " 30  796M   30  245M    0     0   638k      0  0:21:17  0:06:33  0:14:44  562k"
     ]
    },
    {
     "name": "stdout",
     "output_type": "stream",
     "text": [
      "\r",
      " 30  796M   30  245M    0   "
     ]
    },
    {
     "name": "stdout",
     "output_type": "stream",
     "text": [
      "  0   637k      0  0:21:18  0:06:34  0:14:44  539k"
     ]
    },
    {
     "name": "stdout",
     "output_type": "stream",
     "text": [
      "\r",
      " 30  796M   30  246M    0     0   637k      0  0:21:18  0:06:35  0:14:43  590k"
     ]
    },
    {
     "name": "stdout",
     "output_type": "stream",
     "text": [
      "\r",
      " 31  796M   31  246M    0     0   637k      0  0:21:18  0:06:36  0:14:42  610k"
     ]
    },
    {
     "name": "stdout",
     "output_type": "stream",
     "text": [
      "\r",
      " 31  796M   31  247M    0     0   637k      0  0:21:18  0:06:37  0:14:41  585k"
     ]
    },
    {
     "name": "stdout",
     "output_type": "stream",
     "text": [
      "\r",
      " 31  796M   31  247M    0     0   637k      0  0:21:19  0:06:38  0:14:41  575k"
     ]
    },
    {
     "name": "stdout",
     "output_type": "stream",
     "text": [
      "\r",
      " 31  796M   31  248M    0     0   636k      0  0:21:20  0:06:39  0:14:41  563k"
     ]
    },
    {
     "name": "stdout",
     "output_type": "stream",
     "text": [
      "\r",
      " 31  796M   31  248M    0     0   636k      0  0:21:20  0:06:40  0:14:40  554k"
     ]
    },
    {
     "name": "stdout",
     "output_type": "stream",
     "text": [
      "\r",
      " 31  796M   31  249M    0     0   636k      0  0:21:20  0:06:41  0:14:39  541k"
     ]
    },
    {
     "name": "stdout",
     "output_type": "stream",
     "text": [
      "\r",
      " 31  796M   31  250M    0     0   636k      0  0:21:20  0:06:42  0:14:38  570k"
     ]
    },
    {
     "name": "stdout",
     "output_type": "stream",
     "text": [
      "\r",
      " 31  796M   31  251M    0     0   637k      0  0:21:19  0:06:43  0:14:36  652k"
     ]
    },
    {
     "name": "stdout",
     "output_type": "stream",
     "text": [
      "\r",
      " 31  796M   31  251M    0     0   637k      0  0:21:19  0:06:44  0:14:35  662k"
     ]
    },
    {
     "name": "stdout",
     "output_type": "stream",
     "text": [
      "\r",
      " 31  796M   31  252M    0     0   636k      0  0:21:20  0:06:45  0:14:35  636k"
     ]
    },
    {
     "name": "stdout",
     "output_type": "stream",
     "text": [
      "\r",
      " 31  796M   31  252M    0     0   636k      0  0:21:20  0:06:46  0:14:34  638k"
     ]
    },
    {
     "name": "stdout",
     "output_type": "stream",
     "text": [
      "\r",
      " 31  796M   31  253M    0     0   636k      0  0:21:20  0:06:47  0:14:33  641k"
     ]
    },
    {
     "name": "stdout",
     "output_type": "stream",
     "text": [
      "\r",
      " 31  796M   31  253M    0     0   636k      0  0:21:20  0:06:48  0:14:32  592k"
     ]
    },
    {
     "name": "stdout",
     "output_type": "stream",
     "text": [
      "\r",
      " 31  796M   31  254M    0     0   636k      0  0:21:20  0:06:49  0:14:31  594k"
     ]
    },
    {
     "name": "stdout",
     "output_type": "stream",
     "text": [
      "\r",
      " 32  796M   32  254M    0     0   636k      0  0:21:21  0:06:50  0:14:31  596k"
     ]
    },
    {
     "name": "stdout",
     "output_type": "stream",
     "text": [
      "\r",
      " 32  796M   32  255M    0     0   636k      0  0:21:21  0:06:51  0:14:30  607k"
     ]
    },
    {
     "name": "stdout",
     "output_type": "stream",
     "text": [
      "\r",
      " 32  796M   32  256M    0     0   636k      0  0:21:21  0:06:52  0:14:29  558k"
     ]
    },
    {
     "name": "stdout",
     "output_type": "stream",
     "text": [
      "\r",
      " 32  796M   32  256M    0     0   635k      0  0:21:23  0:06:53  0:14:30  511k"
     ]
    },
    {
     "name": "stdout",
     "output_type": "stream",
     "text": [
      "\r",
      " 32  796M   32  256M    0     0   634k      0  0:21:24  0:06:54  0:14:30  483k"
     ]
    },
    {
     "name": "stdout",
     "output_type": "stream",
     "text": [
      "\r",
      " 32  796M   32  257M    0     0   634k      0  0:21:25  0:06:55  0:14:30  447k"
     ]
    },
    {
     "name": "stdout",
     "output_type": "stream",
     "text": [
      "\r",
      " 32  796M   32  257M    0     0   633k      0  0:21:26  0:06:56  0:14:30  395k"
     ]
    },
    {
     "name": "stdout",
     "output_type": "stream",
     "text": [
      "\r",
      " 32  796M   32  258M    0     0   633k      0  0:21:27  0:06:57  0:14:30  401k"
     ]
    },
    {
     "name": "stdout",
     "output_type": "stream",
     "text": [
      "\r",
      " 32  796M   32  258M    0     0   633k      0  0:21:27  0:06:58  0:14:29  455k"
     ]
    },
    {
     "name": "stdout",
     "output_type": "stream",
     "text": [
      "\r",
      " 32  796M   32  259M    0     0   632k      0  0:21:28  0:06:59  0:14:29  480k"
     ]
    },
    {
     "name": "stdout",
     "output_type": "stream",
     "text": [
      "\r",
      " 32  796M   32  259M    0     0   632k      0  0:21:28  0:07:00  0:14:28  516k"
     ]
    },
    {
     "name": "stdout",
     "output_type": "stream",
     "text": [
      "\r",
      " 32  796M   32  260M    0     0   632k      0  0:21:29  0:07:01  0:14:28  541k"
     ]
    },
    {
     "name": "stdout",
     "output_type": "stream",
     "text": [
      "\r",
      " 32  796M   32  260M    0     0   632k      0  0:21:29  0:07:02  0:14:27  566k"
     ]
    },
    {
     "name": "stdout",
     "output_type": "stream",
     "text": [
      "\r",
      " 32  796M   32  261M    0     0   632k      0  0:21:28  0:07:03  0:14:25  585k"
     ]
    },
    {
     "name": "stdout",
     "output_type": "stream",
     "text": [
      "\r",
      " 32  796M   32  262M    0     0   633k      0  0:21:27  0:07:04  0:14:23  647k"
     ]
    },
    {
     "name": "stdout",
     "output_type": "stream",
     "text": [
      "\r",
      " 33  796M   33  263M    0     0   633k      0  0:21:26  0:07:05  0:14:21  704k"
     ]
    },
    {
     "name": "stdout",
     "output_type": "stream",
     "text": [
      "\r",
      " 33  796M   33  263M    0     0   633k      0  0:21:26  0:07:06  0:14:20  726k"
     ]
    },
    {
     "name": "stdout",
     "output_type": "stream",
     "text": [
      "\r",
      " 33  796M   33  264M    0     0   633k      0  0:21:27  0:07:07  0:14:20  723k"
     ]
    },
    {
     "name": "stdout",
     "output_type": "stream",
     "text": [
      "\r",
      " 33  796M   33  265M    0     0   633k      0  0:21:26  0:07:08  0:14:18  727k"
     ]
    },
    {
     "name": "stdout",
     "output_type": "stream",
     "text": [
      "\r",
      " 33  796M   33  265M    0     0   633k      0  0:21:26  0:07:09  0:14:17  677k"
     ]
    },
    {
     "name": "stdout",
     "output_type": "stream",
     "text": [
      "\r",
      " 33  796M   33  266M    0     0   633k      0  0:21:26  0:07:10  0:14:16  629k"
     ]
    },
    {
     "name": "stdout",
     "output_type": "stream",
     "text": [
      "\r",
      " 33  796M   33  266M    0     0   633k      0  0:21:27  0:07:11  0:14:16  616k"
     ]
    },
    {
     "name": "stdout",
     "output_type": "stream",
     "text": [
      "\r",
      " 33  796M   33  267M    0     0   633k      0  0:21:27  0:07:12  0:14:15  623k"
     ]
    },
    {
     "name": "stdout",
     "output_type": "stream",
     "text": [
      "\r",
      " 33  796M   33  268M    0     0   633k      0  0:21:26  0:07:13  0:14:13  628k"
     ]
    },
    {
     "name": "stdout",
     "output_type": "stream",
     "text": [
      "\r",
      " 33  796M   33  268M    0     0   633k      0  0:21:26  0:07:14  0:14:12  647k"
     ]
    },
    {
     "name": "stdout",
     "output_type": "stream",
     "text": [
      "\r",
      " 33  796M   33  269M    0     0   634k      0  0:21:25  0:07:15  0:14:10  682k"
     ]
    },
    {
     "name": "stdout",
     "output_type": "stream",
     "text": [
      "\r",
      " 33  796M   33  270M    0     0   634k      0  0:21:25  0:07:16  0:14:09  701k"
     ]
    },
    {
     "name": "stdout",
     "output_type": "stream",
     "text": [
      "\r",
      " 34  796M   34  270M    0     0   634k      0  0:21:25  0:07:17  0:14:08  717k"
     ]
    },
    {
     "name": "stdout",
     "output_type": "stream",
     "text": [
      "\r",
      " 34  796M   34  271M    0     0   634k      0  0:21:25  0:07:18  0:14:07  702k"
     ]
    },
    {
     "name": "stdout",
     "output_type": "stream",
     "text": [
      "\r",
      " 34  796M   34  272M    0     0   634k      0  0:21:24  0:07:19  0:14:05  702k"
     ]
    },
    {
     "name": "stdout",
     "output_type": "stream",
     "text": [
      "\r",
      " 34  796M   34  272M    0     0   634k      0  0:21:25  0:07:20  0:14:05  656k"
     ]
    },
    {
     "name": "stdout",
     "output_type": "stream",
     "text": [
      "\r",
      " 34  796M   34  273M    0     0   634k      0  0:21:25  0:07:21  0:14:04  652k"
     ]
    },
    {
     "name": "stdout",
     "output_type": "stream",
     "text": [
      "\r",
      " 34  796M   34  274M    0     0   634k      0  0:21:24  0:07:22  0:14:02  659k"
     ]
    },
    {
     "name": "stdout",
     "output_type": "stream",
     "text": [
      "\r",
      " 34  796M   34  274M    0     0   635k      0  0:21:23  0:07:23  0:14:00  694k"
     ]
    },
    {
     "name": "stdout",
     "output_type": "stream",
     "text": [
      "\r",
      " 34  796M   34  275M    0     0   635k      0  0:21:22  0:07:24  0:13:58  744k"
     ]
    },
    {
     "name": "stdout",
     "output_type": "stream",
     "text": [
      "\r",
      " 34  796M   34  276M    0     0   635k      0  0:21:22  0:07:25  0:13:57  756k"
     ]
    },
    {
     "name": "stdout",
     "output_type": "stream",
     "text": [
      "\r",
      " 34  796M   34  276M    0     0   635k      0  0:21:22  0:07:26  0:13:56  737k"
     ]
    },
    {
     "name": "stdout",
     "output_type": "stream",
     "text": [
      "\r",
      " 34  796M   34  277M    0     0   635k      0  0:21:23  0:07:27  0:13:56  686k"
     ]
    },
    {
     "name": "stdout",
     "output_type": "stream",
     "text": [
      "\r",
      " 34  796M   34  278M    0     0   635k      0  0:21:23  0:07:28  0:13:55  641k"
     ]
    },
    {
     "name": "stdout",
     "output_type": "stream",
     "text": [
      "\r",
      " 35  796M   35  278M    0     0   635k      0  0:21:22  0:07:29  0:13:53  616k"
     ]
    },
    {
     "name": "stdout",
     "output_type": "stream",
     "text": [
      "\r",
      " 35  796M   35  279M    0     0   636k      0  0:21:21  0:07:30  0:13:51  681k"
     ]
    },
    {
     "name": "stdout",
     "output_type": "stream",
     "text": [
      "\r",
      " 35  796M   35  280M    0     0   636k      0  0:21:21  0:07:31  0:13:50  688k"
     ]
    },
    {
     "name": "stdout",
     "output_type": "stream",
     "text": [
      "\r",
      " 35  796M   35  281M    0     0   636k      0  0:21:21  0:07:32  0:13:49  730k"
     ]
    },
    {
     "name": "stdout",
     "output_type": "stream",
     "text": [
      "\r",
      " 35  796M   35  281M    0     0   636k      0  0:21:20  0:07:33  0:13:47  762k"
     ]
    },
    {
     "name": "stdout",
     "output_type": "stream",
     "text": [
      "\r",
      " 35  796M   35  282M    0     0   637k      0  0:21:19  0:07:34  0:13:45  795k"
     ]
    },
    {
     "name": "stdout",
     "output_type": "stream",
     "text": [
      "\r",
      " 35  796M   35  283M    0     0   638k      0  0:21:17  0:07:35  0:13:42  841k"
     ]
    },
    {
     "name": "stdout",
     "output_type": "stream",
     "text": [
      "\r",
      " 35  796M   35  285M    0     0   639k      0  0:21:14  0:07:36  0:13:38  980k"
     ]
    },
    {
     "name": "stdout",
     "output_type": "stream",
     "text": [
      "\r",
      " 35  796M   35  286M    0     0   640k      0  0:21:12  0:07:37  0:13:35 1054k"
     ]
    },
    {
     "name": "stdout",
     "output_type": "stream",
     "text": [
      "\r",
      " 36  796M   36  286M    0     0   640k      0  0:21:12  0:07:38  0:13:34 1019k"
     ]
    },
    {
     "name": "stdout",
     "output_type": "stream",
     "text": [
      "\r",
      " 36  796M   36  287M    0     0   640k      0  0:21:12  0:07:39  0:13:33  943k"
     ]
    },
    {
     "name": "stdout",
     "output_type": "stream",
     "text": [
      "\r",
      " 36  796M   36  287M    0     0   640k      0  0:21:13  0:07:40  0:13:33  817k"
     ]
    },
    {
     "name": "stdout",
     "output_type": "stream",
     "text": [
      "\r",
      " 36  796M   36  288M    0     0   640k      0  0:21:13  0:07:41  0:13:32  690k"
     ]
    },
    {
     "name": "stdout",
     "output_type": "stream",
     "text": [
      "\r",
      " 36  796M   36  288M    0     0   640k      0  0:21:13  0:07:42  0:13:31  567k"
     ]
    },
    {
     "name": "stdout",
     "output_type": "stream",
     "text": [
      "\r",
      " 36  796M   36  289M    0     0   639k      0  0:21:14  0:07:43  0:13:31  519k"
     ]
    },
    {
     "name": "stdout",
     "output_type": "stream",
     "text": [
      "\r",
      " 36  796M   36  289M    0     0   639k      0  0:21:15  0:07:44  0:13:31  513k"
     ]
    },
    {
     "name": "stdout",
     "output_type": "stream",
     "text": [
      "\r",
      " 36  796M   36  290M    0     0   638k      0  0:21:16  0:07:45  0:13:31  492k"
     ]
    },
    {
     "name": "stdout",
     "output_type": "stream",
     "text": [
      "\r",
      " 36  796M   36  290M    0     0   638k      0  0:21:16  0:07:46  0:13:30  462k"
     ]
    },
    {
     "name": "stdout",
     "output_type": "stream",
     "text": [
      "\r",
      " 36  796M   36  291M    0     0   638k      0  0:21:16  0:07:47  0:13:29  494k"
     ]
    },
    {
     "name": "stdout",
     "output_type": "stream",
     "text": [
      "\r",
      " 36  796M   36  292M    0     0   638k      0  0:21:16  0:07:48  0:13:28  563k"
     ]
    },
    {
     "name": "stdout",
     "output_type": "stream",
     "text": [
      "\r",
      " 36  796M   36  292M    0     0   638k      0  0:21:16  0:07:49  0:13:27  601k"
     ]
    },
    {
     "name": "stdout",
     "output_type": "stream",
     "text": [
      "\r",
      " 36  796M   36  293M    0     0   639k      0  0:21:15  0:07:50  0:13:25  697k"
     ]
    },
    {
     "name": "stdout",
     "output_type": "stream",
     "text": [
      "\r",
      " 36  796M   36  294M    0     0   640k      0  0:21:13  0:07:51  0:13:22  782k"
     ]
    },
    {
     "name": "stdout",
     "output_type": "stream",
     "text": [
      "\r",
      " 37  796M   37  295M    0     0   640k      0  0:21:13  0:07:52  0:13:21  798k"
     ]
    },
    {
     "name": "stdout",
     "output_type": "stream",
     "text": [
      "\r",
      " 37  796M   37  295M    0     0   640k      0  0:21:13  0:07:53  0:13:20  771k"
     ]
    },
    {
     "name": "stdout",
     "output_type": "stream",
     "text": [
      "\r",
      " 37  796M   37  296M    0     0   640k      0  0:21:13  0:07:54  0:13:19  747k"
     ]
    },
    {
     "name": "stdout",
     "output_type": "stream",
     "text": [
      "\r",
      " 37  796M   37  297M    0     0   640k      0  0:21:13  0:07:55  0:13:18  716k"
     ]
    },
    {
     "name": "stdout",
     "output_type": "stream",
     "text": [
      "\r",
      " 37  796M   37  297M    0     0   640k      0  0:21:12  0:07:56  0:13:16  698k"
     ]
    },
    {
     "name": "stdout",
     "output_type": "stream",
     "text": [
      "\r",
      " 37  796M   37  298M    0     0   641k      0  0:21:11  0:07:57  0:13:14  736k"
     ]
    },
    {
     "name": "stdout",
     "output_type": "stream",
     "text": [
      "\r",
      " 37  796M   37  299M    0     0   641k      0  0:21:11  0:07:58  0:13:13  756k"
     ]
    },
    {
     "name": "stdout",
     "output_type": "stream",
     "text": [
      "\r",
      " 37  796M   37  300M    0     0   641k      0  0:21:10  0:07:59  0:13:11  781k"
     ]
    },
    {
     "name": "stdout",
     "output_type": "stream",
     "text": [
      "\r",
      " 37  796M   37  300M    0     0   641k      0  0:21:10  0:08:00  0:13:10  777k"
     ]
    },
    {
     "name": "stdout",
     "output_type": "stream",
     "text": [
      "\r",
      " 37  796M   37  301M    0     0   641k      0  0:21:11  0:08:01  0:13:10  704k"
     ]
    },
    {
     "name": "stdout",
     "output_type": "stream",
     "text": [
      "\r",
      " 37  796M   37  301M    0     0   640k      0  0:21:12  0:08:02  0:13:10  620k"
     ]
    },
    {
     "name": "stdout",
     "output_type": "stream",
     "text": [
      "\r",
      " 37  796M   37  302M    0     0   640k      0  0:21:12  0:08:03  0:13:09  584k"
     ]
    },
    {
     "name": "stdout",
     "output_type": "stream",
     "text": [
      "\r",
      " 38  796M   38  303M    0     0   640k      0  0:21:12  0:08:04  0:13:08  562k"
     ]
    },
    {
     "name": "stdout",
     "output_type": "stream",
     "text": [
      "\r",
      " 38  796M   38  303M    0     0   641k      0  0:21:11  0:08:05  0:13:06  582k"
     ]
    },
    {
     "name": "stdout",
     "output_type": "stream",
     "text": [
      "\r",
      " 38  796M   38  304M    0     0   640k      0  0:21:12  0:08:06  0:13:06  585k"
     ]
    },
    {
     "name": "stdout",
     "output_type": "stream",
     "text": [
      "\r",
      " 38  796M   38  304M    0     0   639k      0  0:21:14  0:08:07  0:13:07  544k"
     ]
    },
    {
     "name": "stdout",
     "output_type": "stream",
     "text": [
      "\r",
      " 38  796M   38  304M    0     0   639k      0  0:21:15  0:08:08  0:13:07  499k"
     ]
    },
    {
     "name": "stdout",
     "output_type": "stream",
     "text": [
      "\r",
      " 38  796M   38  305M    0     0   639k      0  0:21:15  0:08:09  0:13:06  470k"
     ]
    },
    {
     "name": "stdout",
     "output_type": "stream",
     "text": [
      "\r",
      " 38  796M   38  305M    0     0   638k      0  0:21:16  0:08:10  0:13:06  428k"
     ]
    },
    {
     "name": "stdout",
     "output_type": "stream",
     "text": [
      "\r",
      " 38  796M   38  306M    0     0   638k      0  0:21:16  0:08:11  0:13:05  451k"
     ]
    },
    {
     "name": "stdout",
     "output_type": "stream",
     "text": [
      "\r",
      " 38  796M   38  307M    0     0   638k      0  0:21:16  0:08:12  0:13:04  530k"
     ]
    },
    {
     "name": "stdout",
     "output_type": "stream",
     "text": [
      "\r",
      " 38  796M   38  307M    0     0   638k      0  0:21:17  0:08:13  0:13:04  548k"
     ]
    },
    {
     "name": "stdout",
     "output_type": "stream",
     "text": [
      "\r",
      " 38  796M   38  307M    0     0   637k      0  0:21:18  0:08:14  0:13:04  530k"
     ]
    },
    {
     "name": "stdout",
     "output_type": "stream",
     "text": [
      "\r",
      " 38  796M   38  308M    0     0   637k      0  0:21:18  0:08:15  0:13:03  519k"
     ]
    },
    {
     "name": "stdout",
     "output_type": "stream",
     "text": [
      "\r",
      " 38  796M   38  308M    0     0   637k      0  0:21:19  0:08:16  0:13:03  504k"
     ]
    },
    {
     "name": "stdout",
     "output_type": "stream",
     "text": [
      "\r",
      " 38  796M   38  309M    0     0   637k      0  0:21:19  0:08:17  0:13:02  491k"
     ]
    },
    {
     "name": "stdout",
     "output_type": "stream",
     "text": [
      "\r",
      " 38  796M   38  310M    0     0   637k      0  0:21:19  0:08:18  0:13:01  521k"
     ]
    },
    {
     "name": "stdout",
     "output_type": "stream",
     "text": [
      "\r",
      " 39  796M   39  310M    0     0   636k      0  0:21:20  0:08:19  0:13:01  542k"
     ]
    },
    {
     "name": "stdout",
     "output_type": "stream",
     "text": [
      "\r",
      " 39  796M   39  311M    0     0   637k      0  0:21:19  0:08:20  0:12:59  573k"
     ]
    },
    {
     "name": "stdout",
     "output_type": "stream",
     "text": [
      "\r",
      " 39  796M   39  312M    0     0   637k      0  0:21:19  0:08:21  0:12:58  630k"
     ]
    },
    {
     "name": "stdout",
     "output_type": "stream",
     "text": [
      "\r",
      " 39  796M   39  312M    0     0   637k      0  0:21:18  0:08:22  0:12:56  683k"
     ]
    },
    {
     "name": "stdout",
     "output_type": "stream",
     "text": [
      "\r",
      " 39  796M   39  313M    0     0   637k      0  0:21:18  0:08:23  0:12:55  694k"
     ]
    },
    {
     "name": "stdout",
     "output_type": "stream",
     "text": [
      "\r",
      " 39  796M   39  313M    0     0   637k      0  0:21:18  0:08:24  0:12:54  693k"
     ]
    },
    {
     "name": "stdout",
     "output_type": "stream",
     "text": [
      "\r",
      " 39  796M   39  314M    0     0   637k      0  0:21:18  0:08:25  0:12:53  690k"
     ]
    },
    {
     "name": "stdout",
     "output_type": "stream",
     "text": [
      "\r",
      " 39  796M   39  315M    0     0   637k      0  0:21:18  0:08:26  0:12:52  687k"
     ]
    },
    {
     "name": "stdout",
     "output_type": "stream",
     "text": [
      "\r",
      " 39  796M   39  316M    0     0   638k      0  0:21:17  0:08:27  0:12:50  655k"
     ]
    },
    {
     "name": "stdout",
     "output_type": "stream",
     "text": [
      "\r",
      " 39  796M   39  316M    0     0   637k      0  0:21:18  0:08:28  0:12:50  629k"
     ]
    },
    {
     "name": "stdout",
     "output_type": "stream",
     "text": [
      "\r",
      " 39  796M   39  317M    0     0   637k      0  0:21:18  0:08:29  0:12:49  643k"
     ]
    },
    {
     "name": "stdout",
     "output_type": "stream",
     "text": [
      "\r",
      " 39  796M   39  317M    0     0   637k      0  0:21:18  0:08:30  0:12:48  650k"
     ]
    },
    {
     "name": "stdout",
     "output_type": "stream",
     "text": [
      "\r",
      " 39  796M   39  318M    0     0   637k      0  0:21:19  0:08:31  0:12:48  597k"
     ]
    },
    {
     "name": "stdout",
     "output_type": "stream",
     "text": [
      "\r",
      " 40  796M   40  318M    0     0   636k      0  0:21:20  0:08:32  0:12:48  530k"
     ]
    },
    {
     "name": "stdout",
     "output_type": "stream",
     "text": [
      "\r",
      " 40  796M   40  319M    0     0   636k      0  0:21:20  0:08:33  0:12:47  520k"
     ]
    },
    {
     "name": "stdout",
     "output_type": "stream",
     "text": [
      "\r",
      " 40  796M   40  319M    0     0   636k      0  0:21:21  0:08:34  0:12:47  511k"
     ]
    },
    {
     "name": "stdout",
     "output_type": "stream",
     "text": [
      "\r",
      " 40  796M   40  320M    0     0   636k      0  0:21:21  0:08:35  0:12:46  498k"
     ]
    },
    {
     "name": "stdout",
     "output_type": "stream",
     "text": [
      "\r",
      " 40  796M   40  320M    0     0   636k      0  0:21:20  0:08:36  0:12:44  553k"
     ]
    },
    {
     "name": "stdout",
     "output_type": "stream",
     "text": [
      "\r",
      " 40  796M   40  321M    0     0   637k      0  0:21:19  0:08:37  0:12:42  646k"
     ]
    },
    {
     "name": "stdout",
     "output_type": "stream",
     "text": [
      "\r",
      " 40  796M   40  322M    0     0   637k      0  0:21:19  0:08:38  0:12:41  724k"
     ]
    },
    {
     "name": "stdout",
     "output_type": "stream",
     "text": [
      "\r",
      " 40  796M   40  323M    0     0   637k      0  0:21:19  0:08:39  0:12:40  736k"
     ]
    },
    {
     "name": "stdout",
     "output_type": "stream",
     "text": [
      "\r",
      " 40  796M   40  323M    0     0   637k      0  0:21:19  0:08:40  0:12:39  722k"
     ]
    },
    {
     "name": "stdout",
     "output_type": "stream",
     "text": [
      "\r",
      " 40  796M   40  324M    0     0   637k      0  0:21:19  0:08:41  0:12:38  678k"
     ]
    },
    {
     "name": "stdout",
     "output_type": "stream",
     "text": [
      "\r",
      " 40  796M   40  324M    0     0   637k      0  0:21:19  0:08:42  0:12:37  649k"
     ]
    },
    {
     "name": "stdout",
     "output_type": "stream",
     "text": [
      "\r",
      " 40  796M   40  325M    0     0   637k      0  0:21:19  0:08:43  0:12:36  613k"
     ]
    },
    {
     "name": "stdout",
     "output_type": "stream",
     "text": [
      "\r",
      " 40  796M   40  326M    0     0   637k      0  0:21:19  0:08:44  0:12:35  611k"
     ]
    },
    {
     "name": "stdout",
     "output_type": "stream",
     "text": [
      "\r",
      " 41  796M   41  326M    0     0   637k      0  0:21:19  0:08:45  0:12:34  638k"
     ]
    },
    {
     "name": "stdout",
     "output_type": "stream",
     "text": [
      "\r",
      " 41  796M   41  327M    0     0   637k      0  0:21:19  0:08:46  0:12:33  655k"
     ]
    },
    {
     "name": "stdout",
     "output_type": "stream",
     "text": [
      "\r",
      " 41  796M   41  328M    0     0   637k      0  0:21:19  0:08:47  0:12:32  650k"
     ]
    },
    {
     "name": "stdout",
     "output_type": "stream",
     "text": [
      "\r",
      " 41  796M   41  328M    0     0   636k      0  0:21:20  0:08:48  0:12:32  600k"
     ]
    },
    {
     "name": "stdout",
     "output_type": "stream",
     "text": [
      "\r",
      " 41  796M   41  328M    0     0   636k      0  0:21:20  0:08:49  0:12:31  578k"
     ]
    },
    {
     "name": "stdout",
     "output_type": "stream",
     "text": [
      "\r",
      " 41  796M   41  329M    0     0   636k      0  0:21:21  0:08:50  0:12:31  533k"
     ]
    },
    {
     "name": "stdout",
     "output_type": "stream",
     "text": [
      "\r",
      " 41  796M   41  329M    0     0   635k      0  0:21:22  0:08:51  0:12:31  467k"
     ]
    },
    {
     "name": "stdout",
     "output_type": "stream",
     "text": [
      "\r",
      " 41  796M   41  330M    0     0   635k      0  0:21:23  0:08:52  0:12:31  406k"
     ]
    },
    {
     "name": "stdout",
     "output_type": "stream",
     "text": [
      "\r",
      " 41  796M   41  330M    0     0   634k      0  0:21:24  0:08:53  0:12:31  397k"
     ]
    },
    {
     "name": "stdout",
     "output_type": "stream",
     "text": [
      "\r",
      " 41  796M   41  330M    0     0   634k      0  0:21:25  0:08:54  0:12:31  384k"
     ]
    },
    {
     "name": "stdout",
     "output_type": "stream",
     "text": [
      "\r",
      " 41  796M   41  331M    0     0   633k      0  0:21:26  0:08:55  0:12:31  392k"
     ]
    },
    {
     "name": "stdout",
     "output_type": "stream",
     "text": [
      "\r",
      " 41  796M   41  331M    0     0   633k      0  0:21:27  0:08:56  0:12:31  400k"
     ]
    },
    {
     "name": "stdout",
     "output_type": "stream",
     "text": [
      "\r",
      " 41  796M   41  332M    0     0   632k      0  0:21:28  0:08:57  0:12:31  403k"
     ]
    },
    {
     "name": "stdout",
     "output_type": "stream",
     "text": [
      "\r",
      " 41  796M   41  332M    0     0   632k      0  0:21:28  0:08:58  0:12:30  433k"
     ]
    },
    {
     "name": "stdout",
     "output_type": "stream",
     "text": [
      "\r",
      " 41  796M   41  333M    0     0   632k      0  0:21:28  0:08:59  0:12:29  493k"
     ]
    },
    {
     "name": "stdout",
     "output_type": "stream",
     "text": [
      "\r",
      " 41  796M   41  333M    0     0   632k      0  0:21:28  0:09:00  0:12:28  532k"
     ]
    },
    {
     "name": "stdout",
     "output_type": "stream",
     "text": [
      "\r",
      " 42  796M   42  334M    0     0   633k      0  0:21:27  0:09:01  0:12:26  610k"
     ]
    },
    {
     "name": "stdout",
     "output_type": "stream",
     "text": [
      "\r",
      " 42  796M   42  335M    0     0   633k      0  0:21:27  0:09:02  0:12:25  680k"
     ]
    },
    {
     "name": "stdout",
     "output_type": "stream",
     "text": [
      "\r",
      " 42  796M   42  335M    0     0   633k      0  0:21:27  0:09:03  0:12:24  665k"
     ]
    },
    {
     "name": "stdout",
     "output_type": "stream",
     "text": [
      "\r",
      " 42  796M   42  336M    0     0   632k      0  0:21:28  0:09:04  0:12:24  642k"
     ]
    },
    {
     "name": "stdout",
     "output_type": "stream",
     "text": [
      "\r",
      " 42  796M   42  336M    0     0   632k      0  0:21:28  0:09:05  0:12:23  596k"
     ]
    },
    {
     "name": "stdout",
     "output_type": "stream",
     "text": [
      "\r",
      " 42  796M   42  337M    0     0   632k      0  0:21:29  0:09:06  0:12:23  526k"
     ]
    },
    {
     "name": "stdout",
     "output_type": "stream",
     "text": [
      "\r",
      " 42  796M   42  337M    0     0   631k      0  0:21:30  0:09:07  0:12:23  465k"
     ]
    },
    {
     "name": "stdout",
     "output_type": "stream",
     "text": [
      "\r",
      " 42  796M   42  338M    0     0   631k      0  0:21:30  0:09:08  0:12:22  474k"
     ]
    },
    {
     "name": "stdout",
     "output_type": "stream",
     "text": [
      "\r",
      " 42  796M   42  338M    0     0   631k      0  0:21:31  0:09:09  0:12:22  455k"
     ]
    },
    {
     "name": "stdout",
     "output_type": "stream",
     "text": [
      "\r",
      " 42  796M   42  339M    0     0   631k      0  0:21:31  0:09:10  0:12:21  478k"
     ]
    },
    {
     "name": "stdout",
     "output_type": "stream",
     "text": [
      "\r",
      " 42  796M   42  339M    0     0   630k      0  0:21:32  0:09:11  0:12:21  490k"
     ]
    },
    {
     "name": "stdout",
     "output_type": "stream",
     "text": [
      "\r",
      " 42  796M   42  340M    0     0   630k      0  0:21:32  0:09:12  0:12:20  511k"
     ]
    },
    {
     "name": "stdout",
     "output_type": "stream",
     "text": [
      "\r",
      " 42  796M   42  340M    0     0   630k      0  0:21:32  0:09:13  0:12:19  539k"
     ]
    },
    {
     "name": "stdout",
     "output_type": "stream",
     "text": [
      "\r",
      " 42  796M   42  341M    0     0   630k      0  0:21:32  0:09:14  0:12:18  557k"
     ]
    },
    {
     "name": "stdout",
     "output_type": "stream",
     "text": [
      "\r",
      " 42  796M   42  341M    0     0   630k      0  0:21:32  0:09:15  0:12:17  557k"
     ]
    },
    {
     "name": "stdout",
     "output_type": "stream",
     "text": [
      "\r",
      " 43  796M   43  342M    0     0   630k      0  0:21:32  0:09:16  0:12:16  595k"
     ]
    },
    {
     "name": "stdout",
     "output_type": "stream",
     "text": [
      "\r",
      " 43  796M   43  343M    0     0   630k      0  0:21:32  0:09:17  0:12:15  627k"
     ]
    },
    {
     "name": "stdout",
     "output_type": "stream",
     "text": [
      "\r",
      " 43  796M   43  343M    0     0   630k      0  0:21:32  0:09:18  0:12:14  655k"
     ]
    },
    {
     "name": "stdout",
     "output_type": "stream",
     "text": [
      "\r",
      " 43  796M   43  344M    0     0   631k      0  0:21:31  0:09:19  0:12:12  687k"
     ]
    },
    {
     "name": "stdout",
     "output_type": "stream",
     "text": [
      "\r",
      " 43  796M   43  345M    0     0   631k      0  0:21:31  0:09:20  0:12:11  697k"
     ]
    },
    {
     "name": "stdout",
     "output_type": "stream",
     "text": [
      "\r",
      " 43  796M   43  345M    0     0   631k      0  0:21:32  0:09:21  0:12:11  671k"
     ]
    },
    {
     "name": "stdout",
     "output_type": "stream",
     "text": [
      "\r",
      " 43  796M   43  346M    0     0   630k      0  0:21:32  0:09:22  0:12:10  626k"
     ]
    },
    {
     "name": "stdout",
     "output_type": "stream",
     "text": [
      "\r",
      " 43  796M   43  346M    0     0   630k      0  0:21:33  0:09:23  0:12:10  558k"
     ]
    },
    {
     "name": "stdout",
     "output_type": "stream",
     "text": [
      "\r",
      " 43  796M   43  347M    0     0   629k      0  0:21:34  0:09:24  0:12:10  486k"
     ]
    },
    {
     "name": "stdout",
     "output_type": "stream",
     "text": [
      "\r",
      " 43  796M   43  347M    0     0   629k      0  0:21:35  0:09:25  0:12:10  450k"
     ]
    },
    {
     "name": "stdout",
     "output_type": "stream",
     "text": [
      "\r",
      " 43  796M   43  348M    0     0   629k      0  0:21:35  0:09:26  0:12:09  440k"
     ]
    },
    {
     "name": "stdout",
     "output_type": "stream",
     "text": [
      "\r",
      " 43  796M   43  348M    0     0   629k      0  0:21:35  0:09:27  0:12:08  450k"
     ]
    },
    {
     "name": "stdout",
     "output_type": "stream",
     "text": [
      "\r",
      " 43  796M   43  349M    0     0   629k      0  0:21:35  0:09:28  0:12:07  501k"
     ]
    },
    {
     "name": "stdout",
     "output_type": "stream",
     "text": [
      "\r",
      " 43  796M   43  349M    0     0   629k      0  0:21:35  0:09:29  0:12:06  548k"
     ]
    },
    {
     "name": "stdout",
     "output_type": "stream",
     "text": [
      "\r",
      " 44  796M   44  350M    0     0   629k      0  0:21:35  0:09:30  0:12:05  606k"
     ]
    },
    {
     "name": "stdout",
     "output_type": "stream",
     "text": [
      "\r",
      " 44  796M   44  351M    0     0   629k      0  0:21:34  0:09:31  0:12:03  679k"
     ]
    },
    {
     "name": "stdout",
     "output_type": "stream",
     "text": [
      "\r",
      " 44  796M   44  352M    0     0   630k      0  0:21:33  0:09:32  0:12:01  773k"
     ]
    },
    {
     "name": "stdout",
     "output_type": "stream",
     "text": [
      "\r",
      " 44  796M   44  353M    0     0   630k      0  0:21:32  0:09:33  0:11:59  790k"
     ]
    },
    {
     "name": "stdout",
     "output_type": "stream",
     "text": [
      "\r",
      " 44  796M   44  353M    0     0   630k      0  0:21:33  0:09:34  0:11:59  753k"
     ]
    },
    {
     "name": "stdout",
     "output_type": "stream",
     "text": [
      "\r",
      " 44  796M   44  354M    0     0   630k      0  0:21:33  0:09:35  0:11:58  723k"
     ]
    },
    {
     "name": "stdout",
     "output_type": "stream",
     "text": [
      "\r",
      " 44  796M   44  354M    0     0   630k      0  0:21:33  0:09:36  0:11:57  700k"
     ]
    },
    {
     "name": "stdout",
     "output_type": "stream",
     "text": [
      "\r",
      " 44  796M   44  355M    0     0   630k      0  0:21:32  0:09:37  0:11:55  687k"
     ]
    },
    {
     "name": "stdout",
     "output_type": "stream",
     "text": [
      "\r",
      " 44  796M   44  356M    0     0   631k      0  0:21:31  0:09:38  0:11:53  717k"
     ]
    },
    {
     "name": "stdout",
     "output_type": "stream",
     "text": [
      "\r",
      " 44  796M   44  357M    0     0   631k      0  0:21:30  0:09:39  0:11:51  794k"
     ]
    },
    {
     "name": "stdout",
     "output_type": "stream",
     "text": [
      "\r",
      " 44  796M   44  358M    0     0   631k      0  0:21:30  0:09:40  0:11:50  840k"
     ]
    },
    {
     "name": "stdout",
     "output_type": "stream",
     "text": [
      "\r",
      " 45  796M   45  358M    0     0   631k      0  0:21:30  0:09:41  0:11:49  812k"
     ]
    },
    {
     "name": "stdout",
     "output_type": "stream",
     "text": [
      "\r",
      " 45  796M   45  359M    0     0   631k      0  0:21:30  0:09:42  0:11:48  758k"
     ]
    },
    {
     "name": "stdout",
     "output_type": "stream",
     "text": [
      "\r",
      " 45  796M   45  360M    0     0   632k      0  0:21:29  0:09:43  0:11:46  723k"
     ]
    },
    {
     "name": "stdout",
     "output_type": "stream",
     "text": [
      "\r",
      " 45  796M   45  360M    0     0   631k      0  0:21:30  0:09:44  0:11:46  652k"
     ]
    },
    {
     "name": "stdout",
     "output_type": "stream",
     "text": [
      "\r",
      " 45  796M   45  360M    0     0   631k      0  0:21:30  0:09:45  0:11:45  584k"
     ]
    },
    {
     "name": "stdout",
     "output_type": "stream",
     "text": [
      "\r",
      " 45  796M   45  361M    0     0   631k      0  0:21:31  0:09:46  0:11:45  582k"
     ]
    },
    {
     "name": "stdout",
     "output_type": "stream",
     "text": [
      "\r",
      " 45  796M   45  362M    0     0   631k      0  0:21:31  0:09:47  0:11:44  572k"
     ]
    },
    {
     "name": "stdout",
     "output_type": "stream",
     "text": [
      "\r",
      " 45  796M   45  362M    0     0   631k      0  0:21:31  0:09:48  0:11:43  556k"
     ]
    },
    {
     "name": "stdout",
     "output_type": "stream",
     "text": [
      "\r",
      " 45  796M   45  363M    0     0   631k      0  0:21:31  0:09:49  0:11:42  589k"
     ]
    },
    {
     "name": "stdout",
     "output_type": "stream",
     "text": [
      "\r",
      " 45  796M   45  363M    0     0   631k      0  0:21:31  0:09:50  0:11:41  612k"
     ]
    },
    {
     "name": "stdout",
     "output_type": "stream",
     "text": [
      "\r",
      " 45  796M   45  364M    0     0   631k      0  0:21:31  0:09:51  0:11:40  611k"
     ]
    },
    {
     "name": "stdout",
     "output_type": "stream",
     "text": [
      "\r",
      " 45  796M   45  365M    0     0   631k      0  0:21:31  0:09:52  0:11:39  627k"
     ]
    },
    {
     "name": "stdout",
     "output_type": "stream",
     "text": [
      "\r",
      " 45  796M   45  366M    0     0   631k      0  0:21:30  0:09:53  0:11:37  663k"
     ]
    },
    {
     "name": "stdout",
     "output_type": "stream",
     "text": [
      "\r",
      " 46  796M   46  366M    0     0   632k      0  0:21:29  0:09:54  0:11:35  713k"
     ]
    },
    {
     "name": "stdout",
     "output_type": "stream",
     "text": [
      "\r",
      " 46  796M   46  367M    0     0   632k      0  0:21:29  0:09:55  0:11:34  725k"
     ]
    },
    {
     "name": "stdout",
     "output_type": "stream",
     "text": [
      "\r",
      " 46  796M   46  367M    0     0   631k      0  0:21:30  0:09:56  0:11:34  667k"
     ]
    },
    {
     "name": "stdout",
     "output_type": "stream",
     "text": [
      "\r",
      " 46  796M   46  368M    0     0   631k      0  0:21:31  0:09:57  0:11:34  604k"
     ]
    },
    {
     "name": "stdout",
     "output_type": "stream",
     "text": [
      "\r",
      " 46  796M   46  368M    0     0   630k      0  0:21:32  0:09:58  0:11:34  507k"
     ]
    },
    {
     "name": "stdout",
     "output_type": "stream",
     "text": [
      "\r",
      " 46  796M   46  368M    0     0   630k      0  0:21:33  0:09:59  0:11:34  418k"
     ]
    },
    {
     "name": "stdout",
     "output_type": "stream",
     "text": [
      "\r",
      " 46  796M   46  369M    0     0   630k      0  0:21:34  0:10:00  0:11:34  374k"
     ]
    },
    {
     "name": "stdout",
     "output_type": "stream",
     "text": [
      "\r",
      " 46  796M   46  369M    0     0   629k      0  0:21:34  0:10:01  0:11:33  396k"
     ]
    },
    {
     "name": "stdout",
     "output_type": "stream",
     "text": [
      "\r",
      " 46  796M   46  370M    0     0   629k      0  0:21:35  0:10:02  0:11:33  393k"
     ]
    },
    {
     "name": "stdout",
     "output_type": "stream",
     "text": [
      "\r",
      " 46  796M   46  370M    0     0   628k      0  0:21:37  0:10:03  0:11:34  371k"
     ]
    },
    {
     "name": "stdout",
     "output_type": "stream",
     "text": [
      "\r",
      " 46  796M   46  370M    0     0   628k      0  0:21:38  0:10:04  0:11:34  355k"
     ]
    },
    {
     "name": "stdout",
     "output_type": "stream",
     "text": [
      "\r",
      " 46  796M   46  371M    0     0   627k      0  0:21:38  0:10:05  0:11:33  340k"
     ]
    },
    {
     "name": "stdout",
     "output_type": "stream",
     "text": [
      "\r",
      " 46  796M   46  371M    0     0   627k      0  0:21:39  0:10:06  0:11:33  356k"
     ]
    },
    {
     "name": "stdout",
     "output_type": "stream",
     "text": [
      "\r",
      " 46  796M   46  372M    0     0   627k      0  0:21:39  0:10:07  0:11:32  410k"
     ]
    },
    {
     "name": "stdout",
     "output_type": "stream",
     "text": [
      "\r",
      " 46  796M   46  372M    0     0   627k      0  0:21:39  0:10:08  0:11:31  460k"
     ]
    },
    {
     "name": "stdout",
     "output_type": "stream",
     "text": [
      "\r",
      " 46  796M   46  372M    0     0   626k      0  0:21:40  0:10:09  0:11:31  473k"
     ]
    },
    {
     "name": "stdout",
     "output_type": "stream",
     "text": [
      "\r",
      " 46  796M   46  373M    0     0   626k      0  0:21:40  0:10:10  0:11:30  520k"
     ]
    },
    {
     "name": "stdout",
     "output_type": "stream",
     "text": [
      "\r",
      " 46  796M   46  374M    0     0   626k      0  0:21:40  0:10:11  0:11:29  552k"
     ]
    },
    {
     "name": "stdout",
     "output_type": "stream",
     "text": [
      "\r",
      " 47  796M   47  374M    0     0   626k      0  0:21:40  0:10:12  0:11:28  564k"
     ]
    },
    {
     "name": "stdout",
     "output_type": "stream",
     "text": [
      "\r",
      " 47  796M   47  375M    0 "
     ]
    },
    {
     "name": "stdout",
     "output_type": "stream",
     "text": [
      "    0   626k      0  0:21:40  0:10:13  0:11:27  593k"
     ]
    },
    {
     "name": "stdout",
     "output_type": "stream",
     "text": [
      "\r",
      " 47  796M   47  375M    0     0   626k      0  0:21:41  0:10:14  0:11:27  603k"
     ]
    },
    {
     "name": "stdout",
     "output_type": "stream",
     "text": [
      "\r",
      " 47  796M   47  376M    0     0   626k      0  0:21:41  0:10:15  0:11:26  567k"
     ]
    },
    {
     "name": "stdout",
     "output_type": "stream",
     "text": [
      "\r",
      " 47  796M   47  376M    0     0   626k      0  0:21:42  0:10:16  0:11:26  535k"
     ]
    },
    {
     "name": "stdout",
     "output_type": "stream",
     "text": [
      "\r",
      " 47  796M   47  377M    0     0   625k      0  0:21:42  0:10:17  0:11:25  503k"
     ]
    },
    {
     "name": "stdout",
     "output_type": "stream",
     "text": [
      "\r",
      " 47  796M   47  377M    0     0   625k      0  0:21:42  0:10:18  0:11:24  504k"
     ]
    },
    {
     "name": "stdout",
     "output_type": "stream",
     "text": [
      "\r",
      " 47  796M   47  378M    0     0   625k      0  0:21:42  0:10:19  0:11:23  539k"
     ]
    },
    {
     "name": "stdout",
     "output_type": "stream",
     "text": [
      "\r",
      " 47  796M   47  379M    0     0   626k      0  0:21:42  0:10:20  0:11:22  588k"
     ]
    },
    {
     "name": "stdout",
     "output_type": "stream",
     "text": [
      "\r",
      " 47  796M   47  379M    0     0   626k      0  0:21:42  0:10:21  0:11:21  616k"
     ]
    },
    {
     "name": "stdout",
     "output_type": "stream",
     "text": [
      "\r",
      " 47  796M   47  380M    0     0   626k      0  0:21:42  0:10:22  0:11:20  651k"
     ]
    },
    {
     "name": "stdout",
     "output_type": "stream",
     "text": [
      "\r",
      " 47  796M   47  381M    0     0   625k      0  0:21:42  0:10:23  0:11:19  629k"
     ]
    },
    {
     "name": "stdout",
     "output_type": "stream",
     "text": [
      "\r",
      " 47  796M   47  381M    0     0   625k      0  0:21:42  0:10:24  0:11:18  626k"
     ]
    },
    {
     "name": "stdout",
     "output_type": "stream",
     "text": [
      "\r",
      " 48  796M   48  382M    0     0   626k      0  0:21:42  0:10:25  0:11:17  641k"
     ]
    },
    {
     "name": "stdout",
     "output_type": "stream",
     "text": [
      "\r",
      " 48  796M   48  382M    0     0   626k      0  0:21:42  0:10:26  0:11:16  638k"
     ]
    },
    {
     "name": "stdout",
     "output_type": "stream",
     "text": [
      "\r",
      " 48  796M   48  383M    0     0   625k      0  0:21:42  0:10:27  0:11:15  597k"
     ]
    },
    {
     "name": "stdout",
     "output_type": "stream",
     "text": [
      "\r",
      " 48  796M   48  383M    0     0   625k      0  0:21:43  0:10:28  0:11:15  587k"
     ]
    },
    {
     "name": "stdout",
     "output_type": "stream",
     "text": [
      "\r",
      " 48  796M   48  384M    0     0   625k      0  0:21:43  0:10:29  0:11:14  539k"
     ]
    },
    {
     "name": "stdout",
     "output_type": "stream",
     "text": [
      "\r",
      " 48  796M   48  384M    0     0   624k      0  0:21:44  0:10:30  0:11:14  473k"
     ]
    },
    {
     "name": "stdout",
     "output_type": "stream",
     "text": [
      "\r",
      " 48  796M   48  385M    0     0   624k      0  0:21:45  0:10:31  0:11:14  435k"
     ]
    },
    {
     "name": "stdout",
     "output_type": "stream",
     "text": [
      "\r",
      " 48  796M   48  385M    0     0   624k      0  0:21:45  0:10:32  0:11:13  434k"
     ]
    },
    {
     "name": "stdout",
     "output_type": "stream",
     "text": [
      "\r",
      " 48  796M   48  386M    0     0   624k      0  0:21:45  0:10:33  0:11:12  463k"
     ]
    },
    {
     "name": "stdout",
     "output_type": "stream",
     "text": [
      "\r",
      " 48  796M   48  386M    0     0   624k      0  0:21:45  0:10:34  0:11:11  540k"
     ]
    },
    {
     "name": "stdout",
     "output_type": "stream",
     "text": [
      "\r",
      " 48  796M   48  387M    0     0   625k      0  0:21:44  0:10:35  0:11:09  649k"
     ]
    },
    {
     "name": "stdout",
     "output_type": "stream",
     "text": [
      "\r",
      " 48  796M   48  388M    0     0   625k      0  0:21:42  0:10:36  0:11:06  780k"
     ]
    },
    {
     "name": "stdout",
     "output_type": "stream",
     "text": [
      "\r",
      " 48  796M   48  390M    0     0   626k      0  0:21:40  0:10:37  0:11:03  939k"
     ]
    },
    {
     "name": "stdout",
     "output_type": "stream",
     "text": [
      "\r",
      " 49  796M   49  391M    0     0   628k      0  0:21:38  0:10:38  0:11:00 1090k"
     ]
    },
    {
     "name": "stdout",
     "output_type": "stream",
     "text": [
      "\r",
      " 49  796M   49  392M    0     0   628k      0  0:21:36  0:10:39  0:10:57 1150k"
     ]
    },
    {
     "name": "stdout",
     "output_type": "stream",
     "text": [
      "\r",
      " 49  796M   49  393M    0     0   628k      0  0:21:36  0:10:40  0:10:56 1106k"
     ]
    },
    {
     "name": "stdout",
     "output_type": "stream",
     "text": [
      "\r",
      " 49  796M   49  394M    0     0   629k      0  0:21:35  0:10:41  0:10:54 1061k"
     ]
    },
    {
     "name": "stdout",
     "output_type": "stream",
     "text": [
      "\r",
      " 49  796M   49  394M    0     0   629k      0  0:21:35  0:10:42  0:10:53  974k"
     ]
    },
    {
     "name": "stdout",
     "output_type": "stream",
     "text": [
      "\r",
      " 49  796M   49  395M    0     0   629k      0  0:21:34  0:10:43  0:10:51  859k"
     ]
    },
    {
     "name": "stdout",
     "output_type": "stream",
     "text": [
      "\r",
      " 49  796M   49  396M    0     0   630k      0  0:21:34  0:10:44  0:10:50  802k"
     ]
    },
    {
     "name": "stdout",
     "output_type": "stream",
     "text": [
      "\r",
      " 49  796M   49  397M    0     0   630k      0  0:21:32  0:10:45  0:10:47  850k"
     ]
    },
    {
     "name": "stdout",
     "output_type": "stream",
     "text": [
      "\r",
      " 50  796M   50  398M    0     0   631k      0  0:21:31  0:10:46  0:10:45  885k"
     ]
    },
    {
     "name": "stdout",
     "output_type": "stream",
     "text": [
      "\r",
      " 50  796M   50  399M    0     0   631k      0  0:21:30  0:10:47  0:10:43  913k"
     ]
    },
    {
     "name": "stdout",
     "output_type": "stream",
     "text": [
      "\r",
      " 50  796M   50  400M    0     0   632k      0  0:21:28  0:10:48  0:10:40  977k"
     ]
    },
    {
     "name": "stdout",
     "output_type": "stream",
     "text": [
      "\r",
      " 50  796M   50  401M    0     0   633k      0  0:21:27  0:10:49  0:10:38 1069k"
     ]
    },
    {
     "name": "stdout",
     "output_type": "stream",
     "text": [
      "\r",
      " 50  796M   50  402M    0     0   634k      0  0:21:25  0:10:50  0:10:35 1078k"
     ]
    },
    {
     "name": "stdout",
     "output_type": "stream",
     "text": [
      "\r",
      " 50  796M   50  403M    0     0   634k      0  0:21:25  0:10:51  0:10:34  997k"
     ]
    },
    {
     "name": "stdout",
     "output_type": "stream",
     "text": [
      "\r",
      " 50  796M   50  404M    0     0   634k      0  0:21:25  0:10:52  0:10:33  957k"
     ]
    },
    {
     "name": "stdout",
     "output_type": "stream",
     "text": [
      "\r",
      " 50  796M   50  404M    0     0   634k      0  0:21:25  0:10:53  0:10:32  871k"
     ]
    },
    {
     "name": "stdout",
     "output_type": "stream",
     "text": [
      "\r",
      " 50  796M   50  405M    0     0   634k      0  0:21:24  0:10:54  0:10:30  789k"
     ]
    },
    {
     "name": "stdout",
     "output_type": "stream",
     "text": [
      "\r",
      " 50  796M   50  405M    0     0   634k      0  0:21:25  0:10:55  0:10:30  680k"
     ]
    },
    {
     "name": "stdout",
     "output_type": "stream",
     "text": [
      "\r",
      " 51  796M   51  406M    0     0   634k      0  0:21:25  0:10:56  0:10:29  654k"
     ]
    },
    {
     "name": "stdout",
     "output_type": "stream",
     "text": [
      "\r",
      " 51  796M   51  406M    0     0   633k      0  0:21:26  0:10:57  0:10:29  591k"
     ]
    },
    {
     "name": "stdout",
     "output_type": "stream",
     "text": [
      "\r",
      " 51  796M   51  407M    0     0   633k      0  0:21:26  0:10:58  0:10:28  527k"
     ]
    },
    {
     "name": "stdout",
     "output_type": "stream",
     "text": [
      "\r",
      " 51  796M   51  407M    0     0   633k      0  0:21:27  0:10:59  0:10:28  431k"
     ]
    },
    {
     "name": "stdout",
     "output_type": "stream",
     "text": [
      "\r",
      " 51  796M   51  408M    0     0   632k      0  0:21:28  0:11:00  0:10:28  441k"
     ]
    },
    {
     "name": "stdout",
     "output_type": "stream",
     "text": [
      "\r",
      " 51  796M   51  408M    0     0   632k      0  0:21:28  0:11:01  0:10:27  475k"
     ]
    },
    {
     "name": "stdout",
     "output_type": "stream",
     "text": [
      "\r",
      " 51  796M   51  409M    0     0   633k      0  0:21:27  0:11:02  0:10:25  542k"
     ]
    },
    {
     "name": "stdout",
     "output_type": "stream",
     "text": [
      "\r",
      " 51  796M   51  410M    0     0   633k      0  0:21:27  0:11:03  0:10:24  619k"
     ]
    },
    {
     "name": "stdout",
     "output_type": "stream",
     "text": [
      "\r",
      " 51  796M   51  410M    0     0   633k      0  0:21:27  0:11:04  0:10:23  635k"
     ]
    },
    {
     "name": "stdout",
     "output_type": "stream",
     "text": [
      "\r",
      " 51  796M   51  411M    0     0   632k      0  0:21:28  0:11:05  0:10:23  623k"
     ]
    },
    {
     "name": "stdout",
     "output_type": "stream",
     "text": [
      "\r",
      " 51  796M   51  411M    0     0   632k      0  0:21:28  0:11:06  0:10:22  600k"
     ]
    },
    {
     "name": "stdout",
     "output_type": "stream",
     "text": [
      "\r",
      " 51  796M   51  412M    0     0   632k      0  0:21:28  0:11:07  0:10:21  552k"
     ]
    },
    {
     "name": "stdout",
     "output_type": "stream",
     "text": [
      "\r",
      " 51  796M   51  412M    0     0   632k      0  0:21:28  0:11:08  0:10:20  537k"
     ]
    },
    {
     "name": "stdout",
     "output_type": "stream",
     "text": [
      "\r",
      " 51  796M   51  413M    0     0   632k      0  0:21:28  0:11:09  0:10:19  585k"
     ]
    },
    {
     "name": "stdout",
     "output_type": "stream",
     "text": [
      "\r",
      " 52  796M   52  414M    0     0   632k      0  0:21:28  0:11:10  0:10:18  645k"
     ]
    },
    {
     "name": "stdout",
     "output_type": "stream",
     "text": [
      "\r",
      " 52  796M   52  415M    0     0   633k      0  0:21:27  0:11:11  0:10:16  718k"
     ]
    },
    {
     "name": "stdout",
     "output_type": "stream",
     "text": [
      "\r",
      " 52  796M   52  416M    0     0   633k      0  0:21:26  0:11:12  0:10:14  768k"
     ]
    },
    {
     "name": "stdout",
     "output_type": "stream",
     "text": [
      "\r",
      " 52  796M   52  416M    0     0   634k      0  0:21:25  0:11:13  0:10:12  825k"
     ]
    },
    {
     "name": "stdout",
     "output_type": "stream",
     "text": [
      "\r",
      " 52  796M   52  417M    0     0   634k      0  0:21:25  0:11:14  0:10:11  808k"
     ]
    },
    {
     "name": "stdout",
     "output_type": "stream",
     "text": [
      "\r",
      " 52  796M   52  418M    0     0   633k      0  0:21:26  0:11:15  0:10:11  772k"
     ]
    },
    {
     "name": "stdout",
     "output_type": "stream",
     "text": [
      "\r",
      " 52  796M   52  418M    0     0   634k      0  0:21:25  0:11:16  0:10:09  719k"
     ]
    },
    {
     "name": "stdout",
     "output_type": "stream",
     "text": [
      "\r",
      " 52  796M   52  419M    0     0   634k      0  0:21:25  0:11:17  0:10:08  707k"
     ]
    },
    {
     "name": "stdout",
     "output_type": "stream",
     "text": [
      "\r",
      " 52  796M   52  420M    0     0   634k      0  0:21:25  0:11:18  0:10:07  668k"
     ]
    },
    {
     "name": "stdout",
     "output_type": "stream",
     "text": [
      "\r",
      " 52  796M   52  420M    0     0   634k      0  0:21:24  0:11:19  0:10:05  708k"
     ]
    },
    {
     "name": "stdout",
     "output_type": "stream",
     "text": [
      "\r",
      " 52  796M   52  421M    0     0   634k      0  0:21:24  0:11:20  0:10:04  756k"
     ]
    },
    {
     "name": "stdout",
     "output_type": "stream",
     "text": [
      "\r",
      " 53  796M   53  422M    0     0   634k      0  0:21:24  0:11:21  0:10:03  752k"
     ]
    },
    {
     "name": "stdout",
     "output_type": "stream",
     "text": [
      "\r",
      " 53  796M   53  423M    0     0   635k      0  0:21:23  0:11:22  0:10:01  745k"
     ]
    },
    {
     "name": "stdout",
     "output_type": "stream",
     "text": [
      "\r",
      " 53  796M   53  423M    0     0   635k      0  0:21:23  0:11:23  0:10:00  730k"
     ]
    },
    {
     "name": "stdout",
     "output_type": "stream",
     "text": [
      "\r",
      " 53  796M   53  424M    0     0   635k      0  0:21:23  0:11:24  0:09:59  708k"
     ]
    },
    {
     "name": "stdout",
     "output_type": "stream",
     "text": [
      "\r",
      " 53  796M   53  424M    0     0   634k      0  0:21:24  0:11:25  0:09:59  616k"
     ]
    },
    {
     "name": "stdout",
     "output_type": "stream",
     "text": [
      "\r",
      " 53  796M   53  425M    0     0   6"
     ]
    },
    {
     "name": "stdout",
     "output_type": "stream",
     "text": [
      "34k      0  0:21:25  0:11:26  0:09:59  530k"
     ]
    },
    {
     "name": "stdout",
     "output_type": "stream",
     "text": [
      "\r",
      " 53  796M   53  425M    0     0   633k      0  0:21:26  0:11:27  0:09:59  429k"
     ]
    },
    {
     "name": "stdout",
     "output_type": "stream",
     "text": [
      "\r",
      " 53  796M   53  425M    0     0   633k      0  0:21:27  0:11:28  0:09:59  356k"
     ]
    },
    {
     "name": "stdout",
     "output_type": "stream",
     "text": [
      "\r",
      " 53  796M   53  425M    0     0   632k      0  0:21:28  0:11:29  0:09:59  298k"
     ]
    },
    {
     "name": "stdout",
     "output_type": "stream",
     "text": [
      "\r",
      " 53  796M   53  426M    0     0   632k      0  0:21:29  0:11:30  0:09:59  313k"
     ]
    },
    {
     "name": "stdout",
     "output_type": "stream",
     "text": [
      "\r",
      " 53  796M   53  426M    0     0   632k      0  0:21:29  0:11:31  0:09:58  363k"
     ]
    },
    {
     "name": "stdout",
     "output_type": "stream",
     "text": [
      "\r",
      " 53  796M   53  427M    0     0   632k      0  0:21:29  0:11:32  0:09:57  437k"
     ]
    },
    {
     "name": "stdout",
     "output_type": "stream",
     "text": [
      "\r",
      " 53  796M   53  427M    0     0   632k      0  0:21:29  0:11:33  0:09:56  501k"
     ]
    },
    {
     "name": "stdout",
     "output_type": "stream",
     "text": [
      "\r",
      " 53  796M   53  428M    0     0   632k      0  0:21:29  0:11:34  0:09:55  556k"
     ]
    },
    {
     "name": "stdout",
     "output_type": "stream",
     "text": [
      "\r",
      " 53  796M   53  428M    0     0   631k      0  0:21:30  0:11:35  0:09:55  547k"
     ]
    },
    {
     "name": "stdout",
     "output_type": "stream",
     "text": [
      "\r",
      " 53  796M   53  429M    0     0   631k      0  0:21:30  0:11:36  0:09:54  542k"
     ]
    },
    {
     "name": "stdout",
     "output_type": "stream",
     "text": [
      "\r",
      " 54  796M   54  429M    0     0   631k      0  0:21:31  0:11:37  0:09:54  542k"
     ]
    },
    {
     "name": "stdout",
     "output_type": "stream",
     "text": [
      "\r",
      " 54  796M   54  430M    0     0   631k      0  0:21:30  0:11:38  0:09:52  558k"
     ]
    },
    {
     "name": "stdout",
     "output_type": "stream",
     "text": [
      "\r",
      " 54  796M   54  431M    0     0   631k      0  0:21:30  0:11:39  0:09:51  555k"
     ]
    },
    {
     "name": "stdout",
     "output_type": "stream",
     "text": [
      "\r",
      " 54  796M   54  431M    0     0   631k      0  0:21:31  0:11:40  0:09:51  580k"
     ]
    },
    {
     "name": "stdout",
     "output_type": "stream",
     "text": [
      "\r",
      " 54  796M   54  432M    0     0   631k      0  0:21:31  0:11:41  0:09:50  606k"
     ]
    },
    {
     "name": "stdout",
     "output_type": "stream",
     "text": [
      "\r",
      " 54  796M   54  433M    0     0   631k      0  0:21:31  0:11:42  0:09:49  634k"
     ]
    },
    {
     "name": "stdout",
     "output_type": "stream",
     "text": [
      "\r",
      " 54  796M   54  433M    0     0   631k      0  0:21:30  0:11:43  0:09:47  627k"
     ]
    },
    {
     "name": "stdout",
     "output_type": "stream",
     "text": [
      "\r",
      " 54  796M   54  434M    0     0   631k      0  0:21:31  0:11:44  0:09:47  608k"
     ]
    },
    {
     "name": "stdout",
     "output_type": "stream",
     "text": [
      "\r",
      " 54  796M   54  434M    0     0   631k      0  0:21:31  0:11:45  0:09:46  599k"
     ]
    },
    {
     "name": "stdout",
     "output_type": "stream",
     "text": [
      "\r",
      " 54  796M   54  435M    0     0   631k      0  0:21:31  0:11:46  0:09:45  592k"
     ]
    },
    {
     "name": "stdout",
     "output_type": "stream",
     "text": [
      "\r",
      " 54  796M   54  435M    0     0   631k      0  0:21:31  0:11:47  0:09:44  580k"
     ]
    },
    {
     "name": "stdout",
     "output_type": "stream",
     "text": [
      "\r",
      " 54  796M   54  436M    0     0   631k      0  0:21:31  0:11:48  0:09:43  612k"
     ]
    },
    {
     "name": "stdout",
     "output_type": "stream",
     "text": [
      "\r",
      " 54  796M   54  437M    0     0   631k      0  0:21:30  0:11:49  0:09:41  703k"
     ]
    },
    {
     "name": "stdout",
     "output_type": "stream",
     "text": [
      "\r",
      " 55  796M   55  438M    0     0   632k      0  0:21:29  0:11:50  0:09:39  789k"
     ]
    },
    {
     "name": "stdout",
     "output_type": "stream",
     "text": [
      "\r",
      " 55  796M   55  439M    0     0   632k      0  0:21:29  0:11:51  0:09:38  808k"
     ]
    },
    {
     "name": "stdout",
     "output_type": "stream",
     "text": [
      "\r",
      " 55  796M   55  439M    0     0   632k      0  0:21:29  0:11:52  0:09:37  808k"
     ]
    },
    {
     "name": "stdout",
     "output_type": "stream",
     "text": [
      "\r",
      " 55  796M   55  440M    0     0   632k      0  0:21:28  0:11:53  0:09:35  791k"
     ]
    },
    {
     "name": "stdout",
     "output_type": "stream",
     "text": [
      "\r",
      " 55  796M   55  441M    0     0   632k      0  0:21:28  0:11:54  0:09:34  713k"
     ]
    },
    {
     "name": "stdout",
     "output_type": "stream",
     "text": [
      "\r",
      " 55  796M   55  441M    0     0   632k      0  0:21:28  0:11:55  0:09:33  674k"
     ]
    },
    {
     "name": "stdout",
     "output_type": "stream",
     "text": [
      "\r",
      " 55  796M   55  442M    0     0   632k      0  0:21:28  0:11:56  0:09:32  688k"
     ]
    },
    {
     "name": "stdout",
     "output_type": "stream",
     "text": [
      "\r",
      " 55  796M   55  443M    0     0   632k      0  0:21:28  0:11:57  0:09:31  665k"
     ]
    },
    {
     "name": "stdout",
     "output_type": "stream",
     "text": [
      "\r",
      " 55  796M   55  443M    0     0   632k      0  0:21:29  0:11:58  0:09:31  599k"
     ]
    },
    {
     "name": "stdout",
     "output_type": "stream",
     "text": [
      "\r",
      " 55  796M   55  444M    0     0   632k      0  0:21:29  0:11:59  0:09:30  582k"
     ]
    },
    {
     "name": "stdout",
     "output_type": "stream",
     "text": [
      "\r",
      " 55  796M   55  444M    0     0   632k      0  0:21:29  0:12:00  0:09:29  570k"
     ]
    },
    {
     "name": "stdout",
     "output_type": "stream",
     "text": [
      "\r",
      " 55  796M   55  445M    0     0   632k      0  0:21:29  0:12:01  0:09:28  599k"
     ]
    },
    {
     "name": "stdout",
     "output_type": "stream",
     "text": [
      "\r",
      " 56  796M   56  446M    0     0   632k      0  0:21:28  0:12:02  0:09:26  634k"
     ]
    },
    {
     "name": "stdout",
     "output_type": "stream",
     "text": [
      "\r",
      " 56  796M   56  446M    0     0   632k      0  0:21:28  0:12:03  0:09:25  678k"
     ]
    },
    {
     "name": "stdout",
     "output_type": "stream",
     "text": [
      "\r",
      " 56  796M   56  447M    0     0   632k      0  0:21:28  0:12:04  0:09:24  731k"
     ]
    },
    {
     "name": "stdout",
     "output_type": "stream",
     "text": [
      "\r",
      " 56  796M   56  448M    0     0   633k      0  0:21:28  0:12:05  0:09:23  749k"
     ]
    },
    {
     "name": "stdout",
     "output_type": "stream",
     "text": [
      "\r",
      " 56  796M   56  449M    0     0   633k      0  0:21:27  0:12:06  0:09:21  753k"
     ]
    },
    {
     "name": "stdout",
     "output_type": "stream",
     "text": [
      "\r",
      " 56  796M   56  449M    0     0   633k      0  0:21:27  0:12:07  0:09:20  755k"
     ]
    },
    {
     "name": "stdout",
     "output_type": "stream",
     "text": [
      "\r",
      " 56  796M   56  450M    0     0   633k      0  0:21:26  0:12:08  0:09:18  790k"
     ]
    },
    {
     "name": "stdout",
     "output_type": "stream",
     "text": [
      "\r",
      " 56  796M   56  451M    0     0   633k      0  0:21:26  0:12:09  0:09:17  780k"
     ]
    },
    {
     "name": "stdout",
     "output_type": "stream",
     "text": [
      "\r",
      " 56  796M   56  452M    0     0   634k      0  0:21:25  0:12:10  0:09:15  809k"
     ]
    },
    {
     "name": "stdout",
     "output_type": "stream",
     "text": [
      "\r",
      " 56  796M   56  453M    0     0   634k      0  0:21:25  0:12:11  0:09:14  792k"
     ]
    },
    {
     "name": "stdout",
     "output_type": "stream",
     "text": [
      "\r",
      " 56  796M   56  453M    0     0   634k      0  0:21:25  0:12:12  0:09:13  775k"
     ]
    },
    {
     "name": "stdout",
     "output_type": "stream",
     "text": [
      "\r",
      " 57  796M   57  454M    0     0   634k      0  0:21:25  0:12:13  0:09:12  712k"
     ]
    },
    {
     "name": "stdout",
     "output_type": "stream",
     "text": [
      "\r",
      " 57  796M   57  454M    0     0   634k      0  0:21:25  0:12:14  0:09:11  677k"
     ]
    },
    {
     "name": "stdout",
     "output_type": "stream",
     "text": [
      "\r",
      " 57  796M   57  455M    0     0   634k      0  0:21:25  0:12:15  0:09:10  645k"
     ]
    },
    {
     "name": "stdout",
     "output_type": "stream",
     "text": [
      "\r",
      " 57  796M   57  456M    0     0   634k      0  0:21:24  0:12:16  0:09:08  659k"
     ]
    },
    {
     "name": "stdout",
     "output_type": "stream",
     "text": [
      "\r",
      " 57  796M   57  457M    0     0   634k      0  0:21:24  0:12:17  0:09:07  706k"
     ]
    },
    {
     "name": "stdout",
     "output_type": "stream",
     "text": [
      "\r",
      " 57  796M   57  457M    0     0   635k      0  0:21:23  0:12:18  0:09:05  750k"
     ]
    },
    {
     "name": "stdout",
     "output_type": "stream",
     "text": [
      "\r",
      " 57  796M   57  458M    0     0   635k      0  0:21:23  0:12:19  0:09:04  791k"
     ]
    },
    {
     "name": "stdout",
     "output_type": "stream",
     "text": [
      "\r",
      " 57  796M   57  459M    0     0   635k      0  0:21:23  0:12:20  0:09:03  790k"
     ]
    },
    {
     "name": "stdout",
     "output_type": "stream",
     "text": [
      "\r",
      " 57  796M   57  460M    0     0   635k      0  0:21:22  0:12:21  0:09:01  780k"
     ]
    },
    {
     "name": "stdout",
     "output_type": "stream",
     "text": [
      "\r",
      " 57  796M   57  460M    0     0   635k      0  0:21:22  0:12:22  0:09:00  757k"
     ]
    },
    {
     "name": "stdout",
     "output_type": "stream",
     "text": [
      "\r",
      " 57  796M   57  461M    0     0   635k      0  0:21:22  0:12:23  0:08:59  729k"
     ]
    },
    {
     "name": "stdout",
     "output_type": "stream",
     "text": [
      "\r",
      " 58  796M   58  461M    0     0   635k      0  0:21:23  0:12:24  0:08:59  660k"
     ]
    },
    {
     "name": "stdout",
     "output_type": "stream",
     "text": [
      "\r",
      " 58  796M   58  462M    0     0   635k      0  0:21:23  0:12:25  0:08:58  628k"
     ]
    },
    {
     "name": "stdout",
     "output_type": "stream",
     "text": [
      "\r",
      " 58  796M   58  462M    0     0   635k      0  0:21:23  0:12:26  0:08:57  574k"
     ]
    },
    {
     "name": "stdout",
     "output_type": "stream",
     "text": [
      "\r",
      " 58  796M   58  463M    0     0   635k      0  0:21:23  0:12:27  0:08:56  551k"
     ]
    },
    {
     "name": "stdout",
     "output_type": "stream",
     "text": [
      "\r",
      " 58  796M   58  464M    0     0   635k      0  0:21:23  0:12:28  0:08:55  548k"
     ]
    },
    {
     "name": "stdout",
     "output_type": "stream",
     "text": [
      "\r",
      " 58  796M   58  464M    0     0   635k      0  0:21:23  0:12:29  0:08:54  592k"
     ]
    },
    {
     "name": "stdout",
     "output_type": "stream",
     "text": [
      "\r",
      " 58  796M   58  465M    0     0   634k      0  0:21:24  0:12:30  0:08:54  582k"
     ]
    },
    {
     "name": "stdout",
     "output_type": "stream",
     "text": [
      "\r",
      " 58  796M   58  465M    0     0   634k      0  0:21:24  0:12:31  0:08:53  608k"
     ]
    },
    {
     "name": "stdout",
     "output_type": "stream",
     "text": [
      "\r",
      " 58  796M   58  466M    0     0   635k      0  0:21:23  0:12:32  0:08:51  643k"
     ]
    },
    {
     "name": "stdout",
     "output_type": "stream",
     "text": [
      "\r",
      " 58  796M   58  467M    0     0   635k      0  0:21:22  0:12:33  0:08:49  719k"
     ]
    },
    {
     "name": "stdout",
     "output_type": "stream",
     "text": [
      "\r",
      " 58  796M   58  468M    0     0   636k      0  0:21:21  0:12:34  0:08:47  795k"
     ]
    },
    {
     "name": "stdout",
     "output_type": "stream",
     "text": [
      "\r",
      " 58  796M   58  469M    0     0   636k      0  0:21:21  0:12:35  0:08:46  848k"
     ]
    },
    {
     "name": "stdout",
     "output_type": "stream",
     "text": [
      "\r",
      " 59  796M   59  469M    0     0   636k      0  0:21:21  0:12:36  0:08:45  837k"
     ]
    },
    {
     "name": "stdout",
     "output_type": "stream",
     "text": [
      "\r",
      " 59  796M   59  470M    0     0   636k      0  0:21:21  0:12:37  0:08:44  785k"
     ]
    },
    {
     "name": "stdout",
     "output_type": "stream",
     "text": [
      "\r",
      " 59  796M   59  471M    0     0   636k      0  0:21:21  0:12:38  0:08:43  734k"
     ]
    },
    {
     "name": "stdout",
     "output_type": "stream",
     "text": [
      "\r",
      " 59  796M   59  471M    0     0   636k      0  0:21:20  0:12:39  0:08:41  682k"
     ]
    },
    {
     "name": "stdout",
     "output_type": "stream",
     "text": [
      "\r",
      " 59  796M   59  472M    0     0   636k      0  0:21:20  0:12:40  0:08:40  664k"
     ]
    },
    {
     "name": "stdout",
     "output_type": "stream",
     "text": [
      "\r",
      " 59  796M   59  473M    0     0   636k      0  0:21:20  0:12:41  0:08:39  686k"
     ]
    },
    {
     "name": "stdout",
     "output_type": "stream",
     "text": [
      "\r",
      " 59  796M   59  474M    0     0   636k      0  0:21:20  0:12:42  0:08:38  736k"
     ]
    },
    {
     "name": "stdout",
     "output_type": "stream",
     "text": [
      "\r",
      " 59  796M   59  474M    0     0   636k      0  0:21:20  0:12:43  0:08:37  721k"
     ]
    },
    {
     "name": "stdout",
     "output_type": "stream",
     "text": [
      "\r",
      " 59  796M   59  475M    0     0   636k      0  0:21:20  0:12:44  0:08:36  708k"
     ]
    },
    {
     "name": "stdout",
     "output_type": "stream",
     "text": [
      "\r",
      " 59  796M   59  476M    0     0   636k      0  0:21:19  0:12:45  0:08:34  702k"
     ]
    },
    {
     "name": "stdout",
     "output_type": "stream",
     "text": [
      "\r",
      " 59  796M   59  476M    0     0   637k      0  0:21:19  0:12:46  0:08:33  702k"
     ]
    },
    {
     "name": "stdout",
     "output_type": "stream",
     "text": [
      "\r",
      " 59  796M   59  477M    0     0   636k      0  0:21:20  0:12:47  0:08:33  636k"
     ]
    },
    {
     "name": "stdout",
     "output_type": "stream",
     "text": [
      "\r",
      " 59  796M   59  477M    0     0   636k      0  0:21:20  0:12:48  0:08:32  609k"
     ]
    },
    {
     "name": "stdout",
     "output_type": "stream",
     "text": [
      "\r",
      " 60  796M   60  478M    0     0   636k      0  0:21:20  0:12:49  0:08:31  600k"
     ]
    },
    {
     "name": "stdout",
     "output_type": "stream",
     "text": [
      "\r",
      " 60  796M   60  478M    0     0   636k      0  0:21:20  0:12:50  0:08:30  597k"
     ]
    },
    {
     "name": "stdout",
     "output_type": "stream",
     "text": [
      "\r",
      " 60  796M   60  479M    0     0   636k      0  0:21:20  0:12:51  0:08:29  606k"
     ]
    },
    {
     "name": "stdout",
     "output_type": "stream",
     "text": [
      "\r",
      " 60  796M   60  480M    0     0   637k      0  0:21:19  0:12:52  0:08:27  680k"
     ]
    },
    {
     "name": "stdout",
     "output_type": "stream",
     "text": [
      "\r",
      " 60  796M   60  481M    0     0   637k      0  0:21:19  0:12:53  0:08:26  734k"
     ]
    },
    {
     "name": "stdout",
     "output_type": "stream",
     "text": [
      "\r",
      " 60  796M   60  481M    0     0   637k      0  0:21:19  0:12:54  0:08:25  698k"
     ]
    },
    {
     "name": "stdout",
     "output_type": "stream",
     "text": [
      "\r",
      " 60  796M   60  482M    0     0   636k      0  0:21:20  0:12:55  0:08:25  647k"
     ]
    },
    {
     "name": "stdout",
     "output_type": "stream",
     "text": [
      "\r",
      " 60  796M   60  482M    0     0   636k      0  0:21:20  0:12:56  0:08:24  593k"
     ]
    },
    {
     "name": "stdout",
     "output_type": "stream",
     "text": [
      "\r",
      " 60  796M   60  483M    0     0   636k      0  0:21:20  0:12:57  0:08:23  539k"
     ]
    },
    {
     "name": "stdout",
     "output_type": "stream",
     "text": [
      "\r",
      " 60  796M   60  483M    0     0   636k      0  0:21:21  0:12:58  0:08:23  462k"
     ]
    },
    {
     "name": "stdout",
     "output_type": "stream",
     "text": [
      "\r",
      " 60  796M   60  483M    0     0   635k      0  0:21:22  0:12:59  0:08:23  453k"
     ]
    },
    {
     "name": "stdout",
     "output_type": "stream",
     "text": [
      "\r",
      " 60  796M   60  484M    0     0   635k      0  0:21:22  0:13:00  0:08:22  495k"
     ]
    },
    {
     "name": "stdout",
     "output_type": "stream",
     "text": [
      "\r",
      " 60  796M   60  485M    0     0   635k      0  0:21:22  0:13:01  0:08:21  535k"
     ]
    },
    {
     "name": "stdout",
     "output_type": "stream",
     "text": [
      "\r",
      " 61  796M   61  485M    0     0   636k      0  0:21:21  0:13:02  0:08:19  555k"
     ]
    },
    {
     "name": "stdout",
     "output_type": "stream",
     "text": [
      "\r",
      " 61  796M   61  486M    0     0   636k      0  0:21:21  0:13:03  0:08:18  629k"
     ]
    },
    {
     "name": "stdout",
     "output_type": "stream",
     "text": [
      "\r",
      " 61  796M   61  487M    0     0   636k      0  0:21:21  0:13:04  0:08:17  698k"
     ]
    },
    {
     "name": "stdout",
     "output_type": "stream",
     "text": [
      "\r",
      " 61  796M   61  488M    0     0   636k      0  0:21:21  0:13:05  0:08:16  723k"
     ]
    },
    {
     "name": "stdout",
     "output_type": "stream",
     "text": [
      "\r",
      " 61  796M   61  488M    0     0   636k      0  0:21:21  0:13:06  0:08:15  716k"
     ]
    },
    {
     "name": "stdout",
     "output_type": "stream",
     "text": [
      "\r",
      " 61  796M   61  489M    0     0   636k      0  0:21:20  0:13:07  0:08:13  721k"
     ]
    },
    {
     "name": "stdout",
     "output_type": "stream",
     "text": [
      "\r",
      " 61  796M   61  490M    0     0   636k      0  0:21:20  0:13:08  0:08:12  743k"
     ]
    },
    {
     "name": "stdout",
     "output_type": "stream",
     "text": [
      "\r",
      " 61  796M   61  490M    0     0   636k      0  0:21:20  0:13:09  0:08:11  724k"
     ]
    },
    {
     "name": "stdout",
     "output_type": "stream",
     "text": [
      "\r",
      " 61  796M   61  491M    0     0   636k      0  0:21:19  0:13:10  0:08:09  717k"
     ]
    },
    {
     "name": "stdout",
     "output_type": "stream",
     "text": [
      "\r",
      " 61  796M   61  492M    0     0   637k      0  0:21:19  0:13:11  0:08:08  723k"
     ]
    },
    {
     "name": "stdout",
     "output_type": "stream",
     "text": [
      "\r",
      " 61  796M   61  492M    0     0   637k      0  0:21:19  0:13:12  0:08:07  736k"
     ]
    },
    {
     "name": "stdout",
     "output_type": "stream",
     "text": [
      "\r",
      " 62  796M   62  493M    0     0   637k      0  0:21:19  0:13:13  0:08:06  714k"
     ]
    },
    {
     "name": "stdout",
     "output_type": "stream",
     "text": [
      "\r",
      " 62  796M   62  494M    0     0   637k      0  0:21:18  0:13:14  0:08:04  751k"
     ]
    },
    {
     "name": "stdout",
     "output_type": "stream",
     "text": [
      "\r",
      " 62  796M   62  495M    0     0   638k      0  0:21:17  0:13:15  0:08:02  806k"
     ]
    },
    {
     "name": "stdout",
     "output_type": "stream",
     "text": [
      "\r",
      " 62  796M   62  496M    0     0   638k      0  0:21:17  0:13:16  0:08:01  857k"
     ]
    },
    {
     "name": "stdout",
     "output_type": "stream",
     "text": [
      "\r",
      " 62  796M   62  497M    0     0   638k      0  0:21:16  0:13:17  0:07:59  870k"
     ]
    },
    {
     "name": "stdout",
     "output_type": "stream",
     "text": [
      "\r",
      " 62  796M   62  498M    0     0   638k      0  0:21:16  0:13:18  0:07:58  886k"
     ]
    },
    {
     "name": "stdout",
     "output_type": "stream",
     "text": [
      "\r",
      " 62  796M   62  498M    0     0   639k      0  0:21:15  0:13:19  0:07:56  864k"
     ]
    },
    {
     "name": "stdout",
     "output_type": "stream",
     "text": [
      "\r",
      " 62  796M   62  499M    0     0   638k      0  0:21:16  0:13:20  0:07:56  754k"
     ]
    },
    {
     "name": "stdout",
     "output_type": "stream",
     "text": [
      "\r",
      " 62  796M   62  499M    0     0   638k      0  0:21:16  0:13:21  0:07:55  661k"
     ]
    },
    {
     "name": "stdout",
     "output_type": "stream",
     "text": [
      "\r",
      " 62  796M   62  500M    0     0   638k      0  0:21:17  0:13:22  0:07:55  603k"
     ]
    },
    {
     "name": "stdout",
     "output_type": "stream",
     "text": [
      "\r",
      " 62  796M   62  500M    0     0   638k      0  0:21:17  0:13:23  0:07:54  565k"
     ]
    },
    {
     "name": "stdout",
     "output_type": "stream",
     "text": [
      "\r",
      " 62  796M   62  501M    0     0   638k      0  0:21:17  0:13:24  0:07:53  523k"
     ]
    },
    {
     "name": "stdout",
     "output_type": "stream",
     "text": [
      "\r",
      " 63  796M   63  501M    0     0   638k      0  0:21:17  0:13:25  0:07:52  539k"
     ]
    },
    {
     "name": "stdout",
     "output_type": "stream",
     "text": [
      "\r",
      " 63  796M   63  502M    0     0   638k      0  0:21:17  0:13:26  0:07:51  583k"
     ]
    },
    {
     "name": "stdout",
     "output_type": "stream",
     "text": [
      "\r",
      " 63  796M   63  503M    0     0   638k      0  0:21:17  0:13:27  0:07:50  637k"
     ]
    },
    {
     "name": "stdout",
     "output_type": "stream",
     "text": [
      "\r",
      " 63  796M   63  504M    0     0   638k      0  0:21:16  0:13:28  0:07:48  704k"
     ]
    },
    {
     "name": "stdout",
     "output_type": "stream",
     "text": [
      "\r",
      " 63  796M   63  505M    0     0   639k      0  0:21:15  0:13:29  0:07:46  771k"
     ]
    },
    {
     "name": "stdout",
     "output_type": "stream",
     "text": [
      "\r",
      " 63  796M   63  505M    0     0   639k      0  0:21:15  0:13:30  0:07:45  793k"
     ]
    },
    {
     "name": "stdout",
     "output_type": "stream",
     "text": [
      "\r",
      " 63  796M   63  506M    0     0   639k      0  0:21:15  0:13:31  0:07:44  786k"
     ]
    },
    {
     "name": "stdout",
     "output_type": "stream",
     "text": [
      "\r",
      " 63  796M   63  506M    0     0   639k      0  0:21:15  0:13:32  0:07:43  747k"
     ]
    },
    {
     "name": "stdout",
     "output_type": "stream",
     "text": [
      "\r",
      " 63  796M   63  507M    0     0   639k      0  0:21:15  0:13:33  0:07:42  699k"
     ]
    },
    {
     "name": "stdout",
     "output_type": "stream",
     "text": [
      "\r",
      " 63  796M   63  508M    0     0   639k      0  0:21:15  0:13:34  0:07:41  661k"
     ]
    },
    {
     "name": "stdout",
     "output_type": "stream",
     "text": [
      "\r",
      " 63  796M   63  509M    0     0   639k      0  0:21:15  0:13:35  0:07:40  679k"
     ]
    },
    {
     "name": "stdout",
     "output_type": "stream",
     "text": [
      "\r",
      " 64  796M   64  509M    0     0   639k      0  0:21:15  0:13:36  0:07:39  693k"
     ]
    },
    {
     "name": "stdout",
     "output_type": "stream",
     "text": [
      "\r",
      " 64  796M   64  510M    0     0   639k      0  0:21:14  0:13:37  0:07:37  741k"
     ]
    },
    {
     "name": "stdout",
     "output_type": "stream",
     "text": [
      "\r",
      " 64  796M   64  511M    0     0   640k      0  0:21:13  0:13:38  0:07:35  776k"
     ]
    },
    {
     "name": "stdout",
     "output_type": "stream",
     "text": [
      "\r",
      " 64  796M   64  512M    0     0   640k      0  0:21:13  0:13:39  0:07:34  821k"
     ]
    },
    {
     "name": "stdout",
     "output_type": "stream",
     "text": [
      "\r",
      " 64  796M   64  513M    0     0   640k      0  0:21:12  0:13:40  0:07:32  895k"
     ]
    },
    {
     "name": "stdout",
     "output_type": "stream",
     "text": [
      "\r",
      " 64  796M   64  514M    0     0   641k      0  0:21:10  0:13:41  0:07:29  975k"
     ]
    },
    {
     "name": "stdout",
     "output_type": "stream",
     "text": [
      "\r",
      " 64  796M   64  514M    0     0   641k      0  0:21:11  0:13:42  0:07:29  904k"
     ]
    },
    {
     "name": "stdout",
     "output_type": "stream",
     "text": [
      "\r",
      " 64  796M   64  515M    0     0   641k      0  0:21:11  0:13:43  0:07:28  813k"
     ]
    },
    {
     "name": "stdout",
     "output_type": "stream",
     "text": [
      "\r",
      " 64  796M   64  516M    0     0   641k      0  0:21:11  0:13:44  0:07:27  761k"
     ]
    },
    {
     "name": "stdout",
     "output_type": "stream",
     "text": [
      "\r",
      " 64  796M   64  516M    0     0   641k      0  0:21:11  0:13:45  0:07:26  704k"
     ]
    },
    {
     "name": "stdout",
     "output_type": "stream",
     "text": [
      "\r",
      " 64  796M   64  517M    0     0   641k      0  0:21:11  0:13:46  0:07:25  596k"
     ]
    },
    {
     "name": "stdout",
     "output_type": "stream",
     "text": [
      "\r",
      " 65  796M   65  517M    0     0   641k      0  0:21:11  0:13:47  0:07:24  599k"
     ]
    },
    {
     "name": "stdout",
     "output_type": "stream",
     "text": [
      "\r",
      " 65  796M   65  518M    0     0   641k      0  0:21:11  0:13:48  0:07:23  622k"
     ]
    },
    {
     "name": "stdout",
     "output_type": "stream",
     "text": [
      "\r",
      " 65  796M   65  519M    0     0   641k      0  0:21:11  0:13:49  0:07:22  636k"
     ]
    },
    {
     "name": "stdout",
     "output_type": "stream",
     "text": [
      "\r",
      " 65  796M   65  520M    0     0   641k      0  0:21:11  0:13:50  0:07:21  657k"
     ]
    },
    {
     "name": "stdout",
     "output_type": "stream",
     "text": [
      "\r",
      " 65  796M   65  520M    0     0   641k      0  0:21:10  0:13:51  0:07:19  734k"
     ]
    },
    {
     "name": "stdout",
     "output_type": "stream",
     "text": [
      "\r",
      " 65  796M   65  521M    0     0   641k      0  0:21:10  0:13:52  0:07:18  758k"
     ]
    },
    {
     "name": "stdout",
     "output_type": "stream",
     "text": [
      "\r",
      " 65  796M   65  522M    0     0   641k      0  0:21:10  0:13:53  0:07:17  741k"
     ]
    },
    {
     "name": "stdout",
     "output_type": "stream",
     "text": [
      "\r",
      " 65  796M   65  522M    0     0   641k      0  0:21:11  0:13:54  0:07:17  679k"
     ]
    },
    {
     "name": "stdout",
     "output_type": "stream",
     "text": [
      "\r",
      " 65  796M   65  523M    0     0   641k      0  0:21:11  0:13:55  0:07:16  620k"
     ]
    },
    {
     "name": "stdout",
     "output_type": "stream",
     "text": [
      "\r",
      " 65  796M   65  523M    0     0   641k      0  0:21:11  0:13:56  0:07:15  552k"
     ]
    },
    {
     "name": "stdout",
     "output_type": "stream",
     "text": [
      "\r",
      " 65  796M   65  524M    0     0   641k      0  0:21:11  0:13:57  0:07:14  553k"
     ]
    },
    {
     "name": "stdout",
     "output_type": "stream",
     "text": [
      "\r",
      " 65  796M   65  524M    0     0   641k      0  0:21:11  0:13:58  0:07:13  548k"
     ]
    },
    {
     "name": "stdout",
     "output_type": "stream",
     "text": [
      "\r",
      " 65  796M   65  525M    0     0   640k      0  0:21:12  0:13:59  0:07:13  559k"
     ]
    },
    {
     "name": "stdout",
     "output_type": "stream",
     "text": [
      "\r",
      " 66  796M   66  525M    0     0   640k      0  0:21:12  0:14:00  0:07:12  509k"
     ]
    },
    {
     "name": "stdout",
     "output_type": "stream",
     "text": [
      "\r",
      " 66  796M   66  525M    0     0   640k      0  0:21:13  0:14:01  0:07:12  463k"
     ]
    },
    {
     "name": "stdout",
     "output_type": "stream",
     "text": [
      "\r",
      " 66  796M   66  526M    0     0   639k      0  0:21:14  0:14:02  0:07:12  393k"
     ]
    },
    {
     "name": "stdout",
     "output_type": "stream",
     "text": [
      "\r",
      " 66  796M   66  526M    0     0   639k      0  0:21:15  0:14:03  0:07:12  364k"
     ]
    },
    {
     "name": "stdout",
     "output_type": "stream",
     "text": [
      "\r",
      " 66  796M   66  527M    0     0   639k      0  0:21:15  0:14:04  0:07:11  360k"
     ]
    },
    {
     "name": "stdout",
     "output_type": "stream",
     "text": [
      "\r",
      " 66  796M   66  527M    0     0   639k      0  0:21:15  0:14:05  0:07:10  409k"
     ]
    },
    {
     "name": "stdout",
     "output_type": "stream",
     "text": [
      "\r",
      " 66  796M   66  528M    0     0   639k      0  0:21:15  0:14:06  0:07:09  442k"
     ]
    },
    {
     "name": "stdout",
     "output_type": "stream",
     "text": [
      "\r",
      " 66  796M   66  528M    0     0   638k      0  0:21:16  0:14:07  0:07:09  481k"
     ]
    },
    {
     "name": "stdout",
     "output_type": "stream",
     "text": [
      "\r",
      " 66  796M   66  529M    0     0   638k      0  0:21:16  0:14:08  0:07:08  550k"
     ]
    },
    {
     "name": "stdout",
     "output_type": "stream",
     "text": [
      "\r",
      " 66  796M   66  530M    0     0   639k      0  0:21:15  0:14:09  0:07:06  628k"
     ]
    },
    {
     "name": "stdout",
     "output_type": "stream",
     "text": [
      "\r",
      " 66  796M   66  531M    0     0   639k      0  0:21:14  0:14:10  0:07:04  705k"
     ]
    },
    {
     "name": "stdout",
     "output_type": "stream",
     "text": [
      "\r",
      " 66  796M   66  532M    0     0   640k      0  0:21:13  0:14:11  0:07:02  821k"
     ]
    },
    {
     "name": "stdout",
     "output_type": "stream",
     "text": [
      "\r",
      " 66  796M   66  533M    0     0   640k      0  0:21:12  0:14:12  0:07:00  913k"
     ]
    },
    {
     "name": "stdout",
     "output_type": "stream",
     "text": [
      "\r",
      " 67  796M   67  533M    0     0   640k      0  0:21:12  0:14:13  0:06:59  951k"
     ]
    },
    {
     "name": "stdout",
     "output_type": "stream",
     "text": [
      "\r",
      " 67  796M   67  534M    0     0   641k      0  0:21:11  0:14:14  0:06:57  988k"
     ]
    },
    {
     "name": "stdout",
     "output_type": "stream",
     "text": [
      "\r",
      " 67  796M   67  536M    0     0   641k      0  0:21:10  0:14:15  0:06:55 1030k"
     ]
    },
    {
     "name": "stdout",
     "output_type": "stream",
     "text": [
      "\r",
      " 67  796M   67  537M    0     0   642k      0  0:21:08  0:14:16  0:06:52 1066k"
     ]
    },
    {
     "name": "stdout",
     "output_type": "stream",
     "text": [
      "\r",
      " 67  796M   67  538M    0     0   643k      0  0:21:07  0:14:17  0:06:50 1149k"
     ]
    },
    {
     "name": "stdout",
     "output_type": "stream",
     "text": [
      "\r",
      " 67  796M   67  539M    0     0   643k      0  0:21:06  0:14:18  0:06:48 1191k"
     ]
    },
    {
     "name": "stdout",
     "output_type": "stream",
     "text": [
      "\r",
      " 67  796M   67  540M    0     0   644k      0  0:21:05  0:14:19  0:06:46 1168k"
     ]
    },
    {
     "name": "stdout",
     "output_type": "stream",
     "text": [
      "\r",
      " 68  796M   68  541M    0     0   644k      0  0:21:05  0:14:20  0:06:45 1110k"
     ]
    },
    {
     "name": "stdout",
     "output_type": "stream",
     "text": [
      "\r",
      " 68  796M   68  542M    0     0   644k      0  0:21:04  0:14:21  0:06:43 1026k"
     ]
    },
    {
     "name": "stdout",
     "output_type": "stream",
     "text": [
      "\r",
      " 68  796M   68  542M    0     0   644k      0  0:21:04  0:14:22  0:06:42  855k"
     ]
    },
    {
     "name": "stdout",
     "output_type": "stream",
     "text": [
      "\r",
      " 68  796M   68  543M    0     0   644k      0  0:21:04  0:14:23  0:06:41  767k"
     ]
    },
    {
     "name": "stdout",
     "output_type": "stream",
     "text": [
      "\r",
      " 68  796M   68  544M    0     0   644k      0  0:21:04  0:14:24  0:06:40  715k"
     ]
    },
    {
     "name": "stdout",
     "output_type": "stream",
     "text": [
      "\r",
      " 68  796M   68  544M    0     0   644k      0  0:21:04  0:14:25  0:06:39  667k"
     ]
    },
    {
     "name": "stdout",
     "output_type": "stream",
     "text": [
      "\r",
      " 68  796M   68  545M    0     0   644k      0  0:21:05  0:14:26  0:06:39  592k"
     ]
    },
    {
     "name": "stdout",
     "output_type": "stream",
     "text": [
      "\r",
      " 68  796M   68  545M    0     0   644k      0  0:21:05  0:14:27  0:06:38  554k"
     ]
    },
    {
     "name": "stdout",
     "output_type": "stream",
     "text": [
      "\r",
      " 68  796M   68  545M    0     0   643k      0  0:21:06  0:14:28  0:06:38  499k"
     ]
    },
    {
     "name": "stdout",
     "output_type": "stream",
     "text": [
      "\r",
      " 68  796M   68  546M    0     0   643k      0  0:21:06  0:14:29  0:06:37  452k"
     ]
    },
    {
     "name": "stdout",
     "output_type": "stream",
     "text": [
      "\r",
      " 68  796M   68  546M    0     0   643k      0  0:21:07  0:14:30  0:06:37  418k"
     ]
    },
    {
     "name": "stdout",
     "output_type": "stream",
     "text": [
      "\r",
      " 68  796M   68  547M    0     0   643k      0  0:21:07  0:14:31  0:06:36  411k"
     ]
    },
    {
     "name": "stdout",
     "output_type": "stream",
     "text": [
      "\r",
      " 68  796M   68  547M    0     0   643k      0  0:21:07  0:14:32  0:06:35  459k"
     ]
    },
    {
     "name": "stdout",
     "output_type": "stream",
     "text": [
      "\r",
      " 68  796M   68  548M    0     0   643k      0  0:21:07  0:14:33  0:06:34  515k"
     ]
    },
    {
     "name": "stdout",
     "output_type": "stream",
     "text": [
      "\r",
      " 68  796M   68  548M    0     0   643k      0  0:21:07  0:14:34  0:06:33  551k"
     ]
    },
    {
     "name": "stdout",
     "output_type": "stream",
     "text": [
      "\r",
      " 69  796M   69  549M    0     0   642k      0  0:21:08  0:14:35  0:06:33  580k"
     ]
    },
    {
     "name": "stdout",
     "output_type": "stream",
     "text": [
      "\r",
      " 69  796M   69  550M    0     0   643k      0  0:21:07  0:14:36  0:06:31  625k"
     ]
    },
    {
     "name": "stdout",
     "output_type": "stream",
     "text": [
      "\r",
      " 69  796M   69  550M    0     0   643k      0  0:21:07  0:14:37  0:06:30  647k"
     ]
    },
    {
     "name": "stdout",
     "output_type": "stream",
     "text": [
      "\r",
      " 69  796M   69  551M    0     0   643k      0  0:21:07  0:14:38  0:06:29  659k"
     ]
    },
    {
     "name": "stdout",
     "output_type": "stream",
     "text": [
      "\r",
      " 69  796M   69  552M    0     0   643k      0  0:21:07  0:14:39  0:06:28  695k"
     ]
    },
    {
     "name": "stdout",
     "output_type": "stream",
     "text": [
      "\r",
      " 69  796M   69  553M    0     0   643k      0  0:21:06  0:14:40  0:06:26  752k"
     ]
    },
    {
     "name": "stdout",
     "output_type": "stream",
     "text": [
      "\r",
      " 69  796M   69  554M    0     0   643k      0  0:21:06  0:14:41  0:06:25  775k"
     ]
    },
    {
     "name": "stdout",
     "output_type": "stream",
     "text": [
      "\r",
      " 69  796M   69  554M    0     0   643k      0  0:21:06  0:14:42  0:06:24  739k"
     ]
    },
    {
     "name": "stdout",
     "output_type": "stream",
     "text": [
      "\r",
      " 69  796M   69  555M    0     0   643k      0  0:21:07  0:14:43  0:06:24  694k"
     ]
    },
    {
     "name": "stdout",
     "output_type": "stream",
     "text": [
      "\r",
      " 69  796M   69  555M    0     0   643k      0  0:21:07  0:14:44  0:06:23  660k"
     ]
    },
    {
     "name": "stdout",
     "output_type": "stream",
     "text": [
      "\r",
      " 69  796M   69  556M    0     0   643k      0  0:21:07  0:14:45  0:06:22  608k"
     ]
    },
    {
     "name": "stdout",
     "output_type": "stream",
     "text": [
      "\r",
      " 69  796M   69  556M    0     0   643k      0  0:21:07  0:14:46  0:06:21  558k"
     ]
    },
    {
     "name": "stdout",
     "output_type": "stream",
     "text": [
      "\r",
      " 70  796M   70  557M    0     0   643k      0  0:21:07  0:14:47  0:06:20  573k"
     ]
    },
    {
     "name": "stdout",
     "output_type": "stream",
     "text": [
      "\r",
      " 70  796M   70  557M    0     0   643k      0  0:21:07  0:14:48  0:06:19  573k"
     ]
    },
    {
     "name": "stdout",
     "output_type": "stream",
     "text": [
      "\r",
      " 70  796M   70  558M    0     0   643k      0  0:21:07  0:14:49  0:06:18  580k"
     ]
    },
    {
     "name": "stdout",
     "output_type": "stream",
     "text": [
      "\r",
      " 70  796M   70  559M    0     0   643k      0  0:21:07  0:14:50  0:06:17  571k"
     ]
    },
    {
     "name": "stdout",
     "output_type": "stream",
     "text": [
      "\r",
      " 70  796M   70  559M    0     0   643k      0  0:21:07  0:14:51  0:06:16  594k"
     ]
    },
    {
     "name": "stdout",
     "output_type": "stream",
     "text": [
      "\r",
      " 70  796M   70  560M    0     0   643k      0  0:21:07  0:14:52  0:06:15  616k"
     ]
    },
    {
     "name": "stdout",
     "output_type": "stream",
     "text": [
      "\r",
      " 70  796M   70  560M    0     0   643k      0  0:21:07  0:14:53  0:06:14  635k"
     ]
    },
    {
     "name": "stdout",
     "output_type": "stream",
     "text": [
      "\r",
      " 70  796M   70  561M    0     0   642k      0  0:21:08  0:14:54  0:06:14  612k"
     ]
    },
    {
     "name": "stdout",
     "output_type": "stream",
     "text": [
      "\r",
      " 70  796M   70  561M    0     0   642k      0  0:21:08  0:14:55  0:06:13  584k"
     ]
    },
    {
     "name": "stdout",
     "output_type": "stream",
     "text": [
      "\r",
      " 70  796M   70  562M    0     0   642k      0  0:21:09  0:14:56  0:06:13  539k"
     ]
    },
    {
     "name": "stdout",
     "output_type": "stream",
     "text": [
      "\r",
      " 70  796M   70  562M    0     0   642k      0  0:21:09  0:14:57  0:06:12  510k"
     ]
    },
    {
     "name": "stdout",
     "output_type": "stream",
     "text": [
      "\r",
      " 70  796M   70  563M    0     0   642k      0  0:21:09  0:14:58  0:06:11  513k"
     ]
    },
    {
     "name": "stdout",
     "output_type": "stream",
     "text": [
      "\r",
      " 70  796M   70  564M    0     0   642k      0  0:21:09  0:14:59  0:06:10  533k"
     ]
    },
    {
     "name": "stdout",
     "output_type": "stream",
     "text": [
      "\r",
      " 70  796M   70  564M    0     0   642k      0  0:21:09  0:15:00  0:06:09  539k"
     ]
    },
    {
     "name": "stdout",
     "output_type": "stream",
     "text": [
      "\r",
      " 70  796M   70  564M    0     0   641k      0  0:21:10  0:15:01  0:06:09  517k"
     ]
    },
    {
     "name": "stdout",
     "output_type": "stream",
     "text": [
      "\r",
      " 71  796M   71  565M    0     0   641k      0  0:21:10  0:15:02  0:06:08  508k"
     ]
    },
    {
     "name": "stdout",
     "output_type": "stream",
     "text": [
      "\r",
      " 71  796M   71  565M    0     0   641k      0  0:21:11  0:15:03  0:06:08  475k"
     ]
    },
    {
     "name": "stdout",
     "output_type": "stream",
     "text": [
      "\r",
      " 71  796M   71  566M    0     0   641k      0  0:21:11  0:15:04  0:06:07  445k"
     ]
    },
    {
     "name": "stdout",
     "output_type": "stream",
     "text": [
      "\r",
      " 71  796M   71  566M    0     0   641k      0  0:21:11  0:15:05  0:06:06  446k"
     ]
    },
    {
     "name": "stdout",
     "output_type": "stream",
     "text": [
      "\r",
      " 71  796M   71  567M    0     0   640k      0  0:21:12  0:15:06  0:06:06  446k"
     ]
    },
    {
     "name": "stdout",
     "output_type": "stream",
     "text": [
      "\r",
      " 71  796M   71  567M    0     0   640k      0  0:21:12  0:15:07  0:06:05  432k"
     ]
    },
    {
     "name": "stdout",
     "output_type": "stream",
     "text": [
      "\r",
      " 71  796M   71  568M    0     0   640k      0  0:21:13  0:15:08  0:06:05  463k"
     ]
    },
    {
     "name": "stdout",
     "output_type": "stream",
     "text": [
      "\r",
      " 71  796M   71  568M    0     0   640k      0  0:21:12  0:15:09  0:06:03  523k"
     ]
    },
    {
     "name": "stdout",
     "output_type": "stream",
     "text": [
      "\r",
      " 71  796M   71  569M    0     0   640k      0  0:21:12  0:15:10  0:06:02  571k"
     ]
    },
    {
     "name": "stdout",
     "output_type": "stream",
     "text": [
      "\r",
      " 71  796M   71  570M    0     0   640k      0  0:21:12  0:15:11  0:06:01  657k"
     ]
    },
    {
     "name": "stdout",
     "output_type": "stream",
     "text": [
      "\r",
      " 71  796M   71  570M    0     0   640k      0  0:21:12  0:15:12  0:06:00  661k"
     ]
    },
    {
     "name": "stdout",
     "output_type": "stream",
     "text": [
      "\r",
      " 71  796M   71  571M    0     0   640k      0  0:21:13  0:15:13  0:06:00  638k"
     ]
    },
    {
     "name": "stdout",
     "output_type": "stream",
     "text": [
      "\r",
      " 71  796M   71  571M    0     0   640k      0  0:21:13  0:15:14  0:05:59  581k"
     ]
    },
    {
     "name": "stdout",
     "output_type": "stream",
     "text": [
      "\r",
      " 71  796M   71  572M    0     0   640k      0  0:21:13  0:15:15  0:05:58  556k"
     ]
    },
    {
     "name": "stdout",
     "output_type": "stream",
     "text": [
      "\r",
      " 71  796M   71  572M    0     0   640k      0  0:21:13  0:15:16  0:05:57  514k"
     ]
    },
    {
     "name": "stdout",
     "output_type": "stream",
     "text": [
      "\r",
      " 71  796M   71  573M    0     0   639k      0  0:21:14  0:15:17  0:05:57  524k"
     ]
    },
    {
     "name": "stdout",
     "output_type": "stream",
     "text": [
      "\r",
      " 72  796M   72  573M    0     0   639k      0  0:21:13  0:15:18  0:05:55  562k"
     ]
    },
    {
     "name": "stdout",
     "output_type": "stream",
     "text": [
      "\r",
      " 72  796M   72  574M    0     0   639k      0  0:21:14  0:15:19  0:05:55  571k"
     ]
    },
    {
     "name": "stdout",
     "output_type": "stream",
     "text": [
      "\r",
      " 72  796M   72  574M    0     0   639k      0  0:21:14  0:15:20  0:05:54  567k"
     ]
    },
    {
     "name": "stdout",
     "output_type": "stream",
     "text": [
      "\r",
      " 72  796M   72  575M    0     0   639k      0  0:21:14  0:15:21  0:05:53  596k"
     ]
    },
    {
     "name": "stdout",
     "output_type": "stream",
     "text": [
      "\r",
      " 72  796M   72  576M    0     0   640k      0  0:21:13  0:15:22  0:05:51  676k"
     ]
    },
    {
     "name": "stdout",
     "output_type": "stream",
     "text": [
      "\r",
      " 72  796M   72  577M    0     0   639k      0  0:21:13  0:15:23  0:05:50  642k"
     ]
    },
    {
     "name": "stdout",
     "output_type": "stream",
     "text": [
      "\r",
      " 72  796M   72  577M    0     0   639k      0  0:21:14  0:15:24  0:05:50  642k"
     ]
    },
    {
     "name": "stdout",
     "output_type": "stream",
     "text": [
      "\r",
      " 72  796M   72  578M    0     0   639k      0  0:21:14  0:15:25  0:05:49  668k"
     ]
    },
    {
     "name": "stdout",
     "output_type": "stream",
     "text": [
      "\r",
      " 72  796M   72  578M    0     0   639k      0  0:21:13  0:15:26  0:05:47  659k"
     ]
    },
    {
     "name": "stdout",
     "output_type": "stream",
     "text": [
      "\r",
      " 72  796M   72  579M    0     0   639k      0  0:21:14  0:15:27  0:05:47  589k"
     ]
    },
    {
     "name": "stdout",
     "output_type": "stream",
     "text": [
      "\r",
      " 72  796M   72  580M    0     0   639k      0  0:21:14  0:15:28  0:05:46  610k"
     ]
    },
    {
     "name": "stdout",
     "output_type": "stream",
     "text": [
      "\r",
      " 72  796M   72  580M    0     0   639k      0  0:21:14  0:15:29  0:05:45  637k"
     ]
    },
    {
     "name": "stdout",
     "output_type": "stream",
     "text": [
      "\r",
      " 73  796M   73  581M    0     0   639k      0  0:21:13  0:15:30  0:05:43  650k"
     ]
    },
    {
     "name": "stdout",
     "output_type": "stream",
     "text": [
      "\r",
      " 73  796M   73  582M    0     0   640k      0  0:21:13  0:15:31  0:05:42  650k"
     ]
    },
    {
     "name": "stdout",
     "output_type": "stream",
     "text": [
      "\r",
      " 73  796M   73  582M    0     0   639k      0  0:21:13  0:15:32  0:05:41  656k"
     ]
    },
    {
     "name": "stdout",
     "output_type": "stream",
     "text": [
      "\r",
      " 73  796M   73  583M    0     0   639k      0  0:21:14  0:15:33  0:05:41  662k"
     ]
    },
    {
     "name": "stdout",
     "output_type": "stream",
     "text": [
      "\r",
      " 73  796M   73  583M    0     0   640k      0  0:21:13  0:15:34  0:05:39  679k"
     ]
    },
    {
     "name": "stdout",
     "output_type": "stream",
     "text": [
      "\r",
      " 73  796M   73  584M    0     0   640k      0  0:21:13  0:15:35  0:05:38  670k"
     ]
    },
    {
     "name": "stdout",
     "output_type": "stream",
     "text": [
      "\r",
      " 73  796M   73  585M    0     0   640k      0  0:21:13  0:15:36  0:05:37  702k"
     ]
    },
    {
     "name": "stdout",
     "output_type": "stream",
     "text": [
      "\r",
      " 73  796M   73  586M    0     0   640k      0  0:21:12  0:15:37  0:05:35  772k"
     ]
    },
    {
     "name": "stdout",
     "output_type": "stream",
     "text": [
      "\r",
      " 73  796M   73  587M    0     0   641k      0  0:21:11  0:15:38  0:05:33  849k"
     ]
    },
    {
     "name": "stdout",
     "output_type": "stream",
     "text": [
      "\r",
      " 73  796M   73  588M    0     0   641k      0  0:21:11  0:15:39  0:05:32  897k"
     ]
    },
    {
     "name": "stdout",
     "output_type": "stream",
     "text": [
      "\r",
      " 73  796M   73  589M    0     0   641k      0  0:21:10  0:15:40  0:05:30  900k"
     ]
    },
    {
     "name": "stdout",
     "output_type": "stream",
     "text": [
      "\r",
      " 74  796M   74  589M    0     0   641k      0  0:21:11  0:15:41  0:05:30  807k"
     ]
    },
    {
     "name": "stdout",
     "output_type": "stream",
     "text": [
      "\r",
      " 74  796M   74  589M    0     0   640k      0  0:21:11  0:15:42  0:05:29  696k"
     ]
    },
    {
     "name": "stdout",
     "output_type": "stream",
     "text": [
      "\r",
      " 74  796M   74  590M    0     0   640k      0  0:21:12  0:15:43  0:05:29  577k"
     ]
    },
    {
     "name": "stdout",
     "output_type": "stream",
     "text": [
      "\r",
      " 74  796M   74  590M    0     0   640k      0  0:21:12  0:15:44  0:05:28  465k"
     ]
    },
    {
     "name": "stdout",
     "output_type": "stream",
     "text": [
      "\r",
      " 74  796M   74  591M    0     0   640k      0  0:21:13  0:15:45  0:05:28  427k"
     ]
    },
    {
     "name": "stdout",
     "output_type": "stream",
     "text": [
      "\r",
      " 74  796M   74  591M    0     0   640k      0  0:21:13  0:15:46  0:05:27  488k"
     ]
    },
    {
     "name": "stdout",
     "output_type": "stream",
     "text": [
      "\r",
      " 74  796M   74  592M    0     0   640k      0  0:21:13  0:15:47  0:05:26  508k"
     ]
    },
    {
     "name": "stdout",
     "output_type": "stream",
     "text": [
      "\r",
      " 74  796M   74  592M    0     0   640k      0  0:21:13  0:15:48  0:05:25  537k"
     ]
    },
    {
     "name": "stdout",
     "output_type": "stream",
     "text": [
      "\r",
      " 74  796M   74  593M    0     0   640k      0  0:21:13  0:15:49  0:05:24  550k"
     ]
    },
    {
     "name": "stdout",
     "output_type": "stream",
     "text": [
      "\r",
      " 74  796M   74  593M    0     0   639"
     ]
    },
    {
     "name": "stdout",
     "output_type": "stream",
     "text": [
      "k      0  0:21:14  0:15:50  0:05:24  544k"
     ]
    },
    {
     "name": "stdout",
     "output_type": "stream",
     "text": [
      "\r",
      " 74  796M   74  594M    0     0   639k      0  0:21:14  0:15:51  0:05:23  543k"
     ]
    },
    {
     "name": "stdout",
     "output_type": "stream",
     "text": [
      "\r",
      " 74  796M   74  595M    0     0   640k      0  0:21:13  0:15:52  0:05:21  614k"
     ]
    },
    {
     "name": "stdout",
     "output_type": "stream",
     "text": [
      "\r",
      " 74  796M   74  596M    0     0   640k      0  0:21:12  0:15:53  0:05:19  703k"
     ]
    },
    {
     "name": "stdout",
     "output_type": "stream",
     "text": [
      "\r",
      " 74  796M   74  597M    0     0   640k      0  0:21:12  0:15:54  0:05:18  770k"
     ]
    },
    {
     "name": "stdout",
     "output_type": "stream",
     "text": [
      "\r",
      " 75  796M   75  597M    0     0   640k      0  0:21:12  0:15:55  0:05:17  773k"
     ]
    },
    {
     "name": "stdout",
     "output_type": "stream",
     "text": [
      "\r",
      " 75  796M   75  598M    0     0   640k      0  0:21:12  0:15:56  0:05:16  776k"
     ]
    },
    {
     "name": "stdout",
     "output_type": "stream",
     "text": [
      "\r",
      " 75  796M   75  599M    0     0   640k      0  0:21:12  0:15:57  0:05:15  769k"
     ]
    },
    {
     "name": "stdout",
     "output_type": "stream",
     "text": [
      "\r",
      " 75  796M   75  599M    0     0   640k      0  0:21:12  0:15:58  0:05:14  720k"
     ]
    },
    {
     "name": "stdout",
     "output_type": "stream",
     "text": [
      "\r",
      " 75  796M   75  600M    0     0   641k      0  0:21:11  0:15:59  0:05:12  730k"
     ]
    },
    {
     "name": "stdout",
     "output_type": "stream",
     "text": [
      "\r",
      " 75  796M   75  601M    0     0   641k      0  0:21:11  0:16:00  0:05:11  785k"
     ]
    },
    {
     "name": "stdout",
     "output_type": "stream",
     "text": [
      "\r",
      " 75  796M   75  602M    0     0   641k      0  0:21:10  0:16:01  0:05:09  800k"
     ]
    },
    {
     "name": "stdout",
     "output_type": "stream",
     "text": [
      "\r",
      " 75  796M   75  602M    0     0   641k      0  0:21:10  0:16:02  0:05:08  778k"
     ]
    },
    {
     "name": "stdout",
     "output_type": "stream",
     "text": [
      "\r",
      " 75  796M   75  603M    0     0   641k      0  0:21:10  0:16:03  0:05:07  744k"
     ]
    },
    {
     "name": "stdout",
     "output_type": "stream",
     "text": [
      "\r",
      " 75  796M   75  604M    0     0   641k      0  0:21:10  0:16:04  0:05:06  696k"
     ]
    },
    {
     "name": "stdout",
     "output_type": "stream",
     "text": [
      "\r",
      " 75  796M   75  604M    0     0   641k      0  0:21:10  0:16:05  0:05:05  700k"
     ]
    },
    {
     "name": "stdout",
     "output_type": "stream",
     "text": [
      "\r",
      " 76  796M   76  605M    0     0   641k      0  0:21:10  0:16:06  0:05:04  722k"
     ]
    },
    {
     "name": "stdout",
     "output_type": "stream",
     "text": [
      "\r",
      " 76  796M   76  606M    0     0   642k      0  0:21:09  0:16:07  0:05:02  763k"
     ]
    },
    {
     "name": "stdout",
     "output_type": "stream",
     "text": [
      "\r",
      " 76  796M   76  607M    0     0   642k      0  0:21:08  0:16:08  0:05:00  843k"
     ]
    },
    {
     "name": "stdout",
     "output_type": "stream",
     "text": [
      "\r",
      " 76  796M   76  608M    0     0   643k      0  0:21:07  0:16:09  0:04:58  943k"
     ]
    },
    {
     "name": "stdout",
     "output_type": "stream",
     "text": [
      "\r",
      " 76  796M   76  609M    0     0   643k      0  0:21:07  0:16:10  0:04:57  958k"
     ]
    },
    {
     "name": "stdout",
     "output_type": "stream",
     "text": [
      "\r",
      " 76  796M   76  610M    0     0   643k      0  0:21:07  0:16:11  0:04:56  897k"
     ]
    },
    {
     "name": "stdout",
     "output_type": "stream",
     "text": [
      "\r",
      " 76  796M   76  610M    0     0   643k      0  0:21:07  0:16:12  0:04:55  833k"
     ]
    },
    {
     "name": "stdout",
     "output_type": "stream",
     "text": [
      "\r",
      " 76  796M   76  611M    0     0   643k      0  0:21:07  0:16:13  0:04:54  757k"
     ]
    },
    {
     "name": "stdout",
     "output_type": "stream",
     "text": [
      "\r",
      " 76  796M   76  611M    0     0   643k      0  0:21:07  0:16:14  0:04:53  658k"
     ]
    },
    {
     "name": "stdout",
     "output_type": "stream",
     "text": [
      "\r",
      " 76  796M   76  612M    0     0   643k      0  0:21:07  0:16:15  0:04:52  600k"
     ]
    },
    {
     "name": "stdout",
     "output_type": "stream",
     "text": [
      "\r",
      " 77  796M   77  613M    0     0   643k      0  0:21:07  0:16:16  0:04:51  629k"
     ]
    },
    {
     "name": "stdout",
     "output_type": "stream",
     "text": [
      "\r",
      " 77  796M   77  614M    0     0   643k      0  0:21:07  0:16:17  0:04:50  689k"
     ]
    },
    {
     "name": "stdout",
     "output_type": "stream",
     "text": [
      "\r",
      " 77  796M   77  615M    0     0   643k      0  0:21:06  0:16:18  0:04:48  770k"
     ]
    },
    {
     "name": "stdout",
     "output_type": "stream",
     "text": [
      "\r",
      " 77  796M   77  615M    0     0   644k      0  0:21:05  0:16:19  0:04:46  832k"
     ]
    },
    {
     "name": "stdout",
     "output_type": "stream",
     "text": [
      "\r",
      " 77  796M   77  616M    0     0   644k      0  0:21:05  0:16:20  0:04:45  923k"
     ]
    },
    {
     "name": "stdout",
     "output_type": "stream",
     "text": [
      "\r",
      " 77  796M   77  618M    0     0   645k      0  0:21:04  0:16:21  0:04:43 1009k"
     ]
    },
    {
     "name": "stdout",
     "output_type": "stream",
     "text": [
      "\r",
      " 77  796M   77  619M    0     0   645k      0  0:21:02  0:16:22  0:04:40 1099k"
     ]
    },
    {
     "name": "stdout",
     "output_type": "stream",
     "text": [
      "\r",
      " 77  796M   77  620M    0     0   646k      0  0:21:01  0:16:23  0:04:38 1153k"
     ]
    },
    {
     "name": "stdout",
     "output_type": "stream",
     "text": [
      "\r",
      " 78  796M   78  621M    0     0   646k      0  0:21:00  0:16:24  0:04:36 1169k"
     ]
    },
    {
     "name": "stdout",
     "output_type": "stream",
     "text": [
      "\r",
      " 78  796M   78  622M   "
     ]
    },
    {
     "name": "stdout",
     "output_type": "stream",
     "text": [
      " 0     0   647k      0  0:20:59  0:16:25  0:04:34 1168k"
     ]
    },
    {
     "name": "stdout",
     "output_type": "stream",
     "text": [
      "\r",
      " 78  796M   78  623M    0     0   647k      0  0:20:59  0:16:26  0:04:33 1104k"
     ]
    },
    {
     "name": "stdout",
     "output_type": "stream",
     "text": [
      "\r",
      " 78  796M   78  624M    0     0   647k      0  0:20:59  0:16:27  0:04:32  973k"
     ]
    },
    {
     "name": "stdout",
     "output_type": "stream",
     "text": [
      "\r",
      " 78  796M   78  624M    0     0   647k      0  0:20:59  0:16:28  0:04:31  839k"
     ]
    },
    {
     "name": "stdout",
     "output_type": "stream",
     "text": [
      "\r",
      " 78  796M   78  625M    0     0   647k      0  0:20:59  0:16:29  0:04:30  751k"
     ]
    },
    {
     "name": "stdout",
     "output_type": "stream",
     "text": [
      "\r",
      " 78  796M   78  625M    0     0   647k      0  0:21:00  0:16:30  0:04:30  626k"
     ]
    },
    {
     "name": "stdout",
     "output_type": "stream",
     "text": [
      "\r",
      " 78  796M   78  626M    0     0   646k      0  0:21:00  0:16:31  0:04:29  543k"
     ]
    },
    {
     "name": "stdout",
     "output_type": "stream",
     "text": [
      "\r",
      " 78  796M   78  626M    0     0   646k      0  0:21:00  0:16:32  0:04:28  517k"
     ]
    },
    {
     "name": "stdout",
     "output_type": "stream",
     "text": [
      "\r",
      " 78  796M   78  627M    0     0   646k      0  0:21:00  0:16:33  0:04:27  530k"
     ]
    },
    {
     "name": "stdout",
     "output_type": "stream",
     "text": [
      "\r",
      " 78  796M   78  628M    0     0   646k      0  0:21:00  0:16:34  0:04:26  551k"
     ]
    },
    {
     "name": "stdout",
     "output_type": "stream",
     "text": [
      "\r",
      " 78  796M   78  628M    0     0   646k      0  0:21:00  0:16:35  0:04:25  595k"
     ]
    },
    {
     "name": "stdout",
     "output_type": "stream",
     "text": [
      "\r",
      " 79  796M   79  629M    0     0   646k      0  0:21:00  0:16:36  0:04:24  653k"
     ]
    },
    {
     "name": "stdout",
     "output_type": "stream",
     "text": [
      "\r",
      " 79  796M   79  630M    0     0   647k      0  0:21:00  0:16:37  0:04:23  714k"
     ]
    },
    {
     "name": "stdout",
     "output_type": "stream",
     "text": [
      "\r",
      " 79  796M   79  631M    0     0   647k      0  0:20:59  0:16:38  0:04:21  776k"
     ]
    },
    {
     "name": "stdout",
     "output_type": "stream",
     "text": [
      "\r",
      " 79  796M   79  631M    0     0   647k      0  0:20:59  0:16:39  0:04:20  797k"
     ]
    },
    {
     "name": "stdout",
     "output_type": "stream",
     "text": [
      "\r",
      " 79  796M   79  632M    0     0   647k      0  0:20:59  0:16:40  0:04:19  771k"
     ]
    },
    {
     "name": "stdout",
     "output_type": "stream",
     "text": [
      "\r",
      " 79  796M   79  633M    0     0   647k      0  0:20:59  0:16:41  0:04:18  771k"
     ]
    },
    {
     "name": "stdout",
     "output_type": "stream",
     "text": [
      "\r",
      " 79  796M   79  633M    0     0   647k      0  0:20:58  0:16:42  0:04:16  771k"
     ]
    },
    {
     "name": "stdout",
     "output_type": "stream",
     "text": [
      "\r",
      " 79  796M   79  634M    0     0   647k      0  0:20:58  0:16:43  0:04:15  716k"
     ]
    },
    {
     "name": "stdout",
     "output_type": "stream",
     "text": [
      "\r",
      " 79  796M   79  635M    0     0   647k      0  0:20:58  0:16:44  0:04:14  689k"
     ]
    },
    {
     "name": "stdout",
     "output_type": "stream",
     "text": [
      "\r",
      " 79  796M   79  635M    0     0   647k      0  0:20:58  0:16:45  0:04:13  709k"
     ]
    },
    {
     "name": "stdout",
     "output_type": "stream",
     "text": [
      "\r",
      " 79  796M   79  636M    0     0   647k      0  0:20:58  0:16:46  0:04:12  710k"
     ]
    },
    {
     "name": "stdout",
     "output_type": "stream",
     "text": [
      "\r",
      " 80  796M   80  637M    0     0   647k      0  0:20:58  0:16:47  0:04:11  678k"
     ]
    },
    {
     "name": "stdout",
     "output_type": "stream",
     "text": [
      "\r",
      " 80  796M   80  638M    0     0   647k      0  0:20:58  0:16:48  0:04:10  692k"
     ]
    },
    {
     "name": "stdout",
     "output_type": "stream",
     "text": [
      "\r",
      " 80  796M   80  638M    0     0   648k      0  0:20:57  0:16:49  0:04:08  731k"
     ]
    },
    {
     "name": "stdout",
     "output_type": "stream",
     "text": [
      "\r",
      " 80  796M   80  639M    0     0   648k      0  0:20:57  0:16:50  0:04:07  743k"
     ]
    },
    {
     "name": "stdout",
     "output_type": "stream",
     "text": [
      "\r",
      " 80  796M   80  640M    0     0   648k      0  0:20:57  0:16:51  0:04:06  756k"
     ]
    },
    {
     "name": "stdout",
     "output_type": "stream",
     "text": [
      "\r",
      " 80  796M   80  641M    0     0   648k      0  0:20:57  0:16:52  0:04:05  780k"
     ]
    },
    {
     "name": "stdout",
     "output_type": "stream",
     "text": [
      "\r",
      " 80  796M   80  641M    0     0   648k      0  0:20:57  0:16:53  0:04:04  738k"
     ]
    },
    {
     "name": "stdout",
     "output_type": "stream",
     "text": [
      "\r",
      " 80  796M   80  642M    0     0   648k      0  0:20:57  0:16:54  0:04:03  684k"
     ]
    },
    {
     "name": "stdout",
     "output_type": "stream",
     "text": [
      "\r",
      " 80  796M   80  642M    0     0   648k      0  0:20:57  0:16:55  0:04:02  681k"
     ]
    },
    {
     "name": "stdout",
     "output_type": "stream",
     "text": [
      "\r",
      " 80  796M   80  643M    0     0   648k      0  0:20:57  0:16:56  0:04:01  691k"
     ]
    },
    {
     "name": "stdout",
     "output_type": "stream",
     "text": [
      "\r",
      " 80  796M   80  644M    0     0   648k      0  0:20:56  0:16:57  0:03:59  682k"
     ]
    },
    {
     "name": "stdout",
     "output_type": "stream",
     "text": [
      "\r",
      " 81  796M   81  645M    0     0   648k      0  0:20:56  0:16:58  0:03:58  740k"
     ]
    },
    {
     "name": "stdout",
     "output_type": "stream",
     "text": [
      "\r",
      " 81  796M   81  646M    0     0   649k      0  0:20:55  0:16:59  0:03:56  817k"
     ]
    },
    {
     "name": "stdout",
     "output_type": "stream",
     "text": [
      "\r",
      " 81  796M   81  646M    0     0   649k      0  0:20:55  0:17:00  0:03:55  832k"
     ]
    },
    {
     "name": "stdout",
     "output_type": "stream",
     "text": [
      "\r",
      " 81  796M   81  647M    0     0   649k      0  0:20:55  0:17:01  0:03:54  826k"
     ]
    },
    {
     "name": "stdout",
     "output_type": "stream",
     "text": [
      "\r",
      " 81  796M   81  648M    0     0   649k      0  0:20:54  0:17:02  0:03:52  861k"
     ]
    },
    {
     "name": "stdout",
     "output_type": "stream",
     "text": [
      "\r",
      " 81  796M   81  649M    0     0   649k      0  0:20:55  0:17:03  0:03:52  788k"
     ]
    },
    {
     "name": "stdout",
     "output_type": "stream",
     "text": [
      "\r",
      " 81  796M   81  649M    0     0   649k      0  0:20:55  0:17:04  0:03:51  702k"
     ]
    },
    {
     "name": "stdout",
     "output_type": "stream",
     "text": [
      "\r",
      " 81  796M   81  650M    0     0   649k      0  0:20:55  0:17:05  0:03:50  680k"
     ]
    },
    {
     "name": "stdout",
     "output_type": "stream",
     "text": [
      "\r",
      " 81  796M   81  650M    0     0   649k      0  0:20:55  0:17:06  0:03:49  648k"
     ]
    },
    {
     "name": "stdout",
     "output_type": "stream",
     "text": [
      "\r",
      " 81  796M   81  651M    0     0   649k      0  0:20:55  0:17:07  0:03:48  548k"
     ]
    },
    {
     "name": "stdout",
     "output_type": "stream",
     "text": [
      "\r",
      " 81  796M   81  651M    0     0   648k      0  0:20:56  0:17:08  0:03:48  500k"
     ]
    },
    {
     "name": "stdout",
     "output_type": "stream",
     "text": [
      "\r",
      " 81  796M   81  651M    0     0   648k      0  0:20:56  0:17:09  0:03:47  481k"
     ]
    },
    {
     "name": "stdout",
     "output_type": "stream",
     "text": [
      "\r",
      " 81  796M   81  652M    0     0   648k      0  0:20:57  0:17:10  0:03:47  471k"
     ]
    },
    {
     "name": "stdout",
     "output_type": "stream",
     "text": [
      "\r",
      " 82  796M   82  653M    0     0   648k      0  0:20:57  0:17:11  0:03:46  462k"
     ]
    },
    {
     "name": "stdout",
     "output_type": "stream",
     "text": [
      "\r",
      " 82  796M   82  653M    0     0   648k      0  0:20:57  0:17:12  0:03:45  482k"
     ]
    },
    {
     "name": "stdout",
     "output_type": "stream",
     "text": [
      "\r",
      " 82  796M   82  654M    0     0   648k      0  0:20:57  0:17:13  0:03:44  517k"
     ]
    },
    {
     "name": "stdout",
     "output_type": "stream",
     "text": [
      "\r",
      " 82  796M   82  654M    0     0   648k      0  0:20:57  0:17:14  0:03:43  542k"
     ]
    },
    {
     "name": "stdout",
     "output_type": "stream",
     "text": [
      "\r",
      " 82  796M   82  655M    0     0   648k      0  0:20:58  0:17:15  0:03:43  535k"
     ]
    },
    {
     "name": "stdout",
     "output_type": "stream",
     "text": [
      "\r",
      " 82  796M   82  655M    0     0   647k      0  0:20:58  0:17:16  0:03:42  510k"
     ]
    },
    {
     "name": "stdout",
     "output_type": "stream",
     "text": [
      "\r",
      " 82  796M   82  655M    0     0   647k      0  0:20:59  0:17:17  0:03:42  456k"
     ]
    },
    {
     "name": "stdout",
     "output_type": "stream",
     "text": [
      "\r",
      " 82  796M   82  656M    0     0   647k      0  0:20:59  0:17:18  0:03:41  427k"
     ]
    },
    {
     "name": "stdout",
     "output_type": "stream",
     "text": [
      "\r",
      " 82  796M   82  656M    0     0   646k      0  0:21:00  0:17:19  0:03:41  401k"
     ]
    },
    {
     "name": "stdout",
     "output_type": "stream",
     "text": [
      "\r",
      " 82  796M   82  657M    0     0   646k      0  0:21:00  0:17:20  0:03:40  376k"
     ]
    },
    {
     "name": "stdout",
     "output_type": "stream",
     "text": [
      "\r",
      " 82  796M   82  657M    0     0   646k      0  0:21:01  0:17:21  0:03:40  374k"
     ]
    },
    {
     "name": "stdout",
     "output_type": "stream",
     "text": [
      "\r",
      " 82  796M   82  658M    0     0   646k      0  0:21:01  0:17:22  0:03:39  436k"
     ]
    },
    {
     "name": "stdout",
     "output_type": "stream",
     "text": [
      "\r",
      " 82  796M   82  658M    0     0   646k      0  0:21:01  0:17:23  0:03:38  517k"
     ]
    },
    {
     "name": "stdout",
     "output_type": "stream",
     "text": [
      "\r",
      " 82  796M   82  659M    0     0   646k      0  0:21:01  0:17:24  0:03:37  558k"
     ]
    },
    {
     "name": "stdout",
     "output_type": "stream",
     "text": [
      "\r",
      " 82  796M   82  659M    0     0   646k      0  0:21:01  0:17:25  0:03:36  561k"
     ]
    },
    {
     "name": "stdout",
     "output_type": "stream",
     "text": [
      "\r",
      " 82  796M   82  660M    0     0   646k      0  0:21:01  0:17:26  0:03:35  566k"
     ]
    },
    {
     "name": "stdout",
     "output_type": "stream",
     "text": [
      "\r",
      " 82  796M   82  660M    0     0   645k      0  0:21:02  0:17:27  0:03:35  538k"
     ]
    },
    {
     "name": "stdout",
     "output_type": "stream",
     "text": [
      "\r",
      " 83  796M   83  661M    0     0   645k      0  0:21:02  0:17:28  0:03:34  490k"
     ]
    },
    {
     "name": "stdout",
     "output_type": "stream",
     "text": [
      "\r",
      " 83  796M   83  661M    0     0   645k      0  0:21:02  0:17:29  0:03:33  471k"
     ]
    },
    {
     "name": "stdout",
     "output_type": "stream",
     "text": [
      "\r",
      " 83  796M   83  662M    0     0   645k      0  0:21:02  0:17:30  0:03:32  484k"
     ]
    },
    {
     "name": "stdout",
     "output_type": "stream",
     "text": [
      "\r",
      " 83  796M   83  662M    0     0   645k      0  0:21:03  0:17:31  0:03:32  465k"
     ]
    },
    {
     "name": "stdout",
     "output_type": "stream",
     "text": [
      "\r",
      " 83  796M   83  662M    0     0   645k      0  0:21:03  0:17:32  0:03:31  476k"
     ]
    },
    {
     "name": "stdout",
     "output_type": "stream",
     "text": [
      "\r",
      " 83  796M   83  663M    0     0   645k      0  0:21:03  0:17:33  0:03:30  488k"
     ]
    },
    {
     "name": "stdout",
     "output_type": "stream",
     "text": [
      "\r",
      " 83  796M   83  663M    0     0   644k      0  0:21:04  0:17:34  0:03:30  478k"
     ]
    },
    {
     "name": "stdout",
     "output_type": "stream",
     "text": [
      "\r",
      " 83  796M   83  664M    0     0   644k      0  0:21:04  0:17:35  0:03:29  481k"
     ]
    },
    {
     "name": "stdout",
     "output_type": "stream",
     "text": [
      "\r",
      " 83  796M   83  665M    0     0   644k      0  0:21:04  0:17:36  0:03:28  520k"
     ]
    },
    {
     "name": "stdout",
     "output_type": "stream",
     "text": [
      "\r",
      " 83  796M   83  665M    0     0   644k      0  0:21:04  0:17:37  0:03:27  557k"
     ]
    },
    {
     "name": "stdout",
     "output_type": "stream",
     "text": [
      "\r",
      " 83  796M   83  666M    0     0   644k      0  0:21:04  0:17:38  0:03:26  558k"
     ]
    },
    {
     "name": "stdout",
     "output_type": "stream",
     "text": [
      "\r",
      " 83  796M   83  666M    0     0   644k      0  0:21:04  0:17:39  0:03:25  578k"
     ]
    },
    {
     "name": "stdout",
     "output_type": "stream",
     "text": [
      "\r",
      " 83  796M   83  667M    0     0   644k      0  0:21:04  0:17:40  0:03:24  623k"
     ]
    },
    {
     "name": "stdout",
     "output_type": "stream",
     "text": [
      "\r",
      " 83  796M   83  668M    0     0   644k      0  0:21:04  0:17:41  0:03:23  655k"
     ]
    },
    {
     "name": "stdout",
     "output_type": "stream",
     "text": [
      "\r",
      " 84  796M   84  668M    0     0   644k      0  0:21:04  0:17:42  0:03:22  664k"
     ]
    },
    {
     "name": "stdout",
     "output_type": "stream",
     "text": [
      "\r",
      " 84  796M   84  669M    0     0   644k      0  0:21:04  0:17:43  0:03:21  686k"
     ]
    },
    {
     "name": "stdout",
     "output_type": "stream",
     "text": [
      "\r",
      " 84  796M   84  670M    0     0   644k      0  0:21:04  0:17:44  0:03:20  664k"
     ]
    },
    {
     "name": "stdout",
     "output_type": "stream",
     "text": [
      "\r",
      " 84  796M   84  670M    0     0   644k      0  0:21:05  0:17:45  0:03:20  609k"
     ]
    },
    {
     "name": "stdout",
     "output_type": "stream",
     "text": [
      "\r",
      " 84  796M   84  671M    0     0   644k      0  0:21:05  0:17:46  0:03:19  584k"
     ]
    },
    {
     "name": "stdout",
     "output_type": "stream",
     "text": [
      "\r",
      " 84  796M   84  671M    0     0   644k      0  0:21:05  0:17:47  0:03:18  572k"
     ]
    },
    {
     "name": "stdout",
     "output_type": "stream",
     "text": [
      "\r",
      " 84  796M   84  672M    0     0   644k      0  0:21:05  0:17:48  0:03:17  552k"
     ]
    },
    {
     "name": "stdout",
     "output_type": "stream",
     "text": [
      "\r",
      " 84  796M   84  672M    0     0   644k      0  0:21:05  0:17:49  0:03:16  564k"
     ]
    },
    {
     "name": "stdout",
     "output_type": "stream",
     "text": [
      "\r",
      " 84  796M   84  673M    0     0   644k      0  0:21:05  0:17:50  0:03:15  598k"
     ]
    },
    {
     "name": "stdout",
     "output_type": "stream",
     "text": [
      "\r",
      " 84  796M   84  673M    0     0   644k      0  0:21:05  0:17:51  0:03:14  560k"
     ]
    },
    {
     "name": "stdout",
     "output_type": "stream",
     "text": [
      "\r",
      " 84  796M   84  674M    0     0   643k      0  0:21:06  0:17:52  0:03:14  512k"
     ]
    },
    {
     "name": "stdout",
     "output_type": "stream",
     "text": [
      "\r",
      " 84  796M   84  674M    0     0   643k      0  0:21:06  0:17:53  0:03:13  516k"
     ]
    },
    {
     "name": "stdout",
     "output_type": "stream",
     "text": [
      "\r",
      " 84  796M   84  675M    0     0   643k      0  0:21:06  0:17:54  0:03:12  520k"
     ]
    },
    {
     "name": "stdout",
     "output_type": "stream",
     "text": [
      "\r",
      " 84  796M   84  675M    0     0   643k      0  0:21:06  0:17:55  0:03:11  491k"
     ]
    },
    {
     "name": "stdout",
     "output_type": "stream",
     "text": [
      "\r",
      " 84  796M   84  676M    0     0   643k      0  0:21:06  0:17:56  0:03:10  522k"
     ]
    },
    {
     "name": "stdout",
     "output_type": "stream",
     "text": [
      "\r",
      " 85  796M   85  676M    0     0   643k      0  0:21:07  0:17:57  0:03:10  522k"
     ]
    },
    {
     "name": "stdout",
     "output_type": "stream",
     "text": [
      "\r",
      " 85  796M   85  677M    0     0   643k      0  0:21:07  0:17:58  0:03:09  494k"
     ]
    },
    {
     "name": "stdout",
     "output_type": "stream",
     "text": [
      "\r",
      " 85  796M   85  677M    0     0   643k      0  0:21:07  0:17:59  0:03:08  493k"
     ]
    },
    {
     "name": "stdout",
     "output_type": "stream",
     "text": [
      "\r",
      " 85  796M   85  678M    0     0   643k      0  0:21:07  0:18:00  0:03:07  522k"
     ]
    },
    {
     "name": "stdout",
     "output_type": "stream",
     "text": [
      "\r",
      " 85  796M   85  678M    0     0   642k      0  0:21:08  0:18:01  0:03:07  511k"
     ]
    },
    {
     "name": "stdout",
     "output_type": "stream",
     "text": [
      "\r",
      " 85  796M   85  679M    0     0   642k      0  0:21:08  0:18:02  0:03:06  553k"
     ]
    },
    {
     "name": "stdout",
     "output_type": "stream",
     "text": [
      "\r",
      " 85  796M   85  680M    0     0   643k      0  0:21:07  0:18:03  0:03:04  624k"
     ]
    },
    {
     "name": "stdout",
     "output_type": "stream",
     "text": [
      "\r",
      " 85  796M   85  680M    0     0   642k      0  0:21:08  0:18:04  0:03:04  634k"
     ]
    },
    {
     "name": "stdout",
     "output_type": "stream",
     "text": [
      "\r",
      " 85  796M   85  681M    0     0   642k      0  0:21:08  0:18:05  0:03:03  595k"
     ]
    },
    {
     "name": "stdout",
     "output_type": "stream",
     "text": [
      "\r",
      " 85  796M   85  681M    0     0   642k      0  0:21:08  0:18:06  0:03:02  613k"
     ]
    },
    {
     "name": "stdout",
     "output_type": "stream",
     "text": [
      "\r",
      " 85  796M   85  682M    0     0   642k      0  0:21:08  0:18:07  0:03:01  579k"
     ]
    },
    {
     "name": "stdout",
     "output_type": "stream",
     "text": [
      "\r",
      " 85  796M   85  682M    0     0   642k      0  0:21:09  0:18:08  0:03:01  509k"
     ]
    },
    {
     "name": "stdout",
     "output_type": "stream",
     "text": [
      "\r",
      " 85  796M   85  683M    0     0   642k      0  0:21:09  0:18:09  0:03:00  470k"
     ]
    },
    {
     "name": "stdout",
     "output_type": "stream",
     "text": [
      "\r",
      " 85  796M   85  683M    0     0   642k      0  0:21:09  0:18:10  0:02:59  485k"
     ]
    },
    {
     "name": "stdout",
     "output_type": "stream",
     "text": [
      "\r",
      " 85  796M   85  684M    0     0   642k      0  0:21:09  0:18:11  0:02:58  499k"
     ]
    },
    {
     "name": "stdout",
     "output_type": "stream",
     "text": [
      "\r",
      " 86  796M   86  684M    0     0   642k      0  0:21:09  0:18:12  0:02:57  545k"
     ]
    },
    {
     "name": "stdout",
     "output_type": "stream",
     "text": [
      "\r",
      " 86  796M   86  685M    0     0   642k      0  0:21:09  0:18:13  0:02:56  578k"
     ]
    },
    {
     "name": "stdout",
     "output_type": "stream",
     "text": [
      "\r",
      " 86  796M   86  686M    0     0   642k      0  0:21:09  0:18:14  0:02:55  639k"
     ]
    },
    {
     "name": "stdout",
     "output_type": "stream",
     "text": [
      "\r",
      " 86  796M   86  686M    0     0   642k      0  0:21:09  0:18:15  0:02:54  679k"
     ]
    },
    {
     "name": "stdout",
     "output_type": "stream",
     "text": [
      "\r",
      " 86  796M   86  687M    0     0   642k      0  0:21:09  0:18:16  0:02:53  678k"
     ]
    },
    {
     "name": "stdout",
     "output_type": "stream",
     "text": [
      "\r",
      " 86  796M   86  688M    0     0   642k      0  0:21:09  0:18:17  0:02:52  684k"
     ]
    },
    {
     "name": "stdout",
     "output_type": "stream",
     "text": [
      "\r",
      " 86  796M   86  689M    0     0   642k      0  0:21:08  0:18:18  0:02:50  747k"
     ]
    },
    {
     "name": "stdout",
     "output_type": "stream",
     "text": [
      "\r",
      " 86  796M   86  689M    0     0   642k      0  0:21:08  0:18:19  0:02:49  736k"
     ]
    },
    {
     "name": "stdout",
     "output_type": "stream",
     "text": [
      "\r",
      " 86  796M   86  690M    0     0   642k      0  0:21:09  0:18:20  0:02:49  692k"
     ]
    },
    {
     "name": "stdout",
     "output_type": "stream",
     "text": [
      "\r",
      " 86  796M   86  690M    0     0   642k      0  0:21:09  0:18:21  0:02:48  654k"
     ]
    },
    {
     "name": "stdout",
     "output_type": "stream",
     "text": [
      "\r",
      " 86  796M   86  691M    0     0   642k      0  0:21:09  0:18:22  0:02:47  635k"
     ]
    },
    {
     "name": "stdout",
     "output_type": "stream",
     "text": [
      "\r",
      " 86  796M   86  691M    0     0   642k      0  0:21:09  0:18:23  0:02:46  565k"
     ]
    },
    {
     "name": "stdout",
     "output_type": "stream",
     "text": [
      "\r",
      " 86  796M   86  692M    0     0   642k      0  0:21:09  0:18:24  0:02:45  538k"
     ]
    },
    {
     "name": "stdout",
     "output_type": "stream",
     "text": [
      "\r",
      " 87  796M   87  693M    0     0   642k      0  0:21:09  0:18:25  0:02:44  547k"
     ]
    },
    {
     "name": "stdout",
     "output_type": "stream",
     "text": [
      "\r",
      " 87  796M   87  693M    0     0   641k      0  0:21:10  0:18:26  0:02:44  532k"
     ]
    },
    {
     "name": "stdout",
     "output_type": "stream",
     "text": [
      "\r",
      " 87  796M   87  693M    0     0   641k      0  0:21:10  0:18:27  0:02:43  481k"
     ]
    },
    {
     "name": "stdout",
     "output_type": "stream",
     "text": [
      "\r",
      " 87  796M   87  694M    0     0   641k      0  0:21:11  0:18:28  0:02:43  458k"
     ]
    },
    {
     "name": "stdout",
     "output_type": "stream",
     "text": [
      "\r",
      " 87  796M   87  694M    0     0   641k      0  0:21:11  0:18:29  0:02:42  448k"
     ]
    },
    {
     "name": "stdout",
     "output_type": "stream",
     "text": [
      "\r",
      " 87  796M   87  695M    0     0   641k      0  0:21:11  0:18:30  0:02:41  461k"
     ]
    },
    {
     "name": "stdout",
     "output_type": "stream",
     "text": [
      "\r",
      " 87  796M   87  696M    0     0   641k      0  0:21:11  0:18:31  0:02:40  538k"
     ]
    },
    {
     "name": "stdout",
     "output_type": "stream",
     "text": [
      "\r",
      " 87  796M   87  696M    0     0   641k      0  0:21:10  0:18:32  0:02:38  650k"
     ]
    },
    {
     "name": "stdout",
     "output_type": "stream",
     "text": [
      "\r",
      " 87  796M   87  697M    0     0   641k      0  0:21:10  0:18:33  0:02:37  703k"
     ]
    },
    {
     "name": "stdout",
     "output_type": "stream",
     "text": [
      "\r",
      " 87  796M   87  698M    0     0   641k      0  0:21:10  0:18:34  0:02:36  711k"
     ]
    },
    {
     "name": "stdout",
     "output_type": "stream",
     "text": [
      "\r",
      " 87  796M   87  698M    0     0   641k      0  0:21:10  0:18:35  0:02:35  698k"
     ]
    },
    {
     "name": "stdout",
     "output_type": "stream",
     "text": [
      "\r",
      " 87  796M   87  699M    0     0   641k      0  0:21:11  0:18:36  0:02:35  659k"
     ]
    },
    {
     "name": "stdout",
     "output_type": "stream",
     "text": [
      "\r",
      " 87  796M   87  699M    0     0   641k      0  0:21:11  0:18:37  0:02:34  587k"
     ]
    },
    {
     "name": "stdout",
     "output_type": "stream",
     "text": [
      "\r",
      " 87  796M   87  700M    0     0   641k      0  0:21:11  0:18:38  0:02:33  585k"
     ]
    },
    {
     "name": "stdout",
     "output_type": "stream",
     "text": [
      "\r",
      " 88  796M   88  701M    0     0   641k      0  0:21:10  0:18:39  0:02:31  652k"
     ]
    },
    {
     "name": "stdout",
     "output_type": "stream",
     "text": [
      "\r",
      " 88  796M   88  702M    0     0   641k      0  0:21:10  0:18:40  0:02:30  710k"
     ]
    },
    {
     "name": "stdout",
     "output_type": "stream",
     "text": [
      "\r",
      " 88  796M   88  702M    0     0   641k      0  0:21:10  0:18:41  0:02:29  714k"
     ]
    },
    {
     "name": "stdout",
     "output_type": "stream",
     "text": [
      "\r",
      " 88  796M   88  703M    0     0   641k      0  0:21:10  0:18:42  0:02:28  751k"
     ]
    },
    {
     "name": "stdout",
     "output_type": "stream",
     "text": [
      "\r",
      " 88  796M   88  704M    0     0   641k      0  0:21:10  0:18:43  0:02:27  735k"
     ]
    },
    {
     "name": "stdout",
     "output_type": "stream",
     "text": [
      "\r",
      " 88  796M   88  704M    0     0   641k      0  0:21:10  0:18:44  0:02:26  687k"
     ]
    },
    {
     "name": "stdout",
     "output_type": "stream",
     "text": [
      "\r",
      " 88  796M   88  705M    0     0   641k      0  0:21:10  0:18:45  0:02:25  652k"
     ]
    },
    {
     "name": "stdout",
     "output_type": "stream",
     "text": [
      "\r",
      " 88  796M   88  705M    0     0   641k      0  0:21:10  0:18:46  0:02:24  666k"
     ]
    },
    {
     "name": "stdout",
     "output_type": "stream",
     "text": [
      "\r",
      " 88  796M   88  706M    0     0   641k      0  0:21:10  0:18:47  0:02:23  649k"
     ]
    },
    {
     "name": "stdout",
     "output_type": "stream",
     "text": [
      "\r",
      " 88  796M   88  707M    0     0   642k      0  0:21:09  0:18:48  0:02:21  675k"
     ]
    },
    {
     "name": "stdout",
     "output_type": "stream",
     "text": [
      "\r",
      " 88  796M   88  708M    0     0   642k      0  0:21:09  0:18:49  0:02:20  700k"
     ]
    },
    {
     "name": "stdout",
     "output_type": "stream",
     "text": [
      "\r",
      " 89  796M   89  708M    0     0   642k      0  0:21:09  0:18:50  0:02:19  694k"
     ]
    },
    {
     "name": "stdout",
     "output_type": "stream",
     "text": [
      "\r",
      " 89  796M   89  709M    0     0   641k      0  0:21:10  0:18:51  0:02:19  631k"
     ]
    },
    {
     "name": "stdout",
     "output_type": "stream",
     "text": [
      "\r",
      " 89  796M   89  709M    0     0   641k      0  0:21:10  0:18:52  0:02:18  573k"
     ]
    },
    {
     "name": "stdout",
     "output_type": "stream",
     "text": [
      "\r",
      " 89  796M   89  709M    0     0   641k      0  0:21:10  0:18:53  0:02:17  532k"
     ]
    },
    {
     "name": "stdout",
     "output_type": "stream",
     "text": [
      "\r",
      " 89  796M   89  710M    0     0   641k      0  0:21:11  0:18:54  0:02:17  496k"
     ]
    },
    {
     "name": "stdout",
     "output_type": "stream",
     "text": [
      "\r",
      " 89  796M   89  711M    0     0   641k      0  0:21:11  0:18:55  0:02:16  487k"
     ]
    },
    {
     "name": "stdout",
     "output_type": "stream",
     "text": [
      "\r",
      " 89  796M   89  711M    0     0   641k      0  0:21:11  0:18:56  0:02:15  539k"
     ]
    },
    {
     "name": "stdout",
     "output_type": "stream",
     "text": [
      "\r",
      " 89  796M   89  712M    0     0   641k      0  0:21:11  0:18:57  0:02:14  558k"
     ]
    },
    {
     "name": "stdout",
     "output_type": "stream",
     "text": [
      "\r",
      " 89  796M   89  712M    0     0   641k      0  0:21:11  0:18:58  0:02:13  528k"
     ]
    },
    {
     "name": "stdout",
     "output_type": "stream",
     "text": [
      "\r",
      " 89  796M   89  713M    0     0   640k      0  0:21:12  0:18:59  0:02:13  519k"
     ]
    },
    {
     "name": "stdout",
     "output_type": "stream",
     "text": [
      "\r",
      " 89  796M   89  713M    0     0   640k      0  0:21:12  0:19:00  0:02:12  526k"
     ]
    },
    {
     "name": "stdout",
     "output_type": "stream",
     "text": [
      "\r",
      " 89  796M   89  714M    0     0   640k      0  0:21:12  0:19:01  0:02:11  509k"
     ]
    },
    {
     "name": "stdout",
     "output_type": "stream",
     "text": [
      "\r",
      " 89  796M   89  714M    0     0   640k      0  0:21:12  0:19:02  0:02:10  519k"
     ]
    },
    {
     "name": "stdout",
     "output_type": "stream",
     "text": [
      "\r",
      " 89  796M   89  715M    0     0   640k      0  0:21:12  0:19:03  0:02:09  588k"
     ]
    },
    {
     "name": "stdout",
     "output_type": "stream",
     "text": [
      "\r",
      " 89  796M   89  716M    0     0   640k      0  0:21:12  0:19:04  0:02:08  629k"
     ]
    },
    {
     "name": "stdout",
     "output_type": "stream",
     "text": [
      "\r",
      " 90  796M   90  716M    0     0   640k      0  0:21:12  0:19:05  0:02:07  618k"
     ]
    },
    {
     "name": "stdout",
     "output_type": "stream",
     "text": [
      "\r",
      " 90  796M   90  717M    0     0   640k      0  0:21:12  0:19:06  0:02:06  638k"
     ]
    },
    {
     "name": "stdout",
     "output_type": "stream",
     "text": [
      "\r",
      " 90  796M   90  717M    0     0   640k      0  0:21:12  0:19:07  0:02:05  666k"
     ]
    },
    {
     "name": "stdout",
     "output_type": "stream",
     "text": [
      "\r",
      " 90  796M   90  718M    0     0   640k      0  0:21:11  0:19:08  0:02:03  682k"
     ]
    },
    {
     "name": "stdout",
     "output_type": "stream",
     "text": [
      "\r",
      " 90  796M   90  719M    0     0   641k      0  0:21:11  0:19:09  0:02:02  698k"
     ]
    },
    {
     "name": "stdout",
     "output_type": "stream",
     "text": [
      "\r",
      " 90  796M   90  720M    0     0   641k      0  0:21:11  0:19:10  0:02:01  756k"
     ]
    },
    {
     "name": "stdout",
     "output_type": "stream",
     "text": [
      "\r",
      " 90  796M   90  721M    0     0   641k      0  0:21:11  0:19:11  0:02:00  786k"
     ]
    },
    {
     "name": "stdout",
     "output_type": "stream",
     "text": [
      "\r",
      " 90  796M   90  722M    0     0   641k      0  0:21:10  0:19:12  0:01:58  824k"
     ]
    },
    {
     "name": "stdout",
     "output_type": "stream",
     "text": [
      "\r",
      " 90  796M   90  722M    0     0   641k      0  0:21:10  0:19:13  0:01:57  861k"
     ]
    },
    {
     "name": "stdout",
     "output_type": "stream",
     "text": [
      "\r",
      " 90  796M   90  723M    0     0   642k      0  0:21:09  0:19:14  0:01:55  874k"
     ]
    },
    {
     "name": "stdout",
     "output_type": "stream",
     "text": [
      "\r",
      " 91  796M   91  724M    0     0   642k      0  0:21:09  0:19:15  0:01:54  896k"
     ]
    },
    {
     "name": "stdout",
     "output_type": "stream",
     "text": [
      "\r",
      " 91  796M   91  725M    0     0   642k      0  0:21:09  0:19:16  0:01:53  884k"
     ]
    },
    {
     "name": "stdout",
     "output_type": "stream",
     "text": [
      "\r",
      " 91  796M   91  726M    0     0   642k      0  0:21:08  0:19:17  0:01:51  849k"
     ]
    },
    {
     "name": "stdout",
     "output_type": "stream",
     "text": [
      "\r",
      " 91  796M   91  727M    0     0   642k      0  0:21:08  0:19:18  0:01:50  824k"
     ]
    },
    {
     "name": "stdout",
     "output_type": "stream",
     "text": [
      "\r",
      " 91  796M   91  727M    0     0   642k      0  0:21:08  0:19:19  0:01:49  800k"
     ]
    },
    {
     "name": "stdout",
     "output_type": "stream",
     "text": [
      "\r",
      " 91  796M   91  728M    0     0   642k      0  0:21:08  0:19:20  0:01:48  742k"
     ]
    },
    {
     "name": "stdout",
     "output_type": "stream",
     "text": [
      "\r",
      " 91  796M   91  729M    0     0   642k      0  0:21:08  0:19:21  0:01:47  755k"
     ]
    },
    {
     "name": "stdout",
     "output_type": "stream",
     "text": [
      "\r",
      " 91  796M   91  730M    0     0   643k      0  0:21:07  0:19:22  0:01:45  812k"
     ]
    },
    {
     "name": "stdout",
     "output_type": "stream",
     "text": [
      "\r",
      " 91  796M   91  730M    0     0   643k      0  0:21:07  0:19:23  0:01:44  786k"
     ]
    },
    {
     "name": "stdout",
     "output_type": "stream",
     "text": [
      "\r",
      " 91  796M   91  731M    0     0   643k      0  0:21:07  0:19:24  0:01:43  785k"
     ]
    },
    {
     "name": "stdout",
     "output_type": "stream",
     "text": [
      "\r",
      " 91  796M   91  732M    0     0   643k      0  0:21:06  0:19:25  0:01:41  797k"
     ]
    },
    {
     "name": "stdout",
     "output_type": "stream",
     "text": [
      "\r",
      " 92  796M   92  733M    0     0   643k      0  0:21:06  0:19:26  0:01:40  801k"
     ]
    },
    {
     "name": "stdout",
     "output_type": "stream",
     "text": [
      "\r",
      " 92  796M   92  734M    0     0   643k      0  0:21:06  0:19:27  0:01:39  794k"
     ]
    },
    {
     "name": "stdout",
     "output_type": "stream",
     "text": [
      "\r",
      " 92  796M   92  734M    0     0   643k      0  0:21:06  0:19:28  0:01:38  794k"
     ]
    },
    {
     "name": "stdout",
     "output_type": "stream",
     "text": [
      "\r",
      " 92  796M   92  735M    0     0   644k      0  0:21:05  0:19:29  0:01:36  794k"
     ]
    },
    {
     "name": "stdout",
     "output_type": "stream",
     "text": [
      "\r",
      " 92  796M   92  736M    0     0   644k      0  0:21:05  0:19:30  0:01:35  811k"
     ]
    },
    {
     "name": "stdout",
     "output_type": "stream",
     "text": [
      "\r",
      " 92  796M   92  737M    0     0   644k      0  0:21:05  0:19:31  0:01:34  808k"
     ]
    },
    {
     "name": "stdout",
     "output_type": "stream",
     "text": [
      "\r",
      " 92  796M   92  737M    0     0   644k      0  0:21:05  0:19:32  0:01:33  747k"
     ]
    },
    {
     "name": "stdout",
     "output_type": "stream",
     "text": [
      "\r",
      " 92  796M   92  738M    0     0   644k      0  0:21:05  0:19:33  0:01:32  717k"
     ]
    },
    {
     "name": "stdout",
     "output_type": "stream",
     "text": [
      "\r",
      " 92  796M   92  738M    0     0   644k      0  0:21:05  0:19:34  0:01:31  724k"
     ]
    },
    {
     "name": "stdout",
     "output_type": "stream",
     "text": [
      "\r",
      " 92  796M   92  739M    0     0   644k      0  0:21:05  0:19:35  0:01:30  695k"
     ]
    },
    {
     "name": "stdout",
     "output_type": "stream",
     "text": [
      "\r",
      " 92  796M   92  740M    0     0   644k      0  0:21:04  0:19:36  0:01:28  698k"
     ]
    },
    {
     "name": "stdout",
     "output_type": "stream",
     "text": [
      "\r",
      " 93  796M   93  741M    0     0   644k      0  0:21:04  0:19:37  0:01:27  733k"
     ]
    },
    {
     "name": "stdout",
     "output_type": "stream",
     "text": [
      "\r",
      " 93  796M   93  742M    0     0   644k      0  0:21:04  0:19:38  0:01:26  791k"
     ]
    },
    {
     "name": "stdout",
     "output_type": "stream",
     "text": [
      "\r",
      " 93  796M   93  742M    0     0   645k      0  0:21:03  0:19:39  0:01:24  794k"
     ]
    },
    {
     "name": "stdout",
     "output_type": "stream",
     "text": [
      "\r",
      " 93  796M   93  743M    0     0   645k      0  0:21:03  0:19:40  0:01:23  839k"
     ]
    },
    {
     "name": "stdout",
     "output_type": "stream",
     "text": [
      "\r",
      " 93  796M   93  744M    0     0   645k      0  0:21:03  0:19:41  0:01:22  776k"
     ]
    },
    {
     "name": "stdout",
     "output_type": "stream",
     "text": [
      "\r",
      " 93  796M   93  744M    0     0   645k      0  0:21:04  0:19:42  0:01:22  712k"
     ]
    },
    {
     "name": "stdout",
     "output_type": "stream",
     "text": [
      "\r",
      " 93  796M   93  745M    0     0   645k      0  0:21:04  0:19:43  0:01:21  665k"
     ]
    },
    {
     "name": "stdout",
     "output_type": "stream",
     "text": [
      "\r",
      " 93  796M   93  746M    0     0   645k      0  0:21:03  0:19:44  0:01:19  675k"
     ]
    },
    {
     "name": "stdout",
     "output_type": "stream",
     "text": [
      "\r",
      " 93  796M   93  746M    0     0   645k      0  0:21:03  0:19:45  0:01:18  640k"
     ]
    },
    {
     "name": "stdout",
     "output_type": "stream",
     "text": [
      "\r",
      " 93  796M   93  747M    0     0   645k      0  0:21:03  0:19:46  0:01:17  659k"
     ]
    },
    {
     "name": "stdout",
     "output_type": "stream",
     "text": [
      "\r",
      " 93  796M   93  747M    0     0   645k      0  0:21:03  0:19:47  0:01:16  649k"
     ]
    },
    {
     "name": "stdout",
     "output_type": "stream",
     "text": [
      "\r",
      " 94  796M   94  748M    0     0   644k      0  0:21:04  0:19:48  0:01:16  636k"
     ]
    },
    {
     "name": "stdout",
     "output_type": "stream",
     "text": [
      "\r",
      " 94  796M   94  749M    0     0   645k      0  0:21:03  0:19:49  0:01:14  612k"
     ]
    },
    {
     "name": "stdout",
     "output_type": "stream",
     "text": [
      "\r",
      " 94  796M   94  749M    0     0   644k      0  0:21:04  0:19:50  0:01:14  584k"
     ]
    },
    {
     "name": "stdout",
     "output_type": "stream",
     "text": [
      "\r",
      " 94  796M   94  750M    0     0   644k      0  0:21:04  0:19:51  0:01:13  558k"
     ]
    },
    {
     "name": "stdout",
     "output_type": "stream",
     "text": [
      "\r",
      " 94  796M   94  750M    0     0   644k      0  0:21:04  0:19:52  0:01:12  561k"
     ]
    },
    {
     "name": "stdout",
     "output_type": "stream",
     "text": [
      "\r",
      " 94  796M   94  751M    0     0   644k      0  0:21:05  0:19:53  0:01:12  532k"
     ]
    },
    {
     "name": "stdout",
     "output_type": "stream",
     "text": [
      "\r",
      " 94  796M   94  751M    0     0   644k      0  0:21:05  0:19:54  0:01:11  473k"
     ]
    },
    {
     "name": "stdout",
     "output_type": "stream",
     "text": [
      "\r",
      " 94  796M   94  752M    0     0   644k      0  0:21:05  0:19:55  0:01:10  470k"
     ]
    },
    {
     "name": "stdout",
     "output_type": "stream",
     "text": [
      "\r",
      " 94  796M   94  752M    0     0   644k      0  0:21:05  0:19:56  0:01:09  476k"
     ]
    },
    {
     "name": "stdout",
     "output_type": "stream",
     "text": [
      "\r",
      " 94  796M   94  752M    0     0   643k      0  0:21:06  0:19:57  0:01:09  448k"
     ]
    },
    {
     "name": "stdout",
     "output_type": "stream",
     "text": [
      "\r",
      " 94  796M   94  753M    0     0   643k      0  0:21:06  0:19:58  0:01:08  445k"
     ]
    },
    {
     "name": "stdout",
     "output_type": "stream",
     "text": [
      "\r",
      " 94  796M   94  753M    0     0   643k      0  0:21:06  0:19:59  0:01:07  469k"
     ]
    },
    {
     "name": "stdout",
     "output_type": "stream",
     "text": [
      "\r",
      " 94  796M   94  754M    0     0   643k      0  0:21:06  0:20:00  0:01:06  501k"
     ]
    },
    {
     "name": "stdout",
     "output_type": "stream",
     "text": [
      "\r",
      " 94  796M   94  755M    0     0   643k      0  0:21:06  0:20:01  0:01:05  558k"
     ]
    },
    {
     "name": "stdout",
     "output_type": "stream",
     "text": [
      "\r",
      " 94  796M   94  755M    0     0   643k      0  0:21:06  0:20:02  0:01:04  614k"
     ]
    },
    {
     "name": "stdout",
     "output_type": "stream",
     "text": [
      "\r",
      " 95  796M   95  756M    0     0   643k      0  0:21:06  0:20:03  0:01:03  665k"
     ]
    },
    {
     "name": "stdout",
     "output_type": "stream",
     "text": [
      "\r",
      " 95  796M   95  756M    0     0   643k      0  0:21:06  0:20:04  0:01:02  659k"
     ]
    },
    {
     "name": "stdout",
     "output_type": "stream",
     "text": [
      "\r",
      " 95  796M   95  757M    0     0   643k      0  0:21:06  0:20:05  0:01:01  634k"
     ]
    },
    {
     "name": "stdout",
     "output_type": "stream",
     "text": [
      "\r",
      " 95  796M   95  758M    0     0   643k      0  0:21:06  0:20:06  0:01:00  626k"
     ]
    },
    {
     "name": "stdout",
     "output_type": "stream",
     "text": [
      "\r",
      " 95  796M   95  758M    0     0   643k      0  0:21:06  0:20:07  0:00:59  643k"
     ]
    },
    {
     "name": "stdout",
     "output_type": "stream",
     "text": [
      "\r",
      " 95  796M   95  759M    0     0   643k      0  0:21:06  0:20:08  0:00:58  646k"
     ]
    },
    {
     "name": "stdout",
     "output_type": "stream",
     "text": [
      "\r",
      " 95  796M   95  760M    0     0   643k      0  0:21:06  0:20:09  0:00:57  690k"
     ]
    },
    {
     "name": "stdout",
     "output_type": "stream",
     "text": [
      "\r",
      " 95  796M   95  761M    0     0   643k      0  0:21:06  0:20:10  0:00:56  723k"
     ]
    },
    {
     "name": "stdout",
     "output_type": "stream",
     "text": [
      "\r",
      " 95  796M   95  761M    0     0   643k      0  0:21:06  0:20:11  0:00:55  696k"
     ]
    },
    {
     "name": "stdout",
     "output_type": "stream",
     "text": [
      "\r",
      " 95  796M   95  762M    0     0   643k      0  0:21:06  0:20:12  0:00:54  642k"
     ]
    },
    {
     "name": "stdout",
     "output_type": "stream",
     "text": [
      "\r",
      " 95  796M   95  762M    0     0   643k      0  0:21:06  0:20:13  0:00:53  607k"
     ]
    },
    {
     "name": "stdout",
     "output_type": "stream",
     "text": [
      "\r",
      " 95  796M   95  763M    0     0   643k      0  0:21:06  0:20:14  0:00:52  585k"
     ]
    },
    {
     "name": "stdout",
     "output_type": "stream",
     "text": [
      "\r",
      " 95  796M   95  763M    0     0   643k      0  0:21:06  0:20:15  0:00:51  556k"
     ]
    },
    {
     "name": "stdout",
     "output_type": "stream",
     "text": [
      "\r",
      " 96  796M   96  764M    0     0   643k      0  0:21:06  0:20:16  0:00:50  584k"
     ]
    },
    {
     "name": "stdout",
     "output_type": "stream",
     "text": [
      "\r",
      " 96  796M   96  765M    0     0   643k      0  0:21:06  0:20:17  0:00:49  684k"
     ]
    },
    {
     "name": "stdout",
     "output_type": "stream",
     "text": [
      "\r",
      " 96  796M   96  766M    0     0   643k      0  0:21:06  0:20:18  0:00:48  709k"
     ]
    },
    {
     "name": "stdout",
     "output_type": "stream",
     "text": [
      "\r",
      " 96  796M   96  766M    0     0   643k      0  0:21:06  0:20:19  0:00:47  719k"
     ]
    },
    {
     "name": "stdout",
     "output_type": "stream",
     "text": [
      "\r",
      " 96  796M   96  767M    0     0   644k      0  0:21:05  0:20:20  0:00:45  748k"
     ]
    },
    {
     "name": "stdout",
     "output_type": "stream",
     "text": [
      "\r",
      " 96  796M   96  768M    0     0   644k      0  0:21:05  0:20:21  0:00:44  731k"
     ]
    },
    {
     "name": "stdout",
     "output_type": "stream",
     "text": [
      "\r",
      " 96  796M   96  768M    0     0   644k      0  0:21:05  0:20:22  0:00:43  686k"
     ]
    },
    {
     "name": "stdout",
     "output_type": "stream",
     "text": [
      "\r",
      " 96  796M   96  769M    0     0   644k      0  0:21:05  0:20:23  0:00:42  698k"
     ]
    },
    {
     "name": "stdout",
     "output_type": "stream",
     "text": [
      "\r",
      " 96  796M   96  770M    0     0   644k      0  0:21:05  0:20:24  0:00:41  673k"
     ]
    },
    {
     "name": "stdout",
     "output_type": "stream",
     "text": [
      "\r",
      " 96  796M   96  770M    0     0   643k      0  0:21:06  0:20:25  0:00:41  624k"
     ]
    },
    {
     "name": "stdout",
     "output_type": "stream",
     "text": [
      "\r",
      " 96  796M   96  771M    0     0   643k      0  0:21:06  0:20:26  0:00:40  596k"
     ]
    },
    {
     "name": "stdout",
     "output_type": "stream",
     "text": [
      "\r",
      " 96  796M   96  771M    0     0   643k      0  0:21:06  0:20:27  0:00:39  552k"
     ]
    },
    {
     "name": "stdout",
     "output_type": "stream",
     "text": [
      "\r",
      " 96  796M   96  772M    0     0   643k      0  0:21:06  0:20:28  0:00:38  532k"
     ]
    },
    {
     "name": "stdout",
     "output_type": "stream",
     "text": [
      "\r",
      " 97  796M   97  772M    0     0   643k      0  0:21:06  0:20:29  0:00:37  526k"
     ]
    },
    {
     "name": "stdout",
     "output_type": "stream",
     "text": [
      "\r",
      " 97  796M   97  773M    0     0   643k      0  0:21:07  0:20:30  0:00:37  507k"
     ]
    },
    {
     "name": "stdout",
     "output_type": "stream",
     "text": [
      "\r",
      " 97  796M   97  773M    0     0   643k      0  0:21:07  0:20:31  0:00:36  502k"
     ]
    },
    {
     "name": "stdout",
     "output_type": "stream",
     "text": [
      "\r",
      " 97  796M   97  773M    0     0   643k      0  0:21:07  0:20:32  0:00:35  484k"
     ]
    },
    {
     "name": "stdout",
     "output_type": "stream",
     "text": [
      "\r",
      " 97  796M   97  774M    0     0   642k      0  0:21:08  0:20:33  0:00:35  465k"
     ]
    },
    {
     "name": "stdout",
     "output_type": "stream",
     "text": [
      "\r",
      " 97  796M   97  774M    0     0   642k      0  0:21:08  0:20:34  0:00:34  475k"
     ]
    },
    {
     "name": "stdout",
     "output_type": "stream",
     "text": [
      "\r",
      " 97  796M   97  775M    0     0   642k      0  0:21:08  0:20:35  0:00:33  513k"
     ]
    },
    {
     "name": "stdout",
     "output_type": "stream",
     "text": [
      "\r",
      " 97  796M   97  776M    0     0   642k      0  0:21:08  0:20:36  0:00:32  566k"
     ]
    },
    {
     "name": "stdout",
     "output_type": "stream",
     "text": [
      "\r",
      " 97  796M   97  776M    0     0   642k      0  0:21:08  0:20:37  0:00:31  594k"
     ]
    },
    {
     "name": "stdout",
     "output_type": "stream",
     "text": [
      "\r",
      " 97  796M   97  777M    0     0   642k      0  0:21:08  0:20:38  0:00:30  614k"
     ]
    },
    {
     "name": "stdout",
     "output_type": "stream",
     "text": [
      "\r",
      " 97  796M   97  777M    0     0   642k      0  0:21:08  0:20:39  0:00:29  630k"
     ]
    },
    {
     "name": "stdout",
     "output_type": "stream",
     "text": [
      "\r",
      " 97  796M   97  778M    0     0   642k      0  0:21:08  0:20:40  0:00:28  601k"
     ]
    },
    {
     "name": "stdout",
     "output_type": "stream",
     "text": [
      "\r",
      " 97  796M   97  778M    0     0   642k      0  0:21:08  0:20:41  0:00:27  544k"
     ]
    },
    {
     "name": "stdout",
     "output_type": "stream",
     "text": [
      "\r",
      " 97  796M   97  779M    0     0   642k      0  0:21:08  0:20:42  0:00:26  570k"
     ]
    },
    {
     "name": "stdout",
     "output_type": "stream",
     "text": [
      "\r",
      " 97  796M   97  780M    0     0   642k      0  0:21:08  0:20:43  0:00:25  578k"
     ]
    },
    {
     "name": "stdout",
     "output_type": "stream",
     "text": [
      "\r",
      " 98  796M   98  780M    0     0   642k      0  0:21:08  0:20:44  0:00:24  594k"
     ]
    },
    {
     "name": "stdout",
     "output_type": "stream",
     "text": [
      "\r",
      " 98  796M   98  781M    0     0   642k      0  0:21:08  0:20:45  0:00:23  665k"
     ]
    },
    {
     "name": "stdout",
     "output_type": "stream",
     "text": [
      "\r",
      " 98  796M   98  782M    0     0   642k      0  0:21:08  0:20:46  0:00:22  728k"
     ]
    },
    {
     "name": "stdout",
     "output_type": "stream",
     "text": [
      "\r",
      " 98  796M   98  783M    0     0   643k      0  0:21:07  0:20:47  0:00:20  782k"
     ]
    },
    {
     "name": "stdout",
     "output_type": "stream",
     "text": [
      "\r",
      " 98  796M   98  784M    0     0   643k      0  0:21:07  0:20:48  0:00:19  798k"
     ]
    },
    {
     "name": "stdout",
     "output_type": "stream",
     "text": [
      "\r",
      " 98  796M   98  784M    0     0   643k      0  0:21:07  0:20:49  0:00:18  831k"
     ]
    },
    {
     "name": "stdout",
     "output_type": "stream",
     "text": [
      "\r",
      " 98  796M   98  785M    0     0   643k      0  0:21:06  0:20:50  0:00:16  874k"
     ]
    },
    {
     "name": "stdout",
     "output_type": "stream",
     "text": [
      "\r",
      " 98  796M   98  786M    0     0   643k      0  0:21:06  0:20:51  0:00:15  889k"
     ]
    },
    {
     "name": "stdout",
     "output_type": "stream",
     "text": [
      "\r",
      " 98  796M   98  787M    0     0   644k      0  0:21:05  0:20:52  0:00:13  901k"
     ]
    },
    {
     "name": "stdout",
     "output_type": "stream",
     "text": [
      "\r",
      " 99  796M   99  788M    0     0   644k      0  0:21:05  0:20:53  0:00:12  918k"
     ]
    },
    {
     "name": "stdout",
     "output_type": "stream",
     "text": [
      "\r",
      " 99  796M   99  789M    0     0   644k      0  0:21:05  0:20:54  0:00:11  879k"
     ]
    },
    {
     "name": "stdout",
     "output_type": "stream",
     "text": [
      "\r",
      " 99  796M   99  789M    0     0   644k      0  0:21:05  0:20:55  0:00:10  799k"
     ]
    },
    {
     "name": "stdout",
     "output_type": "stream",
     "text": [
      "\r",
      " 99  796M   99  790M    0     0   644k      0  0:21:05  0:20:56  0:00:09  724k"
     ]
    },
    {
     "name": "stdout",
     "output_type": "stream",
     "text": [
      "\r",
      " 99  796M   99  790M    0     0   644k      0  0:21:05  0:20:57  0:00:08  628k"
     ]
    },
    {
     "name": "stdout",
     "output_type": "stream",
     "text": [
      "\r",
      " 99  796M   99  791M    0     0   644k      0  0:21:05  0:20:58  0:00:07  578k"
     ]
    },
    {
     "name": "stdout",
     "output_type": "stream",
     "text": [
      "\r",
      " 99  796M   99  791M    0     0   643k      0  0:21:06  0:20:59  0:00:07  539k"
     ]
    },
    {
     "name": "stdout",
     "output_type": "stream",
     "text": [
      "\r",
      " 99  796M   99  792M    0     0   643k      0  0:21:06  0:21:00  0:00:06  504k"
     ]
    },
    {
     "name": "stdout",
     "output_type": "stream",
     "text": [
      "\r",
      " 99  796M   99  792M    0     0   643k      0  0:21:06  0:21:01  0:00:05  521k"
     ]
    },
    {
     "name": "stdout",
     "output_type": "stream",
     "text": [
      "\r",
      " 99  796M   99  793M    0     0   643k      0  0:21:06  0:21:02  0:00:04  540k"
     ]
    },
    {
     "name": "stdout",
     "output_type": "stream",
     "text": [
      "\r",
      " 99  796M   99  794M    0     0   643k      0  0:21:06  0:21:03  0:00:03  560k"
     ]
    },
    {
     "name": "stdout",
     "output_type": "stream",
     "text": [
      "\r",
      " 99  796M   99  794M    0     0   643k      0  0:21:06  0:21:04  0:00:02  598k"
     ]
    },
    {
     "name": "stdout",
     "output_type": "stream",
     "text": [
      "\r",
      " 99  796M   99  795M    0     0   643k      0  0:21:06  0:21:05  0:00:01  659k"
     ]
    },
    {
     "name": "stdout",
     "output_type": "stream",
     "text": [
      "\r",
      "100  796M  100  796M    0     0   644k      0  0:21:05  0:21:05 --:--:--  722k\r\n"
     ]
    }
   ],
   "source": [
    "!curl -O https://archive.stsci.edu/hlsps/reference-atlases/hlsp_reference-atlases_hst_multi_everything_multi_v11_sed.tar"
   ]
  },
  {
   "cell_type": "markdown",
   "metadata": {},
   "source": [
    "Once the downloaded is complete, extract the file and set the environment variable `PYSYN_CDBS` to the path of the `trds` subdirectory.  The next cell will do this for you, as long as the `.tar` file downloaded above has not been moved."
   ]
  },
  {
   "cell_type": "code",
   "execution_count": 3,
   "metadata": {
    "execution": {
     "iopub.execute_input": "2025-10-07T11:52:47.959054Z",
     "iopub.status.busy": "2025-10-07T11:52:47.958843Z",
     "iopub.status.idle": "2025-10-07T11:52:52.271162Z",
     "shell.execute_reply": "2025-10-07T11:52:52.270696Z"
    }
   },
   "outputs": [],
   "source": [
    "tar_archive = 'hlsp_reference-atlases_hst_multi_everything_multi_v11_sed.tar'\n",
    "extract_to = 'hlsp_reference-atlases_hst_multi_everything_multi_v11_sed'\n",
    "with tarfile.open(tar_archive, 'r') as tar:\n",
    "    tar.extractall(path=extract_to, filter='data')\n",
    "\n",
    "os.environ['PYSYN_CDBS'] = 'hlsp_reference-atlases_hst_multi_everything_multi_v11_sed/grp/redcat/trds/'"
   ]
  },
  {
   "cell_type": "markdown",
   "metadata": {},
   "source": [
    "Now, after having set up `PYSYN_CDBS`, we import stsynphot. A warning regarding the Vega spectrum is expected here."
   ]
  },
  {
   "cell_type": "code",
   "execution_count": 4,
   "metadata": {
    "execution": {
     "iopub.execute_input": "2025-10-07T11:52:52.272998Z",
     "iopub.status.busy": "2025-10-07T11:52:52.272796Z",
     "iopub.status.idle": "2025-10-07T11:52:52.314844Z",
     "shell.execute_reply": "2025-10-07T11:52:52.314387Z"
    }
   },
   "outputs": [
    {
     "name": "stderr",
     "output_type": "stream",
     "text": [
      "WARNING: Failed to load Vega spectrum from hlsp_reference-atlases_hst_multi_everything_multi_v11_sed/grp/redcat/trds//calspec/alpha_lyr_stis_011.fits; Functionality involving Vega will be severely limited: FileNotFoundError(2, 'No such file or directory') [stsynphot.spectrum]\n"
     ]
    }
   ],
   "source": [
    "import stsynphot as stsyn"
   ]
  },
  {
   "cell_type": "markdown",
   "metadata": {},
   "source": [
    "Rather than downloading the entire calspec database (synphot6.tar.gz), we can point directly to the latest Vega spectrum which is required for computing VEGAMAG."
   ]
  },
  {
   "cell_type": "code",
   "execution_count": 5,
   "metadata": {
    "execution": {
     "iopub.execute_input": "2025-10-07T11:52:52.316481Z",
     "iopub.status.busy": "2025-10-07T11:52:52.316322Z",
     "iopub.status.idle": "2025-10-07T11:52:52.336944Z",
     "shell.execute_reply": "2025-10-07T11:52:52.336387Z"
    }
   },
   "outputs": [],
   "source": [
    "vega_url = 'https://ssb.stsci.edu/trds/calspec/alpha_lyr_stis_010.fits'\n",
    "stsyn.Vega = stsyn.spectrum.SourceSpectrum.from_file(vega_url)"
   ]
  },
  {
   "cell_type": "markdown",
   "metadata": {},
   "source": [
    "<a class=\"anchor\" id=\"inps\"></a>\n",
    "## 3. Set up the 'obsmode' string"
   ]
  },
  {
   "cell_type": "markdown",
   "metadata": {},
   "source": [
    "Parameters to set in the `obsmode` string include: \n",
    "1. detector,\n",
    "2. filter,\n",
    "3. observation date (WFC3/UVIS only), and \n",
    "4. aperture size (in arcsec).  \n",
    "\n",
    "Note that a 6.0\" aperture is considered to be \"infinite\", thus containing all of the flux. The zeropoints posted on the WFC3 website are calculated for an infinite aperture, so when computing photometry for smaller radii, aperture corrections must be applied.\n",
    "\n",
    "The inputs below can be changed to any desired `obsmode`, with examples of alternate parameters shown as commented lines.\n",
    "\n",
    "First, here are some detector examples with WFC3/UVIS1 as the default, and other options including both WFC3/UVIS chips or the WFC3/IR detector. \n",
    "\n",
    "**Note: if the IR detector is chosen, the filtnames below must be updated.**"
   ]
  },
  {
   "cell_type": "code",
   "execution_count": 6,
   "metadata": {
    "execution": {
     "iopub.execute_input": "2025-10-07T11:52:52.338666Z",
     "iopub.status.busy": "2025-10-07T11:52:52.338496Z",
     "iopub.status.idle": "2025-10-07T11:52:52.340848Z",
     "shell.execute_reply": "2025-10-07T11:52:52.340428Z"
    }
   },
   "outputs": [],
   "source": [
    "detectors = ['uvis1']\n",
    "# detectors = ['uvis1', 'uvis2']\n",
    "# detectors = ['ir']"
   ]
  },
  {
   "cell_type": "markdown",
   "metadata": {},
   "source": [
    "Next, here are some filter examples with all WFC3/UVIS filters as the default, and other options including just F606W and the WFC3/IR filters. \n",
    "\n",
    "**Note: if WFC3/IR filters is chosen, the detectors above must be set to ['ir'].**"
   ]
  },
  {
   "cell_type": "code",
   "execution_count": 7,
   "metadata": {
    "execution": {
     "iopub.execute_input": "2025-10-07T11:52:52.342327Z",
     "iopub.status.busy": "2025-10-07T11:52:52.342152Z",
     "iopub.status.idle": "2025-10-07T11:52:52.345310Z",
     "shell.execute_reply": "2025-10-07T11:52:52.344864Z"
    }
   },
   "outputs": [],
   "source": [
    "filtnames = ['f200lp', 'f218w', 'f225w', 'f275w', 'f280n', 'f300x', 'f336w', 'f343n', 'f350lp', \n",
    "             'f373n', 'f390m', 'f390w', 'f395n', 'f410m', 'f438w', 'f467m', 'f469n', 'f475w', \n",
    "             'f475x', 'f487n', 'f502n', 'f547m', 'f555w', 'f600lp', 'f606w', 'f621m', 'f625w', \n",
    "             'f631n', 'f645n', 'f656n', 'f657n', 'f658n', 'f665n', 'f673n', 'f680n', 'f689m', \n",
    "             'f763m', 'f775w', 'f814w', 'f845m', 'f850lp', 'f953n']\n",
    "# filtnames = ['f606w']   \n",
    "# filtnames = ['f098m', 'f105w', 'f110w', 'f125w', 'f126n', 'f127m', 'f128n', 'f130n', \n",
    "#              'f132n', 'f139m', 'f140w', 'f153m', 'f160w', 'f164n', 'f167n']"
   ]
  },
  {
   "cell_type": "markdown",
   "metadata": {},
   "source": [
    "Now, here are some date examples with the WFC3/UVIS reference epoch (55008 in MJD;\n",
    "2009-06-26) as the default, and the other option being the time right now."
   ]
  },
  {
   "cell_type": "code",
   "execution_count": 8,
   "metadata": {
    "execution": {
     "iopub.execute_input": "2025-10-07T11:52:52.346769Z",
     "iopub.status.busy": "2025-10-07T11:52:52.346610Z",
     "iopub.status.idle": "2025-10-07T11:52:52.348770Z",
     "shell.execute_reply": "2025-10-07T11:52:52.348371Z"
    }
   },
   "outputs": [],
   "source": [
    "mjd = '55008'\n",
    "# mjd = str(Time.now().mjd)"
   ]
  },
  {
   "cell_type": "markdown",
   "metadata": {},
   "source": [
    "Finally, here are some aperture radius examples with 6.0\" (151 pixels; \"infinity\") as the default, and the other options including 0.396\" (10 pixels for WFC3/UVIS) and 0.385\" (3 pixels for WFC3/IR)."
   ]
  },
  {
   "cell_type": "code",
   "execution_count": 9,
   "metadata": {
    "execution": {
     "iopub.execute_input": "2025-10-07T11:52:52.350259Z",
     "iopub.status.busy": "2025-10-07T11:52:52.350100Z",
     "iopub.status.idle": "2025-10-07T11:52:52.352292Z",
     "shell.execute_reply": "2025-10-07T11:52:52.351819Z"
    }
   },
   "outputs": [],
   "source": [
    "aper = '6.0'\n",
    "# aper = '0.396'\n",
    "# aper = '0.385'"
   ]
  },
  {
   "cell_type": "markdown",
   "metadata": {},
   "source": [
    "<a class=\"anchor\" id=\"usage\"></a>\n",
    "## 4. Basic usage for a single 'obsmode'"
   ]
  },
  {
   "cell_type": "markdown",
   "metadata": {},
   "source": [
    "The calculation of the zeropoints starts with creating a specific bandpass object.  Bandpasses generally consist of at least an instrument name, detector name, and filter name, though other parameters (such as the MJD and aperture radius shown above) are optional.\n",
    "\n",
    "The cell below defines `obsmode` and creates a bandpass object."
   ]
  },
  {
   "cell_type": "code",
   "execution_count": 10,
   "metadata": {
    "execution": {
     "iopub.execute_input": "2025-10-07T11:52:52.353781Z",
     "iopub.status.busy": "2025-10-07T11:52:52.353642Z",
     "iopub.status.idle": "2025-10-07T11:52:52.614936Z",
     "shell.execute_reply": "2025-10-07T11:52:52.614399Z"
    }
   },
   "outputs": [],
   "source": [
    "obsmode = 'wfc3,uvis1,f200lp'\n",
    "bp = stsyn.band(obsmode)"
   ]
  },
  {
   "cell_type": "markdown",
   "metadata": {},
   "source": [
    "Optional parameters are supplied on the end of the basic bandpass:"
   ]
  },
  {
   "cell_type": "code",
   "execution_count": 11,
   "metadata": {
    "execution": {
     "iopub.execute_input": "2025-10-07T11:52:52.616992Z",
     "iopub.status.busy": "2025-10-07T11:52:52.616776Z",
     "iopub.status.idle": "2025-10-07T11:52:52.663395Z",
     "shell.execute_reply": "2025-10-07T11:52:52.662767Z"
    }
   },
   "outputs": [],
   "source": [
    "obsmode = 'wfc3,uvis1,f200lp,mjd#55008,aper#6.0'\n",
    "bp = stsyn.band(obsmode)"
   ]
  },
  {
   "cell_type": "markdown",
   "metadata": {},
   "source": [
    "In addition, we can use the parameters defined in [Section 3](#inps)."
   ]
  },
  {
   "cell_type": "code",
   "execution_count": 12,
   "metadata": {
    "execution": {
     "iopub.execute_input": "2025-10-07T11:52:52.665297Z",
     "iopub.status.busy": "2025-10-07T11:52:52.665134Z",
     "iopub.status.idle": "2025-10-07T11:52:52.689465Z",
     "shell.execute_reply": "2025-10-07T11:52:52.689056Z"
    }
   },
   "outputs": [],
   "source": [
    "obsmode = f'wfc3, {detectors[0]}, {filtnames[0]}, mjd#{mjd}, aper#{aper}'\n",
    "bp = stsyn.band(obsmode)"
   ]
  },
  {
   "cell_type": "markdown",
   "metadata": {},
   "source": [
    " <a class=\"anchor\" id=\"zps\"></a>\n",
    "## 5. Compute zeropoints and other photometric properties"
   ]
  },
  {
   "cell_type": "markdown",
   "metadata": {},
   "source": [
    "With the bandpass objects, we can now calculate zeropoints, pivot wavelengths, and photometric bandwidths.  To calculate Vegamag zeropoints, we use the Vega spectrum to calculate the flux in a given bandpass."
   ]
  },
  {
   "cell_type": "code",
   "execution_count": 13,
   "metadata": {
    "execution": {
     "iopub.execute_input": "2025-10-07T11:52:52.691145Z",
     "iopub.status.busy": "2025-10-07T11:52:52.690978Z",
     "iopub.status.idle": "2025-10-07T11:52:52.694872Z",
     "shell.execute_reply": "2025-10-07T11:52:52.694370Z"
    }
   },
   "outputs": [],
   "source": [
    "def calculate_values(detector, filt, mjd, aper):\n",
    "    # parameters can be removed from obsmode as needed\n",
    "    obsmode = f'wfc3, {detector}, {filt}, mjd#{mjd}, aper#{aper}'\n",
    "    bp = stsyn.band(obsmode)  \n",
    "    \n",
    "    # STMag\n",
    "    photflam = bp.unit_response(stsyn.conf.area)  # inverse sensitivity in flam\n",
    "    stmag = -21.1 - 2.5 * np.log10(photflam.value)\n",
    "    \n",
    "    # Pivot Wavelength and bandwidth\n",
    "    photplam = bp.pivot() # pivot wavelength in angstroms\n",
    "    bandwidth = bp.photbw() # bandwidth in angstroms\n",
    "    \n",
    "    # ABMag\n",
    "    abmag = stmag - 5 * np.log10(photplam.value) + 18.6921\n",
    "    \n",
    "    # Vegamag\n",
    "    obs = Observation(stsyn.Vega, bp, binset=bp.binset)  # synthetic observation of vega in bandpass using vega spectrum\n",
    "    vegamag = -1 * obs.effstim(flux_unit='obmag', area=stsyn.conf.area)\n",
    "    \n",
    "    return obsmode, photplam.value, bandwidth.value, photflam.value, stmag, abmag, vegamag.value"
   ]
  },
  {
   "cell_type": "code",
   "execution_count": 14,
   "metadata": {
    "execution": {
     "iopub.execute_input": "2025-10-07T11:52:52.696245Z",
     "iopub.status.busy": "2025-10-07T11:52:52.696090Z",
     "iopub.status.idle": "2025-10-07T11:52:52.779624Z",
     "shell.execute_reply": "2025-10-07T11:52:52.779085Z"
    }
   },
   "outputs": [
    {
     "name": "stdout",
     "output_type": "stream",
     "text": [
      "Obsmode                              PivotWave Photflam   STMAG   ABMAG   VEGAMAG\n",
      "wfc3, uvis1, f200lp, mjd#55008, aper#6.0, 4971.9, 4.9157e-20, 27.171, 27.381, 26.931\n"
     ]
    }
   ],
   "source": [
    "obsmode, photplam, bandwidth, photflam, stmag, abmag, vegamag = calculate_values(detectors[0], filtnames[0], mjd, aper)\n",
    "\n",
    "# print values\n",
    "print('Obsmode                              PivotWave Photflam   STMAG   ABMAG   VEGAMAG')\n",
    "print(f'{obsmode}, {photplam:.1f}, {photflam:.4e}, {stmag:.3f}, {abmag:.3f}, {vegamag:.3f}')"
   ]
  },
  {
   "cell_type": "markdown",
   "metadata": {},
   "source": [
    "<a class=\"anchor\" id=\"iterate\"></a>\n",
    "## 6. Iterate over multiple 'obsmodes'"
   ]
  },
  {
   "cell_type": "markdown",
   "metadata": {},
   "source": [
    "To calculate zeropoints for multiple detectors and/or filters, we can use the function defined above and loop through detectors and filters defined in [Section 3](#inps)."
   ]
  },
  {
   "cell_type": "code",
   "execution_count": 15,
   "metadata": {
    "execution": {
     "iopub.execute_input": "2025-10-07T11:52:52.781339Z",
     "iopub.status.busy": "2025-10-07T11:52:52.781163Z",
     "iopub.status.idle": "2025-10-07T11:52:56.198158Z",
     "shell.execute_reply": "2025-10-07T11:52:56.197607Z"
    }
   },
   "outputs": [
    {
     "name": "stdout",
     "output_type": "stream",
     "text": [
      "Obsmode                              PivotWave Photflam   STMAG   ABMAG   VEGAMAG\n",
      "wfc3, uvis1, f200lp, mjd#55008, aper#6.0, 4971.9, 4.9157e-20, 27.171, 27.381, 26.931\n",
      "wfc3, uvis1, f218w, mjd#55008, aper#6.0, 2228.0, 1.4594e-17, 20.990, 22.942, 21.278\n"
     ]
    },
    {
     "name": "stdout",
     "output_type": "stream",
     "text": [
      "wfc3, uvis1, f225w, mjd#55008, aper#6.0, 2372.1, 4.5688e-18, 22.251, 24.067, 22.430\n",
      "wfc3, uvis1, f275w, mjd#55008, aper#6.0, 2709.7, 3.2206e-18, 22.630, 24.158, 22.677\n",
      "wfc3, uvis1, f280n, mjd#55008, aper#6.0, 2832.9, 5.7472e-17, 19.501, 20.932, 19.516\n"
     ]
    },
    {
     "name": "stdout",
     "output_type": "stream",
     "text": [
      "wfc3, uvis1, f300x, mjd#55008, aper#6.0, 2820.5, 1.4093e-18, 23.527, 24.968, 23.565\n",
      "wfc3, uvis1, f336w, mjd#55008, aper#6.0, 3354.5, 1.2848e-18, 23.628, 24.692, 23.527\n",
      "wfc3, uvis1, f343n, mjd#55008, aper#6.0, 3435.2, 2.5672e-18, 22.876, 23.889, 22.754\n"
     ]
    },
    {
     "name": "stdout",
     "output_type": "stream",
     "text": [
      "wfc3, uvis1, f350lp, mjd#55008, aper#6.0, 5873.9, 5.1638e-20, 27.118, 26.965, 26.810\n",
      "wfc3, uvis1, f373n, mjd#55008, aper#6.0, 3730.2, 1.3488e-17, 21.075, 21.909, 21.036\n",
      "wfc3, uvis1, f390m, mjd#55008, aper#6.0, 3897.2, 2.5524e-18, 22.883, 23.621, 23.545\n"
     ]
    },
    {
     "name": "stdout",
     "output_type": "stream",
     "text": [
      "wfc3, uvis1, f390w, mjd#55008, aper#6.0, 3923.7, 5.0142e-19, 24.649, 25.373, 25.174\n",
      "wfc3, uvis1, f395n, mjd#55008, aper#6.0, 3955.2, 5.9589e-18, 21.962, 22.668, 22.712\n",
      "wfc3, uvis1, f410m, mjd#55008, aper#6.0, 4109.0, 2.3481e-18, 22.973, 23.597, 23.771\n"
     ]
    },
    {
     "name": "stdout",
     "output_type": "stream",
     "text": [
      "wfc3, uvis1, f438w, mjd#55008, aper#6.0, 4326.2, 6.7475e-19, 24.327, 24.839, 25.003\n",
      "wfc3, uvis1, f467m, mjd#55008, aper#6.0, 4682.6, 1.6498e-18, 23.356, 23.696, 23.859\n",
      "wfc3, uvis1, f469n, mjd#55008, aper#6.0, 4688.1, 9.3089e-18, 21.478, 21.815, 21.981\n"
     ]
    },
    {
     "name": "stdout",
     "output_type": "stream",
     "text": [
      "wfc3, uvis1, f475w, mjd#55008, aper#6.0, 4773.1, 2.4962e-19, 25.407, 25.705, 25.810\n",
      "wfc3, uvis1, f475x, mjd#55008, aper#6.0, 4940.7, 1.5343e-19, 25.935, 26.158, 26.216\n",
      "wfc3, uvis1, f487n, mjd#55008, aper#6.0, 4871.4, 5.8860e-18, 21.975, 22.229, 22.050\n"
     ]
    },
    {
     "name": "stdout",
     "output_type": "stream",
     "text": [
      "wfc3, uvis1, f502n, mjd#55008, aper#6.0, 5009.6, 5.0824e-18, 22.135, 22.328, 22.421\n",
      "wfc3, uvis1, f547m, mjd#55008, aper#6.0, 5447.5, 4.5847e-19, 24.747, 24.758, 24.761\n",
      "wfc3, uvis1, f555w, mjd#55008, aper#6.0, 5308.4, 1.8272e-19, 25.746, 25.813, 25.841\n"
     ]
    },
    {
     "name": "stdout",
     "output_type": "stream",
     "text": [
      "wfc3, uvis1, f600lp, mjd#55008, aper#6.0, 7468.1, 8.6226e-20, 26.561, 25.887, 25.554\n",
      "wfc3, uvis1, f606w, mjd#55008, aper#6.0, 5889.2, 1.1506e-19, 26.248, 26.090, 26.006\n",
      "wfc3, uvis1, f621m, mjd#55008, aper#6.0, 6218.9, 4.0126e-19, 24.891, 24.615, 24.465\n"
     ]
    },
    {
     "name": "stdout",
     "output_type": "stream",
     "text": [
      "wfc3, uvis1, f625w, mjd#55008, aper#6.0, 6242.6, 1.7139e-19, 25.815, 25.530, 25.379\n",
      "wfc3, uvis1, f631n, mjd#55008, aper#6.0, 6304.3, 4.8250e-18, 22.191, 21.885, 21.723\n",
      "wfc3, uvis1, f645n, mjd#55008, aper#6.0, 6453.6, 3.3059e-18, 22.602, 22.245, 22.049\n"
     ]
    },
    {
     "name": "stdout",
     "output_type": "stream",
     "text": [
      "wfc3, uvis1, f656n, mjd#55008, aper#6.0, 6561.4, 1.6713e-17, 20.842, 20.450, 19.868\n",
      "wfc3, uvis1, f657n, mjd#55008, aper#6.0, 6566.6, 2.1811e-18, 23.053, 22.659, 22.333\n",
      "wfc3, uvis1, f658n, mjd#55008, aper#6.0, 6584.0, 9.7496e-18, 21.428, 21.027, 20.672\n"
     ]
    },
    {
     "name": "stdout",
     "output_type": "stream",
     "text": [
      "wfc3, uvis1, f665n, mjd#55008, aper#6.0, 6655.9, 1.9774e-18, 23.160, 22.736, 22.492\n",
      "wfc3, uvis1, f673n, mjd#55008, aper#6.0, 6765.9, 2.1926e-18, 23.048, 22.588, 22.343\n",
      "wfc3, uvis1, f680n, mjd#55008, aper#6.0, 6877.6, 6.8241e-19, 24.315, 23.820, 23.556\n"
     ]
    },
    {
     "name": "stdout",
     "output_type": "stream",
     "text": [
      "wfc3, uvis1, f689m, mjd#55008, aper#6.0, 6876.8, 3.7208e-19, 24.973, 24.479, 24.196\n",
      "wfc3, uvis1, f763m, mjd#55008, aper#6.0, 7614.4, 3.8291e-19, 24.942, 24.226, 23.837\n",
      "wfc3, uvis1, f775w, mjd#55008, aper#6.0, 7651.4, 2.0922e-19, 25.599, 24.872, 24.480\n"
     ]
    },
    {
     "name": "stdout",
     "output_type": "stream",
     "text": [
      "wfc3, uvis1, f814w, mjd#55008, aper#6.0, 8039.1, 1.4994e-19, 25.960, 25.126, 24.698\n",
      "wfc3, uvis1, f845m, mjd#55008, aper#6.0, 8439.1, 4.5207e-19, 24.762, 23.823, 23.316\n",
      "wfc3, uvis1, f850lp, mjd#55008, aper#6.0, 9176.1, 3.7052e-19, 24.978, 23.857, 23.326\n"
     ]
    },
    {
     "name": "stdout",
     "output_type": "stream",
     "text": [
      "wfc3, uvis1, f953n, mjd#55008, aper#6.0, 9530.6, 8.0946e-18, 21.630, 20.426, 19.803\n"
     ]
    }
   ],
   "source": [
    "oms, pivots, bws, pfs, st, ab, vm = [], [], [], [], [], [], []\n",
    "\n",
    "print('Obsmode                              PivotWave Photflam   STMAG   ABMAG   VEGAMAG')\n",
    "for detector in detectors:\n",
    "    for filt in filtnames:\n",
    "        res = calculate_values(detector, filt, mjd, aper)\n",
    "        obsmode, photplam, bandwidth, photflam, stmag, abmag, vegamag = res # solely for readability\n",
    "        \n",
    "        # print values\n",
    "        print(f'{obsmode}, {photplam:.1f}, {photflam:.4e}, {stmag:.3f}, {abmag:.3f}, {vegamag:.3f}')\n",
    "        \n",
    "        oms.append(obsmode)\n",
    "        pivots.append(photplam)\n",
    "        bws.append(bandwidth)\n",
    "        pfs.append(photflam)\n",
    "        st.append(stmag)\n",
    "        ab.append(abmag)\n",
    "        vm.append(vegamag)"
   ]
  },
  {
   "cell_type": "markdown",
   "metadata": {},
   "source": [
    "Values can also be written into an astropy table. "
   ]
  },
  {
   "cell_type": "code",
   "execution_count": 16,
   "metadata": {
    "execution": {
     "iopub.execute_input": "2025-10-07T11:52:56.199705Z",
     "iopub.status.busy": "2025-10-07T11:52:56.199536Z",
     "iopub.status.idle": "2025-10-07T11:52:56.202957Z",
     "shell.execute_reply": "2025-10-07T11:52:56.202444Z"
    }
   },
   "outputs": [],
   "source": [
    "tbl = Table([oms, pivots, bws, pfs, st, ab, vm], \n",
    "            names=['Obsmode', 'Pivot Wave', 'Bandwidth', 'Photflam', 'STMag', 'ABMag', 'VegaMag'])"
   ]
  },
  {
   "cell_type": "markdown",
   "metadata": {},
   "source": [
    "We'll also round  columns to a smaller number of decimals."
   ]
  },
  {
   "cell_type": "code",
   "execution_count": 17,
   "metadata": {
    "execution": {
     "iopub.execute_input": "2025-10-07T11:52:56.204343Z",
     "iopub.status.busy": "2025-10-07T11:52:56.204195Z",
     "iopub.status.idle": "2025-10-07T11:52:56.207052Z",
     "shell.execute_reply": "2025-10-07T11:52:56.206619Z"
    }
   },
   "outputs": [],
   "source": [
    "for col in tbl.itercols():\n",
    "    if col.name == 'Photflam':\n",
    "        col.info.format = '.4e'\n",
    "    elif col.info.dtype.kind == 'f':        \n",
    "        col.info.format = '.3f'"
   ]
  },
  {
   "cell_type": "markdown",
   "metadata": {},
   "source": [
    "Let's view our astropy table:"
   ]
  },
  {
   "cell_type": "code",
   "execution_count": 18,
   "metadata": {
    "execution": {
     "iopub.execute_input": "2025-10-07T11:52:56.208368Z",
     "iopub.status.busy": "2025-10-07T11:52:56.208233Z",
     "iopub.status.idle": "2025-10-07T11:52:56.214320Z",
     "shell.execute_reply": "2025-10-07T11:52:56.213810Z"
    }
   },
   "outputs": [
    {
     "data": {
      "text/html": [
       "<div><i>Table length=42</i>\n",
       "<table id=\"table140337939627152\" class=\"table-striped table-bordered table-condensed\">\n",
       "<thead><tr><th>Obsmode</th><th>Pivot Wave</th><th>Bandwidth</th><th>Photflam</th><th>STMag</th><th>ABMag</th><th>VegaMag</th></tr></thead>\n",
       "<thead><tr><th>str40</th><th>float64</th><th>float64</th><th>float64</th><th>float64</th><th>float64</th><th>float64</th></tr></thead>\n",
       "<tr><td>wfc3, uvis1, f200lp, mjd#55008, aper#6.0</td><td>4971.860</td><td>1742.198</td><td>4.9157e-20</td><td>27.171</td><td>27.381</td><td>26.931</td></tr>\n",
       "<tr><td>wfc3, uvis1, f218w, mjd#55008, aper#6.0</td><td>2228.039</td><td>128.941</td><td>1.4594e-17</td><td>20.990</td><td>22.942</td><td>21.278</td></tr>\n",
       "<tr><td>wfc3, uvis1, f225w, mjd#55008, aper#6.0</td><td>2372.053</td><td>177.430</td><td>4.5688e-18</td><td>22.251</td><td>24.067</td><td>22.430</td></tr>\n",
       "<tr><td>wfc3, uvis1, f275w, mjd#55008, aper#6.0</td><td>2709.689</td><td>164.435</td><td>3.2206e-18</td><td>22.630</td><td>24.158</td><td>22.677</td></tr>\n",
       "<tr><td>wfc3, uvis1, f280n, mjd#55008, aper#6.0</td><td>2832.862</td><td>200.689</td><td>5.7472e-17</td><td>19.501</td><td>20.932</td><td>19.516</td></tr>\n",
       "<tr><td>wfc3, uvis1, f300x, mjd#55008, aper#6.0</td><td>2820.469</td><td>316.561</td><td>1.4093e-18</td><td>23.527</td><td>24.968</td><td>23.565</td></tr>\n",
       "<tr><td>wfc3, uvis1, f336w, mjd#55008, aper#6.0</td><td>3354.492</td><td>158.422</td><td>1.2848e-18</td><td>23.628</td><td>24.692</td><td>23.527</td></tr>\n",
       "<tr><td>wfc3, uvis1, f343n, mjd#55008, aper#6.0</td><td>3435.151</td><td>86.713</td><td>2.5672e-18</td><td>22.876</td><td>23.889</td><td>22.754</td></tr>\n",
       "<tr><td>wfc3, uvis1, f350lp, mjd#55008, aper#6.0</td><td>5873.870</td><td>1490.060</td><td>5.1638e-20</td><td>27.118</td><td>26.965</td><td>26.810</td></tr>\n",
       "<tr><td>...</td><td>...</td><td>...</td><td>...</td><td>...</td><td>...</td><td>...</td></tr>\n",
       "<tr><td>wfc3, uvis1, f665n, mjd#55008, aper#6.0</td><td>6655.876</td><td>42.191</td><td>1.9774e-18</td><td>23.160</td><td>22.736</td><td>22.492</td></tr>\n",
       "<tr><td>wfc3, uvis1, f673n, mjd#55008, aper#6.0</td><td>6765.939</td><td>41.943</td><td>2.1926e-18</td><td>23.048</td><td>22.588</td><td>22.343</td></tr>\n",
       "<tr><td>wfc3, uvis1, f680n, mjd#55008, aper#6.0</td><td>6877.596</td><td>112.013</td><td>6.8241e-19</td><td>24.315</td><td>23.820</td><td>23.556</td></tr>\n",
       "<tr><td>wfc3, uvis1, f689m, mjd#55008, aper#6.0</td><td>6876.755</td><td>207.613</td><td>3.7208e-19</td><td>24.973</td><td>24.479</td><td>24.196</td></tr>\n",
       "<tr><td>wfc3, uvis1, f763m, mjd#55008, aper#6.0</td><td>7614.371</td><td>229.425</td><td>3.8291e-19</td><td>24.942</td><td>24.226</td><td>23.837</td></tr>\n",
       "<tr><td>wfc3, uvis1, f775w, mjd#55008, aper#6.0</td><td>7651.363</td><td>419.719</td><td>2.0922e-19</td><td>25.599</td><td>24.872</td><td>24.480</td></tr>\n",
       "<tr><td>wfc3, uvis1, f814w, mjd#55008, aper#6.0</td><td>8039.056</td><td>666.760</td><td>1.4994e-19</td><td>25.960</td><td>25.126</td><td>24.698</td></tr>\n",
       "<tr><td>wfc3, uvis1, f845m, mjd#55008, aper#6.0</td><td>8439.057</td><td>260.304</td><td>4.5207e-19</td><td>24.762</td><td>23.823</td><td>23.316</td></tr>\n",
       "<tr><td>wfc3, uvis1, f850lp, mjd#55008, aper#6.0</td><td>9176.126</td><td>470.529</td><td>3.7052e-19</td><td>24.978</td><td>23.857</td><td>23.326</td></tr>\n",
       "<tr><td>wfc3, uvis1, f953n, mjd#55008, aper#6.0</td><td>9530.579</td><td>71.190</td><td>8.0946e-18</td><td>21.630</td><td>20.426</td><td>19.803</td></tr>\n",
       "</table></div>"
      ],
      "text/plain": [
       "<Table length=42>\n",
       "                Obsmode                  Pivot Wave ...  ABMag  VegaMag\n",
       "                 str40                    float64   ... float64 float64\n",
       "---------------------------------------- ---------- ... ------- -------\n",
       "wfc3, uvis1, f200lp, mjd#55008, aper#6.0   4971.860 ...  27.381  26.931\n",
       " wfc3, uvis1, f218w, mjd#55008, aper#6.0   2228.039 ...  22.942  21.278\n",
       " wfc3, uvis1, f225w, mjd#55008, aper#6.0   2372.053 ...  24.067  22.430\n",
       " wfc3, uvis1, f275w, mjd#55008, aper#6.0   2709.689 ...  24.158  22.677\n",
       " wfc3, uvis1, f280n, mjd#55008, aper#6.0   2832.862 ...  20.932  19.516\n",
       " wfc3, uvis1, f300x, mjd#55008, aper#6.0   2820.469 ...  24.968  23.565\n",
       " wfc3, uvis1, f336w, mjd#55008, aper#6.0   3354.492 ...  24.692  23.527\n",
       " wfc3, uvis1, f343n, mjd#55008, aper#6.0   3435.151 ...  23.889  22.754\n",
       "wfc3, uvis1, f350lp, mjd#55008, aper#6.0   5873.870 ...  26.965  26.810\n",
       "                                     ...        ... ...     ...     ...\n",
       " wfc3, uvis1, f665n, mjd#55008, aper#6.0   6655.876 ...  22.736  22.492\n",
       " wfc3, uvis1, f673n, mjd#55008, aper#6.0   6765.939 ...  22.588  22.343\n",
       " wfc3, uvis1, f680n, mjd#55008, aper#6.0   6877.596 ...  23.820  23.556\n",
       " wfc3, uvis1, f689m, mjd#55008, aper#6.0   6876.755 ...  24.479  24.196\n",
       " wfc3, uvis1, f763m, mjd#55008, aper#6.0   7614.371 ...  24.226  23.837\n",
       " wfc3, uvis1, f775w, mjd#55008, aper#6.0   7651.363 ...  24.872  24.480\n",
       " wfc3, uvis1, f814w, mjd#55008, aper#6.0   8039.056 ...  25.126  24.698\n",
       " wfc3, uvis1, f845m, mjd#55008, aper#6.0   8439.057 ...  23.823  23.316\n",
       "wfc3, uvis1, f850lp, mjd#55008, aper#6.0   9176.126 ...  23.857  23.326\n",
       " wfc3, uvis1, f953n, mjd#55008, aper#6.0   9530.579 ...  20.426  19.803"
      ]
     },
     "execution_count": 18,
     "metadata": {},
     "output_type": "execute_result"
    }
   ],
   "source": [
    "tbl"
   ]
  },
  {
   "cell_type": "markdown",
   "metadata": {},
   "source": [
    "We can finally save the table as a .txt file."
   ]
  },
  {
   "cell_type": "code",
   "execution_count": 19,
   "metadata": {
    "execution": {
     "iopub.execute_input": "2025-10-07T11:52:56.215754Z",
     "iopub.status.busy": "2025-10-07T11:52:56.215615Z",
     "iopub.status.idle": "2025-10-07T11:52:56.218087Z",
     "shell.execute_reply": "2025-10-07T11:52:56.217650Z"
    }
   },
   "outputs": [],
   "source": [
    "if not os.path.exists('./uvis_zp_tbl.txt'):\n",
    "    tbl.write('uvis_zp_tbl.txt', format='ascii.commented_header')"
   ]
  },
  {
   "cell_type": "markdown",
   "metadata": {},
   "source": [
    "<a class=\"anchor\" id=\"curves\"></a>\n",
    "## 7. Create and plot 'total system throughput' tables"
   ]
  },
  {
   "cell_type": "markdown",
   "metadata": {},
   "source": [
    "The function below returns a tuple containing two objects, the first being an array of wavelengths, and the second being the throughput at each of those wavelengths."
   ]
  },
  {
   "cell_type": "code",
   "execution_count": 20,
   "metadata": {
    "execution": {
     "iopub.execute_input": "2025-10-07T11:52:56.219445Z",
     "iopub.status.busy": "2025-10-07T11:52:56.219299Z",
     "iopub.status.idle": "2025-10-07T11:52:56.222404Z",
     "shell.execute_reply": "2025-10-07T11:52:56.221920Z"
    }
   },
   "outputs": [],
   "source": [
    "def calculate_bands(bp, save=False, overwrite=True):\n",
    "    # Pass in bandpass object as bp\n",
    "    waves = bp.waveset\n",
    "    throughput = bp(waves)\n",
    "    \n",
    "    if save:\n",
    "        tmp = Table([waves, throughput], names=['WAVELENGTH', 'THROUGHPUT'])\n",
    "        tmp.write(', '.join(bp.obsmode.modes)+'.txt', format='ascii.commented_header', overwrite=overwrite)\n",
    "        \n",
    "    return (waves, throughput)"
   ]
  },
  {
   "cell_type": "markdown",
   "metadata": {},
   "source": [
    "We'll calculate the throughput table for WFC3/UVIS1 in F200LP."
   ]
  },
  {
   "cell_type": "code",
   "execution_count": 21,
   "metadata": {
    "execution": {
     "iopub.execute_input": "2025-10-07T11:52:56.223712Z",
     "iopub.status.busy": "2025-10-07T11:52:56.223565Z",
     "iopub.status.idle": "2025-10-07T11:52:56.250682Z",
     "shell.execute_reply": "2025-10-07T11:52:56.250146Z"
    }
   },
   "outputs": [],
   "source": [
    "obsmode = 'wfc3,uvis1,f200lp'\n",
    "bp = stsyn.band(obsmode)\n",
    "wl, tp = calculate_bands(bp)"
   ]
  },
  {
   "cell_type": "markdown",
   "metadata": {},
   "source": [
    "Now, let's plot our results."
   ]
  },
  {
   "cell_type": "code",
   "execution_count": 22,
   "metadata": {
    "execution": {
     "iopub.execute_input": "2025-10-07T11:52:56.252277Z",
     "iopub.status.busy": "2025-10-07T11:52:56.252114Z",
     "iopub.status.idle": "2025-10-07T11:52:56.368206Z",
     "shell.execute_reply": "2025-10-07T11:52:56.367629Z"
    }
   },
   "outputs": [
    {
     "data": {
      "text/plain": [
       "Text(0.5, 1.0, 'WFC3,UVIS1,F200LP')"
      ]
     },
     "execution_count": 22,
     "metadata": {},
     "output_type": "execute_result"
    },
    {
     "data": {
      "image/png": "[encoded data removed]",
      "text/plain": [
       "<Figure size 1000x500 with 1 Axes>"
      ]
     },
     "metadata": {},
     "output_type": "display_data"
    }
   ],
   "source": [
    "fig = plt.figure(figsize=(10, 5))\n",
    "plt.plot(wl, tp)\n",
    "plt.xlim(1500, 11000) \n",
    "plt.xlabel('Wavelength [Angstroms]')\n",
    "plt.ylabel('Throughput')\n",
    "plt.title('WFC3,UVIS1,F200LP')"
   ]
  },
  {
   "cell_type": "markdown",
   "metadata": {},
   "source": [
    "To save the curve in an ascii table, simply pass the argument `save=True`:"
   ]
  },
  {
   "cell_type": "code",
   "execution_count": 23,
   "metadata": {
    "execution": {
     "iopub.execute_input": "2025-10-07T11:52:56.369946Z",
     "iopub.status.busy": "2025-10-07T11:52:56.369749Z",
     "iopub.status.idle": "2025-10-07T11:52:56.391806Z",
     "shell.execute_reply": "2025-10-07T11:52:56.391342Z"
    }
   },
   "outputs": [
    {
     "data": {
      "text/plain": [
       "(<Quantity [  500.,  1000.,  1010., ..., 20002., 30000., 30010.] Angstrom>,\n",
       " <Quantity [0., 0., 0., ..., 0., 0., 0.]>)"
      ]
     },
     "execution_count": 23,
     "metadata": {},
     "output_type": "execute_result"
    }
   ],
   "source": [
    "calculate_bands(bp, save=True)"
   ]
  },
  {
   "cell_type": "markdown",
   "metadata": {},
   "source": [
    "To save curves for all obsmodes defined in [Section 3](#inps) in the input list, we can loop through detectors and filters."
   ]
  },
  {
   "cell_type": "code",
   "execution_count": 24,
   "metadata": {
    "execution": {
     "iopub.execute_input": "2025-10-07T11:52:56.393320Z",
     "iopub.status.busy": "2025-10-07T11:52:56.393159Z",
     "iopub.status.idle": "2025-10-07T11:52:58.224286Z",
     "shell.execute_reply": "2025-10-07T11:52:58.223751Z"
    }
   },
   "outputs": [],
   "source": [
    "for det in detectors:\n",
    "    for filt in filtnames:\n",
    "        obsmode = f'wfc3, {det}, {filt}'\n",
    "        bp = stsyn.band(obsmode)\n",
    "        calculate_bands(bp, save=True)"
   ]
  },
  {
   "cell_type": "markdown",
   "metadata": {},
   "source": [
    "In addition, we'll create a directory called `obsmodes_curves` and move all the saved files to that directory."
   ]
  },
  {
   "cell_type": "code",
   "execution_count": 25,
   "metadata": {
    "execution": {
     "iopub.execute_input": "2025-10-07T11:52:58.226079Z",
     "iopub.status.busy": "2025-10-07T11:52:58.225906Z",
     "iopub.status.idle": "2025-10-07T11:52:58.613872Z",
     "shell.execute_reply": "2025-10-07T11:52:58.613087Z"
    }
   },
   "outputs": [
    {
     "name": "stdout",
     "output_type": "stream",
     "text": [
      "mkdir: cannot create directory ‘obsmodes_curves’: File exists\r\n"
     ]
    },
    {
     "name": "stdout",
     "output_type": "stream",
     "text": [
      "'wfc3, uvis1, f200lp.txt'  'wfc3, uvis1, f438w.txt'   'wfc3, uvis1, f645n.txt'\r\n",
      "'wfc3, uvis1, f218w.txt'   'wfc3, uvis1, f467m.txt'   'wfc3, uvis1, f656n.txt'\r\n",
      "'wfc3, uvis1, f225w.txt'   'wfc3, uvis1, f469n.txt'   'wfc3, uvis1, f657n.txt'\r\n",
      "'wfc3, uvis1, f275w.txt'   'wfc3, uvis1, f475w.txt'   'wfc3, uvis1, f658n.txt'\r\n",
      "'wfc3, uvis1, f280n.txt'   'wfc3, uvis1, f475x.txt'   'wfc3, uvis1, f665n.txt'\r\n",
      "'wfc3, uvis1, f300x.txt'   'wfc3, uvis1, f487n.txt'   'wfc3, uvis1, f673n.txt'\r\n",
      "'wfc3, uvis1, f336w.txt'   'wfc3, uvis1, f502n.txt'   'wfc3, uvis1, f680n.txt'\r\n",
      "'wfc3, uvis1, f343n.txt'   'wfc3, uvis1, f547m.txt'   'wfc3, uvis1, f689m.txt'\r\n",
      "'wfc3, uvis1, f350lp.txt'  'wfc3, uvis1, f555w.txt'   'wfc3, uvis1, f763m.txt'\r\n",
      "'wfc3, uvis1, f373n.txt'   'wfc3, uvis1, f600lp.txt'  'wfc3, uvis1, f775w.txt'\r\n",
      "'wfc3, uvis1, f390m.txt'   'wfc3, uvis1, f606w.txt'   'wfc3, uvis1, f814w.txt'\r\n",
      "'wfc3, uvis1, f390w.txt'   'wfc3, uvis1, f621m.txt'   'wfc3, uvis1, f845m.txt'\r\n",
      "'wfc3, uvis1, f395n.txt'   'wfc3, uvis1, f625w.txt'   'wfc3, uvis1, f850lp.txt'\r\n",
      "'wfc3, uvis1, f410m.txt'   'wfc3, uvis1, f631n.txt'   'wfc3, uvis1, f953n.txt'\r\n"
     ]
    }
   ],
   "source": [
    "! mkdir obsmodes_curves\n",
    "! mv wfc3*txt obsmodes_curves\n",
    "! ls obsmodes_curves"
   ]
  },
  {
   "cell_type": "markdown",
   "metadata": {},
   "source": [
    "<a id=\"conclusions\"></a>\n",
    "## 8. Conclusions\n",
    "\n",
    "Thank you for walking through this notebook. Now using WFC3 data, you should be more familiar with:\n",
    "\n",
    "- Calculating zeropoints and other photometric properties using `stsynphot`.\n",
    "- Creating, plotting, and saving 'total system throughput' tables.\n",
    "\n",
    "#### Congratulations, you have completed the notebook!"
   ]
  },
  {
   "cell_type": "markdown",
   "metadata": {},
   "source": [
    "<a id=\"resources\"></a>\n",
    "## Additional Resources\n",
    "Below are some additional resources that may be helpful. Please send any questions through the [HST Helpdesk](https://stsci.service-now.com/hst).\n",
    "\n",
    "- [WFC3 Website](https://www.stsci.edu/hst/instrumentation/wfc3)\n",
    "- [WFC3 Instrument Handbook](https://hst-docs.stsci.edu/wfc3ihb)\n",
    "- [WFC3 Data Handbook](https://hst-docs.stsci.edu/wfc3dhb)\n",
    "    - see sections 9.5.2 for reference to this notebook\n",
    "    \n",
    "<a id=\"about\"></a>\n",
    "## About this Notebook\n",
    "\n",
    "**Authors:** Varun Bajaj, Jennifer Mack; WFC3 Instrument Team\n",
    "\n",
    "**Updated on:** 2024-03-18\n",
    "\n",
    "<a id=\"cite\"></a>\n",
    "## Citations\n",
    "\n",
    "If you use `numpy`, `astropy`, `synphot`, or `stsynphot` for published research, please cite the\n",
    "authors. Follow these links for more information about citing the libraries below:\n",
    "\n",
    "* [Citing `numpy`](https://numpy.org/citing-numpy/)\n",
    "* [Citing `astropy`](https://www.astropy.org/acknowledging.html)\n",
    "* [Citing `synphot`](https://synphot.readthedocs.io/en/latest/)\n",
    "* [Citing `stsynphot`](https://stsynphot.readthedocs.io/en/latest/index.html)\n",
    "\n",
    "<hr>\n",
    "[Top of Page](#title)\n",
    "<img style=\"float: right;\" src=\"https://raw.githubusercontent.com/spacetelescope/notebooks/master/assets/stsci_pri_combo_mark_horizonal_white_bkgd.png\" alt=\"Space Telescope Logo\" width=\"200px\"/> "
   ]
  },
  {
   "cell_type": "code",
   "execution_count": null,
   "metadata": {},
   "outputs": [],
   "source": []
  }
 ],
 "metadata": {
  "kernelspec": {
   "display_name": "Python 3 (ipykernel)",
   "language": "python",
   "name": "python3"
  },
  "language_info": {
   "codemirror_mode": {
    "name": "ipython",
    "version": 3
   },
   "file_extension": ".py",
   "mimetype": "text/x-python",
   "name": "python",
   "nbconvert_exporter": "python",
   "pygments_lexer": "ipython3",
   "version": "3.11.13"
  }
 },
 "nbformat": 4,
 "nbformat_minor": 4
}
