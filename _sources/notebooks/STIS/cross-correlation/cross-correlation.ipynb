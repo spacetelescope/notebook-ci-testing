{
 "cells": [
  {
   "cell_type": "markdown",
   "id": "3def803e",
   "metadata": {},
   "source": [
    "<a id=top></a>\n",
    "# Correcting for Missing Wavecals with Cross-Correlation"
   ]
  },
  {
   "cell_type": "markdown",
   "id": "02c57139",
   "metadata": {
    "toc": true
   },
   "source": [
    "<h1>Learning Goals<span class=\"tocSkip\"></span></h1>\n",
    "<div class=\"toc\"><ul class=\"toc-item\"><li><span><a href=\"#Introduction\" data-toc-modified-id=\"Introduction-1\"><span class=\"toc-item-num\">1&nbsp;&nbsp;</span>Introduction</a></span><ul class=\"toc-item\"><li><span><a href=\"#Import-Necessary-Packages\" data-toc-modified-id=\"Import-Necessary-Packages-1.1\"><span class=\"toc-item-num\">1.1&nbsp;&nbsp;</span>Import Necessary Packages</a></span></li><li><span><a href=\"#Collect-Data-Set-From-the-MAST-Archive-Using-Astroquery\" data-toc-modified-id=\"Collect-Data-Set-From-the-MAST-Archive-Using-Astroquery-1.2\"><span class=\"toc-item-num\">1.2&nbsp;&nbsp;</span>Collect Data Set From the MAST Archive Using Astroquery</a></span></li></ul></li><li><span><a href=\"#_x1d-Spectra-of-the-Observations\" data-toc-modified-id=\"_x1d-Spectra-of-the-Observations-2\"><span class=\"toc-item-num\">2&nbsp;&nbsp;</span>_x1d Spectra of the Observations</a></span><ul class=\"toc-item\"><li><span><a href=\"#Creating-Shifted-Spectrum\" data-toc-modified-id=\"Creating-Shifted-Spectrum-2.1\"><span class=\"toc-item-num\">2.1&nbsp;&nbsp;</span>Creating Shifted Spectrum</a></span></li><li><span><a href=\"#Spectrum-Interpolation\" data-toc-modified-id=\"Spectrum-Interpolation-2.2\"><span class=\"toc-item-num\">2.2&nbsp;&nbsp;</span>Spectrum Interpolation</a></span></li></ul></li><li><span><a href=\"#Cross-Correlation\" data-toc-modified-id=\"Cross-Correlation-3\"><span class=\"toc-item-num\">3&nbsp;&nbsp;</span>Cross-Correlation</a></span><ul class=\"toc-item\"><li><span><a href=\"#Dispersion-per-Pixel\" data-toc-modified-id=\"Dispersion-per-Pixel-3.1\"><span class=\"toc-item-num\">3.1&nbsp;&nbsp;</span>Dispersion per Pixel</a></span></li><li><span><a href=\"#Masking-out-the-Lyman-alpha-line\" data-toc-modified-id=\"Masking-out-the-Lyman-alpha-line-3.2\"><span class=\"toc-item-num\">3.2&nbsp;&nbsp;</span>Masking out the Lyman-alpha line</a></span></li><li><span><a href=\"#Lag-and-Cross-Correlation-Coefficient\" data-toc-modified-id=\"Lag-and-Cross-Correlation-Coefficient-3.3\"><span class=\"toc-item-num\">3.3&nbsp;&nbsp;</span>Lag and Cross-Correlation Coefficient</a></span></li><li><span><a href=\"#Polynimial-Fitting-and-Zero-Point-Shift\" data-toc-modified-id=\"Polynimial-Fitting-and-Zero-Point-Shift-3.4\"><span class=\"toc-item-num\">3.4&nbsp;&nbsp;</span>Polynimial Fitting and Zero Point Shift</a></span></li></ul></li><li><span><a href=\"#Recalibrate-Spectrum\" data-toc-modified-id=\"Recalibrate-Spectrum-4\"><span class=\"toc-item-num\">4&nbsp;&nbsp;</span>Recalibrate Spectrum</a></span></li></ul></div>"
   ]
  },
  {
   "cell_type": "markdown",
   "id": "c8ace7c1",
   "metadata": {},
   "source": [
    "## Introduction\n",
    "If the wavelength calibration fails due to, for example, a bad acquisition, the zero point in the spectral direction of the spectrum might be shifted because of the imprecise target positioning. However, if the target was observed multiple times and at least one has the correct zero point, then this shift can be corrected using cross-correlation. In this notebook, we will go through how to fix the shifted spectrum by cross-correlating it with a calibrated one."
   ]
  },
  {
   "cell_type": "markdown",
   "id": "5c64ec68",
   "metadata": {},
   "source": [
    "### Import Necessary Packages\n",
    "- `astropy.io fits` `astropy.table Table` for accessing FITS files\n",
    "- `astroquery.mast Observations` for finding and downloading data from the [MAST](https://mast.stsci.edu/portal/Mashup/Clients/Mast/Portal.html) archive\n",
    "- `astropy.modeling fitting` `astropy.modeling.models Polynomial1D`for fitting polynomials\n",
    "- `scipy.signal correlate` for performing cross-correlation\n",
    "- `matplotlib` for plotting data\n",
    "- `numpy` for handling array functions\n",
    "- `stistools` for quick operations on STIS Data\n",
    "- `os`,`shutil`,`pathlib` for managing system paths"
   ]
  },
  {
   "cell_type": "code",
   "execution_count": 1,
   "id": "b255d566",
   "metadata": {
    "execution": {
     "iopub.execute_input": "2025-10-08T20:30:22.008843Z",
     "iopub.status.busy": "2025-10-08T20:30:22.008697Z",
     "iopub.status.idle": "2025-10-08T20:30:23.283913Z",
     "shell.execute_reply": "2025-10-08T20:30:23.283367Z"
    }
   },
   "outputs": [
    {
     "name": "stdout",
     "output_type": "stream",
     "text": [
      "The following tasks in the stistools package can be run with TEAL:\n",
      "   basic2d      calstis     ocrreject     wavecal        x1d          x2d\n"
     ]
    },
    {
     "name": "stderr",
     "output_type": "stream",
     "text": [
      "/home/runner/micromamba/envs/ci-env/lib/python3.11/site-packages/stsci/tools/nmpfit.py:8: UserWarning: NMPFIT is deprecated - stsci.tools v 3.5 is the last version to contain it.\n",
      "  warnings.warn(\"NMPFIT is deprecated - stsci.tools v 3.5 is the last version to contain it.\")\n",
      "/home/runner/micromamba/envs/ci-env/lib/python3.11/site-packages/stsci/tools/gfit.py:18: UserWarning: GFIT is deprecated - stsci.tools v 3.4.12 is the last version to contain it.Use astropy.modeling instead.\n",
      "  warnings.warn(\"GFIT is deprecated - stsci.tools v 3.4.12 is the last version to contain it.\"\n"
     ]
    }
   ],
   "source": [
    "from astropy.io import fits\n",
    "from astroquery.mast import Observations\n",
    "\n",
    "from astropy.modeling import fitting\n",
    "from astropy.modeling.models import Polynomial1D\n",
    "\n",
    "from scipy.signal import correlate\n",
    "from scipy.signal import correlation_lags\n",
    "\n",
    "import matplotlib.pyplot as plt\n",
    "\n",
    "import numpy as np\n",
    "\n",
    "import os\n",
    "import shutil\n",
    "from pathlib import Path\n",
    "\n",
    "import stistools"
   ]
  },
  {
   "cell_type": "markdown",
   "id": "cab936b0",
   "metadata": {},
   "source": [
    "### Collect Data Set From the MAST Archive Using Astroquery\n",
    "In this notebook, we need to download two datasets and explore their correlation."
   ]
  },
  {
   "cell_type": "code",
   "execution_count": 2,
   "id": "90ab9e4b",
   "metadata": {
    "execution": {
     "iopub.execute_input": "2025-10-08T20:30:23.285686Z",
     "iopub.status.busy": "2025-10-08T20:30:23.285425Z",
     "iopub.status.idle": "2025-10-08T20:30:26.597108Z",
     "shell.execute_reply": "2025-10-08T20:30:26.596544Z"
    }
   },
   "outputs": [
    {
     "name": "stdout",
     "output_type": "stream",
     "text": [
      "Downloading URL https://mast.stsci.edu/api/v0.1/Download/file?uri=mast:HST/product/odj101050_raw.fits to ./mastDownload/HST/odj101050/odj101050_raw.fits ..."
     ]
    },
    {
     "name": "stdout",
     "output_type": "stream",
     "text": [
      " [Done]\n"
     ]
    },
    {
     "name": "stdout",
     "output_type": "stream",
     "text": [
      "Downloading URL https://mast.stsci.edu/api/v0.1/Download/file?uri=mast:HST/product/odj101050_x2d.fits to ./mastDownload/HST/odj101050/odj101050_x2d.fits ..."
     ]
    },
    {
     "name": "stdout",
     "output_type": "stream",
     "text": [
      " [Done]\n"
     ]
    },
    {
     "name": "stdout",
     "output_type": "stream",
     "text": [
      "Downloading URL https://mast.stsci.edu/api/v0.1/Download/file?uri=mast:HST/product/odj101050_flt.fits to ./mastDownload/HST/odj101050/odj101050_flt.fits ..."
     ]
    },
    {
     "name": "stdout",
     "output_type": "stream",
     "text": [
      " [Done]\n"
     ]
    },
    {
     "name": "stdout",
     "output_type": "stream",
     "text": [
      "Downloading URL https://mast.stsci.edu/api/v0.1/Download/file?uri=mast:HST/product/odj101050_x1d.fits to ./mastDownload/HST/odj101050/odj101050_x1d.fits ..."
     ]
    },
    {
     "name": "stdout",
     "output_type": "stream",
     "text": [
      " [Done]\n"
     ]
    },
    {
     "name": "stdout",
     "output_type": "stream",
     "text": [
      "Downloading URL https://mast.stsci.edu/api/v0.1/Download/file?uri=mast:HST/product/odj101060_raw.fits to ./mastDownload/HST/odj101060/odj101060_raw.fits ..."
     ]
    },
    {
     "name": "stdout",
     "output_type": "stream",
     "text": [
      " [Done]\n"
     ]
    },
    {
     "name": "stdout",
     "output_type": "stream",
     "text": [
      "Downloading URL https://mast.stsci.edu/api/v0.1/Download/file?uri=mast:HST/product/odj101060_x2d.fits to ./mastDownload/HST/odj101060/odj101060_x2d.fits ..."
     ]
    },
    {
     "name": "stdout",
     "output_type": "stream",
     "text": [
      " [Done]\n"
     ]
    },
    {
     "name": "stdout",
     "output_type": "stream",
     "text": [
      "Downloading URL https://mast.stsci.edu/api/v0.1/Download/file?uri=mast:HST/product/odj101060_flt.fits to ./mastDownload/HST/odj101060/odj101060_flt.fits ..."
     ]
    },
    {
     "name": "stdout",
     "output_type": "stream",
     "text": [
      " [Done]\n"
     ]
    },
    {
     "name": "stdout",
     "output_type": "stream",
     "text": [
      "Downloading URL https://mast.stsci.edu/api/v0.1/Download/file?uri=mast:HST/product/odj101060_x1d.fits to ./mastDownload/HST/odj101060/odj101060_x1d.fits ..."
     ]
    },
    {
     "name": "stdout",
     "output_type": "stream",
     "text": [
      " [Done]\n"
     ]
    },
    {
     "data": {
      "text/html": [
       "<div><i>Table length=8</i>\n",
       "<table id=\"table140111945959504\" class=\"table-striped table-bordered table-condensed\">\n",
       "<thead><tr><th>Local Path</th><th>Status</th><th>Message</th><th>URL</th></tr></thead>\n",
       "<thead><tr><th>str47</th><th>str8</th><th>object</th><th>object</th></tr></thead>\n",
       "<tr><td>./mastDownload/HST/odj101050/odj101050_raw.fits</td><td>COMPLETE</td><td>None</td><td>None</td></tr>\n",
       "<tr><td>./mastDownload/HST/odj101050/odj101050_x2d.fits</td><td>COMPLETE</td><td>None</td><td>None</td></tr>\n",
       "<tr><td>./mastDownload/HST/odj101050/odj101050_flt.fits</td><td>COMPLETE</td><td>None</td><td>None</td></tr>\n",
       "<tr><td>./mastDownload/HST/odj101050/odj101050_x1d.fits</td><td>COMPLETE</td><td>None</td><td>None</td></tr>\n",
       "<tr><td>./mastDownload/HST/odj101060/odj101060_raw.fits</td><td>COMPLETE</td><td>None</td><td>None</td></tr>\n",
       "<tr><td>./mastDownload/HST/odj101060/odj101060_x2d.fits</td><td>COMPLETE</td><td>None</td><td>None</td></tr>\n",
       "<tr><td>./mastDownload/HST/odj101060/odj101060_flt.fits</td><td>COMPLETE</td><td>None</td><td>None</td></tr>\n",
       "<tr><td>./mastDownload/HST/odj101060/odj101060_x1d.fits</td><td>COMPLETE</td><td>None</td><td>None</td></tr>\n",
       "</table></div>"
      ],
      "text/plain": [
       "<Table length=8>\n",
       "                   Local Path                    Status  Message  URL  \n",
       "                     str47                        str8    object object\n",
       "----------------------------------------------- -------- ------- ------\n",
       "./mastDownload/HST/odj101050/odj101050_raw.fits COMPLETE    None   None\n",
       "./mastDownload/HST/odj101050/odj101050_x2d.fits COMPLETE    None   None\n",
       "./mastDownload/HST/odj101050/odj101050_flt.fits COMPLETE    None   None\n",
       "./mastDownload/HST/odj101050/odj101050_x1d.fits COMPLETE    None   None\n",
       "./mastDownload/HST/odj101060/odj101060_raw.fits COMPLETE    None   None\n",
       "./mastDownload/HST/odj101060/odj101060_x2d.fits COMPLETE    None   None\n",
       "./mastDownload/HST/odj101060/odj101060_flt.fits COMPLETE    None   None\n",
       "./mastDownload/HST/odj101060/odj101060_x1d.fits COMPLETE    None   None"
      ]
     },
     "execution_count": 2,
     "metadata": {},
     "output_type": "execute_result"
    }
   ],
   "source": [
    "# remove downlaod directory if it already exists\n",
    "if os.path.exists(\"./mastDownload\"):\n",
    "    shutil.rmtree(\"./mastDownload\")\n",
    "# Search target object by obs_id\n",
    "target_id = \"odj101050\"\n",
    "ref_id = \"odj101060\"\n",
    "target = Observations.query_criteria(obs_id=[target_id, ref_id])\n",
    "# get a list of files assiciated with that target\n",
    "target_list = Observations.get_product_list(target)\n",
    "# Download only the SCIENCE fits files\n",
    "Observations.download_products(target_list, productType=\"SCIENCE\")"
   ]
  },
  {
   "cell_type": "markdown",
   "id": "b0992228",
   "metadata": {},
   "source": [
    "## _x1d Spectra of the Observations\n",
    "### Creating Shifted Spectrum\n",
    "In this notebook, we select two datasets of observations (odj101050, odj101060) with the same target (-PHI-LEO), detector (FUV-MAMA), and grating (G140M). We artificially shift one of the spectra (odj101050) to simulate the wavelength zeropoint shifted spectrum due to target acquisition failures, and use the other spectrum (odj101060) as the reference to conduct cross-correlation. To shift the spectrum, we set the \"WAVECORR\" calibration switch in the raw fits file to \"OMIT\" and recalibrate the spectrum using Calstis. \"WAVECORR\" is the calibration step that determines the shift of the image on the detector along each axis, and therefore by turning off the \"WAVECORR\" calibration switch, wavecal is not performed and the spectrum is systemetically shifted. We will then use the shifted spectrum and the reference spectrum to determine the wavelength zero point shift, recalibrate this shifted spectrum, and compare it with the original pipeline spectrum."
   ]
  },
  {
   "cell_type": "markdown",
   "id": "e838e94a-b6fb-44b5-b2b0-b2e1380104fb",
   "metadata": {},
   "source": [
    "Next, use the [Calibration Reference Data System](https://hst-crds.stsci.edu) (CRDS) [command line tools](https://hst-crds.stsci.edu/static/users_guide/command_line_tools.html) to update and download the reference files."
   ]
  },
  {
   "cell_type": "code",
   "execution_count": 3,
   "id": "f97e026d-b3b6-4c80-b557-945828d8a00c",
   "metadata": {
    "execution": {
     "iopub.execute_input": "2025-10-08T20:30:26.598759Z",
     "iopub.status.busy": "2025-10-08T20:30:26.598608Z",
     "iopub.status.idle": "2025-10-08T20:30:26.601431Z",
     "shell.execute_reply": "2025-10-08T20:30:26.600935Z"
    }
   },
   "outputs": [],
   "source": [
    "crds_path = os.path.expanduser(\"~\") + \"/crds_cache\"\n",
    "os.environ[\"CRDS_PATH\"] = crds_path\n",
    "os.environ[\"CRDS_SERVER_URL\"] = \"https://hst-crds.stsci.edu\"\n",
    "os.environ[\"oref\"] = os.path.join(crds_path, \"references/hst/oref/\")"
   ]
  },
  {
   "cell_type": "code",
   "execution_count": 4,
   "id": "bbc32c7e-a48b-4f82-85c1-5443e89319ac",
   "metadata": {
    "execution": {
     "iopub.execute_input": "2025-10-08T20:30:26.602784Z",
     "iopub.status.busy": "2025-10-08T20:30:26.602633Z",
     "iopub.status.idle": "2025-10-08T20:30:37.016764Z",
     "shell.execute_reply": "2025-10-08T20:30:37.016087Z"
    }
   },
   "outputs": [
    {
     "name": "stdout",
     "output_type": "stream",
     "text": [
      "CRDS - INFO -  No comparison context or source comparison requested.\r\n"
     ]
    },
    {
     "name": "stdout",
     "output_type": "stream",
     "text": [
      "CRDS - INFO -  ===> Processing ./mastDownload/HST/odj101050/odj101050_raw.fits\r\n"
     ]
    },
    {
     "name": "stdout",
     "output_type": "stream",
     "text": [
      "CRDS - INFO -  0 errors\r\n",
      "CRDS - INFO -  0 warnings\r\n",
      "CRDS - INFO -  2 infos\r\n"
     ]
    }
   ],
   "source": [
    "!crds bestrefs --update-bestrefs --sync-references=1 --files ./mastDownload/HST/odj101050/odj101050_raw.fits"
   ]
  },
  {
   "cell_type": "code",
   "execution_count": 5,
   "id": "db2cbd01",
   "metadata": {
    "execution": {
     "iopub.execute_input": "2025-10-08T20:30:37.018863Z",
     "iopub.status.busy": "2025-10-08T20:30:37.018666Z",
     "iopub.status.idle": "2025-10-08T20:30:37.038888Z",
     "shell.execute_reply": "2025-10-08T20:30:37.038376Z"
    }
   },
   "outputs": [],
   "source": [
    "pip_raw = os.path.join(\"./mastDownload/HST\", \"{}\".format(target_id), \"{}_raw.fits\".format(target_id))\n",
    "# Set the \"WAVECORR\" switch in the raw fits file header to \"OMIT\"\n",
    "fits.setval(pip_raw, \"WAVECORR\", value=\"OMIT\")\n",
    "\n",
    "# Create and clean \"./Shifted\" directory for saving new files\n",
    "shifted_dir = Path(\"./Shifted\")\n",
    "if os.path.exists(shifted_dir):\n",
    "    shutil.rmtree(shifted_dir)\n",
    "Path(shifted_dir).mkdir(exist_ok=True)"
   ]
  },
  {
   "cell_type": "code",
   "execution_count": 6,
   "id": "43a31707-1a42-4b97-8db0-4583d056b020",
   "metadata": {
    "execution": {
     "iopub.execute_input": "2025-10-08T20:30:37.040619Z",
     "iopub.status.busy": "2025-10-08T20:30:37.040466Z",
     "iopub.status.idle": "2025-10-08T20:30:37.496326Z",
     "shell.execute_reply": "2025-10-08T20:30:37.495757Z"
    }
   },
   "outputs": [
    {
     "name": "stdout",
     "output_type": "stream",
     "text": [
      "\n",
      "*** CALSTIS-0 -- Version 3.4.2 (19-Jan-2018) ***\n",
      "Begin    08-Oct-2025 20:30:37 UTC\n",
      "\n",
      "Input    ./mastDownload/HST/odj101050/odj101050_raw.fits\n",
      "Outroot  ./Shifted/odj101050_raw.fits\n",
      "\n",
      "*** CALSTIS-1 -- Version 3.4.2 (19-Jan-2018) ***\n",
      "Begin    08-Oct-2025 20:30:37 UTC\n",
      "Input    ./mastDownload/HST/odj101050/odj101050_raw.fits\n",
      "Output   ./Shifted/odj101050_flt.fits\n",
      "OBSMODE  ACCUM\n",
      "APERTURE 52X0.2\n",
      "OPT_ELEM G140M\n",
      "DETECTOR FUV-MAMA\n",
      "\n",
      "Imset 1  Begin 20:30:37 UTC\n"
     ]
    },
    {
     "name": "stdout",
     "output_type": "stream",
     "text": [
      "\n",
      "DQICORR  PERFORM\n",
      "DQITAB   oref$uce15153o_bpx.fits\n",
      "DQITAB   PEDIGREE=GROUND\n",
      "DQITAB   DESCRIP =New BPIXTAB with opt_elem column and correct repeller wire flag----\n",
      "DQICORR  COMPLETE\n"
     ]
    },
    {
     "name": "stdout",
     "output_type": "stream",
     "text": [
      "         Uncertainty array initialized.\n",
      "\n",
      "LORSCORR PERFORM\n"
     ]
    },
    {
     "name": "stdout",
     "output_type": "stream",
     "text": [
      "LORSCORR COMPLETE\n",
      "\n",
      "GLINCORR PERFORM\n",
      "LFLGCORR PERFORM\n",
      "MLINTAB  oref$j9r16559o_lin.fits\n",
      "MLINTAB  PEDIGREE=GROUND\n",
      "MLINTAB  DESCRIP =T. Danks gathered Info\n",
      "MLINTAB  DESCRIP =T. Danks Gathered Info\n",
      "GLINCORR COMPLETE\n",
      "LFLGCORR COMPLETE\n",
      "\n",
      "DARKCORR PERFORM\n",
      "DARKFILE oref$q591955ro_drk.fits\n",
      "DARKFILE PEDIGREE=INFLIGHT 29/01/2003 03/08/2004\n",
      "DARKFILE DESCRIP =Avg of 152 1380s darks from 9615 10034\n"
     ]
    },
    {
     "name": "stdout",
     "output_type": "stream",
     "text": [
      "DARKCORR COMPLETE\n",
      "\n",
      "FLATCORR PERFORM\n",
      "PFLTFILE oref$mbj1658bo_pfl.fits\n",
      "PFLTFILE PEDIGREE=INFLIGHT 17/03/1998 17/05/2002\n",
      "PFLTFILE DESCRIP =On-orbit FUV P-flat created from proposals 7645,8428,8862,8922\n",
      "LFLTFILE oref$m1b2139no_lfl.fits\n",
      "LFLTFILE PEDIGREE=DUMMY\n",
      "LFLTFILE DESCRIP =Dummy file created by M. Mcgrath. Modified by C Proffitt\n"
     ]
    },
    {
     "name": "stdout",
     "output_type": "stream",
     "text": [
      "FLATCORR COMPLETE\n",
      "\n",
      "PHOTCORR OMIT\n",
      "\n",
      "DOPPCORR applied to DQICORR, DARKCORR, FLATCORR\n",
      "\n",
      "STATFLAG PERFORM\n",
      "STATFLAG COMPLETE\n",
      "Imset 1  End 20:30:37 UTC\n",
      "\n",
      "End      08-Oct-2025 20:30:37 UTC\n",
      "\n",
      "*** CALSTIS-1 complete ***\n",
      "\n",
      "*** CALSTIS-7 -- Version 3.4.2 (19-Jan-2018) ***\n",
      "Begin    08-Oct-2025 20:30:37 UTC\n",
      "Input    ./Shifted/odj101050_flt.fits\n",
      "Output   ./Shifted/odj101050_x2d.fits\n",
      "OBSMODE  ACCUM\n",
      "APERTURE 52X0.2\n",
      "OPT_ELEM G140M\n",
      "DETECTOR FUV-MAMA\n",
      "Imset 1  Begin 20:30:37 UTC\n",
      "Warning  Wavecal processing has not been performed.\n",
      "\n",
      "HELCORR  PERFORM\n",
      "HELCORR  COMPLETE\n",
      "\n",
      "Order 1  Begin 20:30:37 UTC\n",
      "\n",
      "X2DCORR  PERFORM\n",
      "DISPCORR PERFORM\n",
      "APDESTAB oref$16j16005o_apd.fits\n",
      "APDESTAB PEDIGREE=INFLIGHT 01/03/1997 13/06/2017\n",
      "APDESTAB DESCRIP =Aligned long-slit bar positions for single-bar cases.--------------\n",
      "APDESTAB DESCRIP =Microscope Meas./Hartig Post-launch Offsets\n",
      "SDCTAB   oref$16j1600ao_sdc.fits\n",
      "SDCTAB   PEDIGREE=INFLIGHT 13/07/1997 13/06/2017\n",
      "SDCTAB   DESCRIP =Co-aligned fiducial bars via an update to the CDELT2 plate scales.-\n",
      "SDCTAB   DESCRIP =updated CDELT2 with inflight data, others Lindler-prelaunch\n",
      "DISPTAB  oref$m7p16110o_dsp.fits\n",
      "DISPTAB  PEDIGREE=INFLIGHT 04/03/1999 04/03/1999\n",
      "DISPTAB  DESCRIP =Dispersion coefficients reference table\n",
      "DISPTAB  DESCRIP =INFLIGHT Cal. Disp. Coeffs\n",
      "INANGTAB oref$h1v1541eo_iac.fits\n",
      "INANGTAB PEDIGREE=GROUND\n",
      "INANGTAB DESCRIP =Prelaunch Calibration/Lindler and Models\n",
      "INANGTAB DESCRIP =Model\n",
      "SPTRCTAB oref$77o1827do_1dt.fits\n",
      "SPTRCTAB PEDIGREE=INFLIGHT 27/02/1997 30/06/1998\n",
      "SPTRCTAB DESCRIP =New traces for select echelle secondary modes\n",
      "SPTRCTAB DESCRIP =Sandoval, Initial Postlaunch Calibration\n",
      "\n",
      "FLUXCORR PERFORM\n",
      "PHOTTAB  oref$9511857bo_pht.fits\n",
      "PHOTTAB  PEDIGREE=INFLIGHT 28/02/2000 21/11/2001\n",
      "PHOTTAB  DESCRIP =Fullerton 2025 calibration\n",
      "PHOTTAB  DESCRIP =Updated Sensitivities 2025 (CALSPEC v11 models)\n",
      "APERTAB  oref$y2r1559to_apt.fits\n",
      "APERTAB  PEDIGREE=MODEL\n",
      "APERTAB  DESCRIP =Added/updated values for 31X0.05NDA,31X0.05NDB,31X0.05NDC apertures\n",
      "APERTAB  DESCRIP =Bohlin/Hartig TIM Models Nov. 1998\n",
      "PCTAB    oref$y2r16005o_pct.fits\n",
      "PCTAB    PEDIGREE=INFLIGHT 18/5/1997 19/12/1998\n",
      "PCTAB    DESCRIP =Added/updated values for 31X0.05NDA,31X0.05NDB,31X0.05NDC apertures\n",
      "PCTAB    DESCRIP = 2 STIS observations averaged\n",
      "TDSTAB   oref$93q1947bo_tds.fits\n",
      "TDSTAB   PEDIGREE=INFLIGHT 01/04/1997 06/02/2025\n",
      "TDSTAB   DESCRIP =Updated time and slope arrays for all optical elements.\n",
      "FLUXCORR COMPLETE\n",
      "X2DCORR  COMPLETE\n",
      "DISPCORR COMPLETE\n",
      "Order 1  End 20:30:37 UTC\n",
      "Imset 1  End 20:30:37 UTC\n",
      "\n",
      "End      08-Oct-2025 20:30:37 UTC\n",
      "\n",
      "*** CALSTIS-7 complete ***\n",
      "\n",
      "*** CALSTIS-6 -- Version 3.4.2 (19-Jan-2018) ***\n",
      "Begin    08-Oct-2025 20:30:37 UTC\n",
      "\n",
      "Warning  Grating-aperture throughput correction table (GACTAB) was not found,\n",
      "         and no gac corrections will be applied\n",
      "Input    ./Shifted/odj101050_flt.fits\n",
      "Output   ./Shifted/odj101050_x1d.fits\n",
      "Rootname odj101050\n",
      "OBSMODE  ACCUM\n",
      "APERTURE 52X0.2\n",
      "OPT_ELEM G140M\n",
      "DETECTOR FUV-MAMA\n",
      "\n",
      "XTRACTAB oref$n7p10323o_1dx.fits\n",
      "XTRACTAB PEDIGREE=INFLIGHT 29/05/97\n",
      "XTRACTAB DESCRIP =Analysis from prop. 7064 and ground data\n",
      "XTRACTAB DESCRIP =Analysis from prop. 7064\n",
      "SPTRCTAB oref$77o1827do_1dt.fits\n",
      "SPTRCTAB PEDIGREE=INFLIGHT 27/02/1997 01/12/2009\n",
      "SPTRCTAB DESCRIP =New traces for select echelle secondary modes\n",
      "\n",
      "Imset 1  Begin 20:30:37 UTC\n"
     ]
    },
    {
     "name": "stdout",
     "output_type": "stream",
     "text": [
      "         Input read into memory.\n",
      "Order 1  Begin 20:30:37 UTC\n",
      "X1DCORR  PERFORM\n",
      "BACKCORR PERFORM\n",
      "******** Calling Slfit ***********BACKCORR COMPLETE\n",
      "X1DCORR  COMPLETE\n",
      "         Spectrum extracted at y position = 390.008\n",
      "\n",
      "DISPCORR PERFORM\n",
      "DISPTAB  oref$m7p16110o_dsp.fits\n",
      "DISPTAB  PEDIGREE=INFLIGHT 04/03/1999 04/03/1999\n",
      "DISPTAB  DESCRIP =Dispersion coefficients reference table\n",
      "DISPTAB  DESCRIP =INFLIGHT Cal. Disp. Coeffs\n",
      "APDESTAB oref$16j16005o_apd.fits\n",
      "APDESTAB PEDIGREE=INFLIGHT 01/03/1997 13/06/2017\n",
      "APDESTAB DESCRIP =Aligned long-slit bar positions for single-bar cases.--------------\n",
      "APDESTAB DESCRIP =Microscope Meas./Hartig Post-launch Offsets\n",
      "INANGTAB oref$h1v1541eo_iac.fits\n",
      "INANGTAB DESCRIP =Prelaunch Calibration/Lindler and Models\n",
      "DISPCORR COMPLETE\n",
      "\n",
      "HELCORR  PERFORM\n",
      "HELCORR  COMPLETE\n",
      "\n",
      "PHOTTAB  oref$9511857bo_pht.fits\n",
      "PHOTTAB  PEDIGREE=INFLIGHT 27/02/1997 24/09/2019\n",
      "PHOTTAB  DESCRIP =Fullerton 2025 calibration\n",
      "APERTAB  oref$y2r1559to_apt.fits\n",
      "APERTAB  PEDIGREE=MODEL\n",
      "APERTAB  DESCRIP =Added/updated values for 31X0.05NDA,31X0.05NDB,31X0.05NDC apertures\n",
      "APERTAB  DESCRIP =Bohlin/Hartig TIM Models Nov. 1998\n",
      "PCTAB    oref$y2r16005o_pct.fits\n",
      "PCTAB    PEDIGREE=INFLIGHT 18/05/1997 19/12/1998\n",
      "PCTAB    DESCRIP =Added/updated values for 31X0.05NDA,31X0.05NDB,31X0.05NDC apertures\n",
      "TDSTAB   oref$93q1947bo_tds.fits\n",
      "TDSTAB   PEDIGREE=INFLIGHT 01/04/1997 06/02/2025\n",
      "TDSTAB   DESCRIP =Updated time and slope arrays for all optical elements.\n",
      "FLUXCORR PERFORM\n",
      "FLUXCORR COMPLETE\n",
      "SGEOCORR OMIT\n",
      "\n",
      "         Row 1 written to disk.\n",
      "Order 1  End 20:30:37 UTC\n",
      "\n",
      "Imset 1  End 20:30:37 UTC\n",
      "\n",
      "Warning  Keyword `XTRACALG' is being added to header.\n",
      "End      08-Oct-2025 20:30:37 UTC\n",
      "\n",
      "*** CALSTIS-6 complete ***\n",
      "\n",
      "End      08-Oct-2025 20:30:37 UTC\n",
      "\n",
      "*** CALSTIS-0 complete ***\n"
     ]
    }
   ],
   "source": [
    "# Recalibration\n",
    "res = stistools.calstis.calstis(pip_raw, verbose=False, outroot=\"./Shifted/\")\n",
    "# calstis returns 0 if calibration completes; if not, raise assertion error\n",
    "assert res == 0, f\"CalSTIS exited with an error:  {res}\""
   ]
  },
  {
   "cell_type": "markdown",
   "id": "0cdffdb7",
   "metadata": {},
   "source": [
    "<a id='shifted'></a>\n",
    "As seen in the plot, the spectrum is now shifted compared to the pipeline spectrum:"
   ]
  },
  {
   "cell_type": "code",
   "execution_count": 7,
   "id": "d540b2e8",
   "metadata": {
    "execution": {
     "iopub.execute_input": "2025-10-08T20:30:37.498010Z",
     "iopub.status.busy": "2025-10-08T20:30:37.497826Z",
     "iopub.status.idle": "2025-10-08T20:30:37.531446Z",
     "shell.execute_reply": "2025-10-08T20:30:37.530917Z"
    }
   },
   "outputs": [
    {
     "data": {
      "text/plain": [
       "Text(0.5, 1.0, 'Pipeline and Shifted _x1d Spectrum')"
      ]
     },
     "execution_count": 7,
     "metadata": {},
     "output_type": "execute_result"
    }
   ],
   "source": [
    "pip_x1d = os.path.join(\"./mastDownload/HST\", \"{}\".format(target_id), \"{}_x1d.fits\".format(target_id))\n",
    "shifted_x1d = Path(\"./Shifted/{}_x1d.fits\".format(target_id))\n",
    "\n",
    "with fits.open(pip_x1d) as hdu1, fits.open(shifted_x1d) as hdu2:\n",
    "    pip_wl = hdu1[1].data[\"WAVELENGTH\"][0]\n",
    "    pip_flux = hdu1[1].data[\"FLUX\"][0]\n",
    "    \n",
    "    shifted_wl = hdu2[1].data[\"WAVELENGTH\"][0]\n",
    "    shifted_flux = hdu2[1].data[\"FLUX\"][0]\n",
    "\n",
    "fig = plt.figure(figsize=(20, 10))\n",
    "plt.plot(pip_wl, pip_flux, label=\"Pipeline Spectrum ({})\".format(target_id), alpha=0.5)\n",
    "plt.plot(shifted_wl, shifted_flux, label=\"Shifted spectrum ({})\".format(target_id), alpha=0.5)\n",
    "plt.legend(loc=\"best\")\n",
    "plt.xlabel(\"Wavelength [Å]\")\n",
    "plt.ylabel(\"Flux [ergs/s/cm$^2$/Å]\")\n",
    "plt.title(\"Pipeline and Shifted _x1d Spectrum\")"
   ]
  },
  {
   "cell_type": "markdown",
   "id": "485b29c2",
   "metadata": {},
   "source": [
    "### Spectrum Interpolation\n",
    "Since the wavelength range of the pipeline and shifted spectra are different, we interpolate one of the spectra based on the wavelength of the other one so that the two spectra share the same wavelength array. As shown in the plot, the spectrum with \"WAVECORR\" turned off is systemetically shifted to the left."
   ]
  },
  {
   "cell_type": "code",
   "execution_count": 8,
   "id": "7ee87e2f",
   "metadata": {
    "execution": {
     "iopub.execute_input": "2025-10-08T20:30:37.533149Z",
     "iopub.status.busy": "2025-10-08T20:30:37.532978Z",
     "iopub.status.idle": "2025-10-08T20:30:37.561957Z",
     "shell.execute_reply": "2025-10-08T20:30:37.561437Z"
    }
   },
   "outputs": [
    {
     "data": {
      "text/plain": [
       "Text(0.5, 1.0, 'Reference and Shifted _x1d Spectrum')"
      ]
     },
     "execution_count": 8,
     "metadata": {},
     "output_type": "execute_result"
    }
   ],
   "source": [
    "ref_x1d = os.path.join(\"./mastDownload/HST\", \"{}\".format(ref_id), \"{}_x1d.fits\".format(ref_id))\n",
    "\n",
    "with fits.open(ref_x1d) as hdu1, fits.open(shifted_x1d) as hdu2:\n",
    "    wl = hdu1[1].data[\"WAVELENGTH\"][0]\n",
    "    ref_flux = hdu1[1].data[\"FLUX\"][0]\n",
    "    \n",
    "    shifted_wl = hdu2[1].data[\"WAVELENGTH\"][0]\n",
    "    shifted_flux = hdu2[1].data[\"FLUX\"][0]\n",
    "    \n",
    "    shifted_flux = np.interp(wl, shifted_wl, shifted_flux)\n",
    "\n",
    "fig = plt.figure(figsize=(20, 10))\n",
    "plt.plot(wl, ref_flux, alpha=0.5, label=\"Reference spectrum ({})\".format(target_id))\n",
    "plt.plot(wl, shifted_flux, alpha=0.5, label=\"Shifted spectrum ({})\".format(ref_id))\n",
    "plt.legend(loc=\"best\")\n",
    "plt.xlabel(\"Wavelength [Å]\")\n",
    "plt.ylabel(\"Flux [ergs/s/cm$^2$/Å]\")\n",
    "plt.title(\"Reference and Shifted _x1d Spectrum\")"
   ]
  },
  {
   "cell_type": "markdown",
   "id": "20da9962",
   "metadata": {},
   "source": [
    "## Cross-Correlation"
   ]
  },
  {
   "cell_type": "markdown",
   "id": "e11050cf",
   "metadata": {},
   "source": [
    "### Dispersion per Pixel\n",
    "To perform cross-correlation, detemine the shift amount in pixels, and then convert it into wavelength, we first need to determine the dispersion per pixel, i.e., the mean differences of adjacent data points in the wavelength grid."
   ]
  },
  {
   "cell_type": "code",
   "execution_count": 9,
   "id": "0307b601",
   "metadata": {
    "execution": {
     "iopub.execute_input": "2025-10-08T20:30:37.563508Z",
     "iopub.status.busy": "2025-10-08T20:30:37.563348Z",
     "iopub.status.idle": "2025-10-08T20:30:37.566280Z",
     "shell.execute_reply": "2025-10-08T20:30:37.565862Z"
    }
   },
   "outputs": [
    {
     "name": "stdout",
     "output_type": "stream",
     "text": [
      "The dispersion per pixel is 0.053 Å/pixel\n"
     ]
    }
   ],
   "source": [
    "mean_plate_scale = np.mean(wl[1:]-wl[:-1])\n",
    "mean_plate_scale\n",
    "print(\"The dispersion per pixel is {:.3f}\".format(mean_plate_scale) + \" Å/pixel\")"
   ]
  },
  {
   "cell_type": "markdown",
   "id": "b6d67e03",
   "metadata": {},
   "source": [
    "### Masking out the Lyman-alpha line\n",
    "The absorption line at around 1215 Å is from Hydrogen Lyman-alpha, which mostly comes from the atmosphere and so should not shift like the science spectrum. Therefore, we need to mask out this region by separating the spectrum into two parts and perform two cross-correlations. There are other airglows lines in the ultraviolet that also does not shift with the science spectrum, including OI line at 1302 Å, OI line at 1305 Å, OI line at 1306 Å. For more information on the Airglow, see: [`AIRGLOW`](https://www.stsci.edu/hst/instrumentation/cos/calibration/airglow)."
   ]
  },
  {
   "cell_type": "code",
   "execution_count": 10,
   "id": "fec64825",
   "metadata": {
    "execution": {
     "iopub.execute_input": "2025-10-08T20:30:37.567668Z",
     "iopub.status.busy": "2025-10-08T20:30:37.567515Z",
     "iopub.status.idle": "2025-10-08T20:30:37.570317Z",
     "shell.execute_reply": "2025-10-08T20:30:37.569815Z"
    }
   },
   "outputs": [],
   "source": [
    "# the spectrum on the right of Lyman-alpha\n",
    "ref_flux1 = ref_flux[wl > 1220]\n",
    "shifted_flux1 = shifted_flux[wl > 1220]\n",
    "\n",
    "# the spectrum on the left of Lyman-alpha\n",
    "ref_flux2 = ref_flux[wl < 1213]\n",
    "shifted_flux2 = shifted_flux[wl < 1213]"
   ]
  },
  {
   "cell_type": "markdown",
   "id": "7a94762e",
   "metadata": {},
   "source": [
    "### Lag and Cross-Correlation Coefficient\n",
    "\n",
    "The lag is the displacement (in pixels) in the lagged spectrum. If the lag is 0, the spectra are aligned and not shifted.\n",
    "\n",
    "\n",
    "The cross-correlation coefficient decodes how similar two spectra are. The cross-correlation coefficient takes values from -1 to 1: if it's positive, the 2 spectra are positively correlated, if it's negative, the 2 spectra are negatively correlated. \n",
    "\n",
    "The cross-correlation algorithm shifts one of the input spectra according the the lags, and computes the cross-correlation coefficient for each lag. Then we take the lag with the maximum cross-coefficient and compute the corresponding displacement in wavelength space.\n",
    "\n",
    "In general, the cross-correlation can be written as:\n",
    "\n",
    "<p style=\"text-align: center;\">$C_{xy}[k]=\\sum_n x[n] y[n+k]$</p>\n",
    "\n",
    "in which k is the lag, C is the cross-correlation coefficient, and x and y are the input spectra.\n",
    "\n",
    "**Normalization of the input spectra is required to ensure the cross-correlation coefficient is in the [-1,1] range.**"
   ]
  },
  {
   "cell_type": "code",
   "execution_count": 11,
   "id": "35d0d87c",
   "metadata": {
    "execution": {
     "iopub.execute_input": "2025-10-08T20:30:37.571652Z",
     "iopub.status.busy": "2025-10-08T20:30:37.571504Z",
     "iopub.status.idle": "2025-10-08T20:30:37.574709Z",
     "shell.execute_reply": "2025-10-08T20:30:37.574219Z"
    }
   },
   "outputs": [],
   "source": [
    "def cross_correlate(shifted_flux, ref_flux):\n",
    "    assert len(shifted_flux) == len(ref_flux), \"Arrays must be same size\"\n",
    "    \n",
    "    # Normalize inputs:\n",
    "    shifted_flux = shifted_flux - shifted_flux.mean()\n",
    "    shifted_flux /= shifted_flux.std()\n",
    "    ref_flux = ref_flux - ref_flux.mean()\n",
    "    ref_flux /= ref_flux.std()\n",
    "    \n",
    "    # centered at the median of len(a)\n",
    "    lag = correlation_lags(len(shifted_flux), len(ref_flux), mode=\"same\") \n",
    "    # find the cross-correlation coefficient\n",
    "    cc = correlate(shifted_flux, ref_flux, mode=\"same\") / float(len(ref_flux))\n",
    "        \n",
    "    return lag, cc"
   ]
  },
  {
   "cell_type": "markdown",
   "id": "51a3844b",
   "metadata": {},
   "source": [
    "### Polynimial Fitting and Zero Point Shift\n",
    "After we get the lag and cross-correlation coefficient, we can determine the zero point shift by finding the lag with the maximum cross-correlation coefficient. However, since we only have discrete pixels shifts, we will fit a quadratic curve near the peak, get a fractional pixel shift, and find the maxima of the quadratic curve as the zero point shift. The zero point shift is shown as the green vertical line in the plot.\n",
    "\n",
    "In this specific case, we choose the lag from -3 to 3, and fitted a 2 degree polynomial curve around the maximum cross-correlation coefficient to determine the shift in pixel space.**The lag range and polynomial fitting is not the single solution that can be applied to all cases of wavelength zero point shifts. Users should experiment with the lag range and number of points to fit the polynomial curve based on the use case.**\n",
    "\n",
    "We first find the lag and cross-correlation coefficient of the right part of the spectrum:"
   ]
  },
  {
   "cell_type": "code",
   "execution_count": 12,
   "id": "06d43187",
   "metadata": {
    "execution": {
     "iopub.execute_input": "2025-10-08T20:30:37.576236Z",
     "iopub.status.busy": "2025-10-08T20:30:37.576083Z",
     "iopub.status.idle": "2025-10-08T20:30:37.593812Z",
     "shell.execute_reply": "2025-10-08T20:30:37.593383Z"
    }
   },
   "outputs": [
    {
     "data": {
      "text/plain": [
       "<matplotlib.legend.Legend at 0x7f6e7277a010>"
      ]
     },
     "execution_count": 12,
     "metadata": {},
     "output_type": "execute_result"
    }
   ],
   "source": [
    "fig = plt.figure(figsize=(10, 6))\n",
    "lag, cc = cross_correlate(shifted_flux1, ref_flux1)\n",
    "plt.plot(lag, cc, \".-\", label=\"cross-correlation coefficient\")\n",
    "\n",
    "# fit quadratic near the peak to find the pixel shift\n",
    "fitter = fitting.LinearLSQFitter()\n",
    "# get the 5 points near the peak\n",
    "width = 5\n",
    "low, hi = np.argmax(cc) - width//2, np.argmax(cc) + width//2 + 1\n",
    "fit = fitter(Polynomial1D(degree=2), x=lag[low:hi], y=cc[low:hi])\n",
    "x_c = np.arange(-10, 0, 0.01)\n",
    "plt.plot(x_c, fit(x_c), alpha=0.5, label=\"fitted quadratic curve\")\n",
    "# finding the maxima\n",
    "shift1 = -fit.parameters[1] / (2. * fit.parameters[2])\n",
    "plt.plot([shift1, shift1], [0, 1], alpha=0.5, label=\"quadratic curve maxima\")\n",
    "\n",
    "plt.xlim(-20, 20)\n",
    "plt.ylim(0, 1)\n",
    "plt.xlabel(\"Lag [pix]\")\n",
    "plt.ylabel(\"Cross-correlation coeff\")\n",
    "plt.title(\"15168-01, G140M/C1222 Observations\")\n",
    "plt.legend(loc=\"best\")"
   ]
  },
  {
   "cell_type": "markdown",
   "id": "b213f1c5",
   "metadata": {},
   "source": [
    "Convert the lag back into zero point shift in wavelength space:"
   ]
  },
  {
   "cell_type": "code",
   "execution_count": 13,
   "id": "a8598339",
   "metadata": {
    "execution": {
     "iopub.execute_input": "2025-10-08T20:30:37.595287Z",
     "iopub.status.busy": "2025-10-08T20:30:37.595141Z",
     "iopub.status.idle": "2025-10-08T20:30:37.598057Z",
     "shell.execute_reply": "2025-10-08T20:30:37.597631Z"
    }
   },
   "outputs": [
    {
     "name": "stdout",
     "output_type": "stream",
     "text": [
      "Shift between the G140M/c1222 observations is -4.935 pix = -0.263Å\n"
     ]
    }
   ],
   "source": [
    "print(\"Shift between the G140M/c1222 observations is {:.3f} pix = {:.3f}\".format(shift1, shift1 * mean_plate_scale) + \"Å\")"
   ]
  },
  {
   "cell_type": "markdown",
   "id": "2417f519",
   "metadata": {},
   "source": [
    "Apply the same procedure to the left part of the spectrum:"
   ]
  },
  {
   "cell_type": "code",
   "execution_count": 14,
   "id": "ecffe065",
   "metadata": {
    "execution": {
     "iopub.execute_input": "2025-10-08T20:30:37.599434Z",
     "iopub.status.busy": "2025-10-08T20:30:37.599283Z",
     "iopub.status.idle": "2025-10-08T20:30:37.615795Z",
     "shell.execute_reply": "2025-10-08T20:30:37.615303Z"
    }
   },
   "outputs": [
    {
     "name": "stdout",
     "output_type": "stream",
     "text": [
      "shift2 between the G140M/c1222 observations is -3.956 pix = -0.211Å\n"
     ]
    }
   ],
   "source": [
    "fig = plt.figure(figsize=(10, 6))\n",
    "lag, cc = cross_correlate(shifted_flux2, ref_flux2)\n",
    "plt.plot(lag, cc, \".-\", label=\"cross-correlation coefficient\")\n",
    "\n",
    "# fit quadratic near the peak to find the pixel shift\n",
    "fitter = fitting.LinearLSQFitter()\n",
    "# get the 5 points near the peak\n",
    "width = 5\n",
    "low, hi = np.argmax(cc) - width//2, np.argmax(cc) + width//2 + 1\n",
    "fit = fitter(Polynomial1D(degree=2), x=lag[low:hi], y=cc[low:hi])\n",
    "x_c = np.arange(-10, 0, 0.01)\n",
    "plt.plot(x_c, fit(x_c), alpha=0.5, label=\"fitted quadratic curve\")\n",
    "# finding the maxima\n",
    "shift2 = -fit.parameters[1] / (2. * fit.parameters[2])\n",
    "plt.plot([shift2, shift2], [0, 1], alpha=0.5, label=\"quadratic curve maxima\")\n",
    "\n",
    "plt.xlim(-20, 20)\n",
    "plt.ylim(0, 1)\n",
    "plt.xlabel(\"Lag [pix]\")\n",
    "plt.ylabel(\"Cross-correlation coeff\")\n",
    "plt.title(\"15168-01, G140M/C1222 Observations\")\n",
    "plt.legend(loc=\"best\")\n",
    "print(\"shift2 between the G140M/c1222 observations is {:.3f} pix = {:.3f}\".format(shift2, shift2 * mean_plate_scale) + \"Å\")"
   ]
  },
  {
   "cell_type": "markdown",
   "id": "7c79ff5c",
   "metadata": {},
   "source": [
    "However, as shown in the plot, the maximum cross-correlation coefficient (~0.5) is relatively small, which suggests that the spectra are less similar on the left side. With such a small cross-correlation coefficient, we cannot determine a reasonable shift in the pixel space. Therefore, we only take the shift determined by the right part of the spectrum as the shift of the spectrum:"
   ]
  },
  {
   "cell_type": "code",
   "execution_count": 15,
   "id": "6e4aec8b",
   "metadata": {
    "execution": {
     "iopub.execute_input": "2025-10-08T20:30:37.617234Z",
     "iopub.status.busy": "2025-10-08T20:30:37.617081Z",
     "iopub.status.idle": "2025-10-08T20:30:37.619744Z",
     "shell.execute_reply": "2025-10-08T20:30:37.619319Z"
    }
   },
   "outputs": [
    {
     "name": "stdout",
     "output_type": "stream",
     "text": [
      "shift between the G140M/c1222 observations is -4.935 pix = -0.263Å\n"
     ]
    }
   ],
   "source": [
    "shift = shift1\n",
    "print(\"shift between the G140M/c1222 observations is {:.3f} pix = {:.3f}\".format(shift, shift * mean_plate_scale) + \"Å\")"
   ]
  },
  {
   "cell_type": "markdown",
   "id": "5d1252f0",
   "metadata": {},
   "source": [
    "## Recalibrate Spectrum\n",
    "After we determine the wavelength zero point shift, we can use the value to recalibrate the spectrum.\n",
    "\n",
    "In the Calstis pipeline, \"WAVECORR\" calibration step determines the spectral shift values, and writes the keyword values SHIFTA1, SHIFTA2 for the spectral and spatial shifts, respectively, to the science header. To apply the spectral shift from the cross-correlation, we get the SHIFTA1, SHIFTA2 keywords from the _flt fits file, add the shift (in pixel space) to SHIFTA1, and write the updated keywords to the _raw fits file."
   ]
  },
  {
   "cell_type": "code",
   "execution_count": 16,
   "id": "106dd67f",
   "metadata": {
    "execution": {
     "iopub.execute_input": "2025-10-08T20:30:37.621123Z",
     "iopub.status.busy": "2025-10-08T20:30:37.620974Z",
     "iopub.status.idle": "2025-10-08T20:30:37.644661Z",
     "shell.execute_reply": "2025-10-08T20:30:37.644172Z"
    }
   },
   "outputs": [],
   "source": [
    "# get SHIFTA1, SHIFTA1 keywords from the first science extension\n",
    "shifted_flt = Path(\"./Shifted/{}_flt.fits\".format(target_id))\n",
    "# since we have turned off WAVECOR at the beginning, SHIFTA1 should be 0\n",
    "SHIFTA1 = fits.getval(shifted_flt, \"SHIFTA1\", 1)\n",
    "SHIFTA2 = fits.getval(shifted_flt, \"SHIFTA2\", 1)\n",
    "assert (SHIFTA1 == 0 and SHIFTA2 == 0)\n",
    "# update SHIFTA1 (only in the spectral direction)\n",
    "SHIFTA1 += shift\n",
    "# update the the SHIFTA1, SHIFTA1 keywords in the _raw fits file first science extension\n",
    "fits.setval(pip_raw, \"SHIFTA1\", value=SHIFTA1, ext=1)\n",
    "fits.setval(pip_raw, \"SHIFTA2\", value=SHIFTA2, ext=1)"
   ]
  },
  {
   "cell_type": "markdown",
   "id": "a8ce2c50",
   "metadata": {},
   "source": [
    "Then we need to turn the \"WAVECORR\" calibration switch to \"omit\" so that the Calstis calibration pipeline takes our new computed value instead of the wavecal returned value as the wavelength zero point shift."
   ]
  },
  {
   "cell_type": "code",
   "execution_count": 17,
   "id": "5cc7018d",
   "metadata": {
    "execution": {
     "iopub.execute_input": "2025-10-08T20:30:37.646252Z",
     "iopub.status.busy": "2025-10-08T20:30:37.646094Z",
     "iopub.status.idle": "2025-10-08T20:30:37.657733Z",
     "shell.execute_reply": "2025-10-08T20:30:37.657339Z"
    }
   },
   "outputs": [],
   "source": [
    "fits.setval(pip_raw, \"WAVECORR\", value=\"OMIT\", ext=0)\n",
    "assert fits.getval(pip_raw, keyword=\"WAVECORR\", ext=0) == \"OMIT\""
   ]
  },
  {
   "cell_type": "markdown",
   "id": "8a8d5e79",
   "metadata": {},
   "source": [
    "Recalibrate the spectrum using the Calstis pipeline. We create a new folder called \"Recalibration\" to store the recalibrated files. For more information on the Calstis pipeline, see: [STIS Calibration](https://hst-docs.stsci.edu/stisdhb/chapter-3-stis-calibration), [calstis](https://stistools.readthedocs.io/en/latest/calstis.html)."
   ]
  },
  {
   "cell_type": "code",
   "execution_count": 18,
   "id": "411921fb",
   "metadata": {
    "execution": {
     "iopub.execute_input": "2025-10-08T20:30:37.659190Z",
     "iopub.status.busy": "2025-10-08T20:30:37.659037Z",
     "iopub.status.idle": "2025-10-08T20:30:38.113540Z",
     "shell.execute_reply": "2025-10-08T20:30:38.113026Z"
    }
   },
   "outputs": [
    {
     "name": "stdout",
     "output_type": "stream",
     "text": [
      "\n",
      "*** CALSTIS-0 -- Version 3.4.2 (19-Jan-2018) ***\n",
      "Begin    08-Oct-2025 20:30:37 UTC\n",
      "\n",
      "Input    ./mastDownload/HST/odj101050/odj101050_raw.fits\n",
      "Outroot  ./Recalibration/odj101050_raw.fits\n",
      "\n",
      "*** CALSTIS-1 -- Version 3.4.2 (19-Jan-2018) ***\n",
      "Begin    08-Oct-2025 20:30:37 UTC\n",
      "Input    ./mastDownload/HST/odj101050/odj101050_raw.fits\n",
      "Output   ./Recalibration/odj101050_flt.fits\n",
      "OBSMODE  ACCUM\n",
      "APERTURE 52X0.2\n",
      "OPT_ELEM G140M\n",
      "DETECTOR FUV-MAMA\n",
      "\n",
      "Imset 1  Begin 20:30:37 UTC\n",
      "\n",
      "DQICORR  PERFORM\n",
      "DQITAB   oref$uce15153o_bpx.fits\n",
      "DQITAB   PEDIGREE=GROUND\n",
      "DQITAB   DESCRIP =New BPIXTAB with opt_elem column and correct repeller wire flag----\n",
      "DQICORR  COMPLETE\n",
      "         Uncertainty array initialized.\n",
      "\n",
      "LORSCORR PERFORM\n",
      "LORSCORR COMPLETE\n",
      "\n",
      "GLINCORR PERFORM\n",
      "LFLGCORR PERFORM\n",
      "MLINTAB  oref$j9r16559o_lin.fits\n",
      "MLINTAB  PEDIGREE=GROUND\n",
      "MLINTAB  DESCRIP =T. Danks gathered Info\n",
      "MLINTAB  DESCRIP =T. Danks Gathered Info\n",
      "GLINCORR COMPLETE\n",
      "LFLGCORR COMPLETE\n",
      "\n",
      "DARKCORR PERFORM\n",
      "DARKFILE oref$q591955ro_drk.fits\n",
      "DARKFILE PEDIGREE=INFLIGHT 29/01/2003 03/08/2004\n",
      "DARKFILE DESCRIP =Avg of 152 1380s darks from 9615 10034\n"
     ]
    },
    {
     "name": "stdout",
     "output_type": "stream",
     "text": [
      "DARKCORR COMPLETE\n",
      "\n",
      "FLATCORR PERFORM\n",
      "PFLTFILE oref$mbj1658bo_pfl.fits\n",
      "PFLTFILE PEDIGREE=INFLIGHT 17/03/1998 17/05/2002\n",
      "PFLTFILE DESCRIP =On-orbit FUV P-flat created from proposals 7645,8428,8862,8922\n",
      "LFLTFILE oref$m1b2139no_lfl.fits\n",
      "LFLTFILE PEDIGREE=DUMMY\n",
      "LFLTFILE DESCRIP =Dummy file created by M. Mcgrath. Modified by C Proffitt\n",
      "FLATCORR COMPLETE\n",
      "\n",
      "PHOTCORR OMIT\n",
      "\n",
      "DOPPCORR applied to DQICORR, DARKCORR, FLATCORR\n",
      "\n",
      "STATFLAG PERFORM\n",
      "STATFLAG COMPLETE\n",
      "Imset 1  End 20:30:37 UTC\n",
      "\n",
      "End      08-Oct-2025 20:30:37 UTC\n",
      "\n",
      "*** CALSTIS-1 complete ***\n",
      "\n",
      "*** CALSTIS-7 -- Version 3.4.2 (19-Jan-2018) ***\n",
      "Begin    08-Oct-2025 20:30:37 UTC\n",
      "Input    ./Recalibration/odj101050_flt.fits\n",
      "Output   ./Recalibration/odj101050_x2d.fits\n",
      "OBSMODE  ACCUM\n",
      "APERTURE 52X0.2\n",
      "OPT_ELEM G140M\n",
      "DETECTOR FUV-MAMA\n",
      "Imset 1  Begin 20:30:37 UTC\n",
      "Warning  Wavecal processing has not been performed.\n",
      "\n",
      "HELCORR  PERFORM\n",
      "HELCORR  COMPLETE\n",
      "\n",
      "Order 1  Begin 20:30:37 UTC\n",
      "\n",
      "X2DCORR  PERFORM\n",
      "DISPCORR PERFORM\n",
      "APDESTAB oref$16j16005o_apd.fits\n",
      "APDESTAB PEDIGREE=INFLIGHT 01/03/1997 13/06/2017\n",
      "APDESTAB DESCRIP =Aligned long-slit bar positions for single-bar cases.--------------\n",
      "APDESTAB DESCRIP =Microscope Meas./Hartig Post-launch Offsets\n",
      "SDCTAB   oref$16j1600ao_sdc.fits\n",
      "SDCTAB   PEDIGREE=INFLIGHT 13/07/1997 13/06/2017\n",
      "SDCTAB   DESCRIP =Co-aligned fiducial bars via an update to the CDELT2 plate scales.-\n",
      "SDCTAB   DESCRIP =updated CDELT2 with inflight data, others Lindler-prelaunch\n",
      "DISPTAB  oref$m7p16110o_dsp.fits\n",
      "DISPTAB  PEDIGREE=INFLIGHT 04/03/1999 04/03/1999\n",
      "DISPTAB  DESCRIP =Dispersion coefficients reference table\n",
      "DISPTAB  DESCRIP =INFLIGHT Cal. Disp. Coeffs\n",
      "INANGTAB oref$h1v1541eo_iac.fits\n",
      "INANGTAB PEDIGREE=GROUND\n",
      "INANGTAB DESCRIP =Prelaunch Calibration/Lindler and Models\n",
      "INANGTAB DESCRIP =Model\n",
      "SPTRCTAB oref$77o1827do_1dt.fits\n",
      "SPTRCTAB PEDIGREE=INFLIGHT 27/02/1997 30/06/1998\n",
      "SPTRCTAB DESCRIP =New traces for select echelle secondary modes\n",
      "SPTRCTAB DESCRIP =Sandoval, Initial Postlaunch Calibration\n",
      "\n",
      "FLUXCORR PERFORM\n",
      "PHOTTAB  oref$9511857bo_pht.fits\n",
      "PHOTTAB  PEDIGREE=INFLIGHT 28/02/2000 21/11/2001\n",
      "PHOTTAB  DESCRIP =Fullerton 2025 calibration\n",
      "PHOTTAB  DESCRIP =Updated Sensitivities 2025 (CALSPEC v11 models)\n",
      "APERTAB  oref$y2r1559to_apt.fits\n",
      "APERTAB  PEDIGREE=MODEL\n",
      "APERTAB  DESCRIP =Added/updated values for 31X0.05NDA,31X0.05NDB,31X0.05NDC apertures\n",
      "APERTAB  DESCRIP =Bohlin/Hartig TIM Models Nov. 1998\n",
      "PCTAB    oref$y2r16005o_pct.fits\n",
      "PCTAB    PEDIGREE=INFLIGHT 18/5/1997 19/12/1998\n",
      "PCTAB    DESCRIP =Added/updated values for 31X0.05NDA,31X0.05NDB,31X0.05NDC apertures\n",
      "PCTAB    DESCRIP = 2 STIS observations averaged\n",
      "TDSTAB   oref$93q1947bo_tds.fits\n",
      "TDSTAB   PEDIGREE=INFLIGHT 01/04/1997 06/02/2025\n",
      "TDSTAB   DESCRIP =Updated time and slope arrays for all optical elements.\n",
      "FLUXCORR COMPLETE\n",
      "X2DCORR  COMPLETE\n",
      "DISPCORR COMPLETE\n",
      "Order 1  End 20:30:38 UTC\n",
      "Imset 1  End 20:30:38 UTC\n",
      "\n",
      "End      08-Oct-2025 20:30:38 UTC\n",
      "\n",
      "*** CALSTIS-7 complete ***\n",
      "\n",
      "*** CALSTIS-6 -- Version 3.4.2 (19-Jan-2018) ***\n",
      "Begin    08-Oct-2025 20:30:38 UTC\n",
      "\n",
      "Warning  Grating-aperture throughput correction table (GACTAB) was not found,\n",
      "         and no gac corrections will be applied\n",
      "Input    ./Recalibration/odj101050_flt.fits\n",
      "Output   ./Recalibration/odj101050_x1d.fits\n",
      "Rootname odj101050\n",
      "OBSMODE  ACCUM\n",
      "APERTURE 52X0.2\n",
      "OPT_ELEM G140M\n",
      "DETECTOR FUV-MAMA\n",
      "\n",
      "XTRACTAB oref$n7p10323o_1dx.fits\n",
      "XTRACTAB PEDIGREE=INFLIGHT 29/05/97\n",
      "XTRACTAB DESCRIP =Analysis from prop. 7064 and ground data\n",
      "XTRACTAB DESCRIP =Analysis from prop. 7064\n",
      "SPTRCTAB oref$77o1827do_1dt.fits\n",
      "SPTRCTAB PEDIGREE=INFLIGHT 27/02/1997 01/12/2009\n",
      "SPTRCTAB DESCRIP =New traces for select echelle secondary modes\n",
      "\n",
      "Imset 1  Begin 20:30:38 UTC\n",
      "         Input read into memory.\n",
      "Order 1  Begin 20:30:38 UTC\n",
      "X1DCORR  PERFORM\n"
     ]
    },
    {
     "name": "stdout",
     "output_type": "stream",
     "text": [
      "BACKCORR PERFORM\n",
      "******** Calling Slfit ***********BACKCORR COMPLETE\n",
      "X1DCORR  COMPLETE\n",
      "         Spectrum extracted at y position = 390.008\n",
      "\n",
      "DISPCORR PERFORM\n",
      "DISPTAB  oref$m7p16110o_dsp.fits\n",
      "DISPTAB  PEDIGREE=INFLIGHT 04/03/1999 04/03/1999\n",
      "DISPTAB  DESCRIP =Dispersion coefficients reference table\n",
      "DISPTAB  DESCRIP =INFLIGHT Cal. Disp. Coeffs\n",
      "APDESTAB oref$16j16005o_apd.fits\n",
      "APDESTAB PEDIGREE=INFLIGHT 01/03/1997 13/06/2017\n",
      "APDESTAB DESCRIP =Aligned long-slit bar positions for single-bar cases.--------------\n",
      "APDESTAB DESCRIP =Microscope Meas./Hartig Post-launch Offsets\n",
      "INANGTAB oref$h1v1541eo_iac.fits\n",
      "INANGTAB DESCRIP =Prelaunch Calibration/Lindler and Models\n",
      "DISPCORR COMPLETE\n",
      "\n",
      "HELCORR  PERFORM\n",
      "HELCORR  COMPLETE\n",
      "\n",
      "PHOTTAB  oref$9511857bo_pht.fits\n",
      "PHOTTAB  PEDIGREE=INFLIGHT 27/02/1997 24/09/2019\n",
      "PHOTTAB  DESCRIP =Fullerton 2025 calibration\n",
      "APERTAB  oref$y2r1559to_apt.fits\n",
      "APERTAB  PEDIGREE=MODEL\n",
      "APERTAB  DESCRIP =Added/updated values for 31X0.05NDA,31X0.05NDB,31X0.05NDC apertures\n",
      "APERTAB  DESCRIP =Bohlin/Hartig TIM Models Nov. 1998\n",
      "PCTAB    oref$y2r16005o_pct.fits\n",
      "PCTAB    PEDIGREE=INFLIGHT 18/05/1997 19/12/1998\n",
      "PCTAB    DESCRIP =Added/updated values for 31X0.05NDA,31X0.05NDB,31X0.05NDC apertures\n",
      "TDSTAB   oref$93q1947bo_tds.fits\n",
      "TDSTAB   PEDIGREE=INFLIGHT 01/04/1997 06/02/2025\n",
      "TDSTAB   DESCRIP =Updated time and slope arrays for all optical elements.\n",
      "FLUXCORR PERFORM\n",
      "FLUXCORR COMPLETE\n",
      "SGEOCORR OMIT\n",
      "\n",
      "         Row 1 written to disk.\n",
      "Order 1  End 20:30:38 UTC\n",
      "\n",
      "Imset 1  End 20:30:38 UTC\n",
      "\n",
      "Warning  Keyword `XTRACALG' is being added to header.\n",
      "End      08-Oct-2025 20:30:38 UTC\n",
      "\n",
      "*** CALSTIS-6 complete ***\n",
      "\n",
      "End      08-Oct-2025 20:30:38 UTC\n",
      "\n",
      "*** CALSTIS-0 complete ***\n"
     ]
    }
   ],
   "source": [
    "# Create and clean \"./Recalibration\" directory for saving new files\n",
    "if os.path.exists(\"./Recalibration\"):\n",
    "    shutil.rmtree(\"./Recalibration\")\n",
    "Path(\"./Recalibration\").mkdir(exist_ok=True)\n",
    "# Recalibration\n",
    "res = stistools.calstis.calstis(pip_raw, verbose=False, outroot=\"./Recalibration/\")\n",
    "# calstis returns 0 if calibration completes; if not, raise assertion error\n",
    "assert res == 0, f\"CalSTIS exited with an error:  {res}\"\n",
    "recal_x1d = Path(\"./Recalibration/{}_x1d.fits\".format(target_id))"
   ]
  },
  {
   "cell_type": "markdown",
   "id": "524dbf99",
   "metadata": {},
   "source": [
    "We compare the recalibrated spectrum with the pipeline spectrum. The top panel is the shifted spectrum (orange) and the pipeline spectrum (blue) of observation odj101050, which is the same as the plot in [`2.1 Creating Shifted Spectrum`](#shifted). The bottom panel is the recalibrated spectrum (orange) and the pipeline spectrum (blue). The spectra almost overlap in the bottom panel, which suggests that the wavelength shift issue is solved in the recalibrated spectrum. "
   ]
  },
  {
   "cell_type": "code",
   "execution_count": 19,
   "id": "9ddc5c5c",
   "metadata": {
    "execution": {
     "iopub.execute_input": "2025-10-08T20:30:38.115193Z",
     "iopub.status.busy": "2025-10-08T20:30:38.115033Z",
     "iopub.status.idle": "2025-10-08T20:30:38.347521Z",
     "shell.execute_reply": "2025-10-08T20:30:38.346938Z"
    }
   },
   "outputs": [],
   "source": [
    "fig = plt.figure(figsize=(20, 20))\n",
    "plt.subplot(2, 1, 1)\n",
    "with fits.open(pip_x1d) as hdu1, fits.open(shifted_x1d) as hdu2:\n",
    "    pip_wl = hdu1[1].data[\"WAVELENGTH\"][0]\n",
    "    pip_flux = hdu1[1].data[\"FLUX\"][0]\n",
    "    \n",
    "    shifted_wl = hdu2[1].data[\"WAVELENGTH\"][0]\n",
    "    shifted_flux = hdu2[1].data[\"FLUX\"][0]\n",
    "    \n",
    "plt.plot(pip_wl, pip_flux, label=\"Pipeline Spectrum ({})\".format(target_id), alpha=0.5)\n",
    "plt.plot(shifted_wl, shifted_flux, label=\"Shifted spectrum ({})\".format(target_id), alpha=0.5)\n",
    "plt.legend(loc=\"best\")\n",
    "plt.xlabel(\"Wavelength [Å]\")\n",
    "plt.ylabel(\"Flux [ergs/s/cm$^2$/Å]\")\n",
    "plt.title(\"Pipeline and Shifted _x1d Spectrum\")\n",
    "\n",
    "plt.subplot(2, 1, 2)\n",
    "with fits.open(pip_x1d) as hdu1, fits.open(recal_x1d) as hdu2:\n",
    "    wl1 = hdu1[1].data[\"WAVELENGTH\"][0][10:-10]\n",
    "    wl2 = hdu2[1].data[\"WAVELENGTH\"][0][10:-10]\n",
    "    \n",
    "    flux1 = hdu1[1].data[\"FLUX\"][0][10:-10]\n",
    "    flux2 = hdu2[1].data[\"FLUX\"][0][10:-10]\n",
    "plt.plot(wl1, flux1, label=\"Pipeline Spectrum ({})\".format(target_id), alpha=0.3)\n",
    "plt.plot(wl2, flux2, label=\"Recalibrated Spectrum ({})\".format(target_id), alpha=0.3)\n",
    "plt.legend(loc=\"best\")\n",
    "plt.xlabel(\"Wavelength [Å]\")\n",
    "plt.ylabel(\"Flux [ergs/s/cm$^2$/Å]\")\n",
    "plt.title(\"Pipeline and Recalibrated _x1d Spectrum\")\n",
    "plt.tight_layout()"
   ]
  },
  {
   "cell_type": "markdown",
   "id": "b0b3ba26",
   "metadata": {},
   "source": [
    "\n",
    "---\n",
    "## About this Notebook <a class=\"tocSkip\">\n",
    "**Author:** [Keyi Ding](kding@stsci.edu)\n",
    "\n",
    "**Updated On:** 2023-04-14\n",
    "\n",
    "\n",
    "> *This tutorial was generated to be in compliance with the [STScI style guides](https://github.com/spacetelescope/style-guides) and would like to cite the [Jupyter guide](https://github.com/spacetelescope/style-guides/blob/master/templates/example_notebook.ipynb) in particular.*\n",
    "## Citations <a class=\"tocSkip\">\n",
    "\n",
    "If you use `astropy`, `matplotlib`, `astroquery`, or `numpy` for published research, please cite the\n",
    "authors. Follow these links for more information about citations:\n",
    "\n",
    "* [Citing `astropy`/`numpy`/`matplotlib`](https://www.scipy.org/citing.html)\n",
    "* [Citing `astroquery`](https://astroquery.readthedocs.io/en/latest/)\n",
    "\n",
    "<hr>\n",
    "\n",
    "[Top of Page](#top)\n",
    "<img style=\"float: right;\" src=\"https://raw.githubusercontent.com/spacetelescope/notebooks/master/assets/stsci_pri_combo_mark_horizonal_white_bkgd.png\" alt=\"Space Telescope Logo\" width=\"200px\"/> "
   ]
  },
  {
   "cell_type": "code",
   "execution_count": null,
   "id": "cae29c9c",
   "metadata": {},
   "outputs": [],
   "source": []
  }
 ],
 "metadata": {
  "kernelspec": {
   "display_name": "Python 3 (ipykernel)",
   "language": "python",
   "name": "python3"
  },
  "language_info": {
   "codemirror_mode": {
    "name": "ipython",
    "version": 3
   },
   "file_extension": ".py",
   "mimetype": "text/x-python",
   "name": "python",
   "nbconvert_exporter": "python",
   "pygments_lexer": "ipython3",
   "version": "3.11.13"
  },
  "toc": {
   "base_numbering": 1,
   "nav_menu": {},
   "number_sections": true,
   "sideBar": true,
   "skip_h1_title": true,
   "title_cell": "Learning Goals",
   "title_sidebar": "Contents",
   "toc_cell": true,
   "toc_position": {
    "height": "calc(100% - 180px)",
    "left": "10px",
    "top": "150px",
    "width": "211.067px"
   },
   "toc_section_display": true,
   "toc_window_display": true
  }
 },
 "nbformat": 4,
 "nbformat_minor": 5
}
