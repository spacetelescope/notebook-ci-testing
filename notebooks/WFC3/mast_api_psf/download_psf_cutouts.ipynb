{
 "cells": [
  {
   "cell_type": "markdown",
   "metadata": {
    "slideshow": {
     "slide_type": "slide"
    }
   },
   "source": [
    "<a id=\"top\"></a>\n",
    "# Downloading WFC3 and WFPC2 PSF Cutouts from MAST\n",
    "\n",
    "<hr>\n",
    "## Learning Goals\n",
    "This notebook demonstrates how to download PSF cutouts (i.e. \"realizations\" of the PSF) from the WFC3 and WFPC2 PSF Databases on the MAST Portal using the MAST API. By the end of this tutorial, you will:\n",
    "\n",
    "- Query the database for source metadata.\n",
    "- Download source cutouts from reconstructed dataURIs.\n",
    "- Extract source cutouts from dataURLs.\n",
    "\n",
    "Acronyms:\n",
    "- Hubble Space Telescope (HST)\n",
    "- Wide Field Camera 3 (WFC3)\n",
    "- Wide Field and Planetary Camera 2 (WFPC2)\n",
    "- WFC3 Ultraviolet and VISable detector (WFC3/UVIS or UVIS)\n",
    "- WFC3 InfraRed detector (WFC3/IR or IR)\n",
    "- Point Spread Function (PSF)\n",
    "- Mikulski Archive for Space Telescopes (MAST)\n",
    "- Application Programming Interface (API)\n",
    "\n",
    "## Table of Contents\n",
    "\n",
    "[Introduction](#intro) <br>\n",
    "[1. Imports](#import) <br>\n",
    "[2. Query the WFC3 and WFPC2 PSF Databases](#query) <br>\n",
    "[3. Reconstruct dataURIs](#reconstruct) <br>\n",
    "[4. Download and extract cutouts using dataURIs](#download) <br>\n",
    "- [4.1 Single file](#single) <br>\n",
    "- [4.2 Multiple files: bundle](#bundle) <br>\n",
    "- [4.3 Multiple files: pooling](#pool) <br>\n",
    "\n",
    "[5. Extracting cutouts using dataURLs](#url) <br>\n",
    "[6. Load and plot cutouts](#plot) <br>\n",
    "[7. Conclusions](#conclusions) <br>\n",
    "[Additional Resources](#add) <br>\n",
    "[About this Notebook](#about) <br>\n",
    "[Citations](#cite) <br>"
   ]
  },
  {
   "cell_type": "markdown",
   "metadata": {
    "slideshow": {
     "slide_type": "slide"
    }
   },
   "source": [
    "<a id=\"intro\"></a>\n",
    "## Introduction\n",
    "\n",
    "The WFC3 and WFPC2 PSF Databases are three databases (WFC3/UVIS, WFC3/IR, and WFPC2) of sources measured in every external observation from the instruments, excluding proprietary data. All sources were measured using [HST1PASS](https://www.stsci.edu/files/live/sites/www/files/home/hst/instrumentation/wfc3/documentation/instrument-science-reports-isrs/_documents/2022/WFC3-ISR-2022-05.pdf), a Fortran program that measures point sources using HST PSF models and one-pass photometry. These point sources are \"realizations\" of the PSF, meaning they can be used to construct detailed PSF models. [WFC3 ISR 2021-12](https://www.stsci.edu/files/live/sites/www/files/home/hst/instrumentation/wfc3/documentation/instrument-science-reports-isrs/_documents/2021/ISR_2021_12.pdf) (Dauphin et al. 2021) provides a detailed overview of the database pipeline and a statistical analysis of the databases up to 2021. As of August 2024, the databases have over 83.5 million sources, including both unsaturated and saturated sources. The databases are summarized below:\n",
    "- WFC3/UVIS: 33M sources (30M unsaturated and 3M saturated)\n",
    "- WFC3/IR: 25.5M sources (25.3M unsaturated and 0.2M saturated)\n",
    "- WFPC2: 25M sources (15M unsaturated and 10M saturated)\n",
    "\n",
    "The databases are available on the [MAST Portal](https://mast.stsci.edu/portal/Mashup/Clients/Mast/Portal.html) under the collections \"WFC3 PSF\" (with wavebands \"UVIS\" and \"IR\") and \"WFPC2 PSF\". By clicking \"Advanced Search\", the databases can be filtered and queried by various parameters, such as source position and flux. All of the searchable field options are described [here](https://mast.stsci.edu/api/v0/_w_f_c3__p_s_ffields.html). After completing the query, the sources' measurables (i.e. metadata) and cutouts centered on the source can be retrieved and downloaded, using either raw or calibrated data.\n",
    "\n",
    "Although the MAST Portal is extremely effective for a variety of purposes, we introduce a programmatic way of downloading metadata and cutouts, which can be useful for downstream tasks and increasing data accessibility."
   ]
  },
  {
   "cell_type": "markdown",
   "metadata": {
    "slideshow": {
     "slide_type": "slide"
    }
   },
   "source": [
    "<a id=\"import\"></a>\n",
    "## 1. Imports\n",
    "    \n",
    "This notebook assumes you have installed the required libraries as described [here](https://github.com/spacetelescope/hst_notebooks/blob/main/notebooks/WFC3/mast_api_psf/requirements.txt).\n",
    "\n",
    "We import:\n",
    "- `glob` for querying directories\n",
    "- `os` for handling files\n",
    "- `tarfile` for extracting the contents of a .tar.gz file\n",
    "- `numpy` for handling arrays\n",
    "- `matplotlib.pyplot` for plotting data\n",
    "- `astropy.io fits` for accessing FITS files\n",
    "\n",
    "We also import a custom module `mast_api_psf.py` for querying sources and downloading cutouts."
   ]
  },
  {
   "cell_type": "code",
   "execution_count": 1,
   "metadata": {
    "execution": {
     "iopub.execute_input": "2025-10-09T14:15:45.480533Z",
     "iopub.status.busy": "2025-10-09T14:15:45.480347Z",
     "iopub.status.idle": "2025-10-09T14:15:46.183284Z",
     "shell.execute_reply": "2025-10-09T14:15:46.182781Z"
    },
    "slideshow": {
     "slide_type": "fragment"
    }
   },
   "outputs": [],
   "source": [
    "import os\n",
    "import tarfile\n",
    "\n",
    "import numpy as np\n",
    "import matplotlib.pyplot as plt\n",
    "from astropy.io import fits\n",
    "\n",
    "import mast_api_psf"
   ]
  },
  {
   "cell_type": "markdown",
   "metadata": {},
   "source": [
    "<a id=\"query\"></a>\n",
    "## 2. Query the WFC3 and WFPC2 PSF Databases\n",
    "\n",
    "First, we query a database for source metadata. For this notebook, we use WFC3/UVIS (i.e. `UVIS`) as an example. The same syntax and functionality also works for WFC3/IR and WFPC2 (i.e. `IR` and `WFPC2`, respectively)."
   ]
  },
  {
   "cell_type": "code",
   "execution_count": 2,
   "metadata": {
    "execution": {
     "iopub.execute_input": "2025-10-09T14:15:46.185154Z",
     "iopub.status.busy": "2025-10-09T14:15:46.184992Z",
     "iopub.status.idle": "2025-10-09T14:15:46.187143Z",
     "shell.execute_reply": "2025-10-09T14:15:46.186717Z"
    }
   },
   "outputs": [],
   "source": [
    "detector = 'UVIS'"
   ]
  },
  {
   "cell_type": "markdown",
   "metadata": {},
   "source": [
    "Let's retrieve a small subset of sources by filtering our query. We retrieve all unsaturated sources centered on pixels between 100 to 102 on both the x and y coordinates of the detector. We format our min and max values using `mast_api_psf.set_min_max` from [Using the MAST API with Python](https://mast.stsci.edu/api/v0/pyex.html#set_min_max)."
   ]
  },
  {
   "cell_type": "code",
   "execution_count": 3,
   "metadata": {
    "execution": {
     "iopub.execute_input": "2025-10-09T14:15:46.188580Z",
     "iopub.status.busy": "2025-10-09T14:15:46.188402Z",
     "iopub.status.idle": "2025-10-09T14:15:46.193281Z",
     "shell.execute_reply": "2025-10-09T14:15:46.192801Z"
    }
   },
   "outputs": [
    {
     "data": {
      "text/plain": [
       "[{'min': 100, 'max': 102}]"
      ]
     },
     "execution_count": 3,
     "metadata": {},
     "output_type": "execute_result"
    }
   ],
   "source": [
    "center_min_max = mast_api_psf.set_min_max(100, 102)\n",
    "center_min_max"
   ]
  },
  {
   "cell_type": "markdown",
   "metadata": {},
   "source": [
    "We define our parameters to be filtered. As a reminder, all of the columns that can be filtered are described [here](https://mast.stsci.edu/api/v0/_w_f_c3__p_s_ffields.html).\n",
    "\n",
    "**Note: there are a few column differences between the databases.**\n",
    "- the column corresponding to filters (`filter`) in the WFC3 databases is `filter_1` in the WFPC2 database. For WFPC2, our module corrects `filter` to `filter_1` in case the former was used by accident.\n",
    "- the secondary filter column `filter_2` is only available for WFPC2. For special WFPC2 observations, the user can utilize two filters at once as long as both filters are on different wheels. The most common case is using a standard optical filter with a polarizer.\n",
    "- the proposal type column `proptype` is only available for WFC3."
   ]
  },
  {
   "cell_type": "code",
   "execution_count": 4,
   "metadata": {
    "execution": {
     "iopub.execute_input": "2025-10-09T14:15:46.220360Z",
     "iopub.status.busy": "2025-10-09T14:15:46.220166Z",
     "iopub.status.idle": "2025-10-09T14:15:46.222683Z",
     "shell.execute_reply": "2025-10-09T14:15:46.222190Z"
    }
   },
   "outputs": [],
   "source": [
    "parameters = {\n",
    "    'psf_x_center': center_min_max,\n",
    "    'psf_y_center': center_min_max,\n",
    "    'n_sat_pixels': ['0']\n",
    "}"
   ]
  },
  {
   "cell_type": "markdown",
   "metadata": {},
   "source": [
    "For reference, `n_sat_pixels` is the number of saturated pixels the source contains. 0 indicates no saturated pixels (i.e. unsaturated). Any number greater than 0 indicates a saturated source with that many saturated pixels. \n",
    "\n",
    "We format our filters using `mast_api_psf.set_filters` from [Using the MAST API with Python](https://mast.stsci.edu/api/v0/pyex.html#set_filters)."
   ]
  },
  {
   "cell_type": "code",
   "execution_count": 5,
   "metadata": {
    "execution": {
     "iopub.execute_input": "2025-10-09T14:15:46.224161Z",
     "iopub.status.busy": "2025-10-09T14:15:46.224005Z",
     "iopub.status.idle": "2025-10-09T14:15:46.227409Z",
     "shell.execute_reply": "2025-10-09T14:15:46.226928Z"
    }
   },
   "outputs": [
    {
     "data": {
      "text/plain": [
       "[{'paramName': 'psf_x_center', 'values': [{'min': 100, 'max': 102}]},\n",
       " {'paramName': 'psf_y_center', 'values': [{'min': 100, 'max': 102}]},\n",
       " {'paramName': 'n_sat_pixels', 'values': ['0']}]"
      ]
     },
     "execution_count": 5,
     "metadata": {},
     "output_type": "execute_result"
    }
   ],
   "source": [
    "filts = mast_api_psf.set_filters(parameters)\n",
    "filts"
   ]
  },
  {
   "cell_type": "markdown",
   "metadata": {},
   "source": [
    "Now, we query MAST by wrapping their API to retrieve our filtered sources using `mast_api_psf.mast_query_psf_database`. By default, this function returns all columns for the query. The columns can be changed using the parameter `columns`, which is a list of the columns to be returned. Here, we use the minimum number of columns necessary to reconstruct dataURIs.\n",
    "\n",
    "**Warning: the time it takes to query MAST depends on connectivity, the number of sources to retrieve, and the number of columns returned.**"
   ]
  },
  {
   "cell_type": "code",
   "execution_count": 6,
   "metadata": {
    "execution": {
     "iopub.execute_input": "2025-10-09T14:15:46.228846Z",
     "iopub.status.busy": "2025-10-09T14:15:46.228697Z",
     "iopub.status.idle": "2025-10-09T14:15:47.460737Z",
     "shell.execute_reply": "2025-10-09T14:15:47.460191Z"
    }
   },
   "outputs": [
    {
     "name": "stdout",
     "output_type": "stream",
     "text": [
      "Number of sources queried: 6\n"
     ]
    }
   ],
   "source": [
    "columns = ['id', 'rootname', 'filter', 'x_cal', 'y_cal', 'x_raw', 'y_raw', 'chip', 'qfit', 'subarray']\n",
    "obs = mast_api_psf.mast_query_psf_database(detector=detector, filts=filts, columns=columns)\n",
    "print(f'Number of sources queried: {len(obs)}')"
   ]
  },
  {
   "cell_type": "markdown",
   "metadata": {},
   "source": [
    "<a id=\"reconstruct\"></a>\n",
    "## 3. Reconstruct dataURIs\n",
    "\n",
    "Now that we retrieved our queried sources, we create dataURIs, or paths to their source on the MAST server, to download their respective cutouts using `mast_api_psf.make_dataURIs` and the metadata.\n",
    "\n",
    "We support two data types for WFPC2 (raw, calibrated), and three data types for WFC3 (raw, calibrated, charge transfer efficiency (CTE) corrected). These data types are indicated by unique file suffixes:\n",
    "- `raw` for raw WFC3 data\n",
    "- `d0m` for raw WFPC2 data\n",
    "- `flt` for calibrated WFC3 data\n",
    "- `c0m` for calibrated WFPC2 data\n",
    "- `flc` for calibrated, CTE corrected WFC3/UVIS data (a similar option is not available for WFC3/IR or WFPC2)\n",
    "\n",
    "Here, we reconstruct dataURIs for just calibrated (`flt`) data. By default, this function calls for 51x51 and 101x101 cutouts for unsaturated and saturated sources, respectively. The sizes can be changed within the function using the parameters `unsat_size` and `sat_size` as integers (i.e. `unsat_size=51, sat_size=101`)."
   ]
  },
  {
   "cell_type": "code",
   "execution_count": 7,
   "metadata": {
    "execution": {
     "iopub.execute_input": "2025-10-09T14:15:47.462214Z",
     "iopub.status.busy": "2025-10-09T14:15:47.462056Z",
     "iopub.status.idle": "2025-10-09T14:15:47.468119Z",
     "shell.execute_reply": "2025-10-09T14:15:47.467726Z"
    }
   },
   "outputs": [
    {
     "name": "stderr",
     "output_type": "stream",
     "text": [
      "\r",
      "  0%|          | 0/6 [00:00<?, ?it/s]"
     ]
    },
    {
     "name": "stderr",
     "output_type": "stream",
     "text": [
      "\r",
      "100%|██████████| 6/6 [00:00<00:00, 8726.01it/s]"
     ]
    },
    {
     "name": "stderr",
     "output_type": "stream",
     "text": [
      "\n"
     ]
    }
   ],
   "source": [
    "file_suffix = ['flt']\n",
    "dataURIs = mast_api_psf.make_dataURIs(obs, detector=detector, file_suffix=file_suffix)"
   ]
  },
  {
   "cell_type": "markdown",
   "metadata": {},
   "source": [
    "<a id=\"download\"></a>\n",
    "## 4. Download and extract cutouts using dataURIs\n",
    "\n",
    "With the dataURIs, we download the respective cutouts using three different functions as derivatives from [Using the MAST API with Python](https://mast.stsci.edu/api/v0/pyex.html#download_req). \n",
    "\n",
    "**Warning: the time it takes to download cutouts from MAST depends on connectivity and the number of sources to retrieve.**\n",
    "\n",
    "<a id=\"single\"></a>\n",
    "### 4.1 Single file\n",
    "\n",
    "First, we download a single cutout using `mast_api_psf.download_request_file`, which downloads to the current working directory."
   ]
  },
  {
   "cell_type": "code",
   "execution_count": 8,
   "metadata": {
    "execution": {
     "iopub.execute_input": "2025-10-09T14:15:47.469559Z",
     "iopub.status.busy": "2025-10-09T14:15:47.469386Z",
     "iopub.status.idle": "2025-10-09T14:15:47.959846Z",
     "shell.execute_reply": "2025-10-09T14:15:47.959428Z"
    }
   },
   "outputs": [
    {
     "data": {
      "text/plain": [
       "'ibc301rpq_30113376_F438W_flt_cutout.fits'"
      ]
     },
     "execution_count": 8,
     "metadata": {},
     "output_type": "execute_result"
    }
   ],
   "source": [
    "dataURI = dataURIs[0]\n",
    "filename = dataURI.split('/')[-1]\n",
    "filename_cutout = mast_api_psf.download_request_file([dataURI, filename])\n",
    "filename_cutout"
   ]
  },
  {
   "cell_type": "markdown",
   "metadata": {},
   "source": [
    "<a id=\"bundle\"></a>\n",
    "### 4.2 Multiple files: bundle\n",
    "\n",
    "Next, we download multiple cutouts using `mast_api_psf.download_request_bundle`, which downloads as a `.tar.gz` file that can later be extracted. We recommend using this to download hundreds of cutouts. A standard laptop and network bandwith can download a bundle of 1000 cutouts in ~30 seconds."
   ]
  },
  {
   "cell_type": "code",
   "execution_count": 9,
   "metadata": {
    "execution": {
     "iopub.execute_input": "2025-10-09T14:15:47.961377Z",
     "iopub.status.busy": "2025-10-09T14:15:47.961231Z",
     "iopub.status.idle": "2025-10-09T14:15:48.654375Z",
     "shell.execute_reply": "2025-10-09T14:15:48.653967Z"
    }
   },
   "outputs": [
    {
     "data": {
      "text/plain": [
       "'mastDownload.tar.gz'"
      ]
     },
     "execution_count": 9,
     "metadata": {},
     "output_type": "execute_result"
    }
   ],
   "source": [
    "filename_bundle = mast_api_psf.download_request_bundle(dataURIs, filename='mastDownload.tar.gz')\n",
    "filename_bundle"
   ]
  },
  {
   "cell_type": "markdown",
   "metadata": {},
   "source": [
    "With the `.tar.gz` file downloaded, we safely extract the cutouts."
   ]
  },
  {
   "cell_type": "code",
   "execution_count": 10,
   "metadata": {
    "execution": {
     "iopub.execute_input": "2025-10-09T14:15:48.655896Z",
     "iopub.status.busy": "2025-10-09T14:15:48.655734Z",
     "iopub.status.idle": "2025-10-09T14:15:48.663618Z",
     "shell.execute_reply": "2025-10-09T14:15:48.663132Z"
    }
   },
   "outputs": [
    {
     "name": "stdout",
     "output_type": "stream",
     "text": [
      "Path to MAST PSF Cutouts: MAST_2025-10-09T1415\n"
     ]
    }
   ],
   "source": [
    "with tarfile.open(filename_bundle, 'r:gz') as tar:\n",
    "    path_mast = tar.getnames()[0]\n",
    "    print(f'Path to MAST PSF Cutouts: {path_mast}')\n",
    "    tar.extractall(filter='data')"
   ]
  },
  {
   "cell_type": "markdown",
   "metadata": {},
   "source": [
    "<a id=\"pool\"></a>\n",
    "### 4.3 Multiple files: pooling\n",
    "\n",
    "Lastly, we download multiple cutouts using `mast_api_psf.download_request_pool`, which downloads cutouts to a new directory indicated by the date, similar to the directory name of the extracted `.tar.gz` file. Although this method is ~1.5 times slower than bundle, we recommend using this to download thousands of cutouts as the progress bar can be helpful keeping track of how much longer the downloads will take. This function utilizes all available CPUs by default. Changing the parameter `cpu_count` sets the number of CPUs.\n",
    "\n",
    "**Warning: Interrupting the kernel will not kill the multiprocessing and will keep downloading cutouts. To kill the multiprocessing, restart the kernel.**"
   ]
  },
  {
   "cell_type": "code",
   "execution_count": 11,
   "metadata": {
    "execution": {
     "iopub.execute_input": "2025-10-09T14:15:48.665099Z",
     "iopub.status.busy": "2025-10-09T14:15:48.664945Z",
     "iopub.status.idle": "2025-10-09T14:15:49.604899Z",
     "shell.execute_reply": "2025-10-09T14:15:49.604383Z"
    }
   },
   "outputs": [
    {
     "name": "stderr",
     "output_type": "stream",
     "text": [
      "\r",
      "  0%|          | 0/6 [00:00<?, ?it/s]"
     ]
    },
    {
     "name": "stderr",
     "output_type": "stream",
     "text": [
      "\r",
      " 17%|█▋        | 1/6 [00:00<00:02,  2.22it/s]"
     ]
    },
    {
     "name": "stderr",
     "output_type": "stream",
     "text": [
      "\r",
      " 83%|████████▎ | 5/6 [00:00<00:00,  6.29it/s]"
     ]
    },
    {
     "name": "stderr",
     "output_type": "stream",
     "text": [
      "\r",
      "100%|██████████| 6/6 [00:00<00:00,  6.65it/s]"
     ]
    },
    {
     "name": "stderr",
     "output_type": "stream",
     "text": [
      "\n"
     ]
    },
    {
     "data": {
      "text/plain": [
       "'MAST_2025-10-09T1415/WFC3PSF'"
      ]
     },
     "execution_count": 11,
     "metadata": {},
     "output_type": "execute_result"
    }
   ],
   "source": [
    "mast_api_psf.download_request_pool(dataURIs)"
   ]
  },
  {
   "cell_type": "markdown",
   "metadata": {},
   "source": [
    "<a id=\"url\"></a>\n",
    "## 5. Extracting cutouts using dataURLs\n",
    "\n",
    "If downloading the cutouts are unnecessary, we can also extract the cutouts directly using dataURLs, or links to their sources on the [MAST website](https://archive.stsci.edu/).\n",
    "\n",
    "First, we convert the dataURIs to dataURLs using `mast_api_psf.convert_dataURIs_to_dataURLs`."
   ]
  },
  {
   "cell_type": "code",
   "execution_count": 12,
   "metadata": {
    "execution": {
     "iopub.execute_input": "2025-10-09T14:15:49.606623Z",
     "iopub.status.busy": "2025-10-09T14:15:49.606407Z",
     "iopub.status.idle": "2025-10-09T14:15:49.610278Z",
     "shell.execute_reply": "2025-10-09T14:15:49.609902Z"
    }
   },
   "outputs": [
    {
     "name": "stderr",
     "output_type": "stream",
     "text": [
      "\r",
      "  0%|          | 0/6 [00:00<?, ?it/s]"
     ]
    },
    {
     "name": "stderr",
     "output_type": "stream",
     "text": [
      "\r",
      "100%|██████████| 6/6 [00:00<00:00, 77912.77it/s]"
     ]
    },
    {
     "name": "stderr",
     "output_type": "stream",
     "text": [
      "\n"
     ]
    }
   ],
   "source": [
    "dataURLs = mast_api_psf.convert_dataURIs_to_dataURLs(dataURIs)"
   ]
  },
  {
   "cell_type": "markdown",
   "metadata": {},
   "source": [
    "Then, we extract a single cutout using `fits.getdata`."
   ]
  },
  {
   "cell_type": "code",
   "execution_count": 13,
   "metadata": {
    "execution": {
     "iopub.execute_input": "2025-10-09T14:15:49.611638Z",
     "iopub.status.busy": "2025-10-09T14:15:49.611497Z",
     "iopub.status.idle": "2025-10-09T14:15:49.616625Z",
     "shell.execute_reply": "2025-10-09T14:15:49.616113Z"
    }
   },
   "outputs": [],
   "source": [
    "dataURL = dataURLs[0]\n",
    "cutout_URL = fits.getdata(dataURL)"
   ]
  },
  {
   "cell_type": "markdown",
   "metadata": {},
   "source": [
    "Finally, we extract all of the cutouts from the dataURLs using `mast_api_psf.extract_cutouts_pool`. Similarly to `mast_api_psf.download_request_pool`, this function performs multiprocessing to retrieve all the cutouts, and has the same parameter `cpu_count` to set the number of CPUs."
   ]
  },
  {
   "cell_type": "code",
   "execution_count": 14,
   "metadata": {
    "execution": {
     "iopub.execute_input": "2025-10-09T14:15:49.618034Z",
     "iopub.status.busy": "2025-10-09T14:15:49.617890Z",
     "iopub.status.idle": "2025-10-09T14:15:49.653016Z",
     "shell.execute_reply": "2025-10-09T14:15:49.652421Z"
    }
   },
   "outputs": [
    {
     "name": "stderr",
     "output_type": "stream",
     "text": [
      "\r",
      "  0%|          | 0/6 [00:00<?, ?it/s]"
     ]
    },
    {
     "name": "stderr",
     "output_type": "stream",
     "text": [
      "\r",
      "100%|██████████| 6/6 [00:00<00:00, 1027.39it/s]"
     ]
    },
    {
     "name": "stdout",
     "output_type": "stream",
     "text": [
      "Number of cutouts: 6\n"
     ]
    },
    {
     "name": "stderr",
     "output_type": "stream",
     "text": [
      "\n"
     ]
    }
   ],
   "source": [
    "cutouts = mast_api_psf.extract_cutouts_pool(dataURLs)\n",
    "print(f'Number of cutouts: {len(cutouts)}')"
   ]
  },
  {
   "cell_type": "markdown",
   "metadata": {},
   "source": [
    "<a id=\"plot\"></a>\n",
    "## 6. Load and plot cutouts\n",
    "\n",
    "Since the cutouts have been downloaded, we load them into the notebook. For this example, we only load the single cutout downloaded in the first example."
   ]
  },
  {
   "cell_type": "code",
   "execution_count": 15,
   "metadata": {
    "execution": {
     "iopub.execute_input": "2025-10-09T14:15:49.654806Z",
     "iopub.status.busy": "2025-10-09T14:15:49.654634Z",
     "iopub.status.idle": "2025-10-09T14:15:49.659334Z",
     "shell.execute_reply": "2025-10-09T14:15:49.658863Z"
    }
   },
   "outputs": [],
   "source": [
    "cutout_URI = fits.getdata(filename_cutout)"
   ]
  },
  {
   "cell_type": "markdown",
   "metadata": {},
   "source": [
    "Now, we plot the cutout in log scaling."
   ]
  },
  {
   "cell_type": "code",
   "execution_count": 16,
   "metadata": {
    "execution": {
     "iopub.execute_input": "2025-10-09T14:15:49.660856Z",
     "iopub.status.busy": "2025-10-09T14:15:49.660710Z",
     "iopub.status.idle": "2025-10-09T14:15:49.754925Z",
     "shell.execute_reply": "2025-10-09T14:15:49.754492Z"
    }
   },
   "outputs": [
    {
     "data": {
      "image/png": "[encoded data removed]",
      "text/plain": [
       "<Figure size 640x480 with 1 Axes>"
      ]
     },
     "metadata": {},
     "output_type": "display_data"
    }
   ],
   "source": [
    "file = os.path.basename(filename_cutout)\n",
    "plt.title(file)\n",
    "plt.imshow(np.log10(cutout_URI), origin='lower', cmap='gray')\n",
    "plt.show()"
   ]
  },
  {
   "cell_type": "markdown",
   "metadata": {},
   "source": [
    "For a final check, we show that the dataURI cutout is the same as the dataURL cutout."
   ]
  },
  {
   "cell_type": "code",
   "execution_count": 17,
   "metadata": {
    "execution": {
     "iopub.execute_input": "2025-10-09T14:15:49.756425Z",
     "iopub.status.busy": "2025-10-09T14:15:49.756273Z",
     "iopub.status.idle": "2025-10-09T14:15:49.759008Z",
     "shell.execute_reply": "2025-10-09T14:15:49.758617Z"
    }
   },
   "outputs": [
    {
     "name": "stdout",
     "output_type": "stream",
     "text": [
      "There are 0 different pixels.\n"
     ]
    }
   ],
   "source": [
    "diff = (cutout_URI != cutout_URL).sum()\n",
    "print(f'There are {diff} different pixels.')"
   ]
  },
  {
   "cell_type": "markdown",
   "metadata": {},
   "source": [
    "<a id=\"conclusions\"></a>\n",
    "## 7. Conclusions\n",
    "\n",
    "Thank you for walking through this notebook. Now, you should be familiar with:\n",
    "\n",
    "- Querying the WFC3 and WFPC2 PSF Databases for source metadata.\n",
    "- Reconstructing dataURIs and dataURLs to open source cutouts.\n",
    "- Downloading, extracting, loading, and plotting the cutouts.\n",
    "\n",
    "**Congratulations, you have completed the notebook.**"
   ]
  },
  {
   "cell_type": "markdown",
   "metadata": {},
   "source": [
    "<a id=\"add\"></a>\n",
    "## Additional Resources\n",
    "\n",
    "Be sure to check out our [complimentary notebook](https://github.com/spacetelescope/hst_notebooks/tree/main/notebooks/WFC3/point_spread_function) on HST WFC3 PSF Modeling for a variety of science use cases (Revalski 2024).\n",
    "\n",
    "Below are some additional resources that may be helpful. Please send any questions through the [HST Help Desk](https://stsci.service-now.com/hst) or [open a ticket on HST Notebooks](https://github.com/spacetelescope/hst_notebooks/issues).\n",
    "\n",
    "**WFC3**\n",
    "- [WFC3 Website](https://www.stsci.edu/hst/instrumentation/wfc3)\n",
    "    - [WFC3 PSF Website](https://www.stsci.edu/hst/instrumentation/wfc3/data-analysis/psf)\n",
    "- [WFC3 Instrument Handbook](https://hst-docs.stsci.edu/wfc3ihb)\n",
    "    - [Chapter 6.6 UVIS Optical Performance](https://hst-docs.stsci.edu/wfc3ihb/chapter-6-uvis-imaging-with-wfc3/6-6-uvis-optical-performance)\n",
    "    - [Chapter 7.6 IR Optical Performance](https://hst-docs.stsci.edu/wfc3ihb/chapter-7-ir-imaging-with-wfc3/7-6-ir-optical-performance)\n",
    "- [WFC3 Data Handbook](https://hst-docs.stsci.edu/wfc3dhb)\n",
    "- [WFC3 Instrument Science Reports](https://www.stsci.edu/hst/instrumentation/wfc3/documentation/instrument-science-reports-isrs)\n",
    "    - [WFC3 ISR 2022-05](https://www.stsci.edu/files/live/sites/www/files/home/hst/instrumentation/wfc3/documentation/instrument-science-reports-isrs/_documents/2022/WFC3-ISR-2022-05.pdf): One-Pass HST Photometry with hst1pass (Anderson 2022)\n",
    "    - [WFC3 ISR 2021-12](https://www.stsci.edu/files/live/sites/www/files/home/hst/instrumentation/wfc3/documentation/instrument-science-reports-isrs/_documents/2021/ISR_2021_12.pdf): The WFPC2 and WFC3 PSF Database (Dauphin et. al 2021)\n",
    "\n",
    "**WFPC2**\n",
    "- [WFPC2 Instrument Handbook](https://www.stsci.edu/files/live/sites/www/files/home/hst/instrumentation/legacy/wfpc2/_documents/wfpc2_ihb.pdf)\n",
    "    - see Chapter 5: Point Spread Function for documentation on WFPC2's PSFs\n",
    "- [WFPC2 Data Handbook](https://www.stsci.edu/files/live/sites/www/files/home/hst/instrumentation/legacy/wfpc2/_documents/wfpc2_dhb.pdf)\n",
    "\n",
    "**MAST**\n",
    "- [MAST Website](https://archive.stsci.edu/)\n",
    "- [MAST Portal](https://mast.stsci.edu/portal/Mashup/Clients/Mast/Portal.html)\n",
    "    - [MAST WFC3/WFPC2 PSF Field Descriptions](https://mast.stsci.edu/api/v0/_w_f_c3__p_s_ffields.html)\n",
    "- [MAST API](https://mast.stsci.edu/api/v0/)\n",
    "    - [Services](https://mast.stsci.edu/api/v0/_services.html) (Examples exist for WFC3/UVIS and WFC3/IR databases)\n",
    "    - [Python Examples](https://mast.stsci.edu/api/v0/pyex.html) (Examples exist for WFC3/UVIS and WFC3/IR databases)\n",
    "    - As of August 2024, the MAST API for WFPC2 PSFs has not been documented, but the `service` is called `Mast.Catalogs.Filtered.Wfpc2Psf.Uvis`.\n",
    "\n",
    "<a id=\"about\"></a>\n",
    "## About this Notebook\n",
    "\n",
    "**Author:** Fred Dauphin, WFC3 Instrument\n",
    "\n",
    "**Created On:** 2024-09-11\n",
    "\n",
    "**Updated On:** 2024-09-11\n",
    "\n",
    "**Source:** [HST Notebooks](https://github.com/spacetelescope/hst_notebooks)\n",
    "\n",
    "<a id=\"cite\"></a>\n",
    "## Citations\n",
    "\n",
    "If you use `numpy`, `matplotlib`, `astropy`, or `astroquery` for published research, please cite the\n",
    "authors. Follow these links for more information about citing the libraries below:\n",
    "\n",
    "* [Citing `numpy`](https://numpy.org/citing-numpy/)\n",
    "* [Citing `matplotlib`](https://matplotlib.org/stable/users/project/citing.html)\n",
    "* [Citing `astropy`](https://www.astropy.org/acknowledging.html)\n",
    "* [Citing `astroquery`](https://github.com/astropy/astroquery/blob/main/astroquery/CITATION)\n",
    "<hr>\n"
   ]
  },
  {
   "cell_type": "markdown",
   "metadata": {},
   "source": [
    "[Top of Page](#top)\n",
    "<img style=\"float: right;\" src=\"https://raw.githubusercontent.com/spacetelescope/notebooks/master/assets/stsci_pri_combo_mark_horizonal_white_bkgd.png\" alt=\"Space Telescope Logo\" width=\"200px\"/> "
   ]
  },
  {
   "cell_type": "code",
   "execution_count": null,
   "metadata": {},
   "outputs": [],
   "source": []
  }
 ],
 "metadata": {
  "kernelspec": {
   "display_name": "Python 3 (ipykernel)",
   "language": "python",
   "name": "python3"
  },
  "language_info": {
   "codemirror_mode": {
    "name": "ipython",
    "version": 3
   },
   "file_extension": ".py",
   "mimetype": "text/x-python",
   "name": "python",
   "nbconvert_exporter": "python",
   "pygments_lexer": "ipython3",
   "version": "3.11.13"
  }
 },
 "nbformat": 4,
 "nbformat_minor": 4
}
