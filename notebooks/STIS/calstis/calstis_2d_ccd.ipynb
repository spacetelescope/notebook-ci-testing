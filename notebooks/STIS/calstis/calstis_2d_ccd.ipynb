{
 "cells": [
  {
   "cell_type": "markdown",
   "id": "92e76883",
   "metadata": {},
   "source": [
    "<a id=top></a>\n",
    "# Calstis 2-D CCD Data Reduction <a class=\"tocSkip\">"
   ]
  },
  {
   "cell_type": "markdown",
   "id": "37ccb2b1",
   "metadata": {
    "toc": true
   },
   "source": [
    "<h2>Learning Goals<span class=\"tocSkip\"></span></h2>\n",
    "<div class=\"toc\"><ul class=\"toc-item\"><li><span><a href=\"#0-Introduction\" data-toc-modified-id=\"0-Introduction-0\">0 Introduction</a></span><ul class=\"toc-item\"><li><span><a href=\"#0.1-Import-Necessary-Packages\" data-toc-modified-id=\"0.1-Import-Necessary-Packages-0.1\">0.1 Import Necessary Packages</a></span></li><li><span><a href=\"#0.2-Collect-Data-Set-From-the-MAST-Archive-Using-Astroquery\" data-toc-modified-id=\"0.2-Collect-Data-Set-From-the-MAST-Archive-Using-Astroquery-0.2\">0.2 Collect Data Set From the MAST Archive Using Astroquery</a></span></li></ul></li><li><span><a href=\"#1-Control-Calstis-Steps-Through-Calibration-Switches\" data-toc-modified-id=\"1-Control-Calstis-Steps-Through-Calibration-Switches-1\">1 Control Calstis Steps Through Calibration Switches</a></span></li><li><span><a href=\"#2-Define-Functions-for-Calibration-and-Showing-Image\" data-toc-modified-id=\"2-Define-Functions-for-Calibration-and-Showing-Image-2\">2 Define Functions for Calibration and Showing Image</a></span></li><li><span><a href=\"#3-DQICORR:-Initialize-Data-Quality-File\" data-toc-modified-id=\"3-DQICORR:-Initialize-Data-Quality-File-3\">3 DQICORR: Initialize Data Quality File</a></span></li><li><span><a href=\"#4-BLEVCORR:-Large-Scale-Bias-&amp;-Overscan-Subtraction\" data-toc-modified-id=\"4-BLEVCORR:-Large-Scale-Bias-&amp;-Overscan-Subtraction-4\">4 BLEVCORR: Large Scale Bias &amp; Overscan Subtraction</a></span></li><li><span><a href=\"#5-BIASCORR:-Small-Scale-Bias-Subtraction\" data-toc-modified-id=\"5-BIASCORR:-Small-Scale-Bias-Subtraction-5\">5 BIASCORR: Small Scale Bias Subtraction</a></span></li><li><span><a href=\"#6-CRCORR:-Cosmic-Ray-Correction\" data-toc-modified-id=\"6-CRCORR:-Cosmic-Ray-Correction-6\">6 CRCORR: Cosmic Ray Correction</a></span></li><li><span><a href=\"#7-DARKCORR:-Dark-Signal-Subtraction\" data-toc-modified-id=\"7-DARKCORR:-Dark-Signal-Subtraction-7\">7 DARKCORR: Dark Signal Subtraction</a></span></li><li><span><a href=\"#8-FLATCORR:-Flat-Field-Correction\" data-toc-modified-id=\"8-FLATCORR:-Flat-Field-Correction-8\">8 FLATCORR: Flat Field Correction</a></span></li><li><span><a href=\"#9-Summary\" data-toc-modified-id=\"9-Summary-9\">9 Summary</a></span></li></ul></div>"
   ]
  },
  {
   "cell_type": "markdown",
   "id": "ce07b6f8",
   "metadata": {},
   "source": [
    "## 0 Introduction\n",
    "The STIS calibration pipeline, calstis, performs the calibration of STIS science data. Calstis consists of a series of individual modules that performs initial 2D image reduction, contemporaneous wavecal processing, spectroscopic calibration, extraction, rectification, and summation of images. In this notebook, we will go through the data flow through calstis of 2D CCD data reduction common to imaging and spectroscopy (for creating the `flt` data product from a `raw` file). This notebook also shows how negative count values are produced in the pipeline.\n",
    "\n",
    "Some calibration process may require the application of calibration reference files. The names of which are found in the fits file header. To download reference files and configure reference environment variables, follow the steps in [HST Calibration Reference Data System (CRDS)](https://hst-crds.stsci.edu/docs/cmdline_bestrefs/) for personal or offsite use. \n",
    "\n",
    "For more information about calstis see:\n",
    "- [STIS Calibration in the STIS Data Handbook](https://hst-docs.stsci.edu/stisdhb/chapter-3-stis-calibration)\n",
    "- [the `stistools` package documentation](https://stistools.readthedocs.io/en/latest/calstis.html)"
   ]
  },
  {
   "cell_type": "markdown",
   "id": "54687cba",
   "metadata": {},
   "source": [
    "### 0.1 Import Necessary Packages\n",
    "- `astropy.io.fits` for accessing FITS files\n",
    "- `astroquery.mast.Observations` for finding and downloading data from the [MAST](https://mast.stsci.edu/portal/Mashup/Clients/Mast/Portal.html) archive\n",
    "- `os`, `shutil`, & `pathlib` for managing system paths\n",
    "- `matplotlib` for plotting data\n",
    "- `numpy` to handle array functions\n",
    "- `pandas` to make basic tables and dataframes\n",
    "- `stistools` for operations on STIS Data"
   ]
  },
  {
   "cell_type": "code",
   "execution_count": 1,
   "id": "26afbfe7",
   "metadata": {
    "execution": {
     "iopub.execute_input": "2025-10-08T18:32:16.650277Z",
     "iopub.status.busy": "2025-10-08T18:32:16.649995Z",
     "iopub.status.idle": "2025-10-08T18:32:17.953494Z",
     "shell.execute_reply": "2025-10-08T18:32:17.952896Z"
    }
   },
   "outputs": [
    {
     "name": "stdout",
     "output_type": "stream",
     "text": [
      "The following tasks in the stistools package can be run with TEAL:\n",
      "   basic2d      calstis     ocrreject     wavecal        x1d          x2d\n"
     ]
    },
    {
     "name": "stderr",
     "output_type": "stream",
     "text": [
      "/home/runner/micromamba/envs/ci-env/lib/python3.11/site-packages/stsci/tools/nmpfit.py:8: UserWarning: NMPFIT is deprecated - stsci.tools v 3.5 is the last version to contain it.\n",
      "  warnings.warn(\"NMPFIT is deprecated - stsci.tools v 3.5 is the last version to contain it.\")\n",
      "/home/runner/micromamba/envs/ci-env/lib/python3.11/site-packages/stsci/tools/gfit.py:18: UserWarning: GFIT is deprecated - stsci.tools v 3.4.12 is the last version to contain it.Use astropy.modeling instead.\n",
      "  warnings.warn(\"GFIT is deprecated - stsci.tools v 3.4.12 is the last version to contain it.\"\n"
     ]
    }
   ],
   "source": [
    "# Import for: Reading in fits file\n",
    "from astropy.io import fits\n",
    "\n",
    "# Import for: Downloading necessary files. (Not necessary if you choose to collect data from MAST)\n",
    "from astroquery.mast import Observations\n",
    "\n",
    "# Import for: Managing system variables and paths\n",
    "import os\n",
    "import shutil\n",
    "from pathlib import Path\n",
    "\n",
    "# Import for: Plotting and specifying plotting parameters\n",
    "import matplotlib.pyplot as plt\n",
    "\n",
    "# Import for: Operations on STIS Data\n",
    "import stistools"
   ]
  },
  {
   "cell_type": "markdown",
   "id": "26fcf97f",
   "metadata": {},
   "source": [
    "### 0.2 Collect Data Set From the MAST Archive Using Astroquery\n",
    "There are other ways to download data from MAST such as using CyberDuck. The steps of collecting data is beyond the scope of this notebook, and we are only showing how to use astroquery and CRDS."
   ]
  },
  {
   "cell_type": "code",
   "execution_count": 2,
   "id": "2aca0967",
   "metadata": {
    "execution": {
     "iopub.execute_input": "2025-10-08T18:32:17.955349Z",
     "iopub.status.busy": "2025-10-08T18:32:17.955053Z",
     "iopub.status.idle": "2025-10-08T18:32:27.863583Z",
     "shell.execute_reply": "2025-10-08T18:32:27.863129Z"
    }
   },
   "outputs": [
    {
     "name": "stdout",
     "output_type": "stream",
     "text": [
      "INFO: Found cached file ./mastDownload/HST/o5f301010/o5f301010_crj.fits with expected size 10537920. [astroquery.query]\n"
     ]
    },
    {
     "name": "stdout",
     "output_type": "stream",
     "text": [
      "INFO: Found cached file ./mastDownload/HST/o5f301010/o5f301010_jif.fits with expected size 60480. [astroquery.query]\n"
     ]
    },
    {
     "name": "stdout",
     "output_type": "stream",
     "text": [
      "INFO: Found cached file ./mastDownload/HST/o5f301010/o5f301010_jit.fits with expected size 60480. [astroquery.query]\n"
     ]
    },
    {
     "name": "stdout",
     "output_type": "stream",
     "text": [
      "INFO: Found cached file ./mastDownload/HST/o5f301010/o5f301010_jwf.fits with expected size 17280. [astroquery.query]\n"
     ]
    },
    {
     "name": "stdout",
     "output_type": "stream",
     "text": [
      "INFO: Found cached file ./mastDownload/HST/o5f301010/o5f301010_jwt.fits with expected size 11520. [astroquery.query]\n"
     ]
    },
    {
     "name": "stdout",
     "output_type": "stream",
     "text": [
      "INFO: Found cached file ./mastDownload/HST/o5f301010/o5f301010_spt.fits with expected size 112320. [astroquery.query]\n"
     ]
    },
    {
     "name": "stdout",
     "output_type": "stream",
     "text": [
      "INFO: Found cached file ./mastDownload/HST/o5f301010/o5f301010_trl.fits with expected size 20160. [astroquery.query]\n"
     ]
    },
    {
     "name": "stdout",
     "output_type": "stream",
     "text": [
      "Downloading URL https://mast.stsci.edu/api/v0.1/Download/file?uri=mast:HST/product/o5f301010_wav.fits to ./mastDownload/HST/o5f301010/o5f301010_wav.fits ..."
     ]
    },
    {
     "name": "stdout",
     "output_type": "stream",
     "text": [
      " [Done]\n"
     ]
    },
    {
     "name": "stdout",
     "output_type": "stream",
     "text": [
      "INFO: Found cached file ./mastDownload/HST/o5f301010/o5f301010_wsp.fits with expected size 69120. [astroquery.query]\n"
     ]
    },
    {
     "name": "stdout",
     "output_type": "stream",
     "text": [
      "INFO: Found cached file ./mastDownload/HST/o5f301010/o5f301010_asn.fits with expected size 11520. [astroquery.query]\n"
     ]
    },
    {
     "name": "stdout",
     "output_type": "stream",
     "text": [
      "Downloading URL https://mast.stsci.edu/api/v0.1/Download/file?uri=mast:HST/product/o5f301010_raw.fits to ./mastDownload/HST/o5f301010/o5f301010_raw.fits ..."
     ]
    },
    {
     "name": "stdout",
     "output_type": "stream",
     "text": [
      " [Done]\n"
     ]
    },
    {
     "name": "stdout",
     "output_type": "stream",
     "text": [
      "INFO: Found cached file ./mastDownload/HST/o5f301010/o5f301010_flt.fits with expected size 21052800. [astroquery.query]\n"
     ]
    },
    {
     "name": "stdout",
     "output_type": "stream",
     "text": [
      "INFO: Found cached file ./mastDownload/HST/o5f301010/o5f301010_sx1.fits with expected size 80640. [astroquery.query]\n"
     ]
    },
    {
     "name": "stdout",
     "output_type": "stream",
     "text": [
      "INFO: Found cached file ./mastDownload/HST/o5f301010/o5f301010_sx2.fits with expected size 14477760. [astroquery.query]\n"
     ]
    },
    {
     "name": "stdout",
     "output_type": "stream",
     "text": [
      "INFO: Found cached file ./mastDownload/HST/hst_hasp_8336_stis_0957p561a_o5f3/hst_8336_stis_0957p561a_g430l-g750l_o5f301_cspec.fits with expected size 57600. [astroquery.query]\n"
     ]
    },
    {
     "name": "stdout",
     "output_type": "stream",
     "text": [
      "INFO: Found cached file ./mastDownload/HST/hst_hasp_8336_stis_0957p561a_o5f3/hst_8336_stis_0957p561a_g430l_o5f3_cspec.fits with expected size 37440. [astroquery.query]\n"
     ]
    },
    {
     "name": "stdout",
     "output_type": "stream",
     "text": [
      "INFO: Found cached file ./mastDownload/HST/hst_hasp_8336_stis_0957p561a_o5f3/hst_8336_stis_0957p561a_g430l_o5f301_cspec.fits with expected size 37440. [astroquery.query]\n"
     ]
    },
    {
     "name": "stdout",
     "output_type": "stream",
     "text": [
      "INFO: Found cached file ./mastDownload/HST/hst_hasp_8336_stis_0957p561a_o5f3/hst_8336_stis_0957p561a_g750l_o5f3_cspec.fits with expected size 40320. [astroquery.query]\n"
     ]
    },
    {
     "name": "stdout",
     "output_type": "stream",
     "text": [
      "INFO: Found cached file ./mastDownload/HST/hst_hasp_8336_stis_0957p561a_o5f3/hst_8336_stis_0957p561a_g750l_o5f301_cspec.fits with expected size 40320. [astroquery.query]\n"
     ]
    },
    {
     "name": "stdout",
     "output_type": "stream",
     "text": [
      "INFO: Found cached file ./mastDownload/HST/hst_hasp_8336_stis_0957p561a_o5f3/hst_8336_stis_0957p561a_sg230l-g430l-g750l_o5f3_cspec.fits with expected size 74880. [astroquery.query]\n"
     ]
    },
    {
     "name": "stdout",
     "output_type": "stream",
     "text": [
      "INFO: Found cached file ./mastDownload/HST/hst_hasp_8336_stis_0957p561a_o5f3/hst_8336_stis_0957p561a_sg230l_o5f3_cspec.fits with expected size 37440. [astroquery.query]\n"
     ]
    },
    {
     "name": "stdout",
     "output_type": "stream",
     "text": [
      "INFO: Found cached file ./mastDownload/HST/hst_hasp_8336_stis_0957p561a_o5f3/hst_8336_stis_0957p561a_sg230l_o5f302_cspec.fits with expected size 37440. [astroquery.query]\n",
      "Destination path './o5f301010_raw.fits' already exists\n"
     ]
    }
   ],
   "source": [
    "# Search target objscy by obs_id\n",
    "target = Observations.query_criteria(obs_id='O5F301010')\n",
    "# get a list of files assiciated with that target\n",
    "CCD_list = Observations.get_product_list(target)\n",
    "# Download FITS files\n",
    "Observations.download_products(CCD_list, extension='fits')\n",
    "try:\n",
    "    shutil.move('./mastDownload/HST/o5f301010/o5f301010_raw.fits', '.')\n",
    "    shutil.move('./mastDownload/HST/o5f301010/o5f301010_wav.fits', '.')\n",
    "except Exception as e:\n",
    "    print(f\"{e}\")"
   ]
  },
  {
   "cell_type": "code",
   "execution_count": 3,
   "id": "5ac9d352",
   "metadata": {
    "execution": {
     "iopub.execute_input": "2025-10-08T18:32:27.865132Z",
     "iopub.status.busy": "2025-10-08T18:32:27.864985Z",
     "iopub.status.idle": "2025-10-08T18:32:27.867228Z",
     "shell.execute_reply": "2025-10-08T18:32:27.866817Z"
    }
   },
   "outputs": [],
   "source": [
    "raw = 'o5f301010_raw.fits'\n",
    "wav = 'o5f301010_wav.fits'"
   ]
  },
  {
   "cell_type": "markdown",
   "id": "a618914d",
   "metadata": {},
   "source": [
    "Next, use the [Calibration Reference Data System](https://hst-crds.stsci.edu) (CRDS) [command line tools](https://hst-crds.stsci.edu/docs/cmdline_bestrefs/) to update and download the reference files for the 05f301010 dataset. "
   ]
  },
  {
   "cell_type": "code",
   "execution_count": 4,
   "id": "feaba425-8054-4306-b08b-d4f43e5b9747",
   "metadata": {
    "execution": {
     "iopub.execute_input": "2025-10-08T18:32:27.868628Z",
     "iopub.status.busy": "2025-10-08T18:32:27.868484Z",
     "iopub.status.idle": "2025-10-08T18:32:27.871339Z",
     "shell.execute_reply": "2025-10-08T18:32:27.870827Z"
    }
   },
   "outputs": [],
   "source": [
    "crds_path = os.path.expanduser(\"~\") + \"/crds_cache\"\n",
    "os.environ[\"CRDS_PATH\"] = crds_path\n",
    "os.environ[\"CRDS_SERVER_URL\"] = \"https://hst-crds.stsci.edu\"\n",
    "os.environ[\"oref\"] = os.path.join(crds_path, \"references/hst/oref/\")"
   ]
  },
  {
   "cell_type": "code",
   "execution_count": 5,
   "id": "895371fc-7eb9-41e4-97b5-3aa405940445",
   "metadata": {
    "execution": {
     "iopub.execute_input": "2025-10-08T18:32:27.872667Z",
     "iopub.status.busy": "2025-10-08T18:32:27.872525Z",
     "iopub.status.idle": "2025-10-08T18:32:40.638990Z",
     "shell.execute_reply": "2025-10-08T18:32:40.638431Z"
    }
   },
   "outputs": [
    {
     "name": "stdout",
     "output_type": "stream",
     "text": [
      "CRDS - INFO -  No comparison context or source comparison requested.\r\n"
     ]
    },
    {
     "name": "stdout",
     "output_type": "stream",
     "text": [
      "CRDS - INFO -  ===> Processing o5f301010_raw.fits\r\n"
     ]
    },
    {
     "name": "stdout",
     "output_type": "stream",
     "text": [
      "CRDS - INFO -  0 errors\r\n",
      "CRDS - INFO -  0 warnings\r\n",
      "CRDS - INFO -  2 infos\r\n"
     ]
    }
   ],
   "source": [
    "!crds bestrefs --update-bestrefs --sync-references=1 --files o5f301010_raw.fits"
   ]
  },
  {
   "cell_type": "markdown",
   "id": "d627776e",
   "metadata": {},
   "source": [
    "## 1 Control Calstis Steps Through Calibration Switches\n",
    "\n",
    "As with the other current HST instruments, the specific operations that are performed during the calibration process are controlled by calibration switches, which are stored in the image headers. The switch values are stored in the primary extension of the FITS file. It can be set to `PERFORM`, `OMIT`, or `COMPLETE` using [fits.setval()](https://docs.astropy.org/en/stable/generated/examples/io/modify-fits-header.html).\n",
    "\n",
    "We first turn off all switches in the _raw fits file, and then turn them on one-by-one according to [data flow through calstis](https://hst-docs.stsci.edu/stisdhb/chapter-3-stis-calibration/3-3-data-flow-through-calstis) to demonstrate each calibration steps.\n",
    "\n",
    "![Flowchart of CCD data reduction and processing steps common to imaging and spectroscopy](figures/ch3_stis_calib4.2.jpg)"
   ]
  },
  {
   "cell_type": "code",
   "execution_count": 6,
   "id": "7f8ed4f4",
   "metadata": {
    "execution": {
     "iopub.execute_input": "2025-10-08T18:32:40.640979Z",
     "iopub.status.busy": "2025-10-08T18:32:40.640782Z",
     "iopub.status.idle": "2025-10-08T18:32:40.883040Z",
     "shell.execute_reply": "2025-10-08T18:32:40.882554Z"
    }
   },
   "outputs": [
    {
     "name": "stdout",
     "output_type": "stream",
     "text": [
      "DQICORR :\tOMIT\n",
      "BLEVCORR:\tOMIT\n",
      "BIASCORR:\tOMIT\n"
     ]
    },
    {
     "name": "stdout",
     "output_type": "stream",
     "text": [
      "CRCORR  :\tOMIT\n",
      "RPTCORR :\tOMIT\n",
      "EXPSCORR:\tOMIT\n"
     ]
    },
    {
     "name": "stdout",
     "output_type": "stream",
     "text": [
      "DARKCORR:\tOMIT\n",
      "FLATCORR:\tOMIT\n",
      "WAVECORR:\tOMIT\n",
      "X1DCORR :\tOMIT\n",
      "BACKCORR:\tOMIT\n",
      "HELCORR :\tOMIT\n",
      "DISPCORR:\tOMIT\n",
      "FLUXCORR:\tOMIT\n"
     ]
    },
    {
     "name": "stdout",
     "output_type": "stream",
     "text": [
      "CTECORR :\tOMIT\n",
      "X2DCORR :\tOMIT\n"
     ]
    }
   ],
   "source": [
    "# Turn off all switches\n",
    "switches = ['DQICORR', 'BLEVCORR', 'BIASCORR', 'CRCORR', 'RPTCORR', 'EXPSCORR', 'DARKCORR',\n",
    "            'FLATCORR', 'WAVECORR', 'X1DCORR', 'BACKCORR', 'HELCORR', 'DISPCORR', 'FLUXCORR',\n",
    "            'CTECORR', 'X2DCORR']\n",
    "for switch in switches:\n",
    "    fits.setval(raw, ext=0, keyword=switch, value=\"OMIT\")\n",
    "    print(f'{switch:8}:\\t{fits.getheader(raw)[switch]}')"
   ]
  },
  {
   "cell_type": "markdown",
   "id": "d3d760f6",
   "metadata": {},
   "source": [
    "Notice: the switches must be turned on in the same order as explained in this notebook"
   ]
  },
  {
   "cell_type": "markdown",
   "id": "7e2aab5f",
   "metadata": {},
   "source": [
    "## 2 Define Functions for Calibration and Showing Image\n",
    "We define 2 functions, `calibrate` and `img_hist` to perform calibration, show the science images, and plot histograms of the science data distribution.\n",
    "\n",
    "- `calibrate`: \n",
    "\n",
    "| Parameter   | Description |\n",
    "| :---------- | :---------- |\n",
    "| switch      | the switch of the calibration step  |\n",
    "\n",
    "We turn on the switch in the `raw` FITS file, create a folder in the current directory with the same name as the switch, perform calibration, and save the calibrated file to the folder we just created."
   ]
  },
  {
   "cell_type": "markdown",
   "id": "8dfde510",
   "metadata": {},
   "source": [
    "- `img_hist`:\n",
    "\n",
    "| Parameter   | Description |\n",
    "| :---------- | :---------- |\n",
    "| file        | path to the fits file  |\n",
    "| ran         | range for displaying the data in the both the image and histogram in counts   |\n",
    "| color (optional) | colormap for showing the image, 'plasma' is used by default    |\n",
    "  \n",
    "We create 2 subplots with the science image on the left, and the histogram of the science data distribution on the right. The science data is shown as an image with the colors spanning the range we specified through the specified parameter, and the same range applies to the histogram boundaries. By default, we use the 'viridis' colormap to view the science data, but sometimes 'RdBu_r' is used to see the data distribution relative to zero. Throughout the demonstration steps, feel free to change the range and the colormap to view additional features in the science images."
   ]
  },
  {
   "cell_type": "code",
   "execution_count": 7,
   "id": "5e2aa2dd",
   "metadata": {
    "execution": {
     "iopub.execute_input": "2025-10-08T18:32:40.884700Z",
     "iopub.status.busy": "2025-10-08T18:32:40.884542Z",
     "iopub.status.idle": "2025-10-08T18:32:40.888449Z",
     "shell.execute_reply": "2025-10-08T18:32:40.888008Z"
    }
   },
   "outputs": [],
   "source": [
    "def calibrate(switch):\n",
    "    '''Set the specified calibration step to 'PERFORM' and run calstis.\n",
    "\n",
    "    We assume that the order this function is called turns on the prior calibration\n",
    "    switches appropriately.\n",
    "\n",
    "    PARAMETERS\n",
    "    ----------\n",
    "    switch: str\n",
    "        calibration step to perform\n",
    "    '''\n",
    "    # delete output products if they exists in the current directory\n",
    "    assert '/' not in switch, \"Don't delete unexpected files!\"\n",
    "    if os.path.exists(f'./{switch}'):\n",
    "        shutil.rmtree(f'./{switch}')\n",
    "\n",
    "    # set the target switch to 'PERFORM'\n",
    "    fits.setval(raw, ext=0, keyword=switch, value='PERFORM')\n",
    "    # make a folder to store output files\n",
    "    Path(f'./{switch}').mkdir(exist_ok=True)\n",
    "\n",
    "    # perform calibration\n",
    "    res = stistools.calstis.calstis(raw, wavecal=wav, verbose=False, outroot=f'./{switch}/')\n",
    "    # calstis returns 0 if calibration completes; if not, raise assertion error\n",
    "    assert res == 0, f'CalSTIS exited with an error:  {res}'"
   ]
  },
  {
   "cell_type": "code",
   "execution_count": 8,
   "id": "e06896e0",
   "metadata": {
    "execution": {
     "iopub.execute_input": "2025-10-08T18:32:40.889936Z",
     "iopub.status.busy": "2025-10-08T18:32:40.889770Z",
     "iopub.status.idle": "2025-10-08T18:32:40.895881Z",
     "shell.execute_reply": "2025-10-08T18:32:40.895395Z"
    }
   },
   "outputs": [],
   "source": [
    "def img_hist(file, ran, color='plasma'):\n",
    "    '''Display the image and corresponding histogram of the counts/flux.\n",
    "\n",
    "    PARAMETERS\n",
    "    ----------\n",
    "    file: str\n",
    "        path to the FITS file.  We assume the file has ≥2 SCI extensions here.\n",
    "\n",
    "    ran: str\n",
    "        range for displaying the data in the both the image and histogram in counts\n",
    "\n",
    "    color: str, default='plasma'\n",
    "        colormap for showing the image\n",
    "    '''\n",
    "    plt.figure(figsize=[20, 10])\n",
    "    file_type = file[-8:-5]\n",
    "\n",
    "    if file_type == 'raw' or file_type == 'flt':\n",
    "        with fits.open(file) as hdu:\n",
    "            ex1 = hdu[1].data\n",
    "            ex1_flat = ex1.ravel()\n",
    "            ex4 = hdu[4].data\n",
    "            ex4_flat = ex4.ravel()\n",
    "\n",
    "            plt.subplot(1, 2, 1)\n",
    "            img = plt.imshow(ex1, origin='lower', cmap=color, vmax=ran[1], vmin=ran[0])\n",
    "            plt.colorbar(img, fraction=0.046, pad=0.04)\n",
    "            plt.title('extension 1')\n",
    "\n",
    "            plt.subplot(1, 2, 2)\n",
    "            # adjust bins\n",
    "            plt.hist(ex1_flat, bins=50, range=ran, histtype='step', label='extension 1')\n",
    "            plt.hist(ex4_flat, bins=50, range=ran, histtype='step', label='extension 4')\n",
    "            plt.legend(loc='best')\n",
    "\n",
    "    elif file_type == 'crj':\n",
    "        with fits.open(file) as hdu:\n",
    "            ex1 = hdu[1].data\n",
    "            ex1_flat = ex1.ravel()\n",
    "            plt.subplot(1, 2, 1)\n",
    "            img = plt.imshow(ex1, origin='lower', cmap=color, vmax=ran[1], vmin=ran[0])\n",
    "            plt.colorbar(img, fraction=0.046, pad=0.04)\n",
    "            plt.subplot(1, 2, 2)\n",
    "            plt.hist(ex1_flat, bins=100, range=ran, histtype='step')\n",
    "\n",
    "    else:\n",
    "        raise ValueError(f'Unexpected filetype for file \"{file}\": \"{file_type}\"')\n",
    "\n",
    "    plt.xlabel('counts')\n",
    "    plt.ylabel('frequency')"
   ]
  },
  {
   "cell_type": "markdown",
   "id": "e928bfb2",
   "metadata": {},
   "source": [
    "Show the science image and histogram of the `raw` FITS file (without any calibration steps performed):"
   ]
  },
  {
   "cell_type": "code",
   "execution_count": 9,
   "id": "9da5def3",
   "metadata": {
    "execution": {
     "iopub.execute_input": "2025-10-08T18:32:40.897466Z",
     "iopub.status.busy": "2025-10-08T18:32:40.897304Z",
     "iopub.status.idle": "2025-10-08T18:32:40.960854Z",
     "shell.execute_reply": "2025-10-08T18:32:40.960210Z"
    }
   },
   "outputs": [],
   "source": [
    "img_hist(raw, [1200, 1500])"
   ]
  },
  {
   "cell_type": "markdown",
   "id": "3c6778c3",
   "metadata": {},
   "source": [
    "## 3 DQICORR: Initialize Data Quality File\n",
    "The DQICORR step is part of basic 2-D image reduction. It takes the initial raw data quality file for the science data and does a bitwise OR with the values in the bad pixel reference file table (BPIXTAB) to create the science data quality file for the following calstis steps. For CCD data, this step also checks saturation by comparing the science extension values with the saturation level from the CCD parameters table(CCDTAB). It also flags the regions of the CCD beyond the edge of the aperture to prevent problems with sky level computation and cosmic ray rejection."
   ]
  },
  {
   "cell_type": "code",
   "execution_count": 10,
   "id": "a47e8fed",
   "metadata": {
    "execution": {
     "iopub.execute_input": "2025-10-08T18:32:40.962807Z",
     "iopub.status.busy": "2025-10-08T18:32:40.962632Z",
     "iopub.status.idle": "2025-10-08T18:32:41.052896Z",
     "shell.execute_reply": "2025-10-08T18:32:41.052421Z"
    }
   },
   "outputs": [
    {
     "name": "stdout",
     "output_type": "stream",
     "text": [
      "\n",
      "*** CALSTIS-0 -- Version 3.4.2 (19-Jan-2018) ***\n",
      "Begin    08-Oct-2025 18:32:40 UTC\n",
      "\n",
      "Input    o5f301010_raw.fits\n",
      "Outroot  ./DQICORR/o5f301010_raw.fits\n",
      "Warning  WAVECAL was specified, but WAVECORR is not PERFORM.\n",
      "\n",
      "*** CALSTIS-1 -- Version 3.4.2 (19-Jan-2018) ***\n",
      "Begin    08-Oct-2025 18:32:40 UTC\n",
      "Input    o5f301010_raw.fits\n",
      "Output   ./DQICORR/o5f301010_flt.fits\n",
      "OBSMODE  ACCUM\n",
      "APERTURE 52X0.2\n",
      "OPT_ELEM G430L\n",
      "DETECTOR CCD\n",
      "\n",
      "Imset 1  Begin 18:32:40 UTC\n",
      "\n",
      "CCDTAB   oref$0841734eo_ccd.fits\n",
      "CCDTAB   PEDIGREE=INFLIGHT 01/05/1999 01/05/1999\n",
      "CCDTAB   DESCRIP =Updated readnoise values-------------------------------------------\n",
      "CCDTAB   DESCRIP =Proposal 8057, by I. Dashevsky & P. Goudfrooij\n",
      "\n",
      "DQICORR  PERFORM\n",
      "DQITAB   oref$h1v11475o_bpx.fits\n",
      "DQITAB   PEDIGREE=GROUND\n",
      "DQITAB   DESCRIP =Prel. Ground Calib\n",
      "DQICORR  COMPLETE\n",
      "\n",
      "ATODCORR OMIT\n",
      "\n",
      "BLEVCORR OMIT\n",
      "         Uncertainty array initialized, readnoise=3.99, gain=1, bias=1329\n",
      "\n",
      "BIASCORR OMIT\n",
      "\n",
      "DARKCORR OMIT\n",
      "\n",
      "FLATCORR OMIT\n",
      "\n",
      "SHADCORR OMIT\n",
      "\n",
      "PHOTCORR OMIT\n",
      "\n",
      "STATFLAG PERFORM\n",
      "STATFLAG COMPLETE\n",
      "Imset 1  End 18:32:41 UTC\n",
      "\n",
      "Imset 2  Begin 18:32:41 UTC\n",
      "\n",
      "DQICORR  PERFORM\n",
      "DQICORR  COMPLETE\n",
      "\n",
      "ATODCORR OMIT\n",
      "\n",
      "BLEVCORR OMIT\n",
      "         Uncertainty array initialized, readnoise=3.99, gain=1, bias=1329\n",
      "\n",
      "BIASCORR OMIT\n",
      "\n",
      "DARKCORR OMIT\n",
      "\n",
      "FLATCORR OMIT\n",
      "\n",
      "SHADCORR OMIT\n",
      "\n",
      "STATFLAG PERFORM\n",
      "STATFLAG COMPLETE\n",
      "Imset 2  End 18:32:41 UTC\n",
      "\n",
      "End      08-Oct-2025 18:32:41 UTC\n",
      "\n",
      "*** CALSTIS-1 complete ***\n",
      "\n",
      "End      08-Oct-2025 18:32:41 UTC\n",
      "\n",
      "*** CALSTIS-0 complete ***\n"
     ]
    }
   ],
   "source": [
    "# Turn on the DQICORR switch and perform calibration.\n",
    "calibrate('DQICORR')"
   ]
  },
  {
   "cell_type": "code",
   "execution_count": 11,
   "id": "748ae8b5",
   "metadata": {
    "execution": {
     "iopub.execute_input": "2025-10-08T18:32:41.054573Z",
     "iopub.status.busy": "2025-10-08T18:32:41.054401Z",
     "iopub.status.idle": "2025-10-08T18:32:41.114664Z",
     "shell.execute_reply": "2025-10-08T18:32:41.114201Z"
    }
   },
   "outputs": [],
   "source": [
    "img_hist(\"./DQICORR/o5f301010_flt.fits\", [1200, 1600])"
   ]
  },
  {
   "cell_type": "markdown",
   "id": "ef0d8ba2",
   "metadata": {},
   "source": [
    "## 4 BLEVCORR: Large Scale Bias & Overscan Subtraction\n",
    "The BLEVCORR step is part of basic 2-D image reduction for CCD data only. This step subtracts the electronic bias level for each line of the CCD image and trims the overscan regions off of the input image, leaving only the exposed portions of the image. \n",
    "\n",
    "Because the electronic bias level can vary with time and temperature, its value is determined from the overscan region in the particular exposure being processed. This bias is applied equally to real pixels (main detector and physical overscan) and the virtual overscan region (pixels that don't actually exist, but are recorded when the detector clocks out extra times after reading out all the parallel rows). A raw STIS CCD image in full frame unbinned mode has 19 leading and trailing columns of serial physical overscan in the AXIS1 (x direction), and 20 rows of virtual overscan in the AXIS2 (y direction); therefore the size of the uncalibrated and unbinned full framge CCD image is 1062(serial) $\\times$ 1044(parallel) pixels, with 1024 * 1024 exposed science pixels.\n",
    "\n",
    "<img src=figures/CCD_overscan.jpg width =\"400\" title=\"Graph illustrating parallel serial overscan corresponding to wavelength in the x-axis and virtual overscan corresponding to position along slit in the y-axis.\" alt=\"Graph illustrating parallel serial overscan corresponding to wavelength in the x-axis and virtual overscan corresponding to position along slit in the y-axis.\">"
   ]
  },
  {
   "cell_type": "markdown",
   "id": "03bcf323",
   "metadata": {},
   "source": [
    "The electronic bias level is subtracted line-by-line. An initial value of electronic bias level is determined for each line of the image using the serial and parallel overscans, and a straight line is fitted to the bias as a function of image line. The intial electronic bias for each line is determined by taking the median of a predetermined subset of the trailing serial overscan pixels, which currently includes most trailing overscan region except the first and last three pixels, and pixels flagged with bad data quality flags. The actual overscan bias subtracted from the image is the value of the linear fit at a specific image line. The mean value of all overscan levels is written to the output SCI extension header as MEANBLEV.\n",
    "\n",
    "THE BLEVCORR step also trims the image of overscan. The size of the overscan regions depend on binning and whether the image if full frame or a subimage, and the locations of the overscan regions depend on which amplifier was used for readout. The number of pixels trimmed during CCD bias level correction on each side is given in the following table.\n",
    "\n",
    "<img src=figures/pixels_trimmed.jpg width =\"400\" title=\"The number of pixels trimmed during CCD bias level correction on each side\" alt=\"The number of pixels trimmed during CCD bias level correction on each side\">\n",
    "\n"
   ]
  },
  {
   "cell_type": "code",
   "execution_count": 12,
   "id": "6b18a693",
   "metadata": {
    "execution": {
     "iopub.execute_input": "2025-10-08T18:32:41.116527Z",
     "iopub.status.busy": "2025-10-08T18:32:41.116369Z",
     "iopub.status.idle": "2025-10-08T18:32:41.222602Z",
     "shell.execute_reply": "2025-10-08T18:32:41.222136Z"
    }
   },
   "outputs": [
    {
     "name": "stdout",
     "output_type": "stream",
     "text": [
      "\n",
      "*** CALSTIS-0 -- Version 3.4.2 (19-Jan-2018) ***\n",
      "Begin    08-Oct-2025 18:32:41 UTC\n",
      "\n",
      "Input    o5f301010_raw.fits\n",
      "Outroot  ./BLEVCORR/o5f301010_raw.fits\n",
      "Warning  WAVECAL was specified, but WAVECORR is not PERFORM.\n",
      "\n",
      "*** CALSTIS-1 -- Version 3.4.2 (19-Jan-2018) ***\n",
      "Begin    08-Oct-2025 18:32:41 UTC\n",
      "Input    o5f301010_raw.fits\n",
      "Output   ./BLEVCORR/o5f301010_flt.fits\n",
      "OBSMODE  ACCUM\n",
      "APERTURE 52X0.2\n",
      "OPT_ELEM G430L\n",
      "DETECTOR CCD\n",
      "\n",
      "Imset 1  Begin 18:32:41 UTC\n",
      "\n",
      "CCDTAB   oref$0841734eo_ccd.fits\n",
      "CCDTAB   PEDIGREE=INFLIGHT 01/05/1999 01/05/1999\n",
      "CCDTAB   DESCRIP =Updated readnoise values-------------------------------------------\n",
      "CCDTAB   DESCRIP =Proposal 8057, by I. Dashevsky & P. Goudfrooij\n",
      "\n",
      "DQICORR  PERFORM\n",
      "DQITAB   oref$h1v11475o_bpx.fits\n",
      "DQITAB   PEDIGREE=GROUND\n",
      "DQITAB   DESCRIP =Prel. Ground Calib\n",
      "DQICORR  COMPLETE\n",
      "\n",
      "ATODCORR OMIT\n",
      "\n",
      "BLEVCORR PERFORM\n",
      "         Bias level from overscan has been subtracted; \\\n",
      "         mean of bias levels subtracted was 1330.96.\n",
      "BLEVCORR COMPLETE\n",
      "         Uncertainty array initialized, readnoise=3.99, gain=1\n",
      "\n",
      "BIASCORR OMIT\n",
      "\n",
      "DARKCORR OMIT\n",
      "\n",
      "FLATCORR OMIT\n",
      "\n",
      "SHADCORR OMIT\n",
      "\n",
      "PHOTCORR OMIT\n",
      "\n",
      "STATFLAG PERFORM\n",
      "STATFLAG COMPLETE\n",
      "Imset 1  End 18:32:41 UTC\n",
      "\n",
      "Imset 2  Begin 18:32:41 UTC\n",
      "\n",
      "DQICORR  PERFORM\n"
     ]
    },
    {
     "name": "stdout",
     "output_type": "stream",
     "text": [
      "DQICORR  COMPLETE\n",
      "\n",
      "ATODCORR OMIT\n",
      "\n",
      "BLEVCORR PERFORM\n",
      "         Bias level from overscan has been subtracted; \\\n",
      "         mean of bias levels subtracted was 1329.14.\n",
      "BLEVCORR COMPLETE\n",
      "         Uncertainty array initialized, readnoise=3.99, gain=1\n",
      "\n",
      "BIASCORR OMIT\n",
      "\n",
      "DARKCORR OMIT\n",
      "\n",
      "FLATCORR OMIT\n",
      "\n",
      "SHADCORR OMIT\n",
      "\n",
      "STATFLAG PERFORM\n",
      "STATFLAG COMPLETE\n",
      "Imset 2  End 18:32:41 UTC\n",
      "\n",
      "End      08-Oct-2025 18:32:41 UTC\n",
      "\n",
      "*** CALSTIS-1 complete ***\n",
      "\n",
      "End      08-Oct-2025 18:32:41 UTC\n",
      "\n",
      "*** CALSTIS-0 complete ***\n"
     ]
    }
   ],
   "source": [
    "# Turn on the BLEVCORR switch and perform calibration.\n",
    "calibrate(\"BLEVCORR\")"
   ]
  },
  {
   "cell_type": "markdown",
   "id": "e477a893",
   "metadata": {},
   "source": [
    "Show the image and science data distribution histogram in the same way as _raw data. Notice here that there aren't many pixels with counts between 1200 and 1600. This is because the electronic bias level is subtracted from the image."
   ]
  },
  {
   "cell_type": "code",
   "execution_count": 13,
   "id": "64ed66ac",
   "metadata": {
    "execution": {
     "iopub.execute_input": "2025-10-08T18:32:41.224134Z",
     "iopub.status.busy": "2025-10-08T18:32:41.223985Z",
     "iopub.status.idle": "2025-10-08T18:32:41.376018Z",
     "shell.execute_reply": "2025-10-08T18:32:41.375559Z"
    }
   },
   "outputs": [],
   "source": [
    "img_hist(\"./BLEVCORR/o5f301010_flt.fits\", [-200, 1600])"
   ]
  },
  {
   "cell_type": "markdown",
   "id": "ad8bf5a9",
   "metadata": {},
   "source": [
    "Now plot the image and histogram again, but with range between -200 and 200. As the histogram shows, the distribution is centered around zero, which means the BLEVCORR is the calibration step that leads to negative counts in the SCI extension."
   ]
  },
  {
   "cell_type": "code",
   "execution_count": 14,
   "id": "80943082",
   "metadata": {
    "execution": {
     "iopub.execute_input": "2025-10-08T18:32:41.377899Z",
     "iopub.status.busy": "2025-10-08T18:32:41.377730Z",
     "iopub.status.idle": "2025-10-08T18:32:41.430614Z",
     "shell.execute_reply": "2025-10-08T18:32:41.430160Z"
    }
   },
   "outputs": [],
   "source": [
    "img_hist(\"./BLEVCORR/o5f301010_flt.fits\", [-200, 200])"
   ]
  },
  {
   "cell_type": "markdown",
   "id": "11b7f9fb",
   "metadata": {},
   "source": [
    "Since the SCI data distribution is centered at 0, we can use another colormap to better visualize the image. The RdBu_r color map is a diverging map with white in the middle, red on the positive direction, and blue on the negative direction (as shown in the color bar). The majority of the image is white and red indicates that most pixels have positive counts, which is consistent with the histogram."
   ]
  },
  {
   "cell_type": "code",
   "execution_count": 15,
   "id": "d496c02f",
   "metadata": {
    "execution": {
     "iopub.execute_input": "2025-10-08T18:32:41.432395Z",
     "iopub.status.busy": "2025-10-08T18:32:41.432229Z",
     "iopub.status.idle": "2025-10-08T18:32:41.485587Z",
     "shell.execute_reply": "2025-10-08T18:32:41.485103Z"
    }
   },
   "outputs": [],
   "source": [
    "img_hist(\"./BLEVCORR/o5f301010_flt.fits\", [-200, 200], color=\"RdBu_r\")"
   ]
  },
  {
   "cell_type": "markdown",
   "id": "5290416b",
   "metadata": {},
   "source": [
    "## 5 BIASCORR: Small Scale Bias Subtraction\n",
    "The BIASCORR step is part of basic 2-D image reduction for CCD data only. This step removes 2-D stationary pattern in the electronic zero point of each CCD readout by subtracting a bias reference image. Separate bias files are used for different values of binning and for different values of gain. Pixels marked with bad data quality flags are also flagged in the science data quality image."
   ]
  },
  {
   "cell_type": "code",
   "execution_count": 16,
   "id": "52dc6ca4",
   "metadata": {
    "execution": {
     "iopub.execute_input": "2025-10-08T18:32:41.487369Z",
     "iopub.status.busy": "2025-10-08T18:32:41.487163Z",
     "iopub.status.idle": "2025-10-08T18:32:41.607007Z",
     "shell.execute_reply": "2025-10-08T18:32:41.606529Z"
    }
   },
   "outputs": [
    {
     "name": "stdout",
     "output_type": "stream",
     "text": [
      "\n",
      "*** CALSTIS-0 -- Version 3.4.2 (19-Jan-2018) ***\n",
      "Begin    08-Oct-2025 18:32:41 UTC\n",
      "\n",
      "Input    o5f301010_raw.fits\n",
      "Outroot  ./BIASCORR/o5f301010_raw.fits\n",
      "Warning  WAVECAL was specified, but WAVECORR is not PERFORM.\n",
      "\n",
      "*** CALSTIS-1 -- Version 3.4.2 (19-Jan-2018) ***\n",
      "Begin    08-Oct-2025 18:32:41 UTC\n",
      "Input    o5f301010_raw.fits\n",
      "Output   ./BIASCORR/o5f301010_flt.fits\n",
      "OBSMODE  ACCUM\n",
      "APERTURE 52X0.2\n",
      "OPT_ELEM G430L\n",
      "DETECTOR CCD\n",
      "\n",
      "Imset 1  Begin 18:32:41 UTC\n",
      "\n",
      "CCDTAB   oref$0841734eo_ccd.fits\n",
      "CCDTAB   PEDIGREE=INFLIGHT 01/05/1999 01/05/1999\n",
      "CCDTAB   DESCRIP =Updated readnoise values-------------------------------------------\n",
      "CCDTAB   DESCRIP =Proposal 8057, by I. Dashevsky & P. Goudfrooij\n",
      "\n",
      "DQICORR  PERFORM\n",
      "DQITAB   oref$h1v11475o_bpx.fits\n",
      "DQITAB   PEDIGREE=GROUND\n",
      "DQITAB   DESCRIP =Prel. Ground Calib\n",
      "DQICORR  COMPLETE\n",
      "\n",
      "ATODCORR OMIT\n",
      "\n",
      "BLEVCORR PERFORM\n",
      "         Bias level from overscan has been subtracted; \\\n",
      "         mean of bias levels subtracted was 1330.96.\n",
      "BLEVCORR COMPLETE\n",
      "         Uncertainty array initialized, readnoise=3.99, gain=1\n",
      "\n",
      "BIASCORR PERFORM\n",
      "BIASFILE oref$k1k1319qo_bia.fits\n",
      "BIASFILE PEDIGREE=INFLIGHT 10/04/1999 16/04/1999\n",
      "BIASFILE DESCRIP =Weekly bias created from proposal(s) 8081,7949 (delosSantos & Coffma\n",
      "BIASCORR COMPLETE\n",
      "\n",
      "DARKCORR OMIT\n",
      "\n",
      "FLATCORR OMIT\n",
      "\n",
      "SHADCORR OMIT\n",
      "\n",
      "PHOTCORR OMIT\n",
      "\n",
      "STATFLAG PERFORM\n",
      "STATFLAG COMPLETE\n",
      "Imset 1  End 18:32:41 UTC\n",
      "\n",
      "Imset 2  Begin 18:32:41 UTC\n",
      "\n",
      "DQICORR  PERFORM\n",
      "DQICORR  COMPLETE\n",
      "\n",
      "ATODCORR OMIT\n",
      "\n",
      "BLEVCORR PERFORM\n",
      "         Bias level from overscan has been subtracted; \\\n",
      "         mean of bias levels subtracted was 1329.14.\n",
      "BLEVCORR COMPLETE\n",
      "         Uncertainty array initialized, readnoise=3.99, gain=1\n",
      "\n",
      "BIASCORR PERFORM\n",
      "BIASCORR COMPLETE\n",
      "\n",
      "DARKCORR OMIT\n",
      "\n",
      "FLATCORR OMIT\n",
      "\n",
      "SHADCORR OMIT\n",
      "\n",
      "STATFLAG PERFORM\n",
      "STATFLAG COMPLETE\n",
      "Imset 2  End 18:32:41 UTC\n",
      "\n",
      "End      08-Oct-2025 18:32:41 UTC\n",
      "\n",
      "*** CALSTIS-1 complete ***\n",
      "\n",
      "End      08-Oct-2025 18:32:41 UTC\n",
      "\n",
      "*** CALSTIS-0 complete ***\n"
     ]
    }
   ],
   "source": [
    "# Turn on the BIASCORR switch and perform calibration.\n",
    "calibrate(\"BIASCORR\")"
   ]
  },
  {
   "cell_type": "code",
   "execution_count": 17,
   "id": "7ae69e26",
   "metadata": {
    "execution": {
     "iopub.execute_input": "2025-10-08T18:32:41.608517Z",
     "iopub.status.busy": "2025-10-08T18:32:41.608361Z",
     "iopub.status.idle": "2025-10-08T18:32:41.661910Z",
     "shell.execute_reply": "2025-10-08T18:32:41.661344Z"
    }
   },
   "outputs": [],
   "source": [
    "img_hist(\"./BIASCORR/o5f301010_flt.fits\", [-200, 200])"
   ]
  },
  {
   "cell_type": "markdown",
   "id": "2440c386",
   "metadata": {},
   "source": [
    "## 6 CRCORR: Cosmic Ray Correction\n",
    "The CRCORR step is applied to CCD data only. The CCD exposures are split into multiple associated exposures in order to apply an anti-coincidence technique. The exposures are specified by the number of iterations NRPTEXP or CRSPLIT parameters. The CRCORR step sums the individual CRSPLIT exposures in an associated dataset, producing a single cosmic ray rejected file. The CRCORR contains the following steps:\n",
    " - Forms a stack of images to be combined(the CRSPLIT or NRPTEXP exposures in the input file).\n",
    " - Forms an initial guess image (minimum or median).\n",
    " - Forms a summed CR-rejected image, using the guess image to reject high and low values in the stack, based on sigma and the radius parameter that signifies whether to reject pixels neighboring cosmic ray impacts.\n",
    " - Iterates, using different (usually decreasing) rejection thresholds to produce a new guess image at each iteration.\n",
    " - Produces a final cosmic ray rejected image (_crj), including science, data quality, and error extensions, which is the sum of the input images. Then updates various header keywords.\n",
    " - Flags the data quality arrays of the individual (non-CR-rejected) input files to indicate where an outlier has been found (pixels that were rejected because of cosmic ray hits can be identified by looking for data quality bit = 14 in the _flt file)."
   ]
  },
  {
   "cell_type": "code",
   "execution_count": 18,
   "id": "5f450493",
   "metadata": {
    "execution": {
     "iopub.execute_input": "2025-10-08T18:32:41.663788Z",
     "iopub.status.busy": "2025-10-08T18:32:41.663627Z",
     "iopub.status.idle": "2025-10-08T18:32:41.870569Z",
     "shell.execute_reply": "2025-10-08T18:32:41.870002Z"
    }
   },
   "outputs": [
    {
     "name": "stdout",
     "output_type": "stream",
     "text": [
      "\n",
      "*** CALSTIS-0 -- Version 3.4.2 (19-Jan-2018) ***\n",
      "Begin    08-Oct-2025 18:32:41 UTC\n",
      "\n",
      "Input    o5f301010_raw.fits\n",
      "Outroot  ./CRCORR/o5f301010_raw.fits\n",
      "Warning  WAVECAL was specified, but WAVECORR is not PERFORM.\n",
      "\n",
      "*** CALSTIS-1 -- Version 3.4.2 (19-Jan-2018) ***\n",
      "Begin    08-Oct-2025 18:32:41 UTC\n",
      "Input    o5f301010_raw.fits\n",
      "Output   ./CRCORR/o5f301010_blv_tmp.fits\n",
      "OBSMODE  ACCUM\n",
      "APERTURE 52X0.2\n",
      "OPT_ELEM G430L\n",
      "DETECTOR CCD\n",
      "\n",
      "Imset 1  Begin 18:32:41 UTC\n",
      "\n",
      "CCDTAB   oref$0841734eo_ccd.fits\n",
      "CCDTAB   PEDIGREE=INFLIGHT 01/05/1999 01/05/1999\n",
      "CCDTAB   DESCRIP =Updated readnoise values-------------------------------------------\n",
      "CCDTAB   DESCRIP =Proposal 8057, by I. Dashevsky & P. Goudfrooij\n",
      "\n",
      "DQICORR  PERFORM\n",
      "DQITAB   oref$h1v11475o_bpx.fits\n",
      "DQITAB   PEDIGREE=GROUND\n",
      "DQITAB   DESCRIP =Prel. Ground Calib\n",
      "DQICORR  COMPLETE\n",
      "\n",
      "ATODCORR OMIT\n",
      "\n",
      "BLEVCORR PERFORM\n",
      "         Bias level from overscan has been subtracted; \\\n",
      "         mean of bias levels subtracted was 1330.96.\n",
      "BLEVCORR COMPLETE\n",
      "         Uncertainty array initialized, readnoise=3.99, gain=1\n",
      "\n",
      "BIASCORR PERFORM\n",
      "BIASFILE oref$k1k1319qo_bia.fits\n",
      "BIASFILE PEDIGREE=INFLIGHT 10/04/1999 16/04/1999\n",
      "BIASFILE DESCRIP =Weekly bias created from proposal(s) 8081,7949 (delosSantos & Coffma\n"
     ]
    },
    {
     "name": "stdout",
     "output_type": "stream",
     "text": [
      "BIASCORR COMPLETE\n",
      "\n",
      "DARKCORR OMIT\n",
      "\n",
      "FLATCORR OMIT\n",
      "\n",
      "SHADCORR OMIT\n",
      "\n",
      "PHOTCORR OMIT\n",
      "Imset 1  End 18:32:41 UTC\n",
      "\n",
      "Imset 2  Begin 18:32:41 UTC\n",
      "\n",
      "DQICORR  PERFORM\n",
      "DQICORR  COMPLETE\n",
      "\n",
      "ATODCORR OMIT\n",
      "\n",
      "BLEVCORR PERFORM\n",
      "         Bias level from overscan has been subtracted; \\\n",
      "         mean of bias levels subtracted was 1329.14.\n",
      "BLEVCORR COMPLETE\n",
      "         Uncertainty array initialized, readnoise=3.99, gain=1\n",
      "\n",
      "BIASCORR PERFORM\n",
      "BIASCORR COMPLETE\n",
      "\n",
      "DARKCORR OMIT\n",
      "\n",
      "FLATCORR OMIT\n",
      "\n",
      "SHADCORR OMIT\n",
      "Imset 2  End 18:32:41 UTC\n",
      "\n",
      "End      08-Oct-2025 18:32:41 UTC\n",
      "\n",
      "*** CALSTIS-1 complete ***\n",
      "\n",
      "*** CALSTIS-2 -- Version 3.4.2 (19-Jan-2018) ***\n",
      "Begin    08-Oct-2025 18:32:41 UTC\n",
      "Input    ./CRCORR/o5f301010_blv_tmp.fits\n",
      "Output   ./CRCORR/o5f301010_crj.fits\n",
      "\n",
      "CRCORR   PERFORM\n",
      "Total number of input image sets = 2\n",
      "CRREJTAB oref$j3m1403io_crr.fits\n",
      "CRCORR   COMPLETE\n",
      "\n",
      "End      08-Oct-2025 18:32:41 UTC\n",
      "\n",
      "*** CALSTIS-2 complete ***\n",
      "\n",
      "End      08-Oct-2025 18:32:41 UTC\n",
      "\n",
      "*** CALSTIS-0 complete ***\n"
     ]
    }
   ],
   "source": [
    "# Turn on the CRCORR switch and perform calibration.\n",
    "calibrate(\"CRCORR\")"
   ]
  },
  {
   "cell_type": "markdown",
   "id": "445f4ee9",
   "metadata": {},
   "source": [
    "Since the CRCORR step sums the CRSPLIT exposures, now there is only one set of SCI, ERR, and DQ extension in the _crj data file:"
   ]
  },
  {
   "cell_type": "code",
   "execution_count": 19,
   "id": "6a545514",
   "metadata": {
    "execution": {
     "iopub.execute_input": "2025-10-08T18:32:41.872093Z",
     "iopub.status.busy": "2025-10-08T18:32:41.871941Z",
     "iopub.status.idle": "2025-10-08T18:32:41.878466Z",
     "shell.execute_reply": "2025-10-08T18:32:41.878057Z"
    }
   },
   "outputs": [
    {
     "name": "stdout",
     "output_type": "stream",
     "text": [
      "Filename: ./CRCORR/o5f301010_crj.fits\n",
      "No.    Name      Ver    Type      Cards   Dimensions   Format\n",
      "  0  PRIMARY       1 PrimaryHDU     247   ()      \n",
      "  1  SCI           1 ImageHDU       119   (1024, 1024)   float32   \n",
      "  2  ERR           1 ImageHDU        61   (1024, 1024)   float32   \n",
      "  3  DQ            1 ImageHDU        44   (1024, 1024)   int16   \n"
     ]
    }
   ],
   "source": [
    "fits.info(\"./CRCORR/o5f301010_crj.fits\")"
   ]
  },
  {
   "cell_type": "code",
   "execution_count": 20,
   "id": "83c5bbe2",
   "metadata": {
    "execution": {
     "iopub.execute_input": "2025-10-08T18:32:41.879862Z",
     "iopub.status.busy": "2025-10-08T18:32:41.879705Z",
     "iopub.status.idle": "2025-10-08T18:32:41.918732Z",
     "shell.execute_reply": "2025-10-08T18:32:41.918142Z"
    }
   },
   "outputs": [],
   "source": [
    "img_hist(\"./CRCORR/o5f301010_crj.fits\", [-200, 200])"
   ]
  },
  {
   "cell_type": "markdown",
   "id": "5aac0385",
   "metadata": {},
   "source": [
    "## 7 DARKCORR: Dark Signal Subtraction\n",
    "The DARKCORR step is part of basic 2-D image reduction and removes the dark signal (count rate created in the detector in the absence of photons from the sky) from the uncalibrated science image based on reference file. \n",
    "\n",
    "The mean of the dark values subtracted is written to the SCI extension header with the keyword MEANDARK. For CCD data, the dark image is multiplied by the exposure time and divided by the ATODGAIN (from the CCD parameters table) before subtracting. The DQ extension is also updated for bad pixels in the dark reference file."
   ]
  },
  {
   "cell_type": "code",
   "execution_count": 21,
   "id": "5ff0d269",
   "metadata": {
    "execution": {
     "iopub.execute_input": "2025-10-08T18:32:41.920809Z",
     "iopub.status.busy": "2025-10-08T18:32:41.920634Z",
     "iopub.status.idle": "2025-10-08T18:32:42.312655Z",
     "shell.execute_reply": "2025-10-08T18:32:42.312194Z"
    }
   },
   "outputs": [
    {
     "name": "stdout",
     "output_type": "stream",
     "text": [
      "\n",
      "*** CALSTIS-0 -- Version 3.4.2 (19-Jan-2018) ***\n",
      "Begin    08-Oct-2025 18:32:41 UTC\n",
      "\n",
      "Input    o5f301010_raw.fits\n",
      "Outroot  ./DARKCORR/o5f301010_raw.fits\n",
      "Warning  WAVECAL was specified, but WAVECORR is not PERFORM.\n",
      "\n",
      "*** CALSTIS-1 -- Version 3.4.2 (19-Jan-2018) ***\n",
      "Begin    08-Oct-2025 18:32:41 UTC\n",
      "Input    o5f301010_raw.fits\n",
      "Output   ./DARKCORR/o5f301010_blv_tmp.fits\n",
      "OBSMODE  ACCUM\n",
      "APERTURE 52X0.2\n",
      "OPT_ELEM G430L\n",
      "DETECTOR CCD\n",
      "\n",
      "Imset 1  Begin 18:32:41 UTC\n",
      "\n",
      "CCDTAB   oref$0841734eo_ccd.fits\n",
      "CCDTAB   PEDIGREE=INFLIGHT 01/05/1999 01/05/1999\n",
      "CCDTAB   DESCRIP =Updated readnoise values-------------------------------------------\n",
      "CCDTAB   DESCRIP =Proposal 8057, by I. Dashevsky & P. Goudfrooij\n",
      "\n",
      "DQICORR  PERFORM\n",
      "DQITAB   oref$h1v11475o_bpx.fits\n",
      "DQITAB   PEDIGREE=GROUND\n",
      "DQITAB   DESCRIP =Prel. Ground Calib\n",
      "DQICORR  COMPLETE\n",
      "\n",
      "ATODCORR OMIT\n",
      "\n",
      "BLEVCORR PERFORM\n",
      "         Bias level from overscan has been subtracted; \\\n",
      "         mean of bias levels subtracted was 1330.96.\n",
      "BLEVCORR COMPLETE\n",
      "         Uncertainty array initialized, readnoise=3.99, gain=1\n",
      "\n",
      "BIASCORR PERFORM\n",
      "BIASFILE oref$k1k1319qo_bia.fits\n",
      "BIASFILE PEDIGREE=INFLIGHT 10/04/1999 16/04/1999\n",
      "BIASFILE DESCRIP =Weekly bias created from proposal(s) 8081,7949 (delosSantos & Coffma\n",
      "BIASCORR COMPLETE\n",
      "\n",
      "DARKCORR OMIT\n",
      "\n",
      "FLATCORR OMIT\n",
      "\n",
      "SHADCORR OMIT\n",
      "\n",
      "PHOTCORR OMIT\n",
      "Imset 1  End 18:32:41 UTC\n",
      "\n",
      "Imset 2  Begin 18:32:41 UTC\n",
      "\n",
      "DQICORR  PERFORM\n",
      "DQICORR  COMPLETE\n",
      "\n",
      "ATODCORR OMIT\n",
      "\n",
      "BLEVCORR PERFORM\n",
      "         Bias level from overscan has been subtracted; \\\n",
      "         mean of bias levels subtracted was 1329.14.\n",
      "BLEVCORR COMPLETE\n",
      "         Uncertainty array initialized, readnoise=3.99, gain=1\n",
      "\n",
      "BIASCORR PERFORM\n",
      "BIASCORR COMPLETE\n",
      "\n",
      "DARKCORR OMIT\n",
      "\n",
      "FLATCORR OMIT\n",
      "\n",
      "SHADCORR OMIT\n",
      "Imset 2  End 18:32:42 UTC\n",
      "\n",
      "End      08-Oct-2025 18:32:42 UTC\n",
      "\n",
      "*** CALSTIS-1 complete ***\n",
      "\n",
      "*** CALSTIS-2 -- Version 3.4.2 (19-Jan-2018) ***\n",
      "Begin    08-Oct-2025 18:32:42 UTC\n",
      "Input    ./DARKCORR/o5f301010_blv_tmp.fits\n",
      "Output   ./DARKCORR/o5f301010_crj_tmp.fits\n",
      "\n",
      "CRCORR   PERFORM\n",
      "Total number of input image sets = 2\n",
      "CRREJTAB oref$j3m1403io_crr.fits\n"
     ]
    },
    {
     "name": "stdout",
     "output_type": "stream",
     "text": [
      "CRCORR   COMPLETE\n",
      "\n",
      "End      08-Oct-2025 18:32:42 UTC\n",
      "\n",
      "*** CALSTIS-2 complete ***\n",
      "\n",
      "*** CALSTIS-1 -- Version 3.4.2 (19-Jan-2018) ***\n",
      "Begin    08-Oct-2025 18:32:42 UTC\n",
      "Input    ./DARKCORR/o5f301010_crj_tmp.fits\n",
      "Output   ./DARKCORR/o5f301010_crj.fits\n",
      "OBSMODE  ACCUM\n",
      "APERTURE 52X0.2\n",
      "OPT_ELEM G430L\n",
      "DETECTOR CCD\n",
      "\n",
      "Imset 1  Begin 18:32:42 UTC\n",
      "\n",
      "CCDTAB   oref$0841734eo_ccd.fits\n",
      "CCDTAB   PEDIGREE=INFLIGHT 01/05/1999 01/05/1999\n",
      "CCDTAB   DESCRIP =Updated readnoise values-------------------------------------------\n",
      "CCDTAB   DESCRIP =Proposal 8057, by I. Dashevsky & P. Goudfrooij\n",
      "\n",
      "DQICORR  OMIT\n",
      "\n",
      "ATODCORR OMIT\n",
      "\n",
      "BLEVCORR OMIT\n",
      "\n",
      "BIASCORR OMIT\n",
      "\n",
      "DARKCORR PERFORM\n",
      "DARKFILE oref$k1k1319ho_drk.fits\n",
      "DARKFILE PEDIGREE=INFLIGHT 10/04/1999 16/04/1999\n",
      "DARKFILE DESCRIP =Weekly superdark created by R. de los Santos from proposals 8408/843\n"
     ]
    },
    {
     "name": "stdout",
     "output_type": "stream",
     "text": [
      "DARKCORR COMPLETE\n",
      "\n",
      "FLATCORR OMIT\n",
      "\n",
      "SHADCORR OMIT\n",
      "\n",
      "PHOTCORR OMIT\n",
      "\n",
      "STATFLAG PERFORM\n",
      "STATFLAG COMPLETE\n",
      "Imset 1  End 18:32:42 UTC\n",
      "\n",
      "End      08-Oct-2025 18:32:42 UTC\n",
      "\n",
      "*** CALSTIS-1 complete ***\n",
      "\n",
      "End      08-Oct-2025 18:32:42 UTC\n",
      "\n",
      "*** CALSTIS-0 complete ***\n"
     ]
    }
   ],
   "source": [
    "# Turn on the DARKCORR switch and perform calibration.\n",
    "calibrate(\"DARKCORR\")"
   ]
  },
  {
   "cell_type": "code",
   "execution_count": 22,
   "id": "3a9f08dc",
   "metadata": {
    "execution": {
     "iopub.execute_input": "2025-10-08T18:32:42.314196Z",
     "iopub.status.busy": "2025-10-08T18:32:42.314022Z",
     "iopub.status.idle": "2025-10-08T18:32:42.353431Z",
     "shell.execute_reply": "2025-10-08T18:32:42.352956Z"
    }
   },
   "outputs": [],
   "source": [
    "img_hist(\"./DARKCORR/o5f301010_crj.fits\", [-200, 200])"
   ]
  },
  {
   "cell_type": "markdown",
   "id": "9380f682",
   "metadata": {},
   "source": [
    "## 8 FLATCORR: Flat Field Correction\n",
    "The FLATCORR step is part of basic 2-D image reduction and corrects for pixel-to-pixel and large scale sensitivity gradients across the detector by dividing the data by a flat field image. The _flt image is created from 3 reference files:\n",
    " - PFLTFILE: configuration dependent pixel-to-pixel _flt image that removes large scale sensitivity variations.\n",
    " - DFLTFILE: changes in the small scale flat field response relative to the PFLTFILE.\n",
    " - LFLTFILE: large scale sensitivity variation across the detector.\n",
    " \n",
    "Calstis creates a single _flt image from these three files, then divides the science image by the combined flat field image. To create such image, calstis first expands LFLTFILE to full format using bilinear interpolation. The DFLTFILE and LFLTFILE are then multiplied together. The DQ extension is updated to reflect bad pixels in the reference files, and the ERR extension is updated to reflect the application of the flat. Blank and “N/A” values of PFLTFILE, DFLTFILE, or LFLTFILE in the science data’s header indicate that type of flat is not to be used."
   ]
  },
  {
   "cell_type": "code",
   "execution_count": 23,
   "id": "3091709d",
   "metadata": {
    "execution": {
     "iopub.execute_input": "2025-10-08T18:32:42.355218Z",
     "iopub.status.busy": "2025-10-08T18:32:42.355048Z",
     "iopub.status.idle": "2025-10-08T18:32:42.777192Z",
     "shell.execute_reply": "2025-10-08T18:32:42.776716Z"
    }
   },
   "outputs": [
    {
     "name": "stdout",
     "output_type": "stream",
     "text": [
      "\n",
      "*** CALSTIS-0 -- Version 3.4.2 (19-Jan-2018) ***\n",
      "Begin    08-Oct-2025 18:32:42 UTC\n",
      "\n",
      "Input    o5f301010_raw.fits\n",
      "Outroot  ./FLATCORR/o5f301010_raw.fits\n",
      "Warning  WAVECAL was specified, but WAVECORR is not PERFORM.\n",
      "\n",
      "*** CALSTIS-1 -- Version 3.4.2 (19-Jan-2018) ***\n",
      "Begin    08-Oct-2025 18:32:42 UTC\n",
      "Input    o5f301010_raw.fits\n",
      "Output   ./FLATCORR/o5f301010_blv_tmp.fits\n",
      "OBSMODE  ACCUM\n",
      "APERTURE 52X0.2\n",
      "OPT_ELEM G430L\n",
      "DETECTOR CCD\n",
      "\n",
      "Imset 1  Begin 18:32:42 UTC\n",
      "\n",
      "CCDTAB   oref$0841734eo_ccd.fits\n",
      "CCDTAB   PEDIGREE=INFLIGHT 01/05/1999 01/05/1999\n",
      "CCDTAB   DESCRIP =Updated readnoise values-------------------------------------------\n",
      "CCDTAB   DESCRIP =Proposal 8057, by I. Dashevsky & P. Goudfrooij\n",
      "\n",
      "DQICORR  PERFORM\n",
      "DQITAB   oref$h1v11475o_bpx.fits\n",
      "DQITAB   PEDIGREE=GROUND\n",
      "DQITAB   DESCRIP =Prel. Ground Calib\n",
      "DQICORR  COMPLETE\n",
      "\n",
      "ATODCORR OMIT\n",
      "\n",
      "BLEVCORR PERFORM\n",
      "         Bias level from overscan has been subtracted; \\\n",
      "         mean of bias levels subtracted was 1330.96.\n",
      "BLEVCORR COMPLETE\n",
      "         Uncertainty array initialized, readnoise=3.99, gain=1\n",
      "\n",
      "BIASCORR PERFORM\n",
      "BIASFILE oref$k1k1319qo_bia.fits\n",
      "BIASFILE PEDIGREE=INFLIGHT 10/04/1999 16/04/1999\n",
      "BIASFILE DESCRIP =Weekly bias created from proposal(s) 8081,7949 (delosSantos & Coffma\n",
      "BIASCORR COMPLETE\n",
      "\n",
      "DARKCORR OMIT\n",
      "\n",
      "FLATCORR OMIT\n",
      "\n",
      "SHADCORR OMIT\n",
      "\n",
      "PHOTCORR OMIT\n",
      "Imset 1  End 18:32:42 UTC\n",
      "\n",
      "Imset 2  Begin 18:32:42 UTC\n",
      "\n",
      "DQICORR  PERFORM\n",
      "DQICORR  COMPLETE\n",
      "\n",
      "ATODCORR OMIT\n",
      "\n",
      "BLEVCORR PERFORM\n",
      "         Bias level from overscan has been subtracted; \\\n",
      "         mean of bias levels subtracted was 1329.14.\n",
      "BLEVCORR COMPLETE\n",
      "         Uncertainty array initialized, readnoise=3.99, gain=1\n",
      "\n",
      "BIASCORR PERFORM\n",
      "BIASCORR COMPLETE\n",
      "\n",
      "DARKCORR OMIT\n",
      "\n",
      "FLATCORR OMIT\n",
      "\n",
      "SHADCORR OMIT\n",
      "Imset 2  End 18:32:42 UTC\n",
      "\n",
      "End      08-Oct-2025 18:32:42 UTC\n",
      "\n",
      "*** CALSTIS-1 complete ***\n",
      "\n",
      "*** CALSTIS-2 -- Version 3.4.2 (19-Jan-2018) ***\n",
      "Begin    08-Oct-2025 18:32:42 UTC\n",
      "Input    ./FLATCORR/o5f301010_blv_tmp.fits\n",
      "Output   ./FLATCORR/o5f301010_crj_tmp.fits\n",
      "\n",
      "CRCORR   PERFORM\n",
      "Total number of input image sets = 2\n",
      "CRREJTAB oref$j3m1403io_crr.fits\n"
     ]
    },
    {
     "name": "stdout",
     "output_type": "stream",
     "text": [
      "CRCORR   COMPLETE\n",
      "\n",
      "End      08-Oct-2025 18:32:42 UTC\n",
      "\n",
      "*** CALSTIS-2 complete ***\n",
      "\n",
      "*** CALSTIS-1 -- Version 3.4.2 (19-Jan-2018) ***\n",
      "Begin    08-Oct-2025 18:32:42 UTC\n",
      "Input    ./FLATCORR/o5f301010_crj_tmp.fits\n",
      "Output   ./FLATCORR/o5f301010_crj.fits\n",
      "OBSMODE  ACCUM\n",
      "APERTURE 52X0.2\n",
      "OPT_ELEM G430L\n",
      "DETECTOR CCD\n",
      "\n",
      "Imset 1  Begin 18:32:42 UTC\n",
      "\n",
      "CCDTAB   oref$0841734eo_ccd.fits\n",
      "CCDTAB   PEDIGREE=INFLIGHT 01/05/1999 01/05/1999\n",
      "CCDTAB   DESCRIP =Updated readnoise values-------------------------------------------\n",
      "CCDTAB   DESCRIP =Proposal 8057, by I. Dashevsky & P. Goudfrooij\n",
      "\n",
      "DQICORR  OMIT\n",
      "\n",
      "ATODCORR OMIT\n",
      "\n",
      "BLEVCORR OMIT\n",
      "\n",
      "BIASCORR OMIT\n",
      "\n",
      "DARKCORR PERFORM\n",
      "DARKFILE oref$k1k1319ho_drk.fits\n",
      "DARKFILE PEDIGREE=INFLIGHT 10/04/1999 16/04/1999\n",
      "DARKFILE DESCRIP =Weekly superdark created by R. de los Santos from proposals 8408/843\n"
     ]
    },
    {
     "name": "stdout",
     "output_type": "stream",
     "text": [
      "DARKCORR COMPLETE\n",
      "\n",
      "FLATCORR PERFORM\n",
      "PFLTFILE oref$k2910262o_pfl.fits\n",
      "PFLTFILE PEDIGREE=INFLIGHT 14/04/1997 27/12/1998\n",
      "PFLTFILE DESCRIP =ON-ORBIT CCD P-FLAT\n",
      "LFLTFILE oref$pcc2026jo_lfl.fits\n",
      "LFLTFILE PEDIGREE=INFLIGHT 27/05/1997 03/08/2004\n",
      "LFLTFILE DESCRIP =CCD G430L Low-Order Flat\n",
      "FLATCORR COMPLETE\n",
      "\n",
      "SHADCORR OMIT\n",
      "\n",
      "PHOTCORR OMIT\n",
      "\n",
      "STATFLAG PERFORM\n",
      "STATFLAG COMPLETE\n"
     ]
    },
    {
     "name": "stdout",
     "output_type": "stream",
     "text": [
      "Imset 1  End 18:32:42 UTC\n",
      "\n",
      "End      08-Oct-2025 18:32:42 UTC\n",
      "\n",
      "*** CALSTIS-1 complete ***\n",
      "\n",
      "End      08-Oct-2025 18:32:42 UTC\n",
      "\n",
      "*** CALSTIS-0 complete ***\n"
     ]
    }
   ],
   "source": [
    "# Turn on the FLATCORR switch and perform calibration.\n",
    "calibrate(\"FLATCORR\")"
   ]
  },
  {
   "cell_type": "code",
   "execution_count": 24,
   "id": "634cba8a",
   "metadata": {
    "execution": {
     "iopub.execute_input": "2025-10-08T18:32:42.778667Z",
     "iopub.status.busy": "2025-10-08T18:32:42.778516Z",
     "iopub.status.idle": "2025-10-08T18:32:42.820949Z",
     "shell.execute_reply": "2025-10-08T18:32:42.820509Z"
    }
   },
   "outputs": [],
   "source": [
    "img_hist(\"./FLATCORR/o5f301010_crj.fits\", [-200, 200])"
   ]
  },
  {
   "cell_type": "markdown",
   "id": "28d88475",
   "metadata": {},
   "source": [
    "## 9 Summary\n",
    "Now we create 6 subplots when each switches is turned on using the default 'plasma' colormap, and cross compare their differences."
   ]
  },
  {
   "cell_type": "code",
   "execution_count": 25,
   "id": "5f49a99b",
   "metadata": {
    "execution": {
     "iopub.execute_input": "2025-10-08T18:32:42.822719Z",
     "iopub.status.busy": "2025-10-08T18:32:42.822562Z",
     "iopub.status.idle": "2025-10-08T18:32:42.972303Z",
     "shell.execute_reply": "2025-10-08T18:32:42.971684Z"
    }
   },
   "outputs": [],
   "source": [
    "plt.figure(figsize=[20, 10])\n",
    "plt.subplot(2, 3, 1)\n",
    "with fits.open(\"./DQICORR/o5f301010_flt.fits\") as hdu:\n",
    "    ex1 = hdu[1].data\n",
    "    img = plt.imshow(ex1, origin='lower', cmap=\"plasma\", vmax=1600, vmin=1200)\n",
    "    plt.colorbar(img, fraction=0.046, pad=0.04)\n",
    "    plt.title(\"DQICORR\")\n",
    "\n",
    "plt.subplot(2, 3, 2)\n",
    "with fits.open(\"./BLEVCORR/o5f301010_flt.fits\") as hdu:\n",
    "    ex1 = hdu[1].data\n",
    "    img = plt.imshow(ex1, origin='lower', cmap=\"plasma\", vmax=-200, vmin=200)\n",
    "    plt.colorbar(img, fraction=0.046, pad=0.04)\n",
    "    plt.title(\"BLEVCORR\")\n",
    "    \n",
    "plt.subplot(2, 3, 3)\n",
    "with fits.open(\"./BIASCORR/o5f301010_flt.fits\") as hdu:\n",
    "    ex1 = hdu[1].data\n",
    "    img = plt.imshow(ex1, origin='lower', cmap=\"plasma\", vmax=-200, vmin=200)\n",
    "    plt.colorbar(img, fraction=0.046, pad=0.04)\n",
    "    plt.title(\"BIASCORR\")\n",
    "    \n",
    "plt.subplot(2, 3, 4)\n",
    "with fits.open(\"./CRCORR/o5f301010_crj.fits\") as hdu:\n",
    "    ex1 = hdu[1].data\n",
    "    img = plt.imshow(ex1, origin='lower', cmap=\"plasma\", vmax=-200, vmin=200)\n",
    "    plt.colorbar(img, fraction=0.046, pad=0.04)\n",
    "    plt.title(\"CRCORR\")\n",
    "    \n",
    "plt.subplot(2, 3, 5)\n",
    "with fits.open(\"./DARKCORR/o5f301010_crj.fits\") as hdu:\n",
    "    ex1 = hdu[1].data\n",
    "    img = plt.imshow(ex1, origin='lower', cmap=\"plasma\", vmax=-200, vmin=200)\n",
    "    plt.colorbar(img, fraction=0.046, pad=0.04)\n",
    "    plt.title(\"DARKCORR\")\n",
    "    \n",
    "plt.subplot(2, 3, 6)\n",
    "with fits.open(\"./FLATCORR/o5f301010_crj.fits\") as hdu:\n",
    "    ex1 = hdu[1].data\n",
    "    img = plt.imshow(ex1, origin='lower', cmap=\"plasma\", vmax=-200, vmin=200)\n",
    "    plt.colorbar(img, fraction=0.046, pad=0.04)\n",
    "    plt.title(\"FLATCORR\")"
   ]
  },
  {
   "cell_type": "markdown",
   "id": "8578d637",
   "metadata": {},
   "source": [
    "\n",
    "---\n",
    "## About this Notebook <a class=\"tocSkip\">\n",
    "**Author:** [Keyi Ding](kding@stsci.edu)\n",
    "\n",
    "**Updated On:** 2023-01-05\n",
    "\n",
    "\n",
    "> *This tutorial was generated to be in compliance with the [STScI style guides](https://github.com/spacetelescope/style-guides) and would like to cite the [Jupyter guide](https://github.com/spacetelescope/style-guides/blob/master/templates/example_notebook.ipynb) in particular.*\n",
    "## Citations <a class=\"tocSkip\">\n",
    "\n",
    "If you use `astropy`, `matplotlib`, `astroquery`, or `numpy` for published research, please cite the\n",
    "authors. Follow these links for more information about citations:\n",
    "\n",
    "* [Citing `astropy`/`numpy`/`matplotlib`](https://www.scipy.org/citing.html)\n",
    "* [Citing `astroquery`](https://astroquery.readthedocs.io/en/latest/)\n",
    "\n",
    "<hr>\n",
    "\n",
    "[Top of Page](#top)\n",
    "<img style=\"float: right;\" src=\"https://raw.githubusercontent.com/spacetelescope/notebooks/master/assets/stsci_pri_combo_mark_horizonal_white_bkgd.png\" alt=\"Space Telescope Logo\" width=\"200px\"/> "
   ]
  }
 ],
 "metadata": {
  "kernelspec": {
   "display_name": "Python 3 (ipykernel)",
   "language": "python",
   "name": "python3"
  },
  "language_info": {
   "codemirror_mode": {
    "name": "ipython",
    "version": 3
   },
   "file_extension": ".py",
   "mimetype": "text/x-python",
   "name": "python",
   "nbconvert_exporter": "python",
   "pygments_lexer": "ipython3",
   "version": "3.11.13"
  },
  "toc": {
   "base_numbering": "0",
   "nav_menu": {},
   "number_sections": false,
   "sideBar": true,
   "skip_h1_title": false,
   "title_cell": "Learning Goals",
   "title_sidebar": "Contents",
   "toc_cell": true,
   "toc_position": {
    "height": "calc(100% - 180px)",
    "left": "10px",
    "top": "150px",
    "width": "409.6px"
   },
   "toc_section_display": true,
   "toc_window_display": true
  }
 },
 "nbformat": 4,
 "nbformat_minor": 5
}
