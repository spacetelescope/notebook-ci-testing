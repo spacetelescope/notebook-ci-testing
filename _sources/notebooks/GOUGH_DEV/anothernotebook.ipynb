{
 "cells": [
  {
   "cell_type": "code",
   "execution_count": 1,
   "id": "hello-world-cell",
   "metadata": {
    "execution": {
     "iopub.execute_input": "2025-02-18T13:43:55.514942Z",
     "iopub.status.busy": "2025-02-18T13:43:55.514777Z",
     "iopub.status.idle": "2025-02-18T13:43:55.520438Z",
     "shell.execute_reply": "2025-02-18T13:43:55.519986Z"
    }
   },
   "outputs": [
    {
     "name": "stdout",
     "output_type": "stream",
     "text": [
      "Helloooo world\n"
     ]
    }
   ],
   "source": [
    "print('Helloooo world')"
   ]
  }
 ],
 "metadata": {
  "kernelspec": {
   "display_name": "Python 3",
   "language": "python",
   "name": "python3"
  },
  "language_info": {
   "codemirror_mode": {
    "name": "ipython",
    "version": 3
   },
   "file_extension": ".py",
   "mimetype": "text/x-python",
   "name": "python",
   "nbconvert_exporter": "python",
   "pygments_lexer": "ipython3",
   "version": "3.11.11"
  }
 },
 "nbformat": 4,
 "nbformat_minor": 5
}
