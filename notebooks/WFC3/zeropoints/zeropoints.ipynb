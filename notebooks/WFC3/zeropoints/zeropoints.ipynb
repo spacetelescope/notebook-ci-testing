{
 "cells": [
  {
   "cell_type": "markdown",
   "metadata": {},
   "source": [
    "<a id=\"title\"></a>\n",
    "# Calculating WFC3 Zeropoints with STSynphot\n",
    "<hr>\n",
    "## Learning Goals \n",
    "By the end of this tutorial, you will:\n",
    "- Calculate zeropoints and other photometric properties using `stsynphot`.\n",
    "- Create, plot, and save 'total system throughput' tables.\n",
    "\n",
    "## Table of Contents\n",
    "[Introduction](#intro) <br>\n",
    "[1. Imports](#imports) <br>\n",
    "[2. Download throughput tables and define variables](#envvar) <br>\n",
    "[3. Set up the 'obsmode' string](#inps) <br>\n",
    "[4. Basic usage for a single 'obsmode'](#usage) <br>\n",
    "[5. Compute zeropoints and other photometric properties](#zps) <br>\n",
    "[6. Iterate over multiple 'obsmodes'](#iterate) <br>\n",
    "[7. Create and plot 'total system throughput' tables](#curves) <br>\n",
    "[8. Conclusions](#conclusions) <br>\n",
    "[Additional Resources](#resources) <br>\n",
    "[About the Notebook](#about) <br>\n",
    "[Citations](#cite) <br>"
   ]
  },
  {
   "cell_type": "markdown",
   "metadata": {},
   "source": [
    "<a id=\"intro\"></a>\n",
    "## Introduction\n",
    "This notebook shows how to calculate photometric zeropoints using the Python package `stsynphot` for any WFC3 detector, filter, date, or aperture. This tutorial is especially useful for calculating Vegamag zeropoints, which require an input spectrum. The notebook is also useful for computing time-dependent WFC3/UVIS zeropoints for any observation date, as the values listed in [WFC3 ISR 2021-04](https://www.stsci.edu/files/live/sites/www/files/home/hst/instrumentation/wfc3/documentation/instrument-science-reports-isrs/_documents/2021/WFC3_ISR_2021-04.pdf) are defined for the reference epoch. As of mid-2021, the WFC3/IR zeropoints are not time-dependent.\n",
    "\n",
    "More documentation on `stsynphot` is available [here](https://stsynphot.readthedocs.io/en/latest/index.html). Using `stsynphot` requires downloading the throughput curves for the HST instruments and optical path.  One method of doing this is shown in [Section 2](#envvar).  More information on the throughput tables can be found [here](https://www.stsci.edu/hst/instrumentation/reference-data-for-calibration-and-tools/synphot-throughput-tables)."
   ]
  },
  {
   "cell_type": "markdown",
   "metadata": {},
   "source": [
    "<a id=\"imports\"></a>\n",
    "## 1. Imports\n",
    "\n",
    "This notebook assumes you have created the virtual environment in [WFC3 notebooks'](https://github.com/spacetelescope/hst_notebooks/blob/main/notebooks/WFC3/README.md) installation instructions.\n",
    "\n",
    "We import:\n",
    "- *os* for setting environment variables\n",
    "- *tarfile* for extracting a .tar archive\n",
    "\n",
    "- *numpy* for handling array functions\n",
    "- *matplotlib.pyplot* for plotting data\n",
    "- *astropy* for astronomy related functions\n",
    "\n",
    "- *synphot* and *stsynphot* for evaluating synthetic photometry\n",
    "\n",
    "We will need to set the `PYSYN_CDBS` environment variable *before* importing stsynphot. We will also create a custom Vega spectrum, as the `stsynphot` will supercede the usual `synphot` functionality regarding the Vega spectrum and would otherwise require a downloaded copy of the spectrum to be provided."
   ]
  },
  {
   "cell_type": "code",
   "execution_count": 1,
   "metadata": {
    "execution": {
     "iopub.execute_input": "2025-10-13T18:26:45.242328Z",
     "iopub.status.busy": "2025-10-13T18:26:45.242184Z",
     "iopub.status.idle": "2025-10-13T18:26:46.183095Z",
     "shell.execute_reply": "2025-10-13T18:26:46.182405Z"
    }
   },
   "outputs": [],
   "source": [
    "import os\n",
    "import tarfile\n",
    "\n",
    "import numpy as np\n",
    "import matplotlib.pyplot as plt\n",
    "\n",
    "from astropy.table import Table\n",
    "\n",
    "from synphot import Observation"
   ]
  },
  {
   "cell_type": "markdown",
   "metadata": {},
   "source": [
    "<a class=\"anchor\" id=\"envvar\"></a>\n",
    "## 2. Download throughput tables and define variables\n",
    "\n",
    "This section obtains the WFC3 throughput component tables for use with `stsynphot`. This step only needs to be done once. If these reference files have already been downloaded, this section can be skipped."
   ]
  },
  {
   "cell_type": "code",
   "execution_count": 2,
   "metadata": {
    "execution": {
     "iopub.execute_input": "2025-10-13T18:26:46.185106Z",
     "iopub.status.busy": "2025-10-13T18:26:46.184840Z",
     "iopub.status.idle": "2025-10-13T18:27:08.248033Z",
     "shell.execute_reply": "2025-10-13T18:27:08.247143Z"
    }
   },
   "outputs": [
    {
     "name": "stdout",
     "output_type": "stream",
     "text": [
      "  % Total    % Received % Xferd  Average Speed   Time    Time     Time  Current\r\n",
      "                                 Dload  Upload   Total   Spent    Left  Speed\r\n",
      "\r",
      "  0     0    0     0    0     0      0      0 --:--:-- --:--:-- --:--:--     0"
     ]
    },
    {
     "name": "stdout",
     "output_type": "stream",
     "text": [
      "\r",
      "  0  796M    0 5376k    0     0  4790k      0  0:02:50  0:00:01  0:02:49 4791k"
     ]
    },
    {
     "name": "stdout",
     "output_type": "stream",
     "text": [
      "\r",
      "  3  796M    3 30.5M    0     0  16.0M      0  0:00:49  0:00:01  0:00:48 16.0M"
     ]
    },
    {
     "name": "stdout",
     "output_type": "stream",
     "text": [
      "\r",
      "  8  796M    8 67.7M    0     0  23.2M      0  0:00:34  0:00:02  0:00:32 23.2M"
     ]
    },
    {
     "name": "stdout",
     "output_type": "stream",
     "text": [
      "\r",
      " 13  796M   13  106M    0     0  27.2M      0  0:00:29  0:00:03  0:00:26 27.2M"
     ]
    },
    {
     "name": "stdout",
     "output_type": "stream",
     "text": [
      "\r",
      " 18  796M   18  147M    0     0  30.0M      0  0:00:26  0:00:04  0:00:22 30.0M"
     ]
    },
    {
     "name": "stdout",
     "output_type": "stream",
     "text": [
      "\r",
      " 23  796M   23  188M    0     0  31.9M      0  0:00:24  0:00:05  0:00:19 38.2M"
     ]
    },
    {
     "name": "stdout",
     "output_type": "stream",
     "text": [
      "\r",
      " 28  796M   28  230M    0     0  33.2M      0  0:00:23  0:00:06  0:00:17 39.8M"
     ]
    },
    {
     "name": "stdout",
     "output_type": "stream",
     "text": [
      "\r",
      " 34  796M   34  272M    0     0  34.4M      0  0:00:23  0:00:07  0:00:16 41.0M"
     ]
    },
    {
     "name": "stdout",
     "output_type": "stream",
     "text": [
      "\r",
      " 39  796M   39  315M    0     0  35.4M      0  0:00:22  0:00:08  0:00:14 41.8M"
     ]
    },
    {
     "name": "stdout",
     "output_type": "stream",
     "text": [
      "\r",
      " 44  796M   44  358M    0     0  36.1M      0  0:00:22  0:00:09  0:00:13 42.2M"
     ]
    },
    {
     "name": "stdout",
     "output_type": "stream",
     "text": [
      "\r",
      " 50  796M   50  401M    0     0  36.8M      0  0:00:21  0:00:10  0:00:11 42.7M"
     ]
    },
    {
     "name": "stdout",
     "output_type": "stream",
     "text": [
      "\r",
      " 55  796M   55  443M    0     0  37.2M      0  0:00:21  0:00:11  0:00:10 42.8M"
     ]
    },
    {
     "name": "stdout",
     "output_type": "stream",
     "text": [
      "\r",
      " 61  796M   61  486M    0     0  37.6M      0  0:00:21  0:00:12  0:00:09 42.7M"
     ]
    },
    {
     "name": "stdout",
     "output_type": "stream",
     "text": [
      "\r",
      " 66  796M   66  529M    0     0  38.0M      0  0:00:20  0:00:13  0:00:07 42.7M"
     ]
    },
    {
     "name": "stdout",
     "output_type": "stream",
     "text": [
      "\r",
      " 71  796M   71  573M    0     0  38.4M      0  0:00:20  0:00:14  0:00:06 42.8M"
     ]
    },
    {
     "name": "stdout",
     "output_type": "stream",
     "text": [
      "\r",
      " 77  796M   77  616M    0     0  38.7M      0  0:00:20  0:00:15  0:00:05 42.7M"
     ]
    },
    {
     "name": "stdout",
     "output_type": "stream",
     "text": [
      "\r",
      " 82  796M   82  659M    0     0  38.9M      0  0:00:20  0:00:16  0:00:04 42.9M"
     ]
    },
    {
     "name": "stdout",
     "output_type": "stream",
     "text": [
      "\r",
      " 86  796M   86  692M    0     0  38.6M      0  0:00:20  0:00:17  0:00:03 41.1M"
     ]
    },
    {
     "name": "stdout",
     "output_type": "stream",
     "text": [
      "\r",
      " 91  796M   91  729M    0     0  38.6M      0  0:00:20  0:00:18  0:00:02 40.1M"
     ]
    },
    {
     "name": "stdout",
     "output_type": "stream",
     "text": [
      "\r",
      " 96  796M   96  769M    0     0  38.6M      0  0:00:20  0:00:19  0:00:01 39.2M"
     ]
    },
    {
     "name": "stdout",
     "output_type": "stream",
     "text": [
      "\r",
      "100  796M  100  796M    0     0  38.7M      0  0:00:20  0:00:20 --:--:-- 38.8M\r\n"
     ]
    }
   ],
   "source": [
    "!curl -O https://archive.stsci.edu/hlsps/reference-atlases/hlsp_reference-atlases_hst_multi_everything_multi_v11_sed.tar"
   ]
  },
  {
   "cell_type": "markdown",
   "metadata": {},
   "source": [
    "Once the downloaded is complete, extract the file and set the environment variable `PYSYN_CDBS` to the path of the `trds` subdirectory.  The next cell will do this for you, as long as the `.tar` file downloaded above has not been moved."
   ]
  },
  {
   "cell_type": "code",
   "execution_count": 3,
   "metadata": {
    "execution": {
     "iopub.execute_input": "2025-10-13T18:27:08.249859Z",
     "iopub.status.busy": "2025-10-13T18:27:08.249671Z",
     "iopub.status.idle": "2025-10-13T18:27:12.846312Z",
     "shell.execute_reply": "2025-10-13T18:27:12.845537Z"
    }
   },
   "outputs": [],
   "source": [
    "tar_archive = 'hlsp_reference-atlases_hst_multi_everything_multi_v11_sed.tar'\n",
    "extract_to = 'hlsp_reference-atlases_hst_multi_everything_multi_v11_sed'\n",
    "with tarfile.open(tar_archive, 'r') as tar:\n",
    "    tar.extractall(path=extract_to, filter='data')\n",
    "\n",
    "os.environ['PYSYN_CDBS'] = 'hlsp_reference-atlases_hst_multi_everything_multi_v11_sed/grp/redcat/trds/'"
   ]
  },
  {
   "cell_type": "markdown",
   "metadata": {},
   "source": [
    "Now, after having set up `PYSYN_CDBS`, we import stsynphot. A warning regarding the Vega spectrum is expected here."
   ]
  },
  {
   "cell_type": "code",
   "execution_count": 4,
   "metadata": {
    "execution": {
     "iopub.execute_input": "2025-10-13T18:27:12.848006Z",
     "iopub.status.busy": "2025-10-13T18:27:12.847835Z",
     "iopub.status.idle": "2025-10-13T18:27:12.888890Z",
     "shell.execute_reply": "2025-10-13T18:27:12.888194Z"
    }
   },
   "outputs": [
    {
     "name": "stderr",
     "output_type": "stream",
     "text": [
      "WARNING: Failed to load Vega spectrum from hlsp_reference-atlases_hst_multi_everything_multi_v11_sed/grp/redcat/trds//calspec/alpha_lyr_stis_011.fits; Functionality involving Vega will be severely limited: FileNotFoundError(2, 'No such file or directory') [stsynphot.spectrum]\n"
     ]
    }
   ],
   "source": [
    "import stsynphot as stsyn"
   ]
  },
  {
   "cell_type": "markdown",
   "metadata": {},
   "source": [
    "Rather than downloading the entire calspec database (synphot6.tar.gz), we can point directly to the latest Vega spectrum which is required for computing VEGAMAG."
   ]
  },
  {
   "cell_type": "code",
   "execution_count": 5,
   "metadata": {
    "execution": {
     "iopub.execute_input": "2025-10-13T18:27:12.890622Z",
     "iopub.status.busy": "2025-10-13T18:27:12.890461Z",
     "iopub.status.idle": "2025-10-13T18:27:12.910601Z",
     "shell.execute_reply": "2025-10-13T18:27:12.909983Z"
    }
   },
   "outputs": [],
   "source": [
    "vega_url = 'https://ssb.stsci.edu/trds/calspec/alpha_lyr_stis_010.fits'\n",
    "stsyn.Vega = stsyn.spectrum.SourceSpectrum.from_file(vega_url)"
   ]
  },
  {
   "cell_type": "markdown",
   "metadata": {},
   "source": [
    "<a class=\"anchor\" id=\"inps\"></a>\n",
    "## 3. Set up the 'obsmode' string"
   ]
  },
  {
   "cell_type": "markdown",
   "metadata": {},
   "source": [
    "Parameters to set in the `obsmode` string include: \n",
    "1. detector,\n",
    "2. filter,\n",
    "3. observation date (WFC3/UVIS only), and \n",
    "4. aperture size (in arcsec).  \n",
    "\n",
    "Note that a 6.0\" aperture is considered to be \"infinite\", thus containing all of the flux. The zeropoints posted on the WFC3 website are calculated for an infinite aperture, so when computing photometry for smaller radii, aperture corrections must be applied.\n",
    "\n",
    "The inputs below can be changed to any desired `obsmode`, with examples of alternate parameters shown as commented lines.\n",
    "\n",
    "First, here are some detector examples with WFC3/UVIS1 as the default, and other options including both WFC3/UVIS chips or the WFC3/IR detector. \n",
    "\n",
    "**Note: if the IR detector is chosen, the filtnames below must be updated.**"
   ]
  },
  {
   "cell_type": "code",
   "execution_count": 6,
   "metadata": {
    "execution": {
     "iopub.execute_input": "2025-10-13T18:27:12.912344Z",
     "iopub.status.busy": "2025-10-13T18:27:12.912181Z",
     "iopub.status.idle": "2025-10-13T18:27:12.914702Z",
     "shell.execute_reply": "2025-10-13T18:27:12.913991Z"
    }
   },
   "outputs": [],
   "source": [
    "detectors = ['uvis1']\n",
    "# detectors = ['uvis1', 'uvis2']\n",
    "# detectors = ['ir']"
   ]
  },
  {
   "cell_type": "markdown",
   "metadata": {},
   "source": [
    "Next, here are some filter examples with all WFC3/UVIS filters as the default, and other options including just F606W and the WFC3/IR filters. \n",
    "\n",
    "**Note: if WFC3/IR filters is chosen, the detectors above must be set to ['ir'].**"
   ]
  },
  {
   "cell_type": "code",
   "execution_count": 7,
   "metadata": {
    "execution": {
     "iopub.execute_input": "2025-10-13T18:27:12.916155Z",
     "iopub.status.busy": "2025-10-13T18:27:12.915978Z",
     "iopub.status.idle": "2025-10-13T18:27:12.919263Z",
     "shell.execute_reply": "2025-10-13T18:27:12.918571Z"
    }
   },
   "outputs": [],
   "source": [
    "filtnames = ['f200lp', 'f218w', 'f225w', 'f275w', 'f280n', 'f300x', 'f336w', 'f343n', 'f350lp', \n",
    "             'f373n', 'f390m', 'f390w', 'f395n', 'f410m', 'f438w', 'f467m', 'f469n', 'f475w', \n",
    "             'f475x', 'f487n', 'f502n', 'f547m', 'f555w', 'f600lp', 'f606w', 'f621m', 'f625w', \n",
    "             'f631n', 'f645n', 'f656n', 'f657n', 'f658n', 'f665n', 'f673n', 'f680n', 'f689m', \n",
    "             'f763m', 'f775w', 'f814w', 'f845m', 'f850lp', 'f953n']\n",
    "# filtnames = ['f606w']   \n",
    "# filtnames = ['f098m', 'f105w', 'f110w', 'f125w', 'f126n', 'f127m', 'f128n', 'f130n', \n",
    "#              'f132n', 'f139m', 'f140w', 'f153m', 'f160w', 'f164n', 'f167n']"
   ]
  },
  {
   "cell_type": "markdown",
   "metadata": {},
   "source": [
    "Now, here are some date examples with the WFC3/UVIS reference epoch (55008 in MJD;\n",
    "2009-06-26) as the default, and the other option being the time right now."
   ]
  },
  {
   "cell_type": "code",
   "execution_count": 8,
   "metadata": {
    "execution": {
     "iopub.execute_input": "2025-10-13T18:27:12.920611Z",
     "iopub.status.busy": "2025-10-13T18:27:12.920466Z",
     "iopub.status.idle": "2025-10-13T18:27:12.922811Z",
     "shell.execute_reply": "2025-10-13T18:27:12.922121Z"
    }
   },
   "outputs": [],
   "source": [
    "mjd = '55008'\n",
    "# mjd = str(Time.now().mjd)"
   ]
  },
  {
   "cell_type": "markdown",
   "metadata": {},
   "source": [
    "Finally, here are some aperture radius examples with 6.0\" (151 pixels; \"infinity\") as the default, and the other options including 0.396\" (10 pixels for WFC3/UVIS) and 0.385\" (3 pixels for WFC3/IR)."
   ]
  },
  {
   "cell_type": "code",
   "execution_count": 9,
   "metadata": {
    "execution": {
     "iopub.execute_input": "2025-10-13T18:27:12.924192Z",
     "iopub.status.busy": "2025-10-13T18:27:12.924020Z",
     "iopub.status.idle": "2025-10-13T18:27:12.926391Z",
     "shell.execute_reply": "2025-10-13T18:27:12.925747Z"
    }
   },
   "outputs": [],
   "source": [
    "aper = '6.0'\n",
    "# aper = '0.396'\n",
    "# aper = '0.385'"
   ]
  },
  {
   "cell_type": "markdown",
   "metadata": {},
   "source": [
    "<a class=\"anchor\" id=\"usage\"></a>\n",
    "## 4. Basic usage for a single 'obsmode'"
   ]
  },
  {
   "cell_type": "markdown",
   "metadata": {},
   "source": [
    "The calculation of the zeropoints starts with creating a specific bandpass object.  Bandpasses generally consist of at least an instrument name, detector name, and filter name, though other parameters (such as the MJD and aperture radius shown above) are optional.\n",
    "\n",
    "The cell below defines `obsmode` and creates a bandpass object."
   ]
  },
  {
   "cell_type": "code",
   "execution_count": 10,
   "metadata": {
    "execution": {
     "iopub.execute_input": "2025-10-13T18:27:12.927952Z",
     "iopub.status.busy": "2025-10-13T18:27:12.927808Z",
     "iopub.status.idle": "2025-10-13T18:27:13.178925Z",
     "shell.execute_reply": "2025-10-13T18:27:13.178109Z"
    }
   },
   "outputs": [],
   "source": [
    "obsmode = 'wfc3,uvis1,f200lp'\n",
    "bp = stsyn.band(obsmode)"
   ]
  },
  {
   "cell_type": "markdown",
   "metadata": {},
   "source": [
    "Optional parameters are supplied on the end of the basic bandpass:"
   ]
  },
  {
   "cell_type": "code",
   "execution_count": 11,
   "metadata": {
    "execution": {
     "iopub.execute_input": "2025-10-13T18:27:13.180594Z",
     "iopub.status.busy": "2025-10-13T18:27:13.180422Z",
     "iopub.status.idle": "2025-10-13T18:27:13.224961Z",
     "shell.execute_reply": "2025-10-13T18:27:13.224194Z"
    }
   },
   "outputs": [],
   "source": [
    "obsmode = 'wfc3,uvis1,f200lp,mjd#55008,aper#6.0'\n",
    "bp = stsyn.band(obsmode)"
   ]
  },
  {
   "cell_type": "markdown",
   "metadata": {},
   "source": [
    "In addition, we can use the parameters defined in [Section 3](#inps)."
   ]
  },
  {
   "cell_type": "code",
   "execution_count": 12,
   "metadata": {
    "execution": {
     "iopub.execute_input": "2025-10-13T18:27:13.226472Z",
     "iopub.status.busy": "2025-10-13T18:27:13.226320Z",
     "iopub.status.idle": "2025-10-13T18:27:13.250741Z",
     "shell.execute_reply": "2025-10-13T18:27:13.249987Z"
    }
   },
   "outputs": [],
   "source": [
    "obsmode = f'wfc3, {detectors[0]}, {filtnames[0]}, mjd#{mjd}, aper#{aper}'\n",
    "bp = stsyn.band(obsmode)"
   ]
  },
  {
   "cell_type": "markdown",
   "metadata": {},
   "source": [
    " <a class=\"anchor\" id=\"zps\"></a>\n",
    "## 5. Compute zeropoints and other photometric properties"
   ]
  },
  {
   "cell_type": "markdown",
   "metadata": {},
   "source": [
    "With the bandpass objects, we can now calculate zeropoints, pivot wavelengths, and photometric bandwidths.  To calculate Vegamag zeropoints, we use the Vega spectrum to calculate the flux in a given bandpass."
   ]
  },
  {
   "cell_type": "code",
   "execution_count": 13,
   "metadata": {
    "execution": {
     "iopub.execute_input": "2025-10-13T18:27:13.252313Z",
     "iopub.status.busy": "2025-10-13T18:27:13.252153Z",
     "iopub.status.idle": "2025-10-13T18:27:13.256147Z",
     "shell.execute_reply": "2025-10-13T18:27:13.255425Z"
    }
   },
   "outputs": [],
   "source": [
    "def calculate_values(detector, filt, mjd, aper):\n",
    "    # parameters can be removed from obsmode as needed\n",
    "    obsmode = f'wfc3, {detector}, {filt}, mjd#{mjd}, aper#{aper}'\n",
    "    bp = stsyn.band(obsmode)  \n",
    "    \n",
    "    # STMag\n",
    "    photflam = bp.unit_response(stsyn.conf.area)  # inverse sensitivity in flam\n",
    "    stmag = -21.1 - 2.5 * np.log10(photflam.value)\n",
    "    \n",
    "    # Pivot Wavelength and bandwidth\n",
    "    photplam = bp.pivot() # pivot wavelength in angstroms\n",
    "    bandwidth = bp.photbw() # bandwidth in angstroms\n",
    "    \n",
    "    # ABMag\n",
    "    abmag = stmag - 5 * np.log10(photplam.value) + 18.6921\n",
    "    \n",
    "    # Vegamag\n",
    "    obs = Observation(stsyn.Vega, bp, binset=bp.binset)  # synthetic observation of vega in bandpass using vega spectrum\n",
    "    vegamag = -1 * obs.effstim(flux_unit='obmag', area=stsyn.conf.area)\n",
    "    \n",
    "    return obsmode, photplam.value, bandwidth.value, photflam.value, stmag, abmag, vegamag.value"
   ]
  },
  {
   "cell_type": "code",
   "execution_count": 14,
   "metadata": {
    "execution": {
     "iopub.execute_input": "2025-10-13T18:27:13.257483Z",
     "iopub.status.busy": "2025-10-13T18:27:13.257337Z",
     "iopub.status.idle": "2025-10-13T18:27:13.339142Z",
     "shell.execute_reply": "2025-10-13T18:27:13.338283Z"
    }
   },
   "outputs": [
    {
     "name": "stdout",
     "output_type": "stream",
     "text": [
      "Obsmode                              PivotWave Photflam   STMAG   ABMAG   VEGAMAG\n",
      "wfc3, uvis1, f200lp, mjd#55008, aper#6.0, 4971.9, 4.9157e-20, 27.171, 27.381, 26.931\n"
     ]
    }
   ],
   "source": [
    "obsmode, photplam, bandwidth, photflam, stmag, abmag, vegamag = calculate_values(detectors[0], filtnames[0], mjd, aper)\n",
    "\n",
    "# print values\n",
    "print('Obsmode                              PivotWave Photflam   STMAG   ABMAG   VEGAMAG')\n",
    "print(f'{obsmode}, {photplam:.1f}, {photflam:.4e}, {stmag:.3f}, {abmag:.3f}, {vegamag:.3f}')"
   ]
  },
  {
   "cell_type": "markdown",
   "metadata": {},
   "source": [
    "<a class=\"anchor\" id=\"iterate\"></a>\n",
    "## 6. Iterate over multiple 'obsmodes'"
   ]
  },
  {
   "cell_type": "markdown",
   "metadata": {},
   "source": [
    "To calculate zeropoints for multiple detectors and/or filters, we can use the function defined above and loop through detectors and filters defined in [Section 3](#inps)."
   ]
  },
  {
   "cell_type": "code",
   "execution_count": 15,
   "metadata": {
    "execution": {
     "iopub.execute_input": "2025-10-13T18:27:13.340785Z",
     "iopub.status.busy": "2025-10-13T18:27:13.340629Z",
     "iopub.status.idle": "2025-10-13T18:27:16.702701Z",
     "shell.execute_reply": "2025-10-13T18:27:16.701935Z"
    }
   },
   "outputs": [
    {
     "name": "stdout",
     "output_type": "stream",
     "text": [
      "Obsmode                              PivotWave Photflam   STMAG   ABMAG   VEGAMAG\n",
      "wfc3, uvis1, f200lp, mjd#55008, aper#6.0, 4971.9, 4.9157e-20, 27.171, 27.381, 26.931\n",
      "wfc3, uvis1, f218w, mjd#55008, aper#6.0, 2228.0, 1.4594e-17, 20.990, 22.942, 21.278\n"
     ]
    },
    {
     "name": "stdout",
     "output_type": "stream",
     "text": [
      "wfc3, uvis1, f225w, mjd#55008, aper#6.0, 2372.1, 4.5688e-18, 22.251, 24.067, 22.430\n",
      "wfc3, uvis1, f275w, mjd#55008, aper#6.0, 2709.7, 3.2206e-18, 22.630, 24.158, 22.677\n",
      "wfc3, uvis1, f280n, mjd#55008, aper#6.0, 2832.9, 5.7472e-17, 19.501, 20.932, 19.516\n"
     ]
    },
    {
     "name": "stdout",
     "output_type": "stream",
     "text": [
      "wfc3, uvis1, f300x, mjd#55008, aper#6.0, 2820.5, 1.4093e-18, 23.527, 24.968, 23.565\n",
      "wfc3, uvis1, f336w, mjd#55008, aper#6.0, 3354.5, 1.2848e-18, 23.628, 24.692, 23.527\n",
      "wfc3, uvis1, f343n, mjd#55008, aper#6.0, 3435.2, 2.5672e-18, 22.876, 23.889, 22.754\n"
     ]
    },
    {
     "name": "stdout",
     "output_type": "stream",
     "text": [
      "wfc3, uvis1, f350lp, mjd#55008, aper#6.0, 5873.9, 5.1638e-20, 27.118, 26.965, 26.810\n",
      "wfc3, uvis1, f373n, mjd#55008, aper#6.0, 3730.2, 1.3488e-17, 21.075, 21.909, 21.036\n",
      "wfc3, uvis1, f390m, mjd#55008, aper#6.0, 3897.2, 2.5524e-18, 22.883, 23.621, 23.545\n"
     ]
    },
    {
     "name": "stdout",
     "output_type": "stream",
     "text": [
      "wfc3, uvis1, f390w, mjd#55008, aper#6.0, 3923.7, 5.0142e-19, 24.649, 25.373, 25.174\n",
      "wfc3, uvis1, f395n, mjd#55008, aper#6.0, 3955.2, 5.9589e-18, 21.962, 22.668, 22.712\n",
      "wfc3, uvis1, f410m, mjd#55008, aper#6.0, 4109.0, 2.3481e-18, 22.973, 23.597, 23.771\n"
     ]
    },
    {
     "name": "stdout",
     "output_type": "stream",
     "text": [
      "wfc3, uvis1, f438w, mjd#55008, aper#6.0, 4326.2, 6.7475e-19, 24.327, 24.839, 25.003\n",
      "wfc3, uvis1, f467m, mjd#55008, aper#6.0, 4682.6, 1.6498e-18, 23.356, 23.696, 23.859\n",
      "wfc3, uvis1, f469n, mjd#55008, aper#6.0, 4688.1, 9.3089e-18, 21.478, 21.815, 21.981\n"
     ]
    },
    {
     "name": "stdout",
     "output_type": "stream",
     "text": [
      "wfc3, uvis1, f475w, mjd#55008, aper#6.0, 4773.1, 2.4962e-19, 25.407, 25.705, 25.810\n",
      "wfc3, uvis1, f475x, mjd#55008, aper#6.0, 4940.7, 1.5343e-19, 25.935, 26.158, 26.216\n",
      "wfc3, uvis1, f487n, mjd#55008, aper#6.0, 4871.4, 5.8860e-18, 21.975, 22.229, 22.050\n"
     ]
    },
    {
     "name": "stdout",
     "output_type": "stream",
     "text": [
      "wfc3, uvis1, f502n, mjd#55008, aper#6.0, 5009.6, 5.0824e-18, 22.135, 22.328, 22.421\n",
      "wfc3, uvis1, f547m, mjd#55008, aper#6.0, 5447.5, 4.5847e-19, 24.747, 24.758, 24.761\n",
      "wfc3, uvis1, f555w, mjd#55008, aper#6.0, 5308.4, 1.8272e-19, 25.746, 25.813, 25.841\n"
     ]
    },
    {
     "name": "stdout",
     "output_type": "stream",
     "text": [
      "wfc3, uvis1, f600lp, mjd#55008, aper#6.0, 7468.1, 8.6226e-20, 26.561, 25.887, 25.554\n",
      "wfc3, uvis1, f606w, mjd#55008, aper#6.0, 5889.2, 1.1506e-19, 26.248, 26.090, 26.006\n",
      "wfc3, uvis1, f621m, mjd#55008, aper#6.0, 6218.9, 4.0126e-19, 24.891, 24.615, 24.465\n"
     ]
    },
    {
     "name": "stdout",
     "output_type": "stream",
     "text": [
      "wfc3, uvis1, f625w, mjd#55008, aper#6.0, 6242.6, 1.7139e-19, 25.815, 25.530, 25.379\n",
      "wfc3, uvis1, f631n, mjd#55008, aper#6.0, 6304.3, 4.8250e-18, 22.191, 21.885, 21.723\n",
      "wfc3, uvis1, f645n, mjd#55008, aper#6.0, 6453.6, 3.3059e-18, 22.602, 22.245, 22.049\n"
     ]
    },
    {
     "name": "stdout",
     "output_type": "stream",
     "text": [
      "wfc3, uvis1, f656n, mjd#55008, aper#6.0, 6561.4, 1.6713e-17, 20.842, 20.450, 19.868\n",
      "wfc3, uvis1, f657n, mjd#55008, aper#6.0, 6566.6, 2.1811e-18, 23.053, 22.659, 22.333\n",
      "wfc3, uvis1, f658n, mjd#55008, aper#6.0, 6584.0, 9.7496e-18, 21.428, 21.027, 20.672\n"
     ]
    },
    {
     "name": "stdout",
     "output_type": "stream",
     "text": [
      "wfc3, uvis1, f665n, mjd#55008, aper#6.0, 6655.9, 1.9774e-18, 23.160, 22.736, 22.492\n",
      "wfc3, uvis1, f673n, mjd#55008, aper#6.0, 6765.9, 2.1926e-18, 23.048, 22.588, 22.343\n",
      "wfc3, uvis1, f680n, mjd#55008, aper#6.0, 6877.6, 6.8241e-19, 24.315, 23.820, 23.556\n"
     ]
    },
    {
     "name": "stdout",
     "output_type": "stream",
     "text": [
      "wfc3, uvis1, f689m, mjd#55008, aper#6.0, 6876.8, 3.7208e-19, 24.973, 24.479, 24.196\n",
      "wfc3, uvis1, f763m, mjd#55008, aper#6.0, 7614.4, 3.8291e-19, 24.942, 24.226, 23.837\n",
      "wfc3, uvis1, f775w, mjd#55008, aper#6.0, 7651.4, 2.0922e-19, 25.599, 24.872, 24.480\n"
     ]
    },
    {
     "name": "stdout",
     "output_type": "stream",
     "text": [
      "wfc3, uvis1, f814w, mjd#55008, aper#6.0, 8039.1, 1.4994e-19, 25.960, 25.126, 24.698\n",
      "wfc3, uvis1, f845m, mjd#55008, aper#6.0, 8439.1, 4.5207e-19, 24.762, 23.823, 23.316\n",
      "wfc3, uvis1, f850lp, mjd#55008, aper#6.0, 9176.1, 3.7052e-19, 24.978, 23.857, 23.326\n"
     ]
    },
    {
     "name": "stdout",
     "output_type": "stream",
     "text": [
      "wfc3, uvis1, f953n, mjd#55008, aper#6.0, 9530.6, 8.0946e-18, 21.630, 20.426, 19.803\n"
     ]
    }
   ],
   "source": [
    "oms, pivots, bws, pfs, st, ab, vm = [], [], [], [], [], [], []\n",
    "\n",
    "print('Obsmode                              PivotWave Photflam   STMAG   ABMAG   VEGAMAG')\n",
    "for detector in detectors:\n",
    "    for filt in filtnames:\n",
    "        res = calculate_values(detector, filt, mjd, aper)\n",
    "        obsmode, photplam, bandwidth, photflam, stmag, abmag, vegamag = res # solely for readability\n",
    "        \n",
    "        # print values\n",
    "        print(f'{obsmode}, {photplam:.1f}, {photflam:.4e}, {stmag:.3f}, {abmag:.3f}, {vegamag:.3f}')\n",
    "        \n",
    "        oms.append(obsmode)\n",
    "        pivots.append(photplam)\n",
    "        bws.append(bandwidth)\n",
    "        pfs.append(photflam)\n",
    "        st.append(stmag)\n",
    "        ab.append(abmag)\n",
    "        vm.append(vegamag)"
   ]
  },
  {
   "cell_type": "markdown",
   "metadata": {},
   "source": [
    "Values can also be written into an astropy table. "
   ]
  },
  {
   "cell_type": "code",
   "execution_count": 16,
   "metadata": {
    "execution": {
     "iopub.execute_input": "2025-10-13T18:27:16.704291Z",
     "iopub.status.busy": "2025-10-13T18:27:16.704120Z",
     "iopub.status.idle": "2025-10-13T18:27:16.707506Z",
     "shell.execute_reply": "2025-10-13T18:27:16.706810Z"
    }
   },
   "outputs": [],
   "source": [
    "tbl = Table([oms, pivots, bws, pfs, st, ab, vm], \n",
    "            names=['Obsmode', 'Pivot Wave', 'Bandwidth', 'Photflam', 'STMag', 'ABMag', 'VegaMag'])"
   ]
  },
  {
   "cell_type": "markdown",
   "metadata": {},
   "source": [
    "We'll also round  columns to a smaller number of decimals."
   ]
  },
  {
   "cell_type": "code",
   "execution_count": 17,
   "metadata": {
    "execution": {
     "iopub.execute_input": "2025-10-13T18:27:16.708883Z",
     "iopub.status.busy": "2025-10-13T18:27:16.708738Z",
     "iopub.status.idle": "2025-10-13T18:27:16.711764Z",
     "shell.execute_reply": "2025-10-13T18:27:16.711122Z"
    }
   },
   "outputs": [],
   "source": [
    "for col in tbl.itercols():\n",
    "    if col.name == 'Photflam':\n",
    "        col.info.format = '.4e'\n",
    "    elif col.info.dtype.kind == 'f':        \n",
    "        col.info.format = '.3f'"
   ]
  },
  {
   "cell_type": "markdown",
   "metadata": {},
   "source": [
    "Let's view our astropy table:"
   ]
  },
  {
   "cell_type": "code",
   "execution_count": 18,
   "metadata": {
    "execution": {
     "iopub.execute_input": "2025-10-13T18:27:16.713313Z",
     "iopub.status.busy": "2025-10-13T18:27:16.713160Z",
     "iopub.status.idle": "2025-10-13T18:27:16.719936Z",
     "shell.execute_reply": "2025-10-13T18:27:16.719196Z"
    }
   },
   "outputs": [
    {
     "data": {
      "text/html": [
       "<div><i>Table length=42</i>\n",
       "<table id=\"table140085083948880\" class=\"table-striped table-bordered table-condensed\">\n",
       "<thead><tr><th>Obsmode</th><th>Pivot Wave</th><th>Bandwidth</th><th>Photflam</th><th>STMag</th><th>ABMag</th><th>VegaMag</th></tr></thead>\n",
       "<thead><tr><th>str40</th><th>float64</th><th>float64</th><th>float64</th><th>float64</th><th>float64</th><th>float64</th></tr></thead>\n",
       "<tr><td>wfc3, uvis1, f200lp, mjd#55008, aper#6.0</td><td>4971.860</td><td>1742.198</td><td>4.9157e-20</td><td>27.171</td><td>27.381</td><td>26.931</td></tr>\n",
       "<tr><td>wfc3, uvis1, f218w, mjd#55008, aper#6.0</td><td>2228.039</td><td>128.941</td><td>1.4594e-17</td><td>20.990</td><td>22.942</td><td>21.278</td></tr>\n",
       "<tr><td>wfc3, uvis1, f225w, mjd#55008, aper#6.0</td><td>2372.053</td><td>177.430</td><td>4.5688e-18</td><td>22.251</td><td>24.067</td><td>22.430</td></tr>\n",
       "<tr><td>wfc3, uvis1, f275w, mjd#55008, aper#6.0</td><td>2709.689</td><td>164.435</td><td>3.2206e-18</td><td>22.630</td><td>24.158</td><td>22.677</td></tr>\n",
       "<tr><td>wfc3, uvis1, f280n, mjd#55008, aper#6.0</td><td>2832.862</td><td>200.689</td><td>5.7472e-17</td><td>19.501</td><td>20.932</td><td>19.516</td></tr>\n",
       "<tr><td>wfc3, uvis1, f300x, mjd#55008, aper#6.0</td><td>2820.469</td><td>316.561</td><td>1.4093e-18</td><td>23.527</td><td>24.968</td><td>23.565</td></tr>\n",
       "<tr><td>wfc3, uvis1, f336w, mjd#55008, aper#6.0</td><td>3354.492</td><td>158.422</td><td>1.2848e-18</td><td>23.628</td><td>24.692</td><td>23.527</td></tr>\n",
       "<tr><td>wfc3, uvis1, f343n, mjd#55008, aper#6.0</td><td>3435.151</td><td>86.713</td><td>2.5672e-18</td><td>22.876</td><td>23.889</td><td>22.754</td></tr>\n",
       "<tr><td>wfc3, uvis1, f350lp, mjd#55008, aper#6.0</td><td>5873.870</td><td>1490.060</td><td>5.1638e-20</td><td>27.118</td><td>26.965</td><td>26.810</td></tr>\n",
       "<tr><td>...</td><td>...</td><td>...</td><td>...</td><td>...</td><td>...</td><td>...</td></tr>\n",
       "<tr><td>wfc3, uvis1, f665n, mjd#55008, aper#6.0</td><td>6655.876</td><td>42.191</td><td>1.9774e-18</td><td>23.160</td><td>22.736</td><td>22.492</td></tr>\n",
       "<tr><td>wfc3, uvis1, f673n, mjd#55008, aper#6.0</td><td>6765.939</td><td>41.943</td><td>2.1926e-18</td><td>23.048</td><td>22.588</td><td>22.343</td></tr>\n",
       "<tr><td>wfc3, uvis1, f680n, mjd#55008, aper#6.0</td><td>6877.596</td><td>112.013</td><td>6.8241e-19</td><td>24.315</td><td>23.820</td><td>23.556</td></tr>\n",
       "<tr><td>wfc3, uvis1, f689m, mjd#55008, aper#6.0</td><td>6876.755</td><td>207.613</td><td>3.7208e-19</td><td>24.973</td><td>24.479</td><td>24.196</td></tr>\n",
       "<tr><td>wfc3, uvis1, f763m, mjd#55008, aper#6.0</td><td>7614.371</td><td>229.425</td><td>3.8291e-19</td><td>24.942</td><td>24.226</td><td>23.837</td></tr>\n",
       "<tr><td>wfc3, uvis1, f775w, mjd#55008, aper#6.0</td><td>7651.363</td><td>419.719</td><td>2.0922e-19</td><td>25.599</td><td>24.872</td><td>24.480</td></tr>\n",
       "<tr><td>wfc3, uvis1, f814w, mjd#55008, aper#6.0</td><td>8039.056</td><td>666.760</td><td>1.4994e-19</td><td>25.960</td><td>25.126</td><td>24.698</td></tr>\n",
       "<tr><td>wfc3, uvis1, f845m, mjd#55008, aper#6.0</td><td>8439.057</td><td>260.304</td><td>4.5207e-19</td><td>24.762</td><td>23.823</td><td>23.316</td></tr>\n",
       "<tr><td>wfc3, uvis1, f850lp, mjd#55008, aper#6.0</td><td>9176.126</td><td>470.529</td><td>3.7052e-19</td><td>24.978</td><td>23.857</td><td>23.326</td></tr>\n",
       "<tr><td>wfc3, uvis1, f953n, mjd#55008, aper#6.0</td><td>9530.579</td><td>71.190</td><td>8.0946e-18</td><td>21.630</td><td>20.426</td><td>19.803</td></tr>\n",
       "</table></div>"
      ],
      "text/plain": [
       "<Table length=42>\n",
       "                Obsmode                  Pivot Wave ...  ABMag  VegaMag\n",
       "                 str40                    float64   ... float64 float64\n",
       "---------------------------------------- ---------- ... ------- -------\n",
       "wfc3, uvis1, f200lp, mjd#55008, aper#6.0   4971.860 ...  27.381  26.931\n",
       " wfc3, uvis1, f218w, mjd#55008, aper#6.0   2228.039 ...  22.942  21.278\n",
       " wfc3, uvis1, f225w, mjd#55008, aper#6.0   2372.053 ...  24.067  22.430\n",
       " wfc3, uvis1, f275w, mjd#55008, aper#6.0   2709.689 ...  24.158  22.677\n",
       " wfc3, uvis1, f280n, mjd#55008, aper#6.0   2832.862 ...  20.932  19.516\n",
       " wfc3, uvis1, f300x, mjd#55008, aper#6.0   2820.469 ...  24.968  23.565\n",
       " wfc3, uvis1, f336w, mjd#55008, aper#6.0   3354.492 ...  24.692  23.527\n",
       " wfc3, uvis1, f343n, mjd#55008, aper#6.0   3435.151 ...  23.889  22.754\n",
       "wfc3, uvis1, f350lp, mjd#55008, aper#6.0   5873.870 ...  26.965  26.810\n",
       "                                     ...        ... ...     ...     ...\n",
       " wfc3, uvis1, f665n, mjd#55008, aper#6.0   6655.876 ...  22.736  22.492\n",
       " wfc3, uvis1, f673n, mjd#55008, aper#6.0   6765.939 ...  22.588  22.343\n",
       " wfc3, uvis1, f680n, mjd#55008, aper#6.0   6877.596 ...  23.820  23.556\n",
       " wfc3, uvis1, f689m, mjd#55008, aper#6.0   6876.755 ...  24.479  24.196\n",
       " wfc3, uvis1, f763m, mjd#55008, aper#6.0   7614.371 ...  24.226  23.837\n",
       " wfc3, uvis1, f775w, mjd#55008, aper#6.0   7651.363 ...  24.872  24.480\n",
       " wfc3, uvis1, f814w, mjd#55008, aper#6.0   8039.056 ...  25.126  24.698\n",
       " wfc3, uvis1, f845m, mjd#55008, aper#6.0   8439.057 ...  23.823  23.316\n",
       "wfc3, uvis1, f850lp, mjd#55008, aper#6.0   9176.126 ...  23.857  23.326\n",
       " wfc3, uvis1, f953n, mjd#55008, aper#6.0   9530.579 ...  20.426  19.803"
      ]
     },
     "execution_count": 18,
     "metadata": {},
     "output_type": "execute_result"
    }
   ],
   "source": [
    "tbl"
   ]
  },
  {
   "cell_type": "markdown",
   "metadata": {},
   "source": [
    "We can finally save the table as a .txt file."
   ]
  },
  {
   "cell_type": "code",
   "execution_count": 19,
   "metadata": {
    "execution": {
     "iopub.execute_input": "2025-10-13T18:27:16.721288Z",
     "iopub.status.busy": "2025-10-13T18:27:16.721143Z",
     "iopub.status.idle": "2025-10-13T18:27:16.723861Z",
     "shell.execute_reply": "2025-10-13T18:27:16.723154Z"
    }
   },
   "outputs": [],
   "source": [
    "if not os.path.exists('./uvis_zp_tbl.txt'):\n",
    "    tbl.write('uvis_zp_tbl.txt', format='ascii.commented_header')"
   ]
  },
  {
   "cell_type": "markdown",
   "metadata": {},
   "source": [
    "<a class=\"anchor\" id=\"curves\"></a>\n",
    "## 7. Create and plot 'total system throughput' tables"
   ]
  },
  {
   "cell_type": "markdown",
   "metadata": {},
   "source": [
    "The function below returns a tuple containing two objects, the first being an array of wavelengths, and the second being the throughput at each of those wavelengths."
   ]
  },
  {
   "cell_type": "code",
   "execution_count": 20,
   "metadata": {
    "execution": {
     "iopub.execute_input": "2025-10-13T18:27:16.725243Z",
     "iopub.status.busy": "2025-10-13T18:27:16.725103Z",
     "iopub.status.idle": "2025-10-13T18:27:16.728117Z",
     "shell.execute_reply": "2025-10-13T18:27:16.727514Z"
    }
   },
   "outputs": [],
   "source": [
    "def calculate_bands(bp, save=False, overwrite=True):\n",
    "    # Pass in bandpass object as bp\n",
    "    waves = bp.waveset\n",
    "    throughput = bp(waves)\n",
    "    \n",
    "    if save:\n",
    "        tmp = Table([waves, throughput], names=['WAVELENGTH', 'THROUGHPUT'])\n",
    "        tmp.write(', '.join(bp.obsmode.modes)+'.txt', format='ascii.commented_header', overwrite=overwrite)\n",
    "        \n",
    "    return (waves, throughput)"
   ]
  },
  {
   "cell_type": "markdown",
   "metadata": {},
   "source": [
    "We'll calculate the throughput table for WFC3/UVIS1 in F200LP."
   ]
  },
  {
   "cell_type": "code",
   "execution_count": 21,
   "metadata": {
    "execution": {
     "iopub.execute_input": "2025-10-13T18:27:16.729562Z",
     "iopub.status.busy": "2025-10-13T18:27:16.729419Z",
     "iopub.status.idle": "2025-10-13T18:27:16.756125Z",
     "shell.execute_reply": "2025-10-13T18:27:16.755418Z"
    }
   },
   "outputs": [],
   "source": [
    "obsmode = 'wfc3,uvis1,f200lp'\n",
    "bp = stsyn.band(obsmode)\n",
    "wl, tp = calculate_bands(bp)"
   ]
  },
  {
   "cell_type": "markdown",
   "metadata": {},
   "source": [
    "Now, let's plot our results."
   ]
  },
  {
   "cell_type": "code",
   "execution_count": 22,
   "metadata": {
    "execution": {
     "iopub.execute_input": "2025-10-13T18:27:16.757648Z",
     "iopub.status.busy": "2025-10-13T18:27:16.757485Z",
     "iopub.status.idle": "2025-10-13T18:27:16.873957Z",
     "shell.execute_reply": "2025-10-13T18:27:16.873254Z"
    }
   },
   "outputs": [
    {
     "data": {
      "text/plain": [
       "Text(0.5, 1.0, 'WFC3,UVIS1,F200LP')"
      ]
     },
     "execution_count": 22,
     "metadata": {},
     "output_type": "execute_result"
    },
    {
     "data": {
      "image/png": "[encoded data removed]",
      "text/plain": [
       "<Figure size 1000x500 with 1 Axes>"
      ]
     },
     "metadata": {},
     "output_type": "display_data"
    }
   ],
   "source": [
    "fig = plt.figure(figsize=(10, 5))\n",
    "plt.plot(wl, tp)\n",
    "plt.xlim(1500, 11000) \n",
    "plt.xlabel('Wavelength [Angstroms]')\n",
    "plt.ylabel('Throughput')\n",
    "plt.title('WFC3,UVIS1,F200LP')"
   ]
  },
  {
   "cell_type": "markdown",
   "metadata": {},
   "source": [
    "To save the curve in an ascii table, simply pass the argument `save=True`:"
   ]
  },
  {
   "cell_type": "code",
   "execution_count": 23,
   "metadata": {
    "execution": {
     "iopub.execute_input": "2025-10-13T18:27:16.875553Z",
     "iopub.status.busy": "2025-10-13T18:27:16.875268Z",
     "iopub.status.idle": "2025-10-13T18:27:16.896995Z",
     "shell.execute_reply": "2025-10-13T18:27:16.896376Z"
    }
   },
   "outputs": [
    {
     "data": {
      "text/plain": [
       "(<Quantity [  500.,  1000.,  1010., ..., 20002., 30000., 30010.] Angstrom>,\n",
       " <Quantity [0., 0., 0., ..., 0., 0., 0.]>)"
      ]
     },
     "execution_count": 23,
     "metadata": {},
     "output_type": "execute_result"
    }
   ],
   "source": [
    "calculate_bands(bp, save=True)"
   ]
  },
  {
   "cell_type": "markdown",
   "metadata": {},
   "source": [
    "To save curves for all obsmodes defined in [Section 3](#inps) in the input list, we can loop through detectors and filters."
   ]
  },
  {
   "cell_type": "code",
   "execution_count": 24,
   "metadata": {
    "execution": {
     "iopub.execute_input": "2025-10-13T18:27:16.898515Z",
     "iopub.status.busy": "2025-10-13T18:27:16.898361Z",
     "iopub.status.idle": "2025-10-13T18:27:18.656187Z",
     "shell.execute_reply": "2025-10-13T18:27:18.655376Z"
    }
   },
   "outputs": [],
   "source": [
    "for det in detectors:\n",
    "    for filt in filtnames:\n",
    "        obsmode = f'wfc3, {det}, {filt}'\n",
    "        bp = stsyn.band(obsmode)\n",
    "        calculate_bands(bp, save=True)"
   ]
  },
  {
   "cell_type": "markdown",
   "metadata": {},
   "source": [
    "In addition, we'll create a directory called `obsmodes_curves` and move all the saved files to that directory."
   ]
  },
  {
   "cell_type": "code",
   "execution_count": 25,
   "metadata": {
    "execution": {
     "iopub.execute_input": "2025-10-13T18:27:18.657742Z",
     "iopub.status.busy": "2025-10-13T18:27:18.657572Z",
     "iopub.status.idle": "2025-10-13T18:27:19.046768Z",
     "shell.execute_reply": "2025-10-13T18:27:19.045895Z"
    }
   },
   "outputs": [
    {
     "name": "stdout",
     "output_type": "stream",
     "text": [
      "mkdir: cannot create directory ‘obsmodes_curves’: File exists\r\n"
     ]
    },
    {
     "name": "stdout",
     "output_type": "stream",
     "text": [
      "'wfc3, uvis1, f200lp.txt'  'wfc3, uvis1, f438w.txt'   'wfc3, uvis1, f645n.txt'\r\n",
      "'wfc3, uvis1, f218w.txt'   'wfc3, uvis1, f467m.txt'   'wfc3, uvis1, f656n.txt'\r\n",
      "'wfc3, uvis1, f225w.txt'   'wfc3, uvis1, f469n.txt'   'wfc3, uvis1, f657n.txt'\r\n",
      "'wfc3, uvis1, f275w.txt'   'wfc3, uvis1, f475w.txt'   'wfc3, uvis1, f658n.txt'\r\n",
      "'wfc3, uvis1, f280n.txt'   'wfc3, uvis1, f475x.txt'   'wfc3, uvis1, f665n.txt'\r\n",
      "'wfc3, uvis1, f300x.txt'   'wfc3, uvis1, f487n.txt'   'wfc3, uvis1, f673n.txt'\r\n",
      "'wfc3, uvis1, f336w.txt'   'wfc3, uvis1, f502n.txt'   'wfc3, uvis1, f680n.txt'\r\n",
      "'wfc3, uvis1, f343n.txt'   'wfc3, uvis1, f547m.txt'   'wfc3, uvis1, f689m.txt'\r\n",
      "'wfc3, uvis1, f350lp.txt'  'wfc3, uvis1, f555w.txt'   'wfc3, uvis1, f763m.txt'\r\n",
      "'wfc3, uvis1, f373n.txt'   'wfc3, uvis1, f600lp.txt'  'wfc3, uvis1, f775w.txt'\r\n",
      "'wfc3, uvis1, f390m.txt'   'wfc3, uvis1, f606w.txt'   'wfc3, uvis1, f814w.txt'\r\n",
      "'wfc3, uvis1, f390w.txt'   'wfc3, uvis1, f621m.txt'   'wfc3, uvis1, f845m.txt'\r\n",
      "'wfc3, uvis1, f395n.txt'   'wfc3, uvis1, f625w.txt'   'wfc3, uvis1, f850lp.txt'\r\n",
      "'wfc3, uvis1, f410m.txt'   'wfc3, uvis1, f631n.txt'   'wfc3, uvis1, f953n.txt'\r\n"
     ]
    }
   ],
   "source": [
    "! mkdir obsmodes_curves\n",
    "! mv wfc3*txt obsmodes_curves\n",
    "! ls obsmodes_curves"
   ]
  },
  {
   "cell_type": "markdown",
   "metadata": {},
   "source": [
    "<a id=\"conclusions\"></a>\n",
    "## 8. Conclusions\n",
    "\n",
    "Thank you for walking through this notebook. Now using WFC3 data, you should be more familiar with:\n",
    "\n",
    "- Calculating zeropoints and other photometric properties using `stsynphot`.\n",
    "- Creating, plotting, and saving 'total system throughput' tables.\n",
    "\n",
    "#### Congratulations, you have completed the notebook!"
   ]
  },
  {
   "cell_type": "markdown",
   "metadata": {},
   "source": [
    "<a id=\"resources\"></a>\n",
    "## Additional Resources\n",
    "Below are some additional resources that may be helpful. Please send any questions through the [HST Helpdesk](https://stsci.service-now.com/hst).\n",
    "\n",
    "- [WFC3 Website](https://www.stsci.edu/hst/instrumentation/wfc3)\n",
    "- [WFC3 Instrument Handbook](https://hst-docs.stsci.edu/wfc3ihb)\n",
    "- [WFC3 Data Handbook](https://hst-docs.stsci.edu/wfc3dhb)\n",
    "    - see sections 9.5.2 for reference to this notebook\n",
    "    \n",
    "<a id=\"about\"></a>\n",
    "## About this Notebook\n",
    "\n",
    "**Authors:** Varun Bajaj, Jennifer Mack; WFC3 Instrument Team\n",
    "\n",
    "**Updated on:** 2024-03-18\n",
    "\n",
    "<a id=\"cite\"></a>\n",
    "## Citations\n",
    "\n",
    "If you use `numpy`, `astropy`, `synphot`, or `stsynphot` for published research, please cite the\n",
    "authors. Follow these links for more information about citing the libraries below:\n",
    "\n",
    "* [Citing `numpy`](https://numpy.org/citing-numpy/)\n",
    "* [Citing `astropy`](https://www.astropy.org/acknowledging.html)\n",
    "* [Citing `synphot`](https://synphot.readthedocs.io/en/latest/)\n",
    "* [Citing `stsynphot`](https://stsynphot.readthedocs.io/en/latest/index.html)\n",
    "\n",
    "<hr>\n",
    "[Top of Page](#title)\n",
    "<img style=\"float: right;\" src=\"https://raw.githubusercontent.com/spacetelescope/notebooks/master/assets/stsci_pri_combo_mark_horizonal_white_bkgd.png\" alt=\"Space Telescope Logo\" width=\"200px\"/> "
   ]
  },
  {
   "cell_type": "code",
   "execution_count": null,
   "metadata": {},
   "outputs": [],
   "source": []
  }
 ],
 "metadata": {
  "kernelspec": {
   "display_name": "Python 3 (ipykernel)",
   "language": "python",
   "name": "python3"
  },
  "language_info": {
   "codemirror_mode": {
    "name": "ipython",
    "version": 3
   },
   "file_extension": ".py",
   "mimetype": "text/x-python",
   "name": "python",
   "nbconvert_exporter": "python",
   "pygments_lexer": "ipython3",
   "version": "3.11.14"
  }
 },
 "nbformat": 4,
 "nbformat_minor": 4
}
