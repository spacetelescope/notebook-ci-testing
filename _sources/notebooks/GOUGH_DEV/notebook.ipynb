{
 "cells": [
  {
   "cell_type": "code",
   "execution_count": 1,
   "id": "hello-world-cell",
   "metadata": {
    "execution": {
     "iopub.execute_input": "2025-03-26T18:15:49.351376Z",
     "iopub.status.busy": "2025-03-26T18:15:49.351210Z",
     "iopub.status.idle": "2025-03-26T18:15:49.356908Z",
     "shell.execute_reply": "2025-03-26T18:15:49.356498Z"
    }
   },
   "outputs": [
    {
     "name": "stdout",
     "output_type": "stream",
     "text": [
      "Hello worldd\n"
     ]
    }
   ],
   "source": [
    "print('Hello worldd')"
   ]
  }
 ],
 "metadata": {
  "kernelspec": {
   "display_name": "Python 3",
   "language": "python",
   "name": "python3"
  },
  "language_info": {
   "codemirror_mode": {
    "name": "ipython",
    "version": 3
   },
   "file_extension": ".py",
   "mimetype": "text/x-python",
   "name": "python",
   "nbconvert_exporter": "python",
   "pygments_lexer": "ipython3",
   "version": "3.11.11"
  }
 },
 "nbformat": 4,
 "nbformat_minor": 5
}
