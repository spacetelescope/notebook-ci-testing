{
 "cells": [
  {
   "cell_type": "code",
   "execution_count": 1,
   "id": "hello-world-cell",
   "metadata": {
    "execution": {
     "iopub.execute_input": "2025-02-18T13:43:48.009268Z",
     "iopub.status.busy": "2025-02-18T13:43:48.009096Z",
     "iopub.status.idle": "2025-02-18T13:43:48.014783Z",
     "shell.execute_reply": "2025-02-18T13:43:48.014358Z"
    }
   },
   "outputs": [
    {
     "name": "stdout",
     "output_type": "stream",
     "text": [
      "Hello worldd\n"
     ]
    }
   ],
   "source": [
    "print('Hello worldd')"
   ]
  }
 ],
 "metadata": {
  "kernelspec": {
   "display_name": "Python 3",
   "language": "python",
   "name": "python3"
  },
  "language_info": {
   "codemirror_mode": {
    "name": "ipython",
    "version": 3
   },
   "file_extension": ".py",
   "mimetype": "text/x-python",
   "name": "python",
   "nbconvert_exporter": "python",
   "pygments_lexer": "ipython3",
   "version": "3.11.11"
  }
 },
 "nbformat": 4,
 "nbformat_minor": 5
}
