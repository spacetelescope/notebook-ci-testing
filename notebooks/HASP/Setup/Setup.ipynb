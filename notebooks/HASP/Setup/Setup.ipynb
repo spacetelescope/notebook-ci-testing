{
 "cells": [
  {
   "attachments": {},
   "cell_type": "markdown",
   "id": "8346a078",
   "metadata": {},
   "source": [
    "# Installing the Hubble Advanced Spectral Products Script"
   ]
  },
  {
   "attachments": {},
   "cell_type": "markdown",
   "id": "1d2e317b",
   "metadata": {},
   "source": [
    "### <span style=\"font-weight:normal\">This Notebook is designed to walk you through downloading, installing, and using the **Hubble Advanced Spectral Products (HASP)** co-add script.</span>"
   ]
  },
  {
   "attachments": {},
   "cell_type": "markdown",
   "id": "01e97a32",
   "metadata": {},
   "source": [
    "## Learning Goals: "
   ]
  },
  {
   "attachments": {},
   "cell_type": "markdown",
   "id": "ad4bc17b",
   "metadata": {},
   "source": [
    "By the end of this tutorial, you will: \n",
    "\n",
    "* Download `conda` and create a `conda` environment\n",
    "\n",
    "* Download and install the co-add script\n",
    "\n",
    "* Learn how to run the script\n",
    "\n",
    "* Understand the naming conventions of the co-added output files\n"
   ]
  },
  {
   "attachments": {},
   "cell_type": "markdown",
   "id": "75d6e2e4",
   "metadata": {},
   "source": [
    "## Table of Contents\n",
    "**0. [Introduction](#introduction)**\n",
    "\n",
    "**1. [Downloading and Installing `conda`](#conda)**\n",
    "\n",
    "\\- 1.1 [Installing `conda`](#installconda)\n",
    "\n",
    "\\- 1.2 [Creating a `conda` Environment](#createenv)\n",
    "\n",
    "**2. [Downloading and Installing the HASP Script](#downloadcode)**\n",
    "\n",
    "**3. [Running the Co-add Script](#runscript)**\n",
    "\n",
    "\\- 3.1 [Running the Script](#runscript31)\n",
    "\n",
    "\\- 3.2 [Understanding the Output Files](#inspectoutput)\n"
   ]
  },
  {
   "attachments": {},
   "cell_type": "markdown",
   "id": "a73ce7ef",
   "metadata": {},
   "source": [
    "<a id = introduction></a>\n",
    "## 0. Introduction"
   ]
  },
  {
   "cell_type": "markdown",
   "id": "40af9618",
   "metadata": {},
   "source": [
    "The Hubble Advanced Spectral Products (HASP) code is a script that co-adds spectra of the same target within programs. This software is able to co-add data taken with the spectrographs onboard the Hubble Space Telescope (HST); the Space Telescope Imaging Spectrograph (STIS) and the Cosmic Origins Spectrograph (COS). The Hubble Spectroscopic Legacy Archive (HSLA) uses this script to co-add these instruments’ data from the MAST archive to create high-quality spectra with a broad wavelength coverate (whenever possible from the ultraviolet to the near-infrared) that is publicly available for the scientific community. These custom co-addition notebooks will instruct users on how to produce their own co-adds in cases where the MAST archive data needs special processing or is rejected by the default filters used in the co-add script.\n",
    "\n",
    "The script first co-adds the observations for each grating for a given program, then it combines all gratings for the observation set. Finally, it co-adds the spectra of each observation set in the program to produce a fully co-added spectra for each target in a program. \n",
    "\n",
    "This notebook focuses primarily on the installation of the co-add code, and provides a quick overview on its usage. To see an example of downloading COS and STIS datasets, running the script, and analyzing the output, please check out our notebook CoaddTutorial.ipynb."
   ]
  },
  {
   "cell_type": "markdown",
   "id": "ecc750bf",
   "metadata": {},
   "source": [
    "<a id = conda></a>\n",
    "## 1. Downloading and Installing `conda`"
   ]
  },
  {
   "cell_type": "markdown",
   "id": "47e1c12b",
   "metadata": {},
   "source": [
    "<a id = installconda></a>\n",
    "### 1.1 Installing `conda`\n",
    "\n",
    "Conda is a package, dependency, and environment manager that runs on Windows, Mac, and Linux. Conda allows us to easily install Python packages and create isolated conda environments, each with their own packages and dependencies. By switching between conda environments, we avoid conflicts between different versions of packages.\n",
    "\n",
    "We will create a conda environment to install the packages needed for the HASP script. We can first check if you have conda already installed by running the command in the terminal:"
   ]
  },
  {
   "cell_type": "code",
   "execution_count": 1,
   "id": "cdee82a9",
   "metadata": {
    "execution": {
     "iopub.execute_input": "2025-10-01T18:58:44.295820Z",
     "iopub.status.busy": "2025-10-01T18:58:44.295672Z",
     "iopub.status.idle": "2025-10-01T18:58:44.855318Z",
     "shell.execute_reply": "2025-10-01T18:58:44.854651Z"
    }
   },
   "outputs": [
    {
     "name": "stdout",
     "output_type": "stream",
     "text": [
      "conda 25.7.0\r\n"
     ]
    }
   ],
   "source": [
    "!conda --version"
   ]
  },
  {
   "cell_type": "markdown",
   "id": "63221b8d",
   "metadata": {},
   "source": [
    "Running the command should print out the version of conda that you have installed (e.g. `conda 23.7.2`). If the command returns a statement saying that the package is unknown, then you do not have conda installed on your machine. You will need to download one of the conda distributions. \n",
    "\n",
    "There are a few different distributions of conda that you can install, depending on your preferences. [`Anaconda`](https://docs.anaconda.com/anaconda/install/index.html) is one distribution that carries a lot of pre-installed packages, some of which you won't use. [`Miniconda`](https://docs.conda.io/en/main/miniconda.html) is another distribution of conda that contains only the minimum packages. Finally, the [`Mamba`](https://mamba.readthedocs.io/en/latest/installation/mamba-installation.html) disctribution of conda is similar to `Miniconda`, but uses different parallelization and cache algorithms to increase speed and optimize memory.\n",
    "\n",
    "Once you have installed one of these clients, try running the above cell again to confirm that conda is installed."
   ]
  },
  {
   "cell_type": "markdown",
   "id": "49d07c7e",
   "metadata": {},
   "source": [
    "<a id = createenv></a>\n",
    "### 1.2 Creating a Conda Environment\n",
    "\n",
    "Once you've installed conda, we can create a conda environment. We will download all of the packages needed to run the HASP script in a new environment that we will create, called `hasp-env`. We will use this environment for all of the tutorial notebooks.\n",
    "\n",
    "The first step is to add the `conda-forge` channel to the list of avaible conda channels. Channels are where conda packages are stored and downloaded from, and `conda-forge` allows us to download additional packages for the code that the default conda channel may not have available. We can add this channel by running the following command in the terminal:"
   ]
  },
  {
   "cell_type": "code",
   "execution_count": 2,
   "id": "2b4274ee",
   "metadata": {
    "execution": {
     "iopub.execute_input": "2025-10-01T18:58:44.857405Z",
     "iopub.status.busy": "2025-10-01T18:58:44.857242Z",
     "iopub.status.idle": "2025-10-01T18:58:45.426835Z",
     "shell.execute_reply": "2025-10-01T18:58:45.426308Z"
    }
   },
   "outputs": [
    {
     "name": "stdout",
     "output_type": "stream",
     "text": [
      "Warning: 'conda-forge' already in 'channels' list, moving to the top\r\n"
     ]
    }
   ],
   "source": [
    "!conda config --add channels conda-forge"
   ]
  },
  {
   "cell_type": "markdown",
   "id": "7d741f45",
   "metadata": {},
   "source": [
    "We can now create the conda environment, `hasp-env`. Note that this can take several minutes to run:"
   ]
  },
  {
   "cell_type": "code",
   "execution_count": 3,
   "id": "dd8a8c1b",
   "metadata": {
    "execution": {
     "iopub.execute_input": "2025-10-01T18:58:45.428713Z",
     "iopub.status.busy": "2025-10-01T18:58:45.428542Z",
     "iopub.status.idle": "2025-10-01T18:59:21.539669Z",
     "shell.execute_reply": "2025-10-01T18:59:21.539052Z"
    }
   },
   "outputs": [
    {
     "name": "stdout",
     "output_type": "stream",
     "text": [
      "\u001b[1;33mCI detected\u001b[0m\u001b[1;33m...\u001b[0m\r\n",
      "\u001b[1;32m2\u001b[0m\u001b[1;32m channel Terms of Service accepted\u001b[0m\r\n",
      "WARNING: A conda environment already exists at '/usr/share/miniconda/envs/hasp-env'\r\n",
      "\r\n",
      "Remove existing environment?\r\n",
      "This will remove ALL directories contained within this specified prefix directory, including any other conda environments.\r\n",
      "\r\n",
      " (y/[n])? \r\n"
     ]
    },
    {
     "name": "stdout",
     "output_type": "stream",
     "text": [
      "Channels:\r\n",
      " - conda-forge\r\n",
      " - defaults\r\n",
      "Platform: linux-64\r\n",
      "Collecting package metadata (repodata.json): - "
     ]
    },
    {
     "name": "stdout",
     "output_type": "stream",
     "text": [
      "\b\b\\ "
     ]
    },
    {
     "name": "stdout",
     "output_type": "stream",
     "text": [
      "\b\b| "
     ]
    },
    {
     "name": "stdout",
     "output_type": "stream",
     "text": [
      "\b\b/ "
     ]
    },
    {
     "name": "stdout",
     "output_type": "stream",
     "text": [
      "\b\b- "
     ]
    },
    {
     "name": "stdout",
     "output_type": "stream",
     "text": [
      "\b\b\\ "
     ]
    },
    {
     "name": "stdout",
     "output_type": "stream",
     "text": [
      "\b\b| "
     ]
    },
    {
     "name": "stdout",
     "output_type": "stream",
     "text": [
      "\b\b/ "
     ]
    },
    {
     "name": "stdout",
     "output_type": "stream",
     "text": [
      "\b\b- "
     ]
    },
    {
     "name": "stdout",
     "output_type": "stream",
     "text": [
      "\b\b\\ "
     ]
    },
    {
     "name": "stdout",
     "output_type": "stream",
     "text": [
      "\b\b| "
     ]
    },
    {
     "name": "stdout",
     "output_type": "stream",
     "text": [
      "\b\b/ "
     ]
    },
    {
     "name": "stdout",
     "output_type": "stream",
     "text": [
      "\b\b- "
     ]
    },
    {
     "name": "stdout",
     "output_type": "stream",
     "text": [
      "\b\b\\ "
     ]
    },
    {
     "name": "stdout",
     "output_type": "stream",
     "text": [
      "\b\b| "
     ]
    },
    {
     "name": "stdout",
     "output_type": "stream",
     "text": [
      "\b\b/ "
     ]
    },
    {
     "name": "stdout",
     "output_type": "stream",
     "text": [
      "\b\bdone\r\n",
      "Solving environment: \\ "
     ]
    },
    {
     "name": "stdout",
     "output_type": "stream",
     "text": [
      "\b\b| "
     ]
    },
    {
     "name": "stdout",
     "output_type": "stream",
     "text": [
      "\b\b/ "
     ]
    },
    {
     "name": "stdout",
     "output_type": "stream",
     "text": [
      "\b\b- "
     ]
    },
    {
     "name": "stdout",
     "output_type": "stream",
     "text": [
      "\b\b\\ "
     ]
    },
    {
     "name": "stdout",
     "output_type": "stream",
     "text": [
      "\b\b| "
     ]
    },
    {
     "name": "stdout",
     "output_type": "stream",
     "text": [
      "\b\bdone\r\n",
      "\r\n",
      "\r\n",
      "==> WARNING: A newer version of conda exists. <==\r\n",
      "    current version: 25.7.0\r\n",
      "    latest version: 25.9.0\r\n",
      "\r\n",
      "Please update conda by running\r\n",
      "\r\n",
      "    $ conda update -n base -c defaults conda\r\n",
      "\r\n",
      "\r\n"
     ]
    },
    {
     "name": "stdout",
     "output_type": "stream",
     "text": [
      "\r\n",
      "## Package Plan ##\r\n",
      "\r\n",
      "  environment location: /usr/share/miniconda/envs/hasp-env\r\n",
      "\r\n",
      "  added / updated specs:\r\n",
      "    - astropy\r\n",
      "    - astroquery\r\n",
      "    - jupyterlab\r\n",
      "    - matplotlib\r\n",
      "    - notebook\r\n",
      "    - numpy\r\n",
      "    - python=3.11\r\n",
      "\r\n",
      "\r\n",
      "The following NEW packages will be INSTALLED:\r\n",
      "\r\n",
      "  _libgcc_mutex      conda-forge/linux-64::_libgcc_mutex-0.1-conda_forge \r\n",
      "  _openmp_mutex      conda-forge/linux-64::_openmp_mutex-4.5-2_gnu \r\n",
      "  aiobotocore        conda-forge/noarch::aiobotocore-2.24.2-pyhcf101f3_0 \r\n",
      "  aiohappyeyeballs   conda-forge/noarch::aiohappyeyeballs-2.6.1-pyhd8ed1ab_0 \r\n",
      "  aiohttp            conda-forge/linux-64::aiohttp-3.12.15-py311h3778330_0 \r\n",
      "  aioitertools       conda-forge/noarch::aioitertools-0.12.0-pyhd8ed1ab_1 \r\n",
      "  aiosignal          conda-forge/noarch::aiosignal-1.4.0-pyhd8ed1ab_0 \r\n",
      "  alsa-lib           conda-forge/linux-64::alsa-lib-1.2.14-hb9d3cd8_0 \r\n",
      "  anyio              conda-forge/noarch::anyio-4.11.0-pyhcf101f3_0 \r\n",
      "  argon2-cffi        conda-forge/noarch::argon2-cffi-25.1.0-pyhd8ed1ab_0 \r\n",
      "  argon2-cffi-bindi~ conda-forge/linux-64::argon2-cffi-bindings-25.1.0-py311h49ec1c0_0 \r\n",
      "  arrow              conda-forge/noarch::arrow-1.3.0-pyhd8ed1ab_1 \r\n",
      "  astropy            conda-forge/noarch::astropy-7.1.0-pyhd8ed1ab_1 \r\n",
      "  astropy-base       conda-forge/linux-64::astropy-base-7.1.0-py311h52c8da0_1 \r\n",
      "  astropy-iers-data  conda-forge/noarch::astropy-iers-data-0.2025.9.29.0.35.48-pyhd8ed1ab_0 \r\n",
      "  astroquery         conda-forge/noarch::astroquery-0.4.11-pyhd8ed1ab_0 \r\n",
      "  asttokens          conda-forge/noarch::asttokens-3.0.0-pyhd8ed1ab_1 \r\n",
      "  async-lru          conda-forge/noarch::async-lru-2.0.5-pyh29332c3_0 \r\n",
      "  attrs              conda-forge/noarch::attrs-25.3.0-pyh71513ae_0 \r\n",
      "  aws-c-auth         conda-forge/linux-64::aws-c-auth-0.9.1-h48c9088_3 \r\n",
      "  aws-c-cal          conda-forge/linux-64::aws-c-cal-0.9.2-he7b75e1_1 \r\n",
      "  aws-c-common       conda-forge/linux-64::aws-c-common-0.12.4-hb03c661_0 \r\n",
      "  aws-c-compression  conda-forge/linux-64::aws-c-compression-0.3.1-h92c474e_6 \r\n",
      "  aws-c-event-stream conda-forge/linux-64::aws-c-event-stream-0.5.6-h82d11aa_3 \r\n",
      "  aws-c-http         conda-forge/linux-64::aws-c-http-0.10.4-h94feff3_3 \r\n",
      "  aws-c-io           conda-forge/linux-64::aws-c-io-0.22.0-h57f3b0d_1 \r\n",
      "  aws-c-mqtt         conda-forge/linux-64::aws-c-mqtt-0.13.3-h2b1cf8c_6 \r\n",
      "  aws-c-s3           conda-forge/linux-64::aws-c-s3-0.8.6-h4e5ac4b_5 \r\n",
      "  aws-c-sdkutils     conda-forge/linux-64::aws-c-sdkutils-0.2.4-h92c474e_1 \r\n",
      "  aws-checksums      conda-forge/linux-64::aws-checksums-0.2.7-h92c474e_2 \r\n",
      "  aws-crt-cpp        conda-forge/linux-64::aws-crt-cpp-0.34.4-h60c762c_0 \r\n",
      "  aws-sdk-cpp        conda-forge/linux-64::aws-sdk-cpp-1.11.606-h32384e2_4 \r\n",
      "  azure-core-cpp     conda-forge/linux-64::azure-core-cpp-1.16.0-h3a458e0_1 \r\n",
      "  azure-identity-cpp conda-forge/linux-64::azure-identity-cpp-1.12.0-ha729027_0 \r\n",
      "  azure-storage-blo~ conda-forge/linux-64::azure-storage-blobs-cpp-12.14.0-hb1c9500_1 \r\n",
      "  azure-storage-com~ conda-forge/linux-64::azure-storage-common-cpp-12.10.0-h4bb41a7_3 \r\n",
      "  azure-storage-fil~ conda-forge/linux-64::azure-storage-files-datalake-cpp-12.12.0-h8b27e44_3 \r\n",
      "  babel              conda-forge/noarch::babel-2.17.0-pyhd8ed1ab_0 \r\n",
      "  backports          conda-forge/noarch::backports-1.0-pyhd8ed1ab_5 \r\n",
      "  backports.tarfile  conda-forge/noarch::backports.tarfile-1.2.0-pyhd8ed1ab_1 \r\n",
      "  beautifulsoup4     conda-forge/noarch::beautifulsoup4-4.14.2-pyha770c72_0 \r\n",
      "  bleach             conda-forge/noarch::bleach-6.2.0-pyh29332c3_4 \r\n",
      "  bleach-with-css    conda-forge/noarch::bleach-with-css-6.2.0-h82add2a_4 \r\n",
      "  botocore           conda-forge/noarch::botocore-1.40.18-pyhd8ed1ab_0 \r\n",
      "  bottleneck         conda-forge/linux-64::bottleneck-1.6.0-py311h0372a8f_0 \r\n",
      "  bqplot             conda-forge/noarch::bqplot-0.12.45-pyhe01879c_0 \r\n",
      "  brotli             conda-forge/linux-64::brotli-1.1.0-hb03c661_4 \r\n",
      "  brotli-bin         conda-forge/linux-64::brotli-bin-1.1.0-hb03c661_4 \r\n",
      "  brotli-python      conda-forge/linux-64::brotli-python-1.1.0-py311h1ddb823_4 \r\n",
      "  bzip2              conda-forge/linux-64::bzip2-1.0.8-hda65f42_8 \r\n",
      "  c-ares             conda-forge/linux-64::c-ares-1.34.5-hb9d3cd8_0 \r\n",
      "  ca-certificates    conda-forge/noarch::ca-certificates-2025.8.3-hbd8a1cb_0 \r\n",
      "  cached-property    conda-forge/noarch::cached-property-1.5.2-hd8ed1ab_1 \r\n",
      "  cached_property    conda-forge/noarch::cached_property-1.5.2-pyha770c72_1 \r\n",
      "  cairo              conda-forge/linux-64::cairo-1.18.4-h3394656_0 \r\n",
      "  certifi            conda-forge/noarch::certifi-2025.8.3-pyhd8ed1ab_0 \r\n",
      "  cffi               conda-forge/linux-64::cffi-2.0.0-py311h5b438cf_0 \r\n",
      "  charset-normalizer conda-forge/noarch::charset-normalizer-3.4.3-pyhd8ed1ab_0 \r\n",
      "  click              conda-forge/noarch::click-8.3.0-pyh707e725_0 \r\n",
      "  cloudpickle        conda-forge/noarch::cloudpickle-3.1.1-pyhd8ed1ab_0 \r\n",
      "  comm               conda-forge/noarch::comm-0.2.3-pyhe01879c_0 \r\n",
      "  contourpy          conda-forge/linux-64::contourpy-1.3.3-py311hdf67eae_2 \r\n",
      "  cryptography       conda-forge/linux-64::cryptography-46.0.2-py311h8488d03_0 \r\n",
      "  cycler             conda-forge/noarch::cycler-0.12.1-pyhd8ed1ab_1 \r\n",
      "  cyrus-sasl         conda-forge/linux-64::cyrus-sasl-2.1.28-hd9c7081_0 \r\n",
      "  dask-core          conda-forge/noarch::dask-core-2025.9.1-pyhcf101f3_0 \r\n",
      "  dbus               conda-forge/linux-64::dbus-1.16.2-h3c4dab8_0 \r\n",
      "  debugpy            conda-forge/linux-64::debugpy-1.8.17-py311hc665b79_0 \r\n",
      "  decorator          conda-forge/noarch::decorator-5.2.1-pyhd8ed1ab_0 \r\n",
      "  defusedxml         conda-forge/noarch::defusedxml-0.7.1-pyhd8ed1ab_0 \r\n",
      "  double-conversion  conda-forge/linux-64::double-conversion-3.3.1-h5888daf_0 \r\n",
      "  exceptiongroup     conda-forge/noarch::exceptiongroup-1.3.0-pyhd8ed1ab_0 \r\n",
      "  executing          conda-forge/noarch::executing-2.2.1-pyhd8ed1ab_0 \r\n",
      "  font-ttf-dejavu-s~ conda-forge/noarch::font-ttf-dejavu-sans-mono-2.37-hab24e00_0 \r\n",
      "  font-ttf-inconsol~ conda-forge/noarch::font-ttf-inconsolata-3.000-h77eed37_0 \r\n",
      "  font-ttf-source-c~ conda-forge/noarch::font-ttf-source-code-pro-2.038-h77eed37_0 \r\n",
      "  font-ttf-ubuntu    conda-forge/noarch::font-ttf-ubuntu-0.83-h77eed37_3 \r\n",
      "  fontconfig         conda-forge/linux-64::fontconfig-2.15.0-h7e30c49_1 \r\n",
      "  fonts-conda-ecosy~ conda-forge/noarch::fonts-conda-ecosystem-1-0 \r\n",
      "  fonts-conda-forge  conda-forge/noarch::fonts-conda-forge-1-0 \r\n",
      "  fonttools          conda-forge/linux-64::fonttools-4.60.1-py311h3778330_0 \r\n",
      "  fqdn               conda-forge/noarch::fqdn-1.5.1-pyhd8ed1ab_1 \r\n",
      "  freetype           conda-forge/linux-64::freetype-2.14.1-ha770c72_0 \r\n",
      "  frozenlist         conda-forge/linux-64::frozenlist-1.7.0-py311h52bc045_0 \r\n",
      "  fsspec             conda-forge/noarch::fsspec-2025.9.0-pyhd8ed1ab_0 \r\n",
      "  gast               conda-forge/noarch::gast-0.4.0-pyh9f0ad1d_0 \r\n",
      "  gflags             conda-forge/linux-64::gflags-2.2.2-h5888daf_1005 \r\n",
      "  glog               conda-forge/linux-64::glog-0.7.1-hbabe93e_0 \r\n",
      "  graphite2          conda-forge/linux-64::graphite2-1.3.14-hecca717_2 \r\n",
      "  h11                conda-forge/noarch::h11-0.16.0-pyhd8ed1ab_0 \r\n",
      "  h2                 conda-forge/noarch::h2-4.3.0-pyhcf101f3_0 \r\n",
      "  h5py               conda-forge/linux-64::h5py-3.14.0-nompi_py311h0b2f468_101 \r\n",
      "  harfbuzz           conda-forge/linux-64::harfbuzz-12.0.0-h15599e2_0 \r\n",
      "  hdf5               conda-forge/linux-64::hdf5-1.14.6-nompi_h6e4c0c1_103 \r\n",
      "  hpack              conda-forge/noarch::hpack-4.1.0-pyhd8ed1ab_0 \r\n",
      "  html5lib           conda-forge/noarch::html5lib-1.1-pyhd8ed1ab_2 \r\n",
      "  httpcore           conda-forge/noarch::httpcore-1.0.9-pyh29332c3_0 \r\n",
      "  httpx              conda-forge/noarch::httpx-0.28.1-pyhd8ed1ab_0 \r\n",
      "  hyperframe         conda-forge/noarch::hyperframe-6.1.0-pyhd8ed1ab_0 \r\n",
      "  icu                conda-forge/linux-64::icu-75.1-he02047a_0 \r\n",
      "  idna               conda-forge/noarch::idna-3.10-pyhd8ed1ab_1 \r\n",
      "  importlib-metadata conda-forge/noarch::importlib-metadata-8.7.0-pyhe01879c_1 \r\n",
      "  importlib_resourc~ conda-forge/noarch::importlib_resources-6.5.2-pyhd8ed1ab_0 \r\n",
      "  ipydatagrid        conda-forge/noarch::ipydatagrid-1.4.0-pyhcf101f3_2 \r\n",
      "  ipykernel          conda-forge/noarch::ipykernel-6.30.1-pyh82676e8_0 \r\n",
      "  ipython            conda-forge/noarch::ipython-9.6.0-pyhfa0c392_0 \r\n",
      "  ipython_pygments_~ conda-forge/noarch::ipython_pygments_lexers-1.1.1-pyhd8ed1ab_0 \r\n",
      "  ipywidgets         conda-forge/noarch::ipywidgets-8.1.7-pyhd8ed1ab_0 \r\n",
      "  isoduration        conda-forge/noarch::isoduration-20.11.0-pyhd8ed1ab_1 \r\n",
      "  jaraco.classes     conda-forge/noarch::jaraco.classes-3.4.0-pyhd8ed1ab_2 \r\n",
      "  jaraco.context     conda-forge/noarch::jaraco.context-6.0.1-pyhd8ed1ab_0 \r\n",
      "  jaraco.functools   conda-forge/noarch::jaraco.functools-4.3.0-pyhd8ed1ab_0 \r\n",
      "  jedi               conda-forge/noarch::jedi-0.19.2-pyhd8ed1ab_1 \r\n",
      "  jeepney            conda-forge/noarch::jeepney-0.9.0-pyhd8ed1ab_0 \r\n",
      "  jinja2             conda-forge/noarch::jinja2-3.1.6-pyhd8ed1ab_0 \r\n",
      "  jmespath           conda-forge/noarch::jmespath-1.0.1-pyhd8ed1ab_1 \r\n",
      "  jplephem           conda-forge/noarch::jplephem-2.23-pyha4b2019_0 \r\n",
      "  json5              conda-forge/noarch::json5-0.12.1-pyhd8ed1ab_0 \r\n",
      "  jsonpointer        conda-forge/linux-64::jsonpointer-3.0.0-py311h38be061_2 \r\n",
      "  jsonschema         conda-forge/noarch::jsonschema-4.25.1-pyhe01879c_0 \r\n",
      "  jsonschema-specif~ conda-forge/noarch::jsonschema-specifications-2025.9.1-pyhcf101f3_0 \r\n",
      "  jsonschema-with-f~ conda-forge/noarch::jsonschema-with-format-nongpl-4.25.1-he01879c_0 \r\n",
      "  jupyter-lsp        conda-forge/noarch::jupyter-lsp-2.3.0-pyhcf101f3_0 \r\n",
      "  jupyter_client     conda-forge/noarch::jupyter_client-8.6.3-pyhd8ed1ab_1 \r\n",
      "  jupyter_core       conda-forge/noarch::jupyter_core-5.8.1-pyh31011fe_0 \r\n",
      "  jupyter_events     conda-forge/noarch::jupyter_events-0.12.0-pyh29332c3_0 \r\n",
      "  jupyter_server     conda-forge/noarch::jupyter_server-2.17.0-pyhcf101f3_0 \r\n",
      "  jupyter_server_te~ conda-forge/noarch::jupyter_server_terminals-0.5.3-pyhd8ed1ab_1 \r\n",
      "  jupyterlab         conda-forge/noarch::jupyterlab-4.4.9-pyhd8ed1ab_0 \r\n",
      "  jupyterlab_pygmen~ conda-forge/noarch::jupyterlab_pygments-0.3.0-pyhd8ed1ab_2 \r\n",
      "  jupyterlab_server  conda-forge/noarch::jupyterlab_server-2.27.3-pyhd8ed1ab_1 \r\n",
      "  jupyterlab_widgets conda-forge/noarch::jupyterlab_widgets-3.0.15-pyhd8ed1ab_0 \r\n",
      "  keyring            conda-forge/noarch::keyring-25.6.0-pyha804496_0 \r\n",
      "  keyutils           conda-forge/linux-64::keyutils-1.6.3-hb9d3cd8_0 \r\n",
      "  kiwisolver         conda-forge/linux-64::kiwisolver-1.4.9-py311h724c32c_1 \r\n",
      "  krb5               conda-forge/linux-64::krb5-1.21.3-h659f571_0 \r\n",
      "  lark               conda-forge/noarch::lark-1.3.0-pyhd8ed1ab_0 \r\n",
      "  lcms2              conda-forge/linux-64::lcms2-2.17-h717163a_0 \r\n",
      "  ld_impl_linux-64   conda-forge/linux-64::ld_impl_linux-64-2.44-ha97dd6f_2 \r\n",
      "  lerc               conda-forge/linux-64::lerc-4.0.0-h0aef613_1 \r\n",
      "  libabseil          conda-forge/linux-64::libabseil-20250512.1-cxx17_hba17884_0 \r\n",
      "  libaec             conda-forge/linux-64::libaec-1.1.4-h3f801dc_0 \r\n",
      "  libarrow           conda-forge/linux-64::libarrow-21.0.0-h73424eb_6_cpu \r\n",
      "  libarrow-acero     conda-forge/linux-64::libarrow-acero-21.0.0-h635bf11_6_cpu \r\n",
      "  libarrow-compute   conda-forge/linux-64::libarrow-compute-21.0.0-h8c2c5c3_6_cpu \r\n",
      "  libarrow-dataset   conda-forge/linux-64::libarrow-dataset-21.0.0-h635bf11_6_cpu \r\n",
      "  libarrow-substrait conda-forge/linux-64::libarrow-substrait-21.0.0-h3f74fd7_6_cpu \r\n",
      "  libblas            conda-forge/linux-64::libblas-3.9.0-36_h4a7cf45_openblas \r\n",
      "  libbrotlicommon    conda-forge/linux-64::libbrotlicommon-1.1.0-hb03c661_4 \r\n",
      "  libbrotlidec       conda-forge/linux-64::libbrotlidec-1.1.0-hb03c661_4 \r\n",
      "  libbrotlienc       conda-forge/linux-64::libbrotlienc-1.1.0-hb03c661_4 \r\n",
      "  libcblas           conda-forge/linux-64::libcblas-3.9.0-36_h0358290_openblas \r\n",
      "  libclang-cpp21.1   conda-forge/linux-64::libclang-cpp21.1-21.1.2-default_h99862b1_0 \r\n",
      "  libclang13         conda-forge/linux-64::libclang13-21.1.2-default_h746c552_0 \r\n",
      "  libcrc32c          conda-forge/linux-64::libcrc32c-1.1.2-h9c3ff4c_0 \r\n",
      "  libcups            conda-forge/linux-64::libcups-2.3.3-hb8b1518_5 \r\n",
      "  libcurl            conda-forge/linux-64::libcurl-8.14.1-h332b0f4_0 \r\n",
      "  libdeflate         conda-forge/linux-64::libdeflate-1.24-h86f0d12_0 \r\n",
      "  libdrm             conda-forge/linux-64::libdrm-2.4.125-hb03c661_1 \r\n",
      "  libedit            conda-forge/linux-64::libedit-3.1.20250104-pl5321h7949ede_0 \r\n",
      "  libegl             conda-forge/linux-64::libegl-1.7.0-ha4b6fd6_2 \r\n",
      "  libev              conda-forge/linux-64::libev-4.33-hd590300_2 \r\n",
      "  libevent           conda-forge/linux-64::libevent-2.1.12-hf998b51_1 \r\n",
      "  libexpat           conda-forge/linux-64::libexpat-2.7.1-hecca717_0 \r\n",
      "  libffi             conda-forge/linux-64::libffi-3.4.6-h2dba641_1 \r\n",
      "  libfreetype        conda-forge/linux-64::libfreetype-2.14.1-ha770c72_0 \r\n",
      "  libfreetype6       conda-forge/linux-64::libfreetype6-2.14.1-h73754d4_0 \r\n",
      "  libgcc             conda-forge/linux-64::libgcc-15.1.0-h767d61c_5 \r\n",
      "  libgcc-ng          conda-forge/linux-64::libgcc-ng-15.1.0-h69a702a_5 \r\n",
      "  libgfortran        conda-forge/linux-64::libgfortran-15.1.0-h69a702a_5 \r\n",
      "  libgfortran5       conda-forge/linux-64::libgfortran5-15.1.0-hcea5267_5 \r\n",
      "  libgl              conda-forge/linux-64::libgl-1.7.0-ha4b6fd6_2 \r\n",
      "  libglib            conda-forge/linux-64::libglib-2.86.0-h1fed272_0 \r\n",
      "  libglvnd           conda-forge/linux-64::libglvnd-1.7.0-ha4b6fd6_2 \r\n",
      "  libglx             conda-forge/linux-64::libglx-1.7.0-ha4b6fd6_2 \r\n",
      "  libgomp            conda-forge/linux-64::libgomp-15.1.0-h767d61c_5 \r\n",
      "  libgoogle-cloud    conda-forge/linux-64::libgoogle-cloud-2.39.0-hdb79228_0 \r\n",
      "  libgoogle-cloud-s~ conda-forge/linux-64::libgoogle-cloud-storage-2.39.0-hdbdcf42_0 \r\n",
      "  libgrpc            conda-forge/linux-64::libgrpc-1.73.1-h1e535eb_0 \r\n",
      "  libiconv           conda-forge/linux-64::libiconv-1.18-h3b78370_2 \r\n",
      "  libjpeg-turbo      conda-forge/linux-64::libjpeg-turbo-3.1.0-hb9d3cd8_0 \r\n",
      "  liblapack          conda-forge/linux-64::liblapack-3.9.0-36_h47877c9_openblas \r\n",
      "  libllvm21          conda-forge/linux-64::libllvm21-21.1.2-hf7376ad_0 \r\n",
      "  liblzma            conda-forge/linux-64::liblzma-5.8.1-hb9d3cd8_2 \r\n",
      "  libnghttp2         conda-forge/linux-64::libnghttp2-1.67.0-had1ee68_0 \r\n",
      "  libnsl             conda-forge/linux-64::libnsl-2.0.1-hb9d3cd8_1 \r\n",
      "  libntlm            conda-forge/linux-64::libntlm-1.8-hb9d3cd8_0 \r\n",
      "  libopenblas        conda-forge/linux-64::libopenblas-0.3.30-pthreads_h94d23a6_2 \r\n",
      "  libopengl          conda-forge/linux-64::libopengl-1.7.0-ha4b6fd6_2 \r\n",
      "  libopentelemetry-~ conda-forge/linux-64::libopentelemetry-cpp-1.21.0-hb9b0907_1 \r\n",
      "  libopentelemetry-~ conda-forge/linux-64::libopentelemetry-cpp-headers-1.21.0-ha770c72_1 \r\n",
      "  libparquet         conda-forge/linux-64::libparquet-21.0.0-h790f06f_6_cpu \r\n",
      "  libpciaccess       conda-forge/linux-64::libpciaccess-0.18-hb9d3cd8_0 \r\n",
      "  libpng             conda-forge/linux-64::libpng-1.6.50-h421ea60_1 \r\n",
      "  libpq              conda-forge/linux-64::libpq-18.0-h3675c94_0 \r\n",
      "  libprotobuf        conda-forge/linux-64::libprotobuf-6.31.1-h9ef548d_1 \r\n",
      "  libre2-11          conda-forge/linux-64::libre2-11-2025.08.12-h7b12aa8_1 \r\n",
      "  libsodium          conda-forge/linux-64::libsodium-1.0.20-h4ab18f5_0 \r\n",
      "  libsqlite          conda-forge/linux-64::libsqlite-3.50.4-h0c1763c_0 \r\n",
      "  libssh2            conda-forge/linux-64::libssh2-1.11.1-hcf80075_0 \r\n",
      "  libstdcxx          conda-forge/linux-64::libstdcxx-15.1.0-h8f9b012_5 \r\n",
      "  libstdcxx-ng       conda-forge/linux-64::libstdcxx-ng-15.1.0-h4852527_5 \r\n",
      "  libthrift          conda-forge/linux-64::libthrift-0.22.0-h454ac66_1 \r\n",
      "  libtiff            conda-forge/linux-64::libtiff-4.7.1-h8261f1e_0 \r\n",
      "  libutf8proc        conda-forge/linux-64::libutf8proc-2.11.0-hb04c3b8_0 \r\n",
      "  libuuid            conda-forge/linux-64::libuuid-2.41.2-he9a06e4_0 \r\n",
      "  libvulkan-loader   conda-forge/linux-64::libvulkan-loader-1.4.313.0-h5279c79_1 \r\n",
      "  libwebp-base       conda-forge/linux-64::libwebp-base-1.6.0-hd42ef1d_0 \r\n",
      "  libxcb             conda-forge/linux-64::libxcb-1.17.0-h8a09558_0 \r\n",
      "  libxcrypt          conda-forge/linux-64::libxcrypt-4.4.36-hd590300_1 \r\n",
      "  libxkbcommon       conda-forge/linux-64::libxkbcommon-1.11.0-hca5e8e5_1 \r\n",
      "  libxml2            conda-forge/linux-64::libxml2-2.15.0-h26afc86_1 \r\n",
      "  libxml2-16         conda-forge/linux-64::libxml2-16-2.15.0-ha9997c6_1 \r\n",
      "  libxslt            conda-forge/linux-64::libxslt-1.1.43-h711ed8c_1 \r\n",
      "  libzlib            conda-forge/linux-64::libzlib-1.3.1-hb9d3cd8_2 \r\n",
      "  locket             conda-forge/noarch::locket-1.0.0-pyhd8ed1ab_0 \r\n",
      "  lz4-c              conda-forge/linux-64::lz4-c-1.10.0-h5888daf_1 \r\n",
      "  markupsafe         conda-forge/linux-64::markupsafe-3.0.3-py311h3778330_0 \r\n",
      "  matplotlib         conda-forge/linux-64::matplotlib-3.10.6-py311h38be061_1 \r\n",
      "  matplotlib-base    conda-forge/linux-64::matplotlib-base-3.10.6-py311h0f3be63_1 \r\n",
      "  matplotlib-inline  conda-forge/noarch::matplotlib-inline-0.1.7-pyhd8ed1ab_1 \r\n",
      "  mistune            conda-forge/noarch::mistune-3.1.4-pyhcf101f3_0 \r\n",
      "  more-itertools     conda-forge/noarch::more-itertools-10.8.0-pyhd8ed1ab_0 \r\n",
      "  mpmath             conda-forge/noarch::mpmath-1.3.0-pyhd8ed1ab_1 \r\n",
      "  multidict          conda-forge/linux-64::multidict-6.6.3-py311h2dc5d0c_0 \r\n",
      "  munkres            conda-forge/noarch::munkres-1.1.4-pyhd8ed1ab_1 \r\n",
      "  nbclient           conda-forge/noarch::nbclient-0.10.2-pyhd8ed1ab_0 \r\n",
      "  nbconvert-core     conda-forge/noarch::nbconvert-core-7.16.6-pyh29332c3_0 \r\n",
      "  nbformat           conda-forge/noarch::nbformat-5.10.4-pyhd8ed1ab_1 \r\n",
      "  ncurses            conda-forge/linux-64::ncurses-6.5-h2d0b736_3 \r\n",
      "  nest-asyncio       conda-forge/noarch::nest-asyncio-1.6.0-pyhd8ed1ab_1 \r\n",
      "  nlohmann_json      conda-forge/linux-64::nlohmann_json-3.12.0-h54a6638_1 \r\n",
      "  notebook           conda-forge/noarch::notebook-7.4.7-pyhd8ed1ab_0 \r\n",
      "  notebook-shim      conda-forge/noarch::notebook-shim-0.2.4-pyhd8ed1ab_1 \r\n",
      "  numpy              conda-forge/linux-64::numpy-2.3.3-py311h2e04523_0 \r\n",
      "  openjpeg           conda-forge/linux-64::openjpeg-2.5.4-h55fea9a_0 \r\n",
      "  openldap           conda-forge/linux-64::openldap-2.6.10-he970967_0 \r\n",
      "  openssl            conda-forge/linux-64::openssl-3.5.4-h26f9b46_0 \r\n",
      "  orc                conda-forge/linux-64::orc-2.2.0-h1bc01a4_0 \r\n",
      "  overrides          conda-forge/noarch::overrides-7.7.0-pyhd8ed1ab_1 \r\n",
      "  packaging          conda-forge/noarch::packaging-25.0-pyh29332c3_1 \r\n",
      "  pandas             conda-forge/linux-64::pandas-2.3.3-py311hed34c8f_1 \r\n",
      "  pandocfilters      conda-forge/noarch::pandocfilters-1.5.0-pyhd8ed1ab_0 \r\n",
      "  parso              conda-forge/noarch::parso-0.8.5-pyhcf101f3_0 \r\n",
      "  partd              conda-forge/noarch::partd-1.4.2-pyhd8ed1ab_0 \r\n",
      "  pcre2              conda-forge/linux-64::pcre2-10.46-h1321c63_0 \r\n",
      "  pexpect            conda-forge/noarch::pexpect-4.9.0-pyhd8ed1ab_1 \r\n",
      "  pickleshare        conda-forge/noarch::pickleshare-0.7.5-pyhd8ed1ab_1004 \r\n",
      "  pillow             conda-forge/linux-64::pillow-11.3.0-py311h98278a2_3 \r\n",
      "  pip                conda-forge/noarch::pip-25.2-pyh8b19718_0 \r\n",
      "  pixman             conda-forge/linux-64::pixman-0.46.4-h54a6638_1 \r\n",
      "  platformdirs       conda-forge/noarch::platformdirs-4.4.0-pyhcf101f3_0 \r\n",
      "  prometheus-cpp     conda-forge/linux-64::prometheus-cpp-1.3.0-ha5d0236_0 \r\n",
      "  prometheus_client  conda-forge/noarch::prometheus_client-0.23.1-pyhd8ed1ab_0 \r\n",
      "  prompt-toolkit     conda-forge/noarch::prompt-toolkit-3.0.52-pyha770c72_0 \r\n",
      "  propcache          conda-forge/linux-64::propcache-0.3.1-py311h2dc5d0c_0 \r\n",
      "  psutil             conda-forge/linux-64::psutil-7.1.0-py311h49ec1c0_0 \r\n",
      "  pthread-stubs      conda-forge/linux-64::pthread-stubs-0.4-hb9d3cd8_1002 \r\n",
      "  ptyprocess         conda-forge/noarch::ptyprocess-0.7.0-pyhd8ed1ab_1 \r\n",
      "  pure_eval          conda-forge/noarch::pure_eval-0.2.3-pyhd8ed1ab_1 \r\n",
      "  py2vega            conda-forge/noarch::py2vega-0.6.1-pyhd8ed1ab_0 \r\n",
      "  pyarrow            conda-forge/linux-64::pyarrow-21.0.0-py311h38be061_0 \r\n",
      "  pyarrow-core       conda-forge/linux-64::pyarrow-core-21.0.0-py311h342b5a4_0_cpu \r\n",
      "  pycparser          conda-forge/noarch::pycparser-2.22-pyh29332c3_1 \r\n",
      "  pyerfa             conda-forge/linux-64::pyerfa-2.0.1.5-py310h32771cd_2 \r\n",
      "  pygments           conda-forge/noarch::pygments-2.19.2-pyhd8ed1ab_0 \r\n",
      "  pyparsing          conda-forge/noarch::pyparsing-3.2.5-pyhcf101f3_0 \r\n",
      "  pyside6            conda-forge/linux-64::pyside6-6.9.2-py311he4c1a5a_2 \r\n",
      "  pysocks            conda-forge/noarch::pysocks-1.7.1-pyha55dd90_7 \r\n",
      "  python             conda-forge/linux-64::python-3.11.13-h9e4cc4f_0_cpython \r\n",
      "  python-dateutil    conda-forge/noarch::python-dateutil-2.9.0.post0-pyhe01879c_2 \r\n",
      "  python-fastjsonsc~ conda-forge/noarch::python-fastjsonschema-2.21.2-pyhe01879c_0 \r\n",
      "  python-json-logger conda-forge/noarch::python-json-logger-2.0.7-pyhd8ed1ab_0 \r\n",
      "  python-tzdata      conda-forge/noarch::python-tzdata-2025.2-pyhd8ed1ab_0 \r\n",
      "  python_abi         conda-forge/noarch::python_abi-3.11-8_cp311 \r\n",
      "  pytz               conda-forge/noarch::pytz-2025.2-pyhd8ed1ab_0 \r\n",
      "  pyvo               conda-forge/noarch::pyvo-1.7-pyhd8ed1ab_0 \r\n",
      "  pyyaml             conda-forge/linux-64::pyyaml-6.0.3-py311h3778330_0 \r\n",
      "  pyzmq              conda-forge/linux-64::pyzmq-27.1.0-py311h2315fbb_0 \r\n",
      "  qhull              conda-forge/linux-64::qhull-2020.2-h434a139_5 \r\n",
      "  qt6-main           conda-forge/linux-64::qt6-main-6.9.2-h5c1c036_3 \r\n",
      "  re2                conda-forge/linux-64::re2-2025.08.12-h5301d42_1 \r\n",
      "  readline           conda-forge/linux-64::readline-8.2-h8c095d6_2 \r\n",
      "  referencing        conda-forge/noarch::referencing-0.36.2-pyh29332c3_0 \r\n",
      "  requests           conda-forge/noarch::requests-2.32.5-pyhd8ed1ab_0 \r\n",
      "  rfc3339-validator  conda-forge/noarch::rfc3339-validator-0.1.4-pyhd8ed1ab_1 \r\n",
      "  rfc3986-validator  conda-forge/noarch::rfc3986-validator-0.1.1-pyh9f0ad1d_0 \r\n",
      "  rfc3987-syntax     conda-forge/noarch::rfc3987-syntax-1.1.0-pyhe01879c_1 \r\n",
      "  rpds-py            conda-forge/linux-64::rpds-py-0.27.1-py311h902ca64_1 \r\n",
      "  s2n                conda-forge/linux-64::s2n-1.5.26-h5ac9029_0 \r\n",
      "  s3fs               conda-forge/noarch::s3fs-2025.9.0-pyhd8ed1ab_0 \r\n",
      "  scipy              conda-forge/linux-64::scipy-1.16.2-py311h1e13796_0 \r\n",
      "  secretstorage      conda-forge/linux-64::secretstorage-3.4.0-py311h38be061_0 \r\n",
      "  send2trash         conda-forge/noarch::send2trash-1.8.3-pyh0d859eb_1 \r\n",
      "  setuptools         conda-forge/noarch::setuptools-80.9.0-pyhff2d567_0 \r\n",
      "  six                conda-forge/noarch::six-1.17.0-pyhe01879c_1 \r\n",
      "  snappy             conda-forge/linux-64::snappy-1.2.2-h03e3b7b_0 \r\n",
      "  sniffio            conda-forge/noarch::sniffio-1.3.1-pyhd8ed1ab_1 \r\n",
      "  sortedcontainers   conda-forge/noarch::sortedcontainers-2.4.0-pyhd8ed1ab_1 \r\n",
      "  soupsieve          conda-forge/noarch::soupsieve-2.8-pyhd8ed1ab_0 \r\n",
      "  stack_data         conda-forge/noarch::stack_data-0.6.3-pyhd8ed1ab_1 \r\n",
      "  terminado          conda-forge/noarch::terminado-0.18.1-pyh0d859eb_0 \r\n",
      "  tinycss2           conda-forge/noarch::tinycss2-1.4.0-pyhd8ed1ab_0 \r\n",
      "  tk                 conda-forge/linux-64::tk-8.6.13-noxft_hd72426e_102 \r\n",
      "  tomli              conda-forge/noarch::tomli-2.2.1-pyhe01879c_2 \r\n",
      "  toolz              conda-forge/noarch::toolz-1.0.0-pyhd8ed1ab_1 \r\n",
      "  tornado            conda-forge/linux-64::tornado-6.5.2-py311h49ec1c0_1 \r\n",
      "  traitlets          conda-forge/noarch::traitlets-5.14.3-pyhd8ed1ab_1 \r\n",
      "  traittypes         conda-forge/noarch::traittypes-0.2.1-pyh9f0ad1d_2 \r\n",
      "  types-python-date~ conda-forge/noarch::types-python-dateutil-2.9.0.20250822-pyhd8ed1ab_0 \r\n",
      "  typing-extensions  conda-forge/noarch::typing-extensions-4.15.0-h396c80c_0 \r\n",
      "  typing_extensions  conda-forge/noarch::typing_extensions-4.15.0-pyhcf101f3_0 \r\n",
      "  typing_utils       conda-forge/noarch::typing_utils-0.1.0-pyhd8ed1ab_1 \r\n",
      "  tzdata             conda-forge/noarch::tzdata-2025b-h78e105d_0 \r\n",
      "  uncompresspy       conda-forge/noarch::uncompresspy-0.4.0-pyhd8ed1ab_0 \r\n",
      "  unicodedata2       conda-forge/linux-64::unicodedata2-16.0.0-py311h49ec1c0_1 \r\n",
      "  uri-template       conda-forge/noarch::uri-template-1.3.0-pyhd8ed1ab_1 \r\n",
      "  urllib3            conda-forge/noarch::urllib3-2.5.0-pyhd8ed1ab_0 \r\n",
      "  wayland            conda-forge/linux-64::wayland-1.24.0-h3e06ad9_0 \r\n",
      "  wcwidth            conda-forge/noarch::wcwidth-0.2.14-pyhd8ed1ab_0 \r\n",
      "  webcolors          conda-forge/noarch::webcolors-24.11.1-pyhd8ed1ab_0 \r\n",
      "  webencodings       conda-forge/noarch::webencodings-0.5.1-pyhd8ed1ab_3 \r\n",
      "  websocket-client   conda-forge/noarch::websocket-client-1.8.0-pyhd8ed1ab_1 \r\n",
      "  wheel              conda-forge/noarch::wheel-0.45.1-pyhd8ed1ab_1 \r\n",
      "  widgetsnbextension conda-forge/noarch::widgetsnbextension-4.0.14-pyhd8ed1ab_0 \r\n",
      "  wrapt              conda-forge/linux-64::wrapt-1.17.3-py311h49ec1c0_1 \r\n",
      "  xcb-util           conda-forge/linux-64::xcb-util-0.4.1-h4f16b4b_2 \r\n",
      "  xcb-util-cursor    conda-forge/linux-64::xcb-util-cursor-0.1.5-hb9d3cd8_0 \r\n",
      "  xcb-util-image     conda-forge/linux-64::xcb-util-image-0.4.0-hb711507_2 \r\n",
      "  xcb-util-keysyms   conda-forge/linux-64::xcb-util-keysyms-0.4.1-hb711507_0 \r\n",
      "  xcb-util-renderut~ conda-forge/linux-64::xcb-util-renderutil-0.3.10-hb711507_0 \r\n",
      "  xcb-util-wm        conda-forge/linux-64::xcb-util-wm-0.4.2-hb711507_0 \r\n",
      "  xkeyboard-config   conda-forge/linux-64::xkeyboard-config-2.45-hb9d3cd8_0 \r\n",
      "  xorg-libice        conda-forge/linux-64::xorg-libice-1.1.2-hb9d3cd8_0 \r\n",
      "  xorg-libsm         conda-forge/linux-64::xorg-libsm-1.2.6-he73a12e_0 \r\n",
      "  xorg-libx11        conda-forge/linux-64::xorg-libx11-1.8.12-h4f16b4b_0 \r\n",
      "  xorg-libxau        conda-forge/linux-64::xorg-libxau-1.0.12-hb9d3cd8_0 \r\n",
      "  xorg-libxcomposite conda-forge/linux-64::xorg-libxcomposite-0.4.6-hb9d3cd8_2 \r\n",
      "  xorg-libxcursor    conda-forge/linux-64::xorg-libxcursor-1.2.3-hb9d3cd8_0 \r\n",
      "  xorg-libxdamage    conda-forge/linux-64::xorg-libxdamage-1.1.6-hb9d3cd8_0 \r\n",
      "  xorg-libxdmcp      conda-forge/linux-64::xorg-libxdmcp-1.1.5-hb9d3cd8_0 \r\n",
      "  xorg-libxext       conda-forge/linux-64::xorg-libxext-1.3.6-hb9d3cd8_0 \r\n",
      "  xorg-libxfixes     conda-forge/linux-64::xorg-libxfixes-6.0.2-hb03c661_0 \r\n",
      "  xorg-libxi         conda-forge/linux-64::xorg-libxi-1.8.2-hb9d3cd8_0 \r\n",
      "  xorg-libxrandr     conda-forge/linux-64::xorg-libxrandr-1.5.4-hb9d3cd8_0 \r\n",
      "  xorg-libxrender    conda-forge/linux-64::xorg-libxrender-0.9.12-hb9d3cd8_0 \r\n",
      "  xorg-libxtst       conda-forge/linux-64::xorg-libxtst-1.2.5-hb9d3cd8_3 \r\n",
      "  xorg-libxxf86vm    conda-forge/linux-64::xorg-libxxf86vm-1.1.6-hb9d3cd8_0 \r\n",
      "  yaml               conda-forge/linux-64::yaml-0.2.5-h280c20c_3 \r\n",
      "  yarl               conda-forge/linux-64::yarl-1.20.1-py311h2dc5d0c_0 \r\n",
      "  zeromq             conda-forge/linux-64::zeromq-4.3.5-h387f397_9 \r\n",
      "  zipp               conda-forge/noarch::zipp-3.23.0-pyhd8ed1ab_0 \r\n",
      "  zlib               conda-forge/linux-64::zlib-1.3.1-hb9d3cd8_2 \r\n",
      "  zstandard          conda-forge/linux-64::zstandard-0.25.0-py311haee01d2_0 \r\n",
      "  zstd               conda-forge/linux-64::zstd-1.5.7-hb8e6e7a_2 \r\n",
      "\r\n",
      "\r\n",
      "Proceed ([y]/n)? \r\n",
      "\r\n",
      "Downloading and Extracting Packages:\r\n",
      "\r",
      "\r\n",
      "Preparing transaction: - "
     ]
    },
    {
     "name": "stdout",
     "output_type": "stream",
     "text": [
      "\b\b\\ "
     ]
    },
    {
     "name": "stdout",
     "output_type": "stream",
     "text": [
      "\b\b| "
     ]
    },
    {
     "name": "stdout",
     "output_type": "stream",
     "text": [
      "\b\b/ "
     ]
    },
    {
     "name": "stdout",
     "output_type": "stream",
     "text": [
      "\b\b- "
     ]
    },
    {
     "name": "stdout",
     "output_type": "stream",
     "text": [
      "\b\b\\ "
     ]
    },
    {
     "name": "stdout",
     "output_type": "stream",
     "text": [
      "\b\b| "
     ]
    },
    {
     "name": "stdout",
     "output_type": "stream",
     "text": [
      "\b\b/ "
     ]
    },
    {
     "name": "stdout",
     "output_type": "stream",
     "text": [
      "\b\b- "
     ]
    },
    {
     "name": "stdout",
     "output_type": "stream",
     "text": [
      "\b\b\\ "
     ]
    },
    {
     "name": "stdout",
     "output_type": "stream",
     "text": [
      "\b\bdone\r\n",
      "Verifying transaction: / "
     ]
    },
    {
     "name": "stdout",
     "output_type": "stream",
     "text": [
      "\b\b- "
     ]
    },
    {
     "name": "stdout",
     "output_type": "stream",
     "text": [
      "\b\b\\ "
     ]
    },
    {
     "name": "stdout",
     "output_type": "stream",
     "text": [
      "\b\b| "
     ]
    },
    {
     "name": "stdout",
     "output_type": "stream",
     "text": [
      "\b\b/ "
     ]
    },
    {
     "name": "stdout",
     "output_type": "stream",
     "text": [
      "\b\b- "
     ]
    },
    {
     "name": "stdout",
     "output_type": "stream",
     "text": [
      "\b\b\\ "
     ]
    },
    {
     "name": "stdout",
     "output_type": "stream",
     "text": [
      "\b\b| "
     ]
    },
    {
     "name": "stdout",
     "output_type": "stream",
     "text": [
      "\b\b/ "
     ]
    },
    {
     "name": "stdout",
     "output_type": "stream",
     "text": [
      "\b\b- "
     ]
    },
    {
     "name": "stdout",
     "output_type": "stream",
     "text": [
      "\b\b\\ "
     ]
    },
    {
     "name": "stdout",
     "output_type": "stream",
     "text": [
      "\b\b| "
     ]
    },
    {
     "name": "stdout",
     "output_type": "stream",
     "text": [
      "\b\b/ "
     ]
    },
    {
     "name": "stdout",
     "output_type": "stream",
     "text": [
      "\b\b- "
     ]
    },
    {
     "name": "stdout",
     "output_type": "stream",
     "text": [
      "\b\b\\ "
     ]
    },
    {
     "name": "stdout",
     "output_type": "stream",
     "text": [
      "\b\b| "
     ]
    },
    {
     "name": "stdout",
     "output_type": "stream",
     "text": [
      "\b\b/ "
     ]
    },
    {
     "name": "stdout",
     "output_type": "stream",
     "text": [
      "\b\b- "
     ]
    },
    {
     "name": "stdout",
     "output_type": "stream",
     "text": [
      "\b\b\\ "
     ]
    },
    {
     "name": "stdout",
     "output_type": "stream",
     "text": [
      "\b\b| "
     ]
    },
    {
     "name": "stdout",
     "output_type": "stream",
     "text": [
      "\b\b/ "
     ]
    },
    {
     "name": "stdout",
     "output_type": "stream",
     "text": [
      "\b\b- "
     ]
    },
    {
     "name": "stdout",
     "output_type": "stream",
     "text": [
      "\b\b\\ "
     ]
    },
    {
     "name": "stdout",
     "output_type": "stream",
     "text": [
      "\b\b| "
     ]
    },
    {
     "name": "stdout",
     "output_type": "stream",
     "text": [
      "\b\b/ "
     ]
    },
    {
     "name": "stdout",
     "output_type": "stream",
     "text": [
      "\b\b- "
     ]
    },
    {
     "name": "stdout",
     "output_type": "stream",
     "text": [
      "\b\b\\ "
     ]
    },
    {
     "name": "stdout",
     "output_type": "stream",
     "text": [
      "\b\b| "
     ]
    },
    {
     "name": "stdout",
     "output_type": "stream",
     "text": [
      "\b\b/ "
     ]
    },
    {
     "name": "stdout",
     "output_type": "stream",
     "text": [
      "\b\b- "
     ]
    },
    {
     "name": "stdout",
     "output_type": "stream",
     "text": [
      "\b\b\\ "
     ]
    },
    {
     "name": "stdout",
     "output_type": "stream",
     "text": [
      "\b\b| "
     ]
    },
    {
     "name": "stdout",
     "output_type": "stream",
     "text": [
      "\b\b/ "
     ]
    },
    {
     "name": "stdout",
     "output_type": "stream",
     "text": [
      "\b\b- "
     ]
    },
    {
     "name": "stdout",
     "output_type": "stream",
     "text": [
      "\b\b\\ "
     ]
    },
    {
     "name": "stdout",
     "output_type": "stream",
     "text": [
      "\b\b| "
     ]
    },
    {
     "name": "stdout",
     "output_type": "stream",
     "text": [
      "\b\b/ "
     ]
    },
    {
     "name": "stdout",
     "output_type": "stream",
     "text": [
      "\b\b- "
     ]
    },
    {
     "name": "stdout",
     "output_type": "stream",
     "text": [
      "\b\b\\ "
     ]
    },
    {
     "name": "stdout",
     "output_type": "stream",
     "text": [
      "\b\bdone\r\n"
     ]
    },
    {
     "name": "stdout",
     "output_type": "stream",
     "text": [
      "Executing transaction: / "
     ]
    },
    {
     "name": "stdout",
     "output_type": "stream",
     "text": [
      "\b\b- "
     ]
    },
    {
     "name": "stdout",
     "output_type": "stream",
     "text": [
      "\b\b\\ "
     ]
    },
    {
     "name": "stdout",
     "output_type": "stream",
     "text": [
      "\b\b| "
     ]
    },
    {
     "name": "stdout",
     "output_type": "stream",
     "text": [
      "\b\b/ "
     ]
    },
    {
     "name": "stdout",
     "output_type": "stream",
     "text": [
      "\b\b- "
     ]
    },
    {
     "name": "stdout",
     "output_type": "stream",
     "text": [
      "\b\b\\ "
     ]
    },
    {
     "name": "stdout",
     "output_type": "stream",
     "text": [
      "\b\b| "
     ]
    },
    {
     "name": "stdout",
     "output_type": "stream",
     "text": [
      "\b\b/ "
     ]
    },
    {
     "name": "stdout",
     "output_type": "stream",
     "text": [
      "\b\b- "
     ]
    },
    {
     "name": "stdout",
     "output_type": "stream",
     "text": [
      "\b\b\\ "
     ]
    },
    {
     "name": "stdout",
     "output_type": "stream",
     "text": [
      "\b\b| "
     ]
    },
    {
     "name": "stdout",
     "output_type": "stream",
     "text": [
      "\b\b/ "
     ]
    },
    {
     "name": "stdout",
     "output_type": "stream",
     "text": [
      "\b\b- "
     ]
    },
    {
     "name": "stdout",
     "output_type": "stream",
     "text": [
      "\b\b\\ "
     ]
    },
    {
     "name": "stdout",
     "output_type": "stream",
     "text": [
      "\b\b| "
     ]
    },
    {
     "name": "stdout",
     "output_type": "stream",
     "text": [
      "\b\b/ "
     ]
    },
    {
     "name": "stdout",
     "output_type": "stream",
     "text": [
      "\b\b- "
     ]
    },
    {
     "name": "stdout",
     "output_type": "stream",
     "text": [
      "\b\b\\ "
     ]
    },
    {
     "name": "stdout",
     "output_type": "stream",
     "text": [
      "\b\b| "
     ]
    },
    {
     "name": "stdout",
     "output_type": "stream",
     "text": [
      "\b\b/ "
     ]
    },
    {
     "name": "stdout",
     "output_type": "stream",
     "text": [
      "\b\b- "
     ]
    },
    {
     "name": "stdout",
     "output_type": "stream",
     "text": [
      "\b\b\\ "
     ]
    },
    {
     "name": "stdout",
     "output_type": "stream",
     "text": [
      "\b\b| "
     ]
    },
    {
     "name": "stdout",
     "output_type": "stream",
     "text": [
      "\b\b/ "
     ]
    },
    {
     "name": "stdout",
     "output_type": "stream",
     "text": [
      "\b\b- "
     ]
    },
    {
     "name": "stdout",
     "output_type": "stream",
     "text": [
      "\b\b\\ "
     ]
    },
    {
     "name": "stdout",
     "output_type": "stream",
     "text": [
      "\b\b| "
     ]
    },
    {
     "name": "stdout",
     "output_type": "stream",
     "text": [
      "\b\b/ "
     ]
    },
    {
     "name": "stdout",
     "output_type": "stream",
     "text": [
      "\b\b- "
     ]
    },
    {
     "name": "stdout",
     "output_type": "stream",
     "text": [
      "\b\b\\ "
     ]
    },
    {
     "name": "stdout",
     "output_type": "stream",
     "text": [
      "\b\b| "
     ]
    },
    {
     "name": "stdout",
     "output_type": "stream",
     "text": [
      "\b\b/ "
     ]
    },
    {
     "name": "stdout",
     "output_type": "stream",
     "text": [
      "\b\b- "
     ]
    },
    {
     "name": "stdout",
     "output_type": "stream",
     "text": [
      "\b\b\\ "
     ]
    },
    {
     "name": "stdout",
     "output_type": "stream",
     "text": [
      "\b\b| "
     ]
    },
    {
     "name": "stdout",
     "output_type": "stream",
     "text": [
      "\b\b/ "
     ]
    },
    {
     "name": "stdout",
     "output_type": "stream",
     "text": [
      "\b\b- "
     ]
    },
    {
     "name": "stdout",
     "output_type": "stream",
     "text": [
      "\b\b\\ "
     ]
    },
    {
     "name": "stdout",
     "output_type": "stream",
     "text": [
      "\b\b| "
     ]
    },
    {
     "name": "stdout",
     "output_type": "stream",
     "text": [
      "\b\b/ "
     ]
    },
    {
     "name": "stdout",
     "output_type": "stream",
     "text": [
      "\b\b- "
     ]
    },
    {
     "name": "stdout",
     "output_type": "stream",
     "text": [
      "\b\b\\ "
     ]
    },
    {
     "name": "stdout",
     "output_type": "stream",
     "text": [
      "\b\b| "
     ]
    },
    {
     "name": "stdout",
     "output_type": "stream",
     "text": [
      "\b\b/ "
     ]
    },
    {
     "name": "stdout",
     "output_type": "stream",
     "text": [
      "\b\b- "
     ]
    },
    {
     "name": "stdout",
     "output_type": "stream",
     "text": [
      "\b\b\\ "
     ]
    },
    {
     "name": "stdout",
     "output_type": "stream",
     "text": [
      "\b\b| "
     ]
    },
    {
     "name": "stdout",
     "output_type": "stream",
     "text": [
      "\b\b/ "
     ]
    },
    {
     "name": "stdout",
     "output_type": "stream",
     "text": [
      "\b\b- "
     ]
    },
    {
     "name": "stdout",
     "output_type": "stream",
     "text": [
      "\b\b\\ "
     ]
    },
    {
     "name": "stdout",
     "output_type": "stream",
     "text": [
      "\b\b| "
     ]
    },
    {
     "name": "stdout",
     "output_type": "stream",
     "text": [
      "\b\b/ "
     ]
    },
    {
     "name": "stdout",
     "output_type": "stream",
     "text": [
      "\b\b- "
     ]
    },
    {
     "name": "stdout",
     "output_type": "stream",
     "text": [
      "\b\b\\ "
     ]
    },
    {
     "name": "stdout",
     "output_type": "stream",
     "text": [
      "\b\b| "
     ]
    },
    {
     "name": "stdout",
     "output_type": "stream",
     "text": [
      "\b\b/ "
     ]
    },
    {
     "name": "stdout",
     "output_type": "stream",
     "text": [
      "\b\b- "
     ]
    },
    {
     "name": "stdout",
     "output_type": "stream",
     "text": [
      "\b\b\\ "
     ]
    },
    {
     "name": "stdout",
     "output_type": "stream",
     "text": [
      "\b\b| "
     ]
    },
    {
     "name": "stdout",
     "output_type": "stream",
     "text": [
      "\b\b/ "
     ]
    },
    {
     "name": "stdout",
     "output_type": "stream",
     "text": [
      "\b\b- "
     ]
    },
    {
     "name": "stdout",
     "output_type": "stream",
     "text": [
      "\b\b\\ "
     ]
    },
    {
     "name": "stdout",
     "output_type": "stream",
     "text": [
      "\b\b| "
     ]
    },
    {
     "name": "stdout",
     "output_type": "stream",
     "text": [
      "\b\b/ "
     ]
    },
    {
     "name": "stdout",
     "output_type": "stream",
     "text": [
      "\b\b- "
     ]
    },
    {
     "name": "stdout",
     "output_type": "stream",
     "text": [
      "\b\b\\ "
     ]
    },
    {
     "name": "stdout",
     "output_type": "stream",
     "text": [
      "\b\b| "
     ]
    },
    {
     "name": "stdout",
     "output_type": "stream",
     "text": [
      "\b\b/ "
     ]
    },
    {
     "name": "stdout",
     "output_type": "stream",
     "text": [
      "\b\b- "
     ]
    },
    {
     "name": "stdout",
     "output_type": "stream",
     "text": [
      "\b\b\\ "
     ]
    },
    {
     "name": "stdout",
     "output_type": "stream",
     "text": [
      "\b\b| "
     ]
    },
    {
     "name": "stdout",
     "output_type": "stream",
     "text": [
      "\b\b/ "
     ]
    },
    {
     "name": "stdout",
     "output_type": "stream",
     "text": [
      "\b\b- "
     ]
    },
    {
     "name": "stdout",
     "output_type": "stream",
     "text": [
      "\b\b\\ "
     ]
    },
    {
     "name": "stdout",
     "output_type": "stream",
     "text": [
      "\b\b| "
     ]
    },
    {
     "name": "stdout",
     "output_type": "stream",
     "text": [
      "\b\b/ "
     ]
    },
    {
     "name": "stdout",
     "output_type": "stream",
     "text": [
      "\b\b- "
     ]
    },
    {
     "name": "stdout",
     "output_type": "stream",
     "text": [
      "\b\b\\ "
     ]
    },
    {
     "name": "stdout",
     "output_type": "stream",
     "text": [
      "\b\b| "
     ]
    },
    {
     "name": "stdout",
     "output_type": "stream",
     "text": [
      "\b\b/ "
     ]
    },
    {
     "name": "stdout",
     "output_type": "stream",
     "text": [
      "\b\b- "
     ]
    },
    {
     "name": "stdout",
     "output_type": "stream",
     "text": [
      "\b\b\\ "
     ]
    },
    {
     "name": "stdout",
     "output_type": "stream",
     "text": [
      "\b\b| "
     ]
    },
    {
     "name": "stdout",
     "output_type": "stream",
     "text": [
      "\b\b/ "
     ]
    },
    {
     "name": "stdout",
     "output_type": "stream",
     "text": [
      "\b\b- "
     ]
    },
    {
     "name": "stdout",
     "output_type": "stream",
     "text": [
      "\b\b\\ "
     ]
    },
    {
     "name": "stdout",
     "output_type": "stream",
     "text": [
      "\b\b| "
     ]
    },
    {
     "name": "stdout",
     "output_type": "stream",
     "text": [
      "\b\b/ "
     ]
    },
    {
     "name": "stdout",
     "output_type": "stream",
     "text": [
      "\b\b- "
     ]
    },
    {
     "name": "stdout",
     "output_type": "stream",
     "text": [
      "\b\b\\ "
     ]
    },
    {
     "name": "stdout",
     "output_type": "stream",
     "text": [
      "\b\b| "
     ]
    },
    {
     "name": "stdout",
     "output_type": "stream",
     "text": [
      "\b\b/ "
     ]
    },
    {
     "name": "stdout",
     "output_type": "stream",
     "text": [
      "\b\b- "
     ]
    },
    {
     "name": "stdout",
     "output_type": "stream",
     "text": [
      "\b\b\\ "
     ]
    },
    {
     "name": "stdout",
     "output_type": "stream",
     "text": [
      "\b\b| "
     ]
    },
    {
     "name": "stdout",
     "output_type": "stream",
     "text": [
      "\b\b/ "
     ]
    },
    {
     "name": "stdout",
     "output_type": "stream",
     "text": [
      "\b\b- "
     ]
    },
    {
     "name": "stdout",
     "output_type": "stream",
     "text": [
      "\b\b\\ "
     ]
    },
    {
     "name": "stdout",
     "output_type": "stream",
     "text": [
      "\b\b| "
     ]
    },
    {
     "name": "stdout",
     "output_type": "stream",
     "text": [
      "\b\b/ "
     ]
    },
    {
     "name": "stdout",
     "output_type": "stream",
     "text": [
      "\b\b- "
     ]
    },
    {
     "name": "stdout",
     "output_type": "stream",
     "text": [
      "\b\b\\ "
     ]
    },
    {
     "name": "stdout",
     "output_type": "stream",
     "text": [
      "\b\b| "
     ]
    },
    {
     "name": "stdout",
     "output_type": "stream",
     "text": [
      "\b\b/ "
     ]
    },
    {
     "name": "stdout",
     "output_type": "stream",
     "text": [
      "\b\bdone\r\n"
     ]
    },
    {
     "name": "stdout",
     "output_type": "stream",
     "text": [
      "#\r\n",
      "# To activate this environment, use\r\n",
      "#\r\n",
      "#     $ conda activate hasp-env\r\n",
      "#\r\n",
      "# To deactivate an active environment, use\r\n",
      "#\r\n",
      "#     $ conda deactivate\r\n",
      "\r\n"
     ]
    },
    {
     "name": "stdout",
     "output_type": "stream",
     "text": [
      "yes: standard output: Broken pipe\r\n"
     ]
    }
   ],
   "source": [
    "!yes | conda create --name hasp-env python=3.11 notebook jupyterlab numpy astropy astroquery matplotlib"
   ]
  },
  {
   "cell_type": "markdown",
   "id": "db8a4820",
   "metadata": {},
   "source": [
    "We also downloaded some additional packages that we will need outside of the HASP script to analyze the data. Once we activate the `conda` environment, as seen below, we can download the HASP script and run it. Note that you should run this in a terminal rather than in the cell below. Depending on your shell and operating system settings, you may need to restart your Jupyter notebook application in order for your environment to be fully activated in your notebook."
   ]
  },
  {
   "cell_type": "code",
   "execution_count": 4,
   "id": "be54962c",
   "metadata": {
    "execution": {
     "iopub.execute_input": "2025-10-01T18:59:21.541459Z",
     "iopub.status.busy": "2025-10-01T18:59:21.541283Z",
     "iopub.status.idle": "2025-10-01T18:59:22.102557Z",
     "shell.execute_reply": "2025-10-01T18:59:22.101859Z"
    }
   },
   "outputs": [
    {
     "name": "stdout",
     "output_type": "stream",
     "text": [
      "\r\n",
      "CondaError: Run 'conda init' before 'conda activate'\r\n",
      "\r\n"
     ]
    }
   ],
   "source": [
    "!conda activate hasp-env"
   ]
  },
  {
   "cell_type": "markdown",
   "id": "3f1ec997",
   "metadata": {},
   "source": [
    "Now that we created and activated a `conda` environment, we can now begin to download the HASP code."
   ]
  },
  {
   "attachments": {},
   "cell_type": "markdown",
   "id": "095e154d",
   "metadata": {},
   "source": [
    "<a id = downloadcode></a>\n",
    "## 2. Downloading and Installing the HASP Script"
   ]
  },
  {
   "attachments": {},
   "cell_type": "markdown",
   "id": "c3ced7eb",
   "metadata": {},
   "source": [
    "We will download the HASP wrapper script from [the HASP Github repository](https://github.com/spacetelescope/hasp). Downloading this script will create a `hasp` directory, which will contain all of the required code. \n",
    "\n",
    "**You will only have to run **one** of the two options below, depending on your computer and Git settings.**\n",
    "\n",
    "#### Option A, using `pip`:\n",
    "\n",
    "`pip install` clones the reposoitory and install the packages according to the setup configuration of the repository. You may need to create a Personal Access Token (PAT) to use instead of your Github account's password, since support for password authentication was removed in 2021. You can learn how to create a PAT [here](https://docs.github.com/en/authentication/keeping-your-account-and-data-secure/creating-a-personal-access-token).\n",
    "\n",
    "```\n",
    "pip install git+https://github.com/spacetelescope/hasp.git\n",
    "```"
   ]
  },
  {
   "attachments": {},
   "cell_type": "markdown",
   "id": "f4e25e36",
   "metadata": {},
   "source": [
    "#### Option B, using `git clone`:\n",
    "\n",
    "While `git clone` still downloads the repository, it differs from `pip` in that it also downloads all of the history and files of the repository. If you have a password-protected SSH key, rather than a PAT, you can clone the repo by running the following code in your terminal. If you want to setup a SSH key, you can learn how to do so [here](https://docs.github.com/en/authentication/connecting-to-github-with-ssh/adding-a-new-ssh-key-to-your-github-account).\n",
    "\n",
    "```\n",
    "git clone git@github.com:spacetelescope/hasp.git\n",
    "```"
   ]
  },
  {
   "attachments": {},
   "cell_type": "markdown",
   "id": "0615ee7f",
   "metadata": {},
   "source": [
    "#### After you've downloaded the code using Options A or B, run the command below to download the script's dependencies:"
   ]
  },
  {
   "cell_type": "code",
   "execution_count": 5,
   "id": "c16e5246",
   "metadata": {
    "execution": {
     "iopub.execute_input": "2025-10-01T18:59:22.104658Z",
     "iopub.status.busy": "2025-10-01T18:59:22.104494Z",
     "iopub.status.idle": "2025-10-01T18:59:22.544830Z",
     "shell.execute_reply": "2025-10-01T18:59:22.544242Z"
    }
   },
   "outputs": [
    {
     "name": "stdout",
     "output_type": "stream",
     "text": [
      "\u001b[31mERROR: Invalid requirement: './hasp/.': Expected package name at the start of dependency specifier\r\n",
      "    ./hasp/.\r\n",
      "    ^\r\n",
      "Hint: It looks like a path. File './hasp/.' does not exist.\u001b[0m\u001b[31m\r\n",
      "\u001b[0m"
     ]
    }
   ],
   "source": [
    "!pip install ./hasp/."
   ]
  },
  {
   "attachments": {},
   "cell_type": "markdown",
   "id": "a0386593",
   "metadata": {},
   "source": [
    "This will install additional dependencies using the `pyproject.toml` file. "
   ]
  },
  {
   "attachments": {},
   "cell_type": "markdown",
   "id": "01628f8c",
   "metadata": {},
   "source": [
    "To run the wrapper, We only need to download the following COS and/or STIS files:\n",
    "\n",
    "*    [X1D](https://hst-docs.stsci.edu/cosdhb/chapter-2-cos-data-files/2-4-cos-data-products#:~:text=in%20the%20association.-,One%2DDimensional%20Extracted%20Spectra%20(x1d%2C%20x1dsum),-The%20COS%20pipeline) - the one-dimensional extracted product spectra.\n",
    "  \n",
    "*    [SX1](https://hst-docs.stsci.edu/stisdhb/chapter-2-stis-data-structure/2-2-types-of-stis-files#:~:text=corrected%20imaging%20data.-,_sx1,-table) - the one-dimensional extracted spectra from combined or cosmic-ray rejected images. This file is only produced with STIS data. \n",
    "\n",
    "Make sure that all of these files, for every spectra you wish to abut, are in the same directory. The script will only co-add the files within this directory."
   ]
  },
  {
   "attachments": {},
   "cell_type": "markdown",
   "id": "9cd6cbc4",
   "metadata": {},
   "source": [
    "<a id = runscript></a>\n",
    "## 3. Running the Co-add Script\n",
    "\n",
    "<a id = runscript31></a>\n",
    "### 3.1 Running the Script\n",
    "\n",
    "Now that we have the wrapper installed, we can now run the co-add script.\n",
    "\n",
    "| Command-line Option | Value |\n",
    "|----------|----------|\n",
    "| `--input_directory` (`-i`) | The path to the directory that contains the data to be co-added (_required_)|\n",
    "| `--output_directory` (`-o`) | The path to the directory that will contain the newly co-added products\\*\\* (_required_) |\n",
    "| `--threshold` (`-t`) | The threshold for flux-based filtering (_optional_) |\n",
    "| `--snrmax` (`-s`) | The maximum SNR for flux-based filtering (_optional_) |\n",
    "| `--no_keyword_filtering` (`-k`) | Disable keyword based filtering (except for STIS PRISM data, which is always filtered) (_optional_) |\n",
    "\n",
    "\\*\\***Note:** If you wish to exclude certain data files from the co-add, you can just remove them from your input directory before you run the script.\n",
    "\n",
    "To finally run the script, open your terminal, activate your `conda` environment, and run:\n",
    "\n",
    "```\n",
    "swrapper -i <YOUR_DATA_DIR> -o <YOUR_PRODUCT_DIR>\n",
    "```"
   ]
  },
  {
   "attachments": {},
   "cell_type": "markdown",
   "id": "5a5dae88",
   "metadata": {},
   "source": [
    "You should now have created the co-added spectra for your desired program."
   ]
  },
  {
   "cell_type": "markdown",
   "id": "7e368a5c",
   "metadata": {},
   "source": [
    "<a id = inspectoutput></a>\n",
    "### 3.2 Understanding the Output Files\n",
    "\n",
    "The script produces multiple different files with abutted spectra. Currently, the script outputs abutted products for a single program. It first creates co-added spectra for each grating of a single observation set:\n",
    "\n",
    "`hst_programID_instrument_targetname_grating_obset_cspec.fits`\n",
    "\n",
    "It then co-adds the spectra of all gratings for a single observation set:\n",
    "\n",
    "`hst_programID_instrument_targetname_allGratings_obset_cspec.fits`\n",
    "\n",
    "Finally, it co-adds all abutted observation sets' spectra to create a final co-added product for a single target:\n",
    "\n",
    "`hst_programID_instrument_targetname_allGratings_cspec.fits`\n",
    "\n",
    "An example of this will be below. These filenames are the output files for a STIS GD71 dataset that is co-added in the CoaddTutorial.ipynb notebook example. Here, the `programID` is `7656`, the `instrument` is `STIS`, and the `targetname` is `gd71`.\n",
    "\n",
    "| Step | Filename | Description |\n",
    "|----------|----------|----------|\n",
    "| 1 | `hst_7656_stis_gd71_g140l_o4a520_cspec.fits` | Co-adding all `G140L` observations for the observation set, `O4A520`. |\n",
    "| 2 | `hst_7656_stis_gd71_g140l-g230l-g430l-g750l_o4a520_cspec.fits` | Co-adding all observations taken at every grating for the observation set, `O4A520`. |\n",
    "| 3 | `hst_7656_stis_gd71_g140l-g230l-g430l-g750l_o4a5_cspec.fits` | Co-adding all GD71 observations at each grating for this program, `O4A5`. |\n",
    "\n",
    "***Note: HST file naming conventions use a combination of three letters and/or numbers to have a unique association between a PI's proposal ID and program ID, meaning that `o4a5` at the end of `hst_7656_stis_gd71_g140l-g230l-g430l-g750l_o4a5_cspec.fits` is essentially the program ID for our example. Check out more information on the [MAST HST file naming convention page](https://archive.stsci.edu/hlsp/ipppssoot.html)*** \n"
   ]
  },
  {
   "attachments": {},
   "cell_type": "markdown",
   "id": "551c86c8",
   "metadata": {},
   "source": [
    "## About this Notebook\n",
    "**Author:** Sierra Gomez (sigomez@stsci.edu)\n",
    "\n",
    "**Updated on:** 12/04/2023\n",
    "\n",
    "*This tutorial was generated to be in compliance with the [STScI style guides](https://github.com/spacetelescope/style-guides) and would like to cite the [Jupyter guide](https://github.com/spacetelescope/style-guides/blob/master/templates/example_notebook.ipynb) in particular.*\n"
   ]
  },
  {
   "attachments": {},
   "cell_type": "markdown",
   "id": "164f5842",
   "metadata": {},
   "source": [
    "<img style=\"float: right;\" src=\"https://raw.githubusercontent.com/spacetelescope/notebooks/master/assets/stsci_pri_combo_mark_horizonal_white_bkgd.png\" alt=\"Space Telescope Logo\" width=\"200px\"/>"
   ]
  }
 ],
 "metadata": {
  "kernelspec": {
   "display_name": "Python 3 (ipykernel)",
   "language": "python",
   "name": "python3"
  },
  "language_info": {
   "codemirror_mode": {
    "name": "ipython",
    "version": 3
   },
   "file_extension": ".py",
   "mimetype": "text/x-python",
   "name": "python",
   "nbconvert_exporter": "python",
   "pygments_lexer": "ipython3",
   "version": "3.11.13"
  }
 },
 "nbformat": 4,
 "nbformat_minor": 5
}
