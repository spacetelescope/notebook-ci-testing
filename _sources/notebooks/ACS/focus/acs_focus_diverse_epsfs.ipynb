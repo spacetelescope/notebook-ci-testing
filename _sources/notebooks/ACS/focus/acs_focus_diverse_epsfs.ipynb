{
 "cells": [
  {
   "cell_type": "markdown",
   "id": "a9d01468",
   "metadata": {},
   "source": [
    "This notebook highlights how to use the focus_diverse_psfs module within acstools to retrieve empirical, focus-diverse ePSFs for ACS/WFC data. Please see the [webtool](https:https://acspsf.stsci.edu/), [ACS ISR 2018-08](https://ui.adsabs.harvard.edu/abs/2018acs..rept....8B/abstract), and [ACS ISR 2023-06](https://ui.adsabs.harvard.edu/abs/2023acs..rept....6A/abstract) for more details."
   ]
  },
  {
   "cell_type": "markdown",
   "id": "abee1d82",
   "metadata": {},
   "source": [
    "<font color=\"red\">This notebook currently fails to execute, use as reference only</font>"
   ]
  },
  {
   "cell_type": "markdown",
   "id": "133fe01a",
   "metadata": {},
   "source": [
    "## Imports"
   ]
  },
  {
   "cell_type": "code",
   "execution_count": 1,
   "id": "a81500b6",
   "metadata": {
    "execution": {
     "iopub.execute_input": "2024-04-19T16:46:43.263020Z",
     "iopub.status.busy": "2024-04-19T16:46:43.262520Z",
     "iopub.status.idle": "2024-04-19T16:46:45.904997Z",
     "shell.execute_reply": "2024-04-19T16:46:45.904349Z"
    }
   },
   "outputs": [
    {
     "name": "stderr",
     "output_type": "stream",
     "text": [
      "/opt/hostedtoolcache/Python/3.11.9/x64/lib/python3.11/site-packages/acstools/utils_findsat_mrt.py:24: UserWarning: skimage not installed. MRT calculation will not work.\n",
      "  warnings.warn('skimage not installed. MRT calculation will not work.')\n"
     ]
    }
   ],
   "source": [
    "import os\n",
    "\n",
    "from astropy.io import fits\n",
    "from astroquery.mast import Observations\n",
    "\n",
    "import ipywidgets as widgets\n",
    "import matplotlib.colors as colors\n",
    "import matplotlib.pyplot as plt\n",
    "\n",
    "# import the focus_diverse_psfs functions from acstools \n",
    "from acstools.focus_diverse_epsfs import psf_retriever, multi_psf_retriever, interp_epsf"
   ]
  },
  {
   "cell_type": "markdown",
   "id": "a319cda8",
   "metadata": {},
   "source": [
    "## Downloading and Examining a Single Focus-Diverse ePSF file"
   ]
  },
  {
   "cell_type": "markdown",
   "id": "c5ce3a38",
   "metadata": {},
   "source": [
    "Let's begin with downloading the focus-diverse ePSF FITS file that matches a single observation of our choosing. For this example, we will aim to retrieve the ePSF file for the observation rootname \"jds408jsq\", from GO-15445 (PI W. Keel). \n",
    "\n",
    "Please note that only IPPPSSOOT formats will work (e.g. jds408jsq), and the tool does not support inputs in the form of association IDs or product names (e.g. jds408010 or jds408011).\n",
    "\n",
    "\n",
    "Make sure to change the variable \"download_location\" to an existing folder on your local machine."
   ]
  },
  {
   "cell_type": "code",
   "execution_count": 2,
   "id": "f2529639",
   "metadata": {
    "execution": {
     "iopub.execute_input": "2024-04-19T16:46:45.907505Z",
     "iopub.status.busy": "2024-04-19T16:46:45.907063Z",
     "iopub.status.idle": "2024-04-19T16:46:50.610689Z",
     "shell.execute_reply": "2024-04-19T16:46:50.610198Z"
    }
   },
   "outputs": [
    {
     "name": "stdout",
     "output_type": "stream",
     "text": [
      "CPU times: user 22 ms, sys: 7.21 ms, total: 29.2 ms\n",
      "Wall time: 4.7 s\n"
     ]
    }
   ],
   "source": [
    "%%time \n",
    "\n",
    "# example of a single retrieval\n",
    "\n",
    "\n",
    "# Set the download location to the current working directory\n",
    "download_location = os.path.join(os.getcwd(), 'downloads')\n",
    "os.makedirs(download_location, exist_ok=True)\n",
    "\n",
    "# call the psf_retriever function with observation rootname\n",
    "retrieved_download = psf_retriever('jds408jsq', download_location, timeout=600) "
   ]
  },
  {
   "cell_type": "markdown",
   "id": "bdd9632d",
   "metadata": {},
   "source": [
    "---"
   ]
  },
  {
   "cell_type": "markdown",
   "id": "6791eb95",
   "metadata": {},
   "source": [
    "The direct return of the psf_retriever function is the retrieved file name. The name has the format %ROOTNAME-STDPBF_ACSWFC_%FILTER_%SM_%F.fits, where the variables are:\n",
    "\n",
    "%ROOTNAME- this is the image rootname that you passed to psf_retriever, which is appended to allow for easier bookkeeping of retrieved files\n",
    "\n",
    "%FILTER- this is the ACS/WFC filter that was used in the observation\n",
    "\n",
    "%SM- Short for \"Servicing Mission\", SM3 or SM4, depending on when the observation was taken.\n",
    "\n",
    "%F- Best fit focus group that the individual exposures lies within."
   ]
  },
  {
   "cell_type": "markdown",
   "id": "cb0ea63d",
   "metadata": {},
   "source": [
    "---"
   ]
  },
  {
   "cell_type": "markdown",
   "id": "e8e695f8",
   "metadata": {},
   "source": [
    "We can now examine the retrieved FITS file."
   ]
  },
  {
   "cell_type": "code",
   "execution_count": 3,
   "id": "9bddab16",
   "metadata": {
    "execution": {
     "iopub.execute_input": "2024-04-19T16:46:50.613059Z",
     "iopub.status.busy": "2024-04-19T16:46:50.612852Z",
     "iopub.status.idle": "2024-04-19T16:46:50.617981Z",
     "shell.execute_reply": "2024-04-19T16:46:50.617472Z"
    }
   },
   "outputs": [
    {
     "name": "stdout",
     "output_type": "stream",
     "text": [
      "Filename: /home/runner/work/notebook-ci-testing/notebook-ci-testing/notebooks/ACS/focus/downloads/jds408jsq-STDPBF_ACSWFC_F606W_SM4_F11.2.fits\n",
      "No.    Name      Ver    Type      Cards   Dimensions   Format\n",
      "  0  PRIMARY       1 PrimaryHDU      35   (101, 101, 90)   float32   \n"
     ]
    }
   ],
   "source": [
    "# give path to downloaded file\n",
    "retrieved_filepath = os.path.abspath(retrieved_download)\n",
    "\n",
    "if not os.path.isfile(retrieved_filepath):\n",
    "    raise FileNotFoundError(f\"Expected file not found at {retrieved_filepath}\")\n",
    "\n",
    "# open the file with astropy.io\n",
    "with fits.open(retrieved_filepath) as hdu:\n",
    "    hdu.info() # Display basic information about the file"
   ]
  },
  {
   "cell_type": "markdown",
   "id": "edcf4f10",
   "metadata": {},
   "source": [
    "With the output above, we can see that the dimensions of the file are 101 x 101 x 90. This corresponds to a total of 90 ePSFs, each one with x,y dimensions of 101 x 101. The 90 ePSFs span the range of the two WFC chips and correspond to a 9 x 10 spatial grid (see Figure 1 in [ACS ISR 2018-08](https://ui.adsabs.harvard.edu/abs/2018acs..rept....8B/abstract)). \n",
    "\n",
    "We show these ePSFs below in a widget which allows you to quickly scroll through and get a sense of the spatial differences. "
   ]
  },
  {
   "cell_type": "code",
   "execution_count": 4,
   "id": "5a434e3c",
   "metadata": {
    "execution": {
     "iopub.execute_input": "2024-04-19T16:46:50.619986Z",
     "iopub.status.busy": "2024-04-19T16:46:50.619728Z",
     "iopub.status.idle": "2024-04-19T16:46:50.949426Z",
     "shell.execute_reply": "2024-04-19T16:46:50.948907Z"
    }
   },
   "outputs": [
    {
     "data": {
      "application/vnd.jupyter.widget-view+json": {
       "model_id": "5b0539458f1d44369ca58190864b0b3b",
       "version_major": 2,
       "version_minor": 0
      },
      "text/plain": [
       "interactive(children=(IntSlider(value=44, description='grid_index', max=89), Output()), _dom_classes=('widget-…"
      ]
     },
     "metadata": {},
     "output_type": "display_data"
    },
    {
     "data": {
      "text/plain": [
       "<function __main__.show_ePSF(grid_index)>"
      ]
     },
     "execution_count": 4,
     "metadata": {},
     "output_type": "execute_result"
    }
   ],
   "source": [
    "# # First, lets grab the image data from the retrieved FITS file\n",
    "ePSFs = fits.getdata(retrieved_filepath, ext=0)\n",
    "\n",
    "\n",
    "def show_ePSF(grid_index):\n",
    "    plt.imshow(ePSFs[grid_index], cmap='viridis', norm=colors.LogNorm(vmin=1e-4), origin='lower')\n",
    "    cbar = plt.colorbar()\n",
    "    cbar.set_label('Fractional Energy')\n",
    "    \n",
    "    \n",
    "widgets.interact(show_ePSF, grid_index=(0, 89, 1))"
   ]
  },
  {
   "cell_type": "markdown",
   "id": "c4038320",
   "metadata": {},
   "source": [
    "## Batch Downloads"
   ]
  },
  {
   "cell_type": "markdown",
   "id": "fe76b86a",
   "metadata": {},
   "source": [
    "Here we show how to perform batch downloads for a large set of input rootnames, via two separate methods."
   ]
  },
  {
   "cell_type": "markdown",
   "id": "782eba8b",
   "metadata": {},
   "source": [
    "---"
   ]
  },
  {
   "cell_type": "markdown",
   "id": "3c205482",
   "metadata": {},
   "source": [
    "### via an Input Text File"
   ]
  },
  {
   "cell_type": "markdown",
   "id": "b063b257",
   "metadata": {},
   "source": [
    "With an input text file of one rootname per line, we can use the multi_psf_retriever function with the \"fromTextFile\" parameter set to True to batch download the desired focus-diverse ePSFs."
   ]
  },
  {
   "cell_type": "code",
   "execution_count": 5,
   "id": "7f05f8ff",
   "metadata": {
    "execution": {
     "iopub.execute_input": "2024-04-19T16:46:50.953595Z",
     "iopub.status.busy": "2024-04-19T16:46:50.953397Z",
     "iopub.status.idle": "2024-04-19T16:46:50.956300Z",
     "shell.execute_reply": "2024-04-19T16:46:50.955760Z"
    }
   },
   "outputs": [],
   "source": [
    "# specify the name of the input text file (with one rootname per line),\n",
    "# as well as the desired download location for our focus-diverse ePSFs\n",
    "\n",
    "input_list = 'input_ipsoots.txt'"
   ]
  },
  {
   "cell_type": "code",
   "execution_count": 6,
   "id": "8d0a5472",
   "metadata": {
    "execution": {
     "iopub.execute_input": "2024-04-19T16:46:50.958445Z",
     "iopub.status.busy": "2024-04-19T16:46:50.958124Z",
     "iopub.status.idle": "2024-04-19T16:47:02.659683Z",
     "shell.execute_reply": "2024-04-19T16:47:02.659125Z"
    },
    "scrolled": true
   },
   "outputs": [
    {
     "name": "stdout",
     "output_type": "stream",
     "text": [
      "\r",
      "[                                        ] | 0% Completed | 165.34 us"
     ]
    },
    {
     "name": "stdout",
     "output_type": "stream",
     "text": [
      "\r",
      "[                                        ] | 0% Completed | 101.38 ms"
     ]
    },
    {
     "name": "stdout",
     "output_type": "stream",
     "text": [
      "\r",
      "[                                        ] | 0% Completed | 202.21 ms"
     ]
    },
    {
     "name": "stdout",
     "output_type": "stream",
     "text": [
      "\r",
      "[                                        ] | 0% Completed | 304.55 ms"
     ]
    },
    {
     "name": "stdout",
     "output_type": "stream",
     "text": [
      "\r",
      "[                                        ] | 0% Completed | 405.39 ms"
     ]
    },
    {
     "name": "stdout",
     "output_type": "stream",
     "text": [
      "\r",
      "[                                        ] | 0% Completed | 506.21 ms"
     ]
    },
    {
     "name": "stdout",
     "output_type": "stream",
     "text": [
      "\r",
      "[                                        ] | 0% Completed | 607.19 ms"
     ]
    },
    {
     "name": "stdout",
     "output_type": "stream",
     "text": [
      "\r",
      "[                                        ] | 0% Completed | 707.93 ms"
     ]
    },
    {
     "name": "stdout",
     "output_type": "stream",
     "text": [
      "\r",
      "[                                        ] | 0% Completed | 808.97 ms"
     ]
    },
    {
     "name": "stdout",
     "output_type": "stream",
     "text": [
      "\r",
      "[                                        ] | 0% Completed | 909.72 ms"
     ]
    },
    {
     "name": "stdout",
     "output_type": "stream",
     "text": [
      "\r",
      "[                                        ] | 0% Completed | 1.01 s"
     ]
    },
    {
     "name": "stdout",
     "output_type": "stream",
     "text": [
      "\r",
      "[                                        ] | 0% Completed | 1.11 s"
     ]
    },
    {
     "name": "stdout",
     "output_type": "stream",
     "text": [
      "\r",
      "[                                        ] | 0% Completed | 1.21 s"
     ]
    },
    {
     "name": "stderr",
     "output_type": "stream",
     "text": [
      "/opt/hostedtoolcache/Python/3.11.9/x64/lib/python3.11/site-packages/acstools/utils_findsat_mrt.py:24: UserWarning: skimage not installed. MRT calculation will not work.\n",
      "  warnings.warn('skimage not installed. MRT calculation will not work.')\n",
      "/opt/hostedtoolcache/Python/3.11.9/x64/lib/python3.11/site-packages/acstools/utils_findsat_mrt.py:24: UserWarning: skimage not installed. MRT calculation will not work.\n",
      "  warnings.warn('skimage not installed. MRT calculation will not work.')\n"
     ]
    },
    {
     "name": "stdout",
     "output_type": "stream",
     "text": [
      "\r",
      "[                                        ] | 0% Completed | 1.31 s"
     ]
    },
    {
     "name": "stdout",
     "output_type": "stream",
     "text": [
      "\r",
      "[                                        ] | 0% Completed | 1.41 s"
     ]
    },
    {
     "name": "stdout",
     "output_type": "stream",
     "text": [
      "\r",
      "[                                        ] | 0% Completed | 1.52 s"
     ]
    },
    {
     "name": "stdout",
     "output_type": "stream",
     "text": [
      "\r",
      "[                                        ] | 0% Completed | 1.62 s"
     ]
    },
    {
     "name": "stdout",
     "output_type": "stream",
     "text": [
      "\r",
      "[                                        ] | 0% Completed | 1.72 s"
     ]
    },
    {
     "name": "stdout",
     "output_type": "stream",
     "text": [
      "\r",
      "[                                        ] | 0% Completed | 1.82 s"
     ]
    },
    {
     "name": "stdout",
     "output_type": "stream",
     "text": [
      "\r",
      "[                                        ] | 0% Completed | 1.92 s"
     ]
    },
    {
     "name": "stdout",
     "output_type": "stream",
     "text": [
      "\r",
      "[                                        ] | 0% Completed | 2.02 s"
     ]
    },
    {
     "name": "stdout",
     "output_type": "stream",
     "text": [
      "\r",
      "[                                        ] | 0% Completed | 2.12 s"
     ]
    },
    {
     "name": "stdout",
     "output_type": "stream",
     "text": [
      "\r",
      "[                                        ] | 0% Completed | 2.22 s"
     ]
    },
    {
     "name": "stdout",
     "output_type": "stream",
     "text": [
      "\r",
      "[                                        ] | 0% Completed | 2.32 s"
     ]
    },
    {
     "name": "stdout",
     "output_type": "stream",
     "text": [
      "\r",
      "[                                        ] | 0% Completed | 2.42 s"
     ]
    },
    {
     "name": "stdout",
     "output_type": "stream",
     "text": [
      "\r",
      "[                                        ] | 0% Completed | 2.52 s"
     ]
    },
    {
     "name": "stdout",
     "output_type": "stream",
     "text": [
      "\r",
      "[                                        ] | 0% Completed | 2.62 s"
     ]
    },
    {
     "name": "stdout",
     "output_type": "stream",
     "text": [
      "\r",
      "[                                        ] | 0% Completed | 2.72 s"
     ]
    },
    {
     "name": "stdout",
     "output_type": "stream",
     "text": [
      "\r",
      "[                                        ] | 0% Completed | 2.82 s"
     ]
    },
    {
     "name": "stdout",
     "output_type": "stream",
     "text": [
      "\r",
      "[                                        ] | 0% Completed | 2.92 s"
     ]
    },
    {
     "name": "stdout",
     "output_type": "stream",
     "text": [
      "\r",
      "[                                        ] | 0% Completed | 3.03 s"
     ]
    },
    {
     "name": "stdout",
     "output_type": "stream",
     "text": [
      "\r",
      "[                                        ] | 0% Completed | 3.13 s"
     ]
    },
    {
     "name": "stdout",
     "output_type": "stream",
     "text": [
      "\r",
      "[                                        ] | 0% Completed | 3.23 s"
     ]
    },
    {
     "name": "stdout",
     "output_type": "stream",
     "text": [
      "\r",
      "[                                        ] | 0% Completed | 3.33 s"
     ]
    },
    {
     "name": "stdout",
     "output_type": "stream",
     "text": [
      "\r",
      "[                                        ] | 0% Completed | 3.43 s"
     ]
    },
    {
     "name": "stdout",
     "output_type": "stream",
     "text": [
      "\r",
      "[                                        ] | 0% Completed | 3.53 s"
     ]
    },
    {
     "name": "stdout",
     "output_type": "stream",
     "text": [
      "\r",
      "[                                        ] | 0% Completed | 3.63 s"
     ]
    },
    {
     "name": "stdout",
     "output_type": "stream",
     "text": [
      "\r",
      "[                                        ] | 0% Completed | 3.73 s"
     ]
    },
    {
     "name": "stdout",
     "output_type": "stream",
     "text": [
      "\r",
      "[                                        ] | 0% Completed | 3.83 s"
     ]
    },
    {
     "name": "stdout",
     "output_type": "stream",
     "text": [
      "\r",
      "[                                        ] | 0% Completed | 3.93 s"
     ]
    },
    {
     "name": "stdout",
     "output_type": "stream",
     "text": [
      "\r",
      "[                                        ] | 0% Completed | 4.03 s"
     ]
    },
    {
     "name": "stdout",
     "output_type": "stream",
     "text": [
      "\r",
      "[                                        ] | 0% Completed | 4.13 s"
     ]
    },
    {
     "name": "stdout",
     "output_type": "stream",
     "text": [
      "\r",
      "[                                        ] | 0% Completed | 4.23 s"
     ]
    },
    {
     "name": "stdout",
     "output_type": "stream",
     "text": [
      "\r",
      "[                                        ] | 0% Completed | 4.33 s"
     ]
    },
    {
     "name": "stdout",
     "output_type": "stream",
     "text": [
      "\r",
      "[                                        ] | 0% Completed | 4.44 s"
     ]
    },
    {
     "name": "stdout",
     "output_type": "stream",
     "text": [
      "\r",
      "[                                        ] | 0% Completed | 4.54 s"
     ]
    },
    {
     "name": "stdout",
     "output_type": "stream",
     "text": [
      "\r",
      "[                                        ] | 0% Completed | 4.64 s"
     ]
    },
    {
     "name": "stdout",
     "output_type": "stream",
     "text": [
      "\r",
      "[                                        ] | 0% Completed | 4.74 s"
     ]
    },
    {
     "name": "stdout",
     "output_type": "stream",
     "text": [
      "\r",
      "[                                        ] | 0% Completed | 4.84 s"
     ]
    },
    {
     "name": "stdout",
     "output_type": "stream",
     "text": [
      "\r",
      "[                                        ] | 0% Completed | 4.94 s"
     ]
    },
    {
     "name": "stdout",
     "output_type": "stream",
     "text": [
      "\r",
      "[                                        ] | 0% Completed | 5.04 s"
     ]
    },
    {
     "name": "stdout",
     "output_type": "stream",
     "text": [
      "\r",
      "[                                        ] | 0% Completed | 5.14 s"
     ]
    },
    {
     "name": "stdout",
     "output_type": "stream",
     "text": [
      "\r",
      "[                                        ] | 0% Completed | 5.24 s"
     ]
    },
    {
     "name": "stdout",
     "output_type": "stream",
     "text": [
      "\r",
      "[                                        ] | 0% Completed | 5.34 s"
     ]
    },
    {
     "name": "stdout",
     "output_type": "stream",
     "text": [
      "\r",
      "[                                        ] | 0% Completed | 5.44 s"
     ]
    },
    {
     "name": "stdout",
     "output_type": "stream",
     "text": [
      "\r",
      "[                                        ] | 0% Completed | 5.54 s"
     ]
    },
    {
     "name": "stdout",
     "output_type": "stream",
     "text": [
      "\r",
      "[                                        ] | 0% Completed | 5.64 s"
     ]
    },
    {
     "name": "stdout",
     "output_type": "stream",
     "text": [
      "\r",
      "[                                        ] | 0% Completed | 5.75 s"
     ]
    },
    {
     "name": "stdout",
     "output_type": "stream",
     "text": [
      "\r",
      "[                                        ] | 0% Completed | 5.85 s"
     ]
    },
    {
     "name": "stdout",
     "output_type": "stream",
     "text": [
      "\r",
      "[                                        ] | 0% Completed | 5.95 s"
     ]
    },
    {
     "name": "stdout",
     "output_type": "stream",
     "text": [
      "\r",
      "[                                        ] | 0% Completed | 6.05 s"
     ]
    },
    {
     "name": "stdout",
     "output_type": "stream",
     "text": [
      "\r",
      "[                                        ] | 0% Completed | 6.15 s"
     ]
    },
    {
     "name": "stdout",
     "output_type": "stream",
     "text": [
      "\r",
      "[                                        ] | 0% Completed | 6.25 s"
     ]
    },
    {
     "name": "stdout",
     "output_type": "stream",
     "text": [
      "\r",
      "[                                        ] | 0% Completed | 6.35 s"
     ]
    },
    {
     "name": "stdout",
     "output_type": "stream",
     "text": [
      "\r",
      "[                                        ] | 0% Completed | 6.45 s"
     ]
    },
    {
     "name": "stdout",
     "output_type": "stream",
     "text": [
      "\r",
      "[                                        ] | 0% Completed | 6.55 s"
     ]
    },
    {
     "name": "stdout",
     "output_type": "stream",
     "text": [
      "\r",
      "[                                        ] | 0% Completed | 6.65 s"
     ]
    },
    {
     "name": "stdout",
     "output_type": "stream",
     "text": [
      "\r",
      "[                                        ] | 0% Completed | 6.75 s"
     ]
    },
    {
     "name": "stdout",
     "output_type": "stream",
     "text": [
      "\r",
      "[                                        ] | 0% Completed | 6.85 s"
     ]
    },
    {
     "name": "stdout",
     "output_type": "stream",
     "text": [
      "\r",
      "[                                        ] | 0% Completed | 6.95 s"
     ]
    },
    {
     "name": "stdout",
     "output_type": "stream",
     "text": [
      "\r",
      "[                                        ] | 0% Completed | 7.06 s"
     ]
    },
    {
     "name": "stdout",
     "output_type": "stream",
     "text": [
      "\r",
      "[                                        ] | 0% Completed | 7.16 s"
     ]
    },
    {
     "name": "stdout",
     "output_type": "stream",
     "text": [
      "\r",
      "[                                        ] | 0% Completed | 7.26 s"
     ]
    },
    {
     "name": "stdout",
     "output_type": "stream",
     "text": [
      "\r",
      "[                                        ] | 0% Completed | 7.36 s"
     ]
    },
    {
     "name": "stdout",
     "output_type": "stream",
     "text": [
      "\r",
      "[                                        ] | 0% Completed | 7.46 s"
     ]
    },
    {
     "name": "stdout",
     "output_type": "stream",
     "text": [
      "\r",
      "[                                        ] | 0% Completed | 7.56 s"
     ]
    },
    {
     "name": "stdout",
     "output_type": "stream",
     "text": [
      "\r",
      "[                                        ] | 0% Completed | 7.66 s"
     ]
    },
    {
     "name": "stdout",
     "output_type": "stream",
     "text": [
      "\r",
      "[                                        ] | 0% Completed | 7.76 s"
     ]
    },
    {
     "name": "stdout",
     "output_type": "stream",
     "text": [
      "\r",
      "[                                        ] | 0% Completed | 7.86 s"
     ]
    },
    {
     "name": "stdout",
     "output_type": "stream",
     "text": [
      "\r",
      "[                                        ] | 0% Completed | 7.96 s"
     ]
    },
    {
     "name": "stdout",
     "output_type": "stream",
     "text": [
      "\r",
      "[                                        ] | 0% Completed | 8.06 s"
     ]
    },
    {
     "name": "stdout",
     "output_type": "stream",
     "text": [
      "\r",
      "[                                        ] | 0% Completed | 8.16 s"
     ]
    },
    {
     "name": "stdout",
     "output_type": "stream",
     "text": [
      "\r",
      "[                                        ] | 0% Completed | 8.26 s"
     ]
    },
    {
     "name": "stdout",
     "output_type": "stream",
     "text": [
      "\r",
      "[                                        ] | 0% Completed | 8.37 s"
     ]
    },
    {
     "name": "stdout",
     "output_type": "stream",
     "text": [
      "\r",
      "[                                        ] | 0% Completed | 8.47 s"
     ]
    },
    {
     "name": "stdout",
     "output_type": "stream",
     "text": [
      "\r",
      "[                                        ] | 0% Completed | 8.57 s"
     ]
    },
    {
     "name": "stdout",
     "output_type": "stream",
     "text": [
      "\r",
      "[                                        ] | 0% Completed | 8.67 s"
     ]
    },
    {
     "name": "stdout",
     "output_type": "stream",
     "text": [
      "\r",
      "[                                        ] | 0% Completed | 8.77 s"
     ]
    },
    {
     "name": "stdout",
     "output_type": "stream",
     "text": [
      "\r",
      "[                                        ] | 0% Completed | 8.87 s"
     ]
    },
    {
     "name": "stdout",
     "output_type": "stream",
     "text": [
      "\r",
      "[                                        ] | 0% Completed | 8.97 s"
     ]
    },
    {
     "name": "stdout",
     "output_type": "stream",
     "text": [
      "\r",
      "[                                        ] | 0% Completed | 9.07 s"
     ]
    },
    {
     "name": "stdout",
     "output_type": "stream",
     "text": [
      "\r",
      "[                                        ] | 0% Completed | 9.17 s"
     ]
    },
    {
     "name": "stdout",
     "output_type": "stream",
     "text": [
      "\r",
      "[                                        ] | 0% Completed | 9.27 s"
     ]
    },
    {
     "name": "stdout",
     "output_type": "stream",
     "text": [
      "\r",
      "[                                        ] | 0% Completed | 9.37 s"
     ]
    },
    {
     "name": "stdout",
     "output_type": "stream",
     "text": [
      "\r",
      "[                                        ] | 0% Completed | 9.47 s"
     ]
    },
    {
     "name": "stdout",
     "output_type": "stream",
     "text": [
      "\r",
      "[                                        ] | 0% Completed | 9.57 s"
     ]
    },
    {
     "name": "stdout",
     "output_type": "stream",
     "text": [
      "\r",
      "[                                        ] | 0% Completed | 9.68 s"
     ]
    },
    {
     "name": "stdout",
     "output_type": "stream",
     "text": [
      "\r",
      "[                                        ] | 0% Completed | 9.78 s"
     ]
    },
    {
     "name": "stdout",
     "output_type": "stream",
     "text": [
      "\r",
      "[                                        ] | 0% Completed | 9.88 s"
     ]
    },
    {
     "name": "stdout",
     "output_type": "stream",
     "text": [
      "\r",
      "[                                        ] | 0% Completed | 9.98 s"
     ]
    },
    {
     "name": "stdout",
     "output_type": "stream",
     "text": [
      "\r",
      "[                                        ] | 0% Completed | 10.08 s"
     ]
    },
    {
     "name": "stdout",
     "output_type": "stream",
     "text": [
      "\r",
      "[                                        ] | 0% Completed | 10.18 s"
     ]
    },
    {
     "name": "stdout",
     "output_type": "stream",
     "text": [
      "\r",
      "[                                        ] | 0% Completed | 10.28 s"
     ]
    },
    {
     "name": "stdout",
     "output_type": "stream",
     "text": [
      "\r",
      "[                                        ] | 0% Completed | 10.38 s"
     ]
    },
    {
     "name": "stdout",
     "output_type": "stream",
     "text": [
      "\r",
      "[                                        ] | 0% Completed | 10.48 s"
     ]
    },
    {
     "name": "stdout",
     "output_type": "stream",
     "text": [
      "\r",
      "[                                        ] | 0% Completed | 10.58 s"
     ]
    },
    {
     "name": "stdout",
     "output_type": "stream",
     "text": [
      "\r",
      "[                                        ] | 0% Completed | 10.68 s"
     ]
    },
    {
     "name": "stdout",
     "output_type": "stream",
     "text": [
      "\r",
      "[                                        ] | 0% Completed | 10.78 s"
     ]
    },
    {
     "name": "stdout",
     "output_type": "stream",
     "text": [
      "\r",
      "[########################                ] | 60% Completed | 10.88 s"
     ]
    },
    {
     "name": "stdout",
     "output_type": "stream",
     "text": [
      "\r",
      "[########################                ] | 60% Completed | 10.98 s"
     ]
    },
    {
     "name": "stdout",
     "output_type": "stream",
     "text": [
      "\r",
      "[########################                ] | 60% Completed | 11.09 s"
     ]
    },
    {
     "name": "stdout",
     "output_type": "stream",
     "text": [
      "\r",
      "[########################################] | 100% Completed | 11.19 s"
     ]
    },
    {
     "name": "stdout",
     "output_type": "stream",
     "text": [
      "\n"
     ]
    },
    {
     "name": "stdout",
     "output_type": "stream",
     "text": [
      "# of matching files:  10\n",
      "CPU times: user 182 ms, sys: 25.6 ms, total: 207 ms\n",
      "Wall time: 11.7 s\n"
     ]
    }
   ],
   "source": [
    "%%time \n",
    "\n",
    "# use the multi_psf_retriever function to retrieve our ePSFs\n",
    "retrieved_downloads = multi_psf_retriever(input_list, download_location)\n",
    "\n",
    "print('# of matching files: ', len(retrieved_downloads))"
   ]
  },
  {
   "cell_type": "markdown",
   "id": "1bb2de4e",
   "metadata": {},
   "source": [
    "---"
   ]
  },
  {
   "cell_type": "markdown",
   "id": "78c17035",
   "metadata": {},
   "source": [
    "### via *astroquery*"
   ]
  },
  {
   "cell_type": "markdown",
   "id": "713cd3ef",
   "metadata": {},
   "source": [
    "Alternatively, we can use *astroquery* to simply grab the rootnames for all ACS/WFC images within a given HST proposal and retrieve the corresponding focus-diverse ePSFs. \n",
    "\n",
    "Here we provide an example of using astroquery and the multi_psf_retriever function to grab all matching focus-diverse ePSFs for observations of the Leo P galaxy from GO-13376 (PI K. McQuinn)."
   ]
  },
  {
   "cell_type": "code",
   "execution_count": 7,
   "id": "68519edf",
   "metadata": {
    "execution": {
     "iopub.execute_input": "2024-04-19T16:47:02.662357Z",
     "iopub.status.busy": "2024-04-19T16:47:02.661853Z",
     "iopub.status.idle": "2024-04-19T16:47:03.350932Z",
     "shell.execute_reply": "2024-04-19T16:47:03.350396Z"
    },
    "scrolled": false
   },
   "outputs": [],
   "source": [
    "# # use astroquery to grab ACS/WFC observations from GO-13376 (PI K. McQuinn)\n",
    "obsTable = Observations.query_criteria(obs_collection='HST', proposal_id=\"13376\", \n",
    "                                       instrument_name=\"ACS/WFC\", provenance_name=\"CALACS\")\n",
    "\n",
    "# retrieve the data products for the above observations\n",
    "dataProducts = Observations.get_product_list(obsTable)\n",
    "\n",
    "# filter the data products for just the FLC files from HST, and not the Hubble Advanced Products (HAP) project\n",
    "dataProducts = dataProducts[(dataProducts['productSubGroupDescription'] == 'FLC') &\n",
    "                            (dataProducts['type'] == 'S')]\n",
    "\n",
    "# create a list of corresponding rootnames\n",
    "obs_rootnames = list(dataProducts['obs_id'])"
   ]
  },
  {
   "cell_type": "code",
   "execution_count": 8,
   "id": "00e3296a",
   "metadata": {
    "execution": {
     "iopub.execute_input": "2024-04-19T16:47:03.353757Z",
     "iopub.status.busy": "2024-04-19T16:47:03.353379Z",
     "iopub.status.idle": "2024-04-19T16:47:18.098214Z",
     "shell.execute_reply": "2024-04-19T16:47:18.097473Z"
    },
    "scrolled": true
   },
   "outputs": [
    {
     "name": "stdout",
     "output_type": "stream",
     "text": [
      "\r",
      "[                                        ] | 0% Completed | 111.59 us"
     ]
    },
    {
     "name": "stdout",
     "output_type": "stream",
     "text": [
      "\r",
      "[                                        ] | 0% Completed | 101.24 ms"
     ]
    },
    {
     "name": "stdout",
     "output_type": "stream",
     "text": [
      "\r",
      "[                                        ] | 0% Completed | 203.72 ms"
     ]
    },
    {
     "name": "stdout",
     "output_type": "stream",
     "text": [
      "\r",
      "[                                        ] | 0% Completed | 305.97 ms"
     ]
    },
    {
     "name": "stdout",
     "output_type": "stream",
     "text": [
      "\r",
      "[                                        ] | 0% Completed | 408.04 ms"
     ]
    },
    {
     "name": "stdout",
     "output_type": "stream",
     "text": [
      "\r",
      "[                                        ] | 0% Completed | 510.31 ms"
     ]
    },
    {
     "name": "stdout",
     "output_type": "stream",
     "text": [
      "\r",
      "[                                        ] | 0% Completed | 612.64 ms"
     ]
    },
    {
     "name": "stdout",
     "output_type": "stream",
     "text": [
      "\r",
      "[                                        ] | 0% Completed | 714.99 ms"
     ]
    },
    {
     "name": "stdout",
     "output_type": "stream",
     "text": [
      "\r",
      "[                                        ] | 0% Completed | 817.01 ms"
     ]
    },
    {
     "name": "stdout",
     "output_type": "stream",
     "text": [
      "\r",
      "[                                        ] | 0% Completed | 919.42 ms"
     ]
    },
    {
     "name": "stdout",
     "output_type": "stream",
     "text": [
      "\r",
      "[                                        ] | 0% Completed | 1.02 s"
     ]
    },
    {
     "name": "stdout",
     "output_type": "stream",
     "text": [
      "\r",
      "[                                        ] | 0% Completed | 1.12 s"
     ]
    },
    {
     "name": "stdout",
     "output_type": "stream",
     "text": [
      "\r",
      "[                                        ] | 0% Completed | 1.23 s"
     ]
    },
    {
     "name": "stdout",
     "output_type": "stream",
     "text": [
      "\r",
      "[                                        ] | 0% Completed | 1.33 s"
     ]
    },
    {
     "name": "stdout",
     "output_type": "stream",
     "text": [
      "\r",
      "[                                        ] | 0% Completed | 1.43 s"
     ]
    },
    {
     "name": "stdout",
     "output_type": "stream",
     "text": [
      "\r",
      "[                                        ] | 0% Completed | 1.53 s"
     ]
    },
    {
     "name": "stdout",
     "output_type": "stream",
     "text": [
      "\r",
      "[                                        ] | 0% Completed | 1.64 s"
     ]
    },
    {
     "name": "stdout",
     "output_type": "stream",
     "text": [
      "\r",
      "[                                        ] | 0% Completed | 1.74 s"
     ]
    },
    {
     "name": "stdout",
     "output_type": "stream",
     "text": [
      "\r",
      "[                                        ] | 0% Completed | 1.84 s"
     ]
    },
    {
     "name": "stdout",
     "output_type": "stream",
     "text": [
      "\r",
      "[                                        ] | 0% Completed | 1.94 s"
     ]
    },
    {
     "name": "stdout",
     "output_type": "stream",
     "text": [
      "\r",
      "[                                        ] | 0% Completed | 2.04 s"
     ]
    },
    {
     "name": "stdout",
     "output_type": "stream",
     "text": [
      "\r",
      "[                                        ] | 0% Completed | 2.15 s"
     ]
    },
    {
     "name": "stdout",
     "output_type": "stream",
     "text": [
      "\r",
      "[                                        ] | 0% Completed | 2.25 s"
     ]
    },
    {
     "name": "stdout",
     "output_type": "stream",
     "text": [
      "\r",
      "[                                        ] | 0% Completed | 2.35 s"
     ]
    },
    {
     "name": "stdout",
     "output_type": "stream",
     "text": [
      "\r",
      "[                                        ] | 0% Completed | 2.45 s"
     ]
    },
    {
     "name": "stdout",
     "output_type": "stream",
     "text": [
      "\r",
      "[                                        ] | 0% Completed | 2.56 s"
     ]
    },
    {
     "name": "stdout",
     "output_type": "stream",
     "text": [
      "\r",
      "[                                        ] | 0% Completed | 2.66 s"
     ]
    },
    {
     "name": "stdout",
     "output_type": "stream",
     "text": [
      "\r",
      "[                                        ] | 0% Completed | 2.76 s"
     ]
    },
    {
     "name": "stderr",
     "output_type": "stream",
     "text": [
      "/opt/hostedtoolcache/Python/3.11.9/x64/lib/python3.11/site-packages/acstools/utils_findsat_mrt.py:24: UserWarning: skimage not installed. MRT calculation will not work.\n",
      "  warnings.warn('skimage not installed. MRT calculation will not work.')\n",
      "/opt/hostedtoolcache/Python/3.11.9/x64/lib/python3.11/site-packages/acstools/utils_findsat_mrt.py:24: UserWarning: skimage not installed. MRT calculation will not work.\n",
      "  warnings.warn('skimage not installed. MRT calculation will not work.')\n",
      "/opt/hostedtoolcache/Python/3.11.9/x64/lib/python3.11/site-packages/acstools/utils_findsat_mrt.py:24: UserWarning: skimage not installed. MRT calculation will not work.\n",
      "  warnings.warn('skimage not installed. MRT calculation will not work.')\n",
      "/opt/hostedtoolcache/Python/3.11.9/x64/lib/python3.11/site-packages/acstools/utils_findsat_mrt.py:24: UserWarning: skimage not installed. MRT calculation will not work.\n",
      "  warnings.warn('skimage not installed. MRT calculation will not work.')\n"
     ]
    },
    {
     "name": "stdout",
     "output_type": "stream",
     "text": [
      "\r",
      "[                                        ] | 0% Completed | 2.86 s"
     ]
    },
    {
     "name": "stdout",
     "output_type": "stream",
     "text": [
      "\r",
      "[                                        ] | 0% Completed | 2.96 s"
     ]
    },
    {
     "name": "stderr",
     "output_type": "stream",
     "text": [
      "/opt/hostedtoolcache/Python/3.11.9/x64/lib/python3.11/site-packages/acstools/utils_findsat_mrt.py:24: UserWarning: skimage not installed. MRT calculation will not work.\n",
      "  warnings.warn('skimage not installed. MRT calculation will not work.')\n",
      "/opt/hostedtoolcache/Python/3.11.9/x64/lib/python3.11/site-packages/acstools/utils_findsat_mrt.py:24: UserWarning: skimage not installed. MRT calculation will not work.\n",
      "  warnings.warn('skimage not installed. MRT calculation will not work.')\n"
     ]
    },
    {
     "name": "stdout",
     "output_type": "stream",
     "text": [
      "\r",
      "[                                        ] | 0% Completed | 3.06 s"
     ]
    },
    {
     "name": "stdout",
     "output_type": "stream",
     "text": [
      "\r",
      "[                                        ] | 0% Completed | 3.17 s"
     ]
    },
    {
     "name": "stdout",
     "output_type": "stream",
     "text": [
      "\r",
      "[                                        ] | 0% Completed | 3.27 s"
     ]
    },
    {
     "name": "stdout",
     "output_type": "stream",
     "text": [
      "\r",
      "[                                        ] | 0% Completed | 3.37 s"
     ]
    },
    {
     "name": "stdout",
     "output_type": "stream",
     "text": [
      "\r",
      "[                                        ] | 0% Completed | 3.47 s"
     ]
    },
    {
     "name": "stdout",
     "output_type": "stream",
     "text": [
      "\r",
      "[                                        ] | 0% Completed | 3.57 s"
     ]
    },
    {
     "name": "stdout",
     "output_type": "stream",
     "text": [
      "\r",
      "[                                        ] | 0% Completed | 3.67 s"
     ]
    },
    {
     "name": "stdout",
     "output_type": "stream",
     "text": [
      "\r",
      "[                                        ] | 0% Completed | 3.77 s"
     ]
    },
    {
     "name": "stdout",
     "output_type": "stream",
     "text": [
      "\r",
      "[                                        ] | 0% Completed | 3.87 s"
     ]
    },
    {
     "name": "stdout",
     "output_type": "stream",
     "text": [
      "\r",
      "[                                        ] | 0% Completed | 3.97 s"
     ]
    },
    {
     "name": "stdout",
     "output_type": "stream",
     "text": [
      "\r",
      "[                                        ] | 0% Completed | 4.07 s"
     ]
    },
    {
     "name": "stdout",
     "output_type": "stream",
     "text": [
      "\r",
      "[                                        ] | 0% Completed | 4.17 s"
     ]
    },
    {
     "name": "stdout",
     "output_type": "stream",
     "text": [
      "\r",
      "[                                        ] | 0% Completed | 4.27 s"
     ]
    },
    {
     "name": "stdout",
     "output_type": "stream",
     "text": [
      "\r",
      "[                                        ] | 0% Completed | 4.37 s"
     ]
    },
    {
     "name": "stdout",
     "output_type": "stream",
     "text": [
      "\r",
      "[                                        ] | 0% Completed | 4.47 s"
     ]
    },
    {
     "name": "stdout",
     "output_type": "stream",
     "text": [
      "\r",
      "[                                        ] | 0% Completed | 4.58 s"
     ]
    },
    {
     "name": "stdout",
     "output_type": "stream",
     "text": [
      "\r",
      "[                                        ] | 0% Completed | 4.68 s"
     ]
    },
    {
     "name": "stdout",
     "output_type": "stream",
     "text": [
      "\r",
      "[                                        ] | 0% Completed | 4.78 s"
     ]
    },
    {
     "name": "stdout",
     "output_type": "stream",
     "text": [
      "\r",
      "[                                        ] | 0% Completed | 4.88 s"
     ]
    },
    {
     "name": "stdout",
     "output_type": "stream",
     "text": [
      "\r",
      "[                                        ] | 0% Completed | 4.98 s"
     ]
    },
    {
     "name": "stdout",
     "output_type": "stream",
     "text": [
      "\r",
      "[                                        ] | 0% Completed | 5.08 s"
     ]
    },
    {
     "name": "stdout",
     "output_type": "stream",
     "text": [
      "\r",
      "[                                        ] | 0% Completed | 5.18 s"
     ]
    },
    {
     "name": "stdout",
     "output_type": "stream",
     "text": [
      "\r",
      "[                                        ] | 0% Completed | 5.28 s"
     ]
    },
    {
     "name": "stdout",
     "output_type": "stream",
     "text": [
      "\r",
      "[                                        ] | 0% Completed | 5.38 s"
     ]
    },
    {
     "name": "stdout",
     "output_type": "stream",
     "text": [
      "\r",
      "[                                        ] | 0% Completed | 5.48 s"
     ]
    },
    {
     "name": "stdout",
     "output_type": "stream",
     "text": [
      "\r",
      "[                                        ] | 0% Completed | 5.58 s"
     ]
    },
    {
     "name": "stdout",
     "output_type": "stream",
     "text": [
      "\r",
      "[                                        ] | 0% Completed | 5.68 s"
     ]
    },
    {
     "name": "stdout",
     "output_type": "stream",
     "text": [
      "\r",
      "[                                        ] | 0% Completed | 5.79 s"
     ]
    },
    {
     "name": "stdout",
     "output_type": "stream",
     "text": [
      "\r",
      "[                                        ] | 0% Completed | 5.89 s"
     ]
    },
    {
     "name": "stdout",
     "output_type": "stream",
     "text": [
      "\r",
      "[                                        ] | 0% Completed | 5.99 s"
     ]
    },
    {
     "name": "stdout",
     "output_type": "stream",
     "text": [
      "\r",
      "[                                        ] | 0% Completed | 6.09 s"
     ]
    },
    {
     "name": "stdout",
     "output_type": "stream",
     "text": [
      "\r",
      "[                                        ] | 0% Completed | 6.19 s"
     ]
    },
    {
     "name": "stdout",
     "output_type": "stream",
     "text": [
      "\r",
      "[                                        ] | 0% Completed | 6.29 s"
     ]
    },
    {
     "name": "stdout",
     "output_type": "stream",
     "text": [
      "\r",
      "[                                        ] | 0% Completed | 6.39 s"
     ]
    },
    {
     "name": "stdout",
     "output_type": "stream",
     "text": [
      "\r",
      "[                                        ] | 0% Completed | 6.49 s"
     ]
    },
    {
     "name": "stdout",
     "output_type": "stream",
     "text": [
      "\r",
      "[                                        ] | 0% Completed | 6.59 s"
     ]
    },
    {
     "name": "stdout",
     "output_type": "stream",
     "text": [
      "\r",
      "[                                        ] | 0% Completed | 6.69 s"
     ]
    },
    {
     "name": "stdout",
     "output_type": "stream",
     "text": [
      "\r",
      "[                                        ] | 0% Completed | 6.79 s"
     ]
    },
    {
     "name": "stdout",
     "output_type": "stream",
     "text": [
      "\r",
      "[                                        ] | 0% Completed | 6.89 s"
     ]
    },
    {
     "name": "stdout",
     "output_type": "stream",
     "text": [
      "\r",
      "[                                        ] | 0% Completed | 6.99 s"
     ]
    },
    {
     "name": "stdout",
     "output_type": "stream",
     "text": [
      "\r",
      "[                                        ] | 0% Completed | 7.09 s"
     ]
    },
    {
     "name": "stdout",
     "output_type": "stream",
     "text": [
      "\r",
      "[                                        ] | 0% Completed | 7.20 s"
     ]
    },
    {
     "name": "stdout",
     "output_type": "stream",
     "text": [
      "\r",
      "[                                        ] | 0% Completed | 7.30 s"
     ]
    },
    {
     "name": "stdout",
     "output_type": "stream",
     "text": [
      "\r",
      "[                                        ] | 0% Completed | 7.40 s"
     ]
    },
    {
     "name": "stdout",
     "output_type": "stream",
     "text": [
      "\r",
      "[                                        ] | 0% Completed | 7.50 s"
     ]
    },
    {
     "name": "stdout",
     "output_type": "stream",
     "text": [
      "\r",
      "[                                        ] | 0% Completed | 7.60 s"
     ]
    },
    {
     "name": "stdout",
     "output_type": "stream",
     "text": [
      "\r",
      "[                                        ] | 0% Completed | 7.70 s"
     ]
    },
    {
     "name": "stdout",
     "output_type": "stream",
     "text": [
      "\r",
      "[                                        ] | 0% Completed | 7.80 s"
     ]
    },
    {
     "name": "stdout",
     "output_type": "stream",
     "text": [
      "\r",
      "[                                        ] | 0% Completed | 7.90 s"
     ]
    },
    {
     "name": "stdout",
     "output_type": "stream",
     "text": [
      "\r",
      "[                                        ] | 0% Completed | 8.00 s"
     ]
    },
    {
     "name": "stdout",
     "output_type": "stream",
     "text": [
      "\r",
      "[                                        ] | 0% Completed | 8.10 s"
     ]
    },
    {
     "name": "stdout",
     "output_type": "stream",
     "text": [
      "\r",
      "[                                        ] | 0% Completed | 8.20 s"
     ]
    },
    {
     "name": "stdout",
     "output_type": "stream",
     "text": [
      "\r",
      "[                                        ] | 0% Completed | 8.30 s"
     ]
    },
    {
     "name": "stdout",
     "output_type": "stream",
     "text": [
      "\r",
      "[                                        ] | 0% Completed | 8.40 s"
     ]
    },
    {
     "name": "stdout",
     "output_type": "stream",
     "text": [
      "\r",
      "[                                        ] | 0% Completed | 8.51 s"
     ]
    },
    {
     "name": "stdout",
     "output_type": "stream",
     "text": [
      "\r",
      "[                                        ] | 0% Completed | 8.61 s"
     ]
    },
    {
     "name": "stdout",
     "output_type": "stream",
     "text": [
      "\r",
      "[                                        ] | 0% Completed | 8.71 s"
     ]
    },
    {
     "name": "stdout",
     "output_type": "stream",
     "text": [
      "\r",
      "[                                        ] | 0% Completed | 8.81 s"
     ]
    },
    {
     "name": "stdout",
     "output_type": "stream",
     "text": [
      "\r",
      "[                                        ] | 0% Completed | 8.91 s"
     ]
    },
    {
     "name": "stdout",
     "output_type": "stream",
     "text": [
      "\r",
      "[                                        ] | 0% Completed | 9.01 s"
     ]
    },
    {
     "name": "stdout",
     "output_type": "stream",
     "text": [
      "\r",
      "[                                        ] | 0% Completed | 9.11 s"
     ]
    },
    {
     "name": "stdout",
     "output_type": "stream",
     "text": [
      "\r",
      "[                                        ] | 0% Completed | 9.21 s"
     ]
    },
    {
     "name": "stdout",
     "output_type": "stream",
     "text": [
      "\r",
      "[                                        ] | 0% Completed | 9.31 s"
     ]
    },
    {
     "name": "stdout",
     "output_type": "stream",
     "text": [
      "\r",
      "[                                        ] | 0% Completed | 9.41 s"
     ]
    },
    {
     "name": "stdout",
     "output_type": "stream",
     "text": [
      "\r",
      "[                                        ] | 0% Completed | 9.51 s"
     ]
    },
    {
     "name": "stdout",
     "output_type": "stream",
     "text": [
      "\r",
      "[                                        ] | 0% Completed | 9.61 s"
     ]
    },
    {
     "name": "stdout",
     "output_type": "stream",
     "text": [
      "\r",
      "[                                        ] | 0% Completed | 9.71 s"
     ]
    },
    {
     "name": "stdout",
     "output_type": "stream",
     "text": [
      "\r",
      "[                                        ] | 0% Completed | 9.82 s"
     ]
    },
    {
     "name": "stdout",
     "output_type": "stream",
     "text": [
      "\r",
      "[                                        ] | 0% Completed | 9.92 s"
     ]
    },
    {
     "name": "stdout",
     "output_type": "stream",
     "text": [
      "\r",
      "[####                                    ] | 11% Completed | 10.02 s"
     ]
    },
    {
     "name": "stdout",
     "output_type": "stream",
     "text": [
      "\r",
      "[####                                    ] | 11% Completed | 10.12 s"
     ]
    },
    {
     "name": "stdout",
     "output_type": "stream",
     "text": [
      "\r",
      "[####                                    ] | 11% Completed | 10.22 s"
     ]
    },
    {
     "name": "stdout",
     "output_type": "stream",
     "text": [
      "\r",
      "[####                                    ] | 11% Completed | 10.32 s"
     ]
    },
    {
     "name": "stdout",
     "output_type": "stream",
     "text": [
      "\r",
      "[####                                    ] | 11% Completed | 10.42 s"
     ]
    },
    {
     "name": "stdout",
     "output_type": "stream",
     "text": [
      "\r",
      "[####                                    ] | 11% Completed | 10.52 s"
     ]
    },
    {
     "name": "stdout",
     "output_type": "stream",
     "text": [
      "\r",
      "[####                                    ] | 11% Completed | 10.62 s"
     ]
    },
    {
     "name": "stdout",
     "output_type": "stream",
     "text": [
      "\r",
      "[####                                    ] | 11% Completed | 10.72 s"
     ]
    },
    {
     "name": "stdout",
     "output_type": "stream",
     "text": [
      "\r",
      "[####                                    ] | 11% Completed | 10.82 s"
     ]
    },
    {
     "name": "stdout",
     "output_type": "stream",
     "text": [
      "\r",
      "[####                                    ] | 11% Completed | 10.92 s"
     ]
    },
    {
     "name": "stdout",
     "output_type": "stream",
     "text": [
      "\r",
      "[####                                    ] | 11% Completed | 11.02 s"
     ]
    },
    {
     "name": "stdout",
     "output_type": "stream",
     "text": [
      "\r",
      "[####                                    ] | 11% Completed | 11.13 s"
     ]
    },
    {
     "name": "stdout",
     "output_type": "stream",
     "text": [
      "\r",
      "[####                                    ] | 11% Completed | 11.23 s"
     ]
    },
    {
     "name": "stdout",
     "output_type": "stream",
     "text": [
      "\r",
      "[####                                    ] | 11% Completed | 11.33 s"
     ]
    },
    {
     "name": "stdout",
     "output_type": "stream",
     "text": [
      "\r",
      "[####                                    ] | 11% Completed | 11.43 s"
     ]
    },
    {
     "name": "stdout",
     "output_type": "stream",
     "text": [
      "\r",
      "[####                                    ] | 11% Completed | 11.53 s"
     ]
    },
    {
     "name": "stdout",
     "output_type": "stream",
     "text": [
      "\r",
      "[###########                             ] | 29% Completed | 11.63 s"
     ]
    },
    {
     "name": "stdout",
     "output_type": "stream",
     "text": [
      "\r",
      "[###########                             ] | 29% Completed | 11.73 s"
     ]
    },
    {
     "name": "stdout",
     "output_type": "stream",
     "text": [
      "\r",
      "[###########                             ] | 29% Completed | 11.83 s"
     ]
    },
    {
     "name": "stdout",
     "output_type": "stream",
     "text": [
      "\r",
      "[###########                             ] | 29% Completed | 11.93 s"
     ]
    },
    {
     "name": "stdout",
     "output_type": "stream",
     "text": [
      "\r",
      "[###########                             ] | 29% Completed | 12.03 s"
     ]
    },
    {
     "name": "stdout",
     "output_type": "stream",
     "text": [
      "\r",
      "[###########                             ] | 29% Completed | 12.13 s"
     ]
    },
    {
     "name": "stdout",
     "output_type": "stream",
     "text": [
      "\r",
      "[###########                             ] | 29% Completed | 12.23 s"
     ]
    },
    {
     "name": "stdout",
     "output_type": "stream",
     "text": [
      "\r",
      "[##################                      ] | 47% Completed | 12.33 s"
     ]
    },
    {
     "name": "stdout",
     "output_type": "stream",
     "text": [
      "\r",
      "[##################                      ] | 47% Completed | 12.43 s"
     ]
    },
    {
     "name": "stdout",
     "output_type": "stream",
     "text": [
      "\r",
      "[##################                      ] | 47% Completed | 12.54 s"
     ]
    },
    {
     "name": "stdout",
     "output_type": "stream",
     "text": [
      "\r",
      "[##################                      ] | 47% Completed | 12.64 s"
     ]
    },
    {
     "name": "stdout",
     "output_type": "stream",
     "text": [
      "\r",
      "[#########################               ] | 64% Completed | 12.74 s"
     ]
    },
    {
     "name": "stdout",
     "output_type": "stream",
     "text": [
      "\r",
      "[#########################               ] | 64% Completed | 12.84 s"
     ]
    },
    {
     "name": "stdout",
     "output_type": "stream",
     "text": [
      "\r",
      "[#########################               ] | 64% Completed | 12.94 s"
     ]
    },
    {
     "name": "stdout",
     "output_type": "stream",
     "text": [
      "\r",
      "[#########################               ] | 64% Completed | 13.04 s"
     ]
    },
    {
     "name": "stdout",
     "output_type": "stream",
     "text": [
      "\r",
      "[#########################               ] | 64% Completed | 13.14 s"
     ]
    },
    {
     "name": "stdout",
     "output_type": "stream",
     "text": [
      "\r",
      "[#########################               ] | 64% Completed | 13.24 s"
     ]
    },
    {
     "name": "stdout",
     "output_type": "stream",
     "text": [
      "\r",
      "[#########################               ] | 64% Completed | 13.34 s"
     ]
    },
    {
     "name": "stdout",
     "output_type": "stream",
     "text": [
      "\r",
      "[#########################               ] | 64% Completed | 13.44 s"
     ]
    },
    {
     "name": "stdout",
     "output_type": "stream",
     "text": [
      "\r",
      "[#########################               ] | 64% Completed | 13.54 s"
     ]
    },
    {
     "name": "stdout",
     "output_type": "stream",
     "text": [
      "\r",
      "[#########################               ] | 64% Completed | 13.64 s"
     ]
    },
    {
     "name": "stdout",
     "output_type": "stream",
     "text": [
      "\r",
      "[#########################               ] | 64% Completed | 13.74 s"
     ]
    },
    {
     "name": "stdout",
     "output_type": "stream",
     "text": [
      "\r",
      "[################################        ] | 82% Completed | 13.85 s"
     ]
    },
    {
     "name": "stdout",
     "output_type": "stream",
     "text": [
      "\r",
      "[################################        ] | 82% Completed | 13.95 s"
     ]
    },
    {
     "name": "stdout",
     "output_type": "stream",
     "text": [
      "\r",
      "[################################        ] | 82% Completed | 14.05 s"
     ]
    },
    {
     "name": "stdout",
     "output_type": "stream",
     "text": [
      "\r",
      "[########################################] | 100% Completed | 14.15 s"
     ]
    },
    {
     "name": "stdout",
     "output_type": "stream",
     "text": [
      "\n"
     ]
    },
    {
     "name": "stdout",
     "output_type": "stream",
     "text": [
      "# of matching files:  34\n",
      "CPU times: user 134 ms, sys: 38.7 ms, total: 172 ms\n",
      "Wall time: 14.7 s\n"
     ]
    }
   ],
   "source": [
    "%%time\n",
    "\n",
    "# use the multi_psf_retriever function to retrieve our ePSFs \n",
    "retrieved_downloads = multi_psf_retriever(obs_rootnames, download_location)\n",
    "\n",
    "print('# of matching files: ', len(retrieved_downloads))"
   ]
  },
  {
   "cell_type": "markdown",
   "id": "91ab33c5",
   "metadata": {},
   "source": [
    "# Further Spatial Interpolations"
   ]
  },
  {
   "cell_type": "markdown",
   "id": "9c6a35bc",
   "metadata": {},
   "source": [
    "---"
   ]
  },
  {
   "cell_type": "markdown",
   "id": "7bf751ae",
   "metadata": {},
   "source": [
    "Users may be interested in further interpolating the provided ePSF array to any arbitrary (x,y) coordinate. The function interp_epsf() allows us to retrieve this (using bi-linear interpolation)."
   ]
  },
  {
   "cell_type": "markdown",
   "id": "ea152867",
   "metadata": {},
   "source": [
    "For example, we can retrieve the ePSF loaded from its FITS file above and interpolate to x,y = (2000,2000) on WFC1, which is near the middle of the detector along the x-axis, and near the top of the WFC1 chip (and the detector overall). "
   ]
  },
  {
   "cell_type": "code",
   "execution_count": 9,
   "id": "6fbeebf6",
   "metadata": {
    "execution": {
     "iopub.execute_input": "2024-04-19T16:47:18.100843Z",
     "iopub.status.busy": "2024-04-19T16:47:18.100609Z",
     "iopub.status.idle": "2024-04-19T16:47:18.519186Z",
     "shell.execute_reply": "2024-04-19T16:47:18.518641Z"
    }
   },
   "outputs": [
    {
     "data": {
      "text/plain": [
       "<matplotlib.colorbar.Colorbar at 0x7f2c01071bd0>"
      ]
     },
     "execution_count": 9,
     "metadata": {},
     "output_type": "execute_result"
    },
    {
     "data": {
      "image/png": "[encoded data removed]",
      "text/plain": [
       "<Figure size 640x480 with 2 Axes>"
      ]
     },
     "metadata": {},
     "output_type": "display_data"
    }
   ],
   "source": [
    "x = 2000\n",
    "y = 2000\n",
    "chip = \"WFC1\"\n",
    "\n",
    "# get interpolated ePSF in supersampled space\n",
    "P = interp_epsf(ePSFs, x, y, chip)\n",
    "plt.imshow(P, cmap='viridis', norm=colors.LogNorm(vmin=1e-4), origin='lower')\n",
    "plt.title('jds408jsq at x,y = (2000,2000) on WFC1')\n",
    "plt.colorbar()"
   ]
  },
  {
   "cell_type": "markdown",
   "id": "f821d862",
   "metadata": {},
   "source": [
    "By default, the ePSFs come with 4x supersampling. We can output them in detector space by setting the \"pixel_space\" = True."
   ]
  },
  {
   "cell_type": "code",
   "execution_count": 10,
   "id": "590fb332",
   "metadata": {
    "execution": {
     "iopub.execute_input": "2024-04-19T16:47:18.521667Z",
     "iopub.status.busy": "2024-04-19T16:47:18.521273Z",
     "iopub.status.idle": "2024-04-19T16:47:18.805999Z",
     "shell.execute_reply": "2024-04-19T16:47:18.805396Z"
    }
   },
   "outputs": [
    {
     "data": {
      "text/plain": [
       "<matplotlib.colorbar.Colorbar at 0x7f2c01098550>"
      ]
     },
     "execution_count": 10,
     "metadata": {},
     "output_type": "execute_result"
    },
    {
     "data": {
      "image/png": "[encoded data removed]",
      "text/plain": [
       "<Figure size 640x480 with 2 Axes>"
      ]
     },
     "metadata": {},
     "output_type": "display_data"
    }
   ],
   "source": [
    "# get interpolated ePSF in detector space\n",
    "P = interp_epsf(ePSFs, x, y, chip,\n",
    "                pixel_space=True)\n",
    "plt.imshow(P, cmap='viridis', norm=colors.LogNorm(vmin=1e-4), origin='lower')\n",
    "plt.title('(2000,2000) on WFC1 (Detector Space)')\n",
    "plt.colorbar()"
   ]
  },
  {
   "cell_type": "markdown",
   "id": "d6460c6d",
   "metadata": {},
   "source": [
    "Lastly, we can shift the ePSF to any sub-pixel phase by specifying the individual x and y subpixel offsets. The code uses bi-cubic interpolation to perform these sub-pixel phase shifts. \n",
    "\n",
    "Note that pixel_space must be set to True to use these subpixel offsets. Also note that the code only supports this bi-cubic interpolation to the second decimal place (e.g. subpixel_x = 0.77 and subpixel_y = 0.33)"
   ]
  },
  {
   "cell_type": "code",
   "execution_count": 11,
   "id": "f74f8caa",
   "metadata": {
    "execution": {
     "iopub.execute_input": "2024-04-19T16:47:18.808378Z",
     "iopub.status.busy": "2024-04-19T16:47:18.808185Z",
     "iopub.status.idle": "2024-04-19T16:47:19.112485Z",
     "shell.execute_reply": "2024-04-19T16:47:19.111827Z"
    },
    "scrolled": false
   },
   "outputs": [
    {
     "data": {
      "text/plain": [
       "<matplotlib.colorbar.Colorbar at 0x7f2c00dd8550>"
      ]
     },
     "execution_count": 11,
     "metadata": {},
     "output_type": "execute_result"
    },
    {
     "data": {
      "image/png": "[encoded data removed]",
      "text/plain": [
       "<Figure size 640x480 with 2 Axes>"
      ]
     },
     "metadata": {},
     "output_type": "display_data"
    }
   ],
   "source": [
    "# # get interpolated ePSF in detector space with specified sub-pixel shifts\n",
    "P = interp_epsf(ePSFs, x, y, chip,\n",
    "                pixel_space=True, \n",
    "                subpixel_x=0.77, subpixel_y=0.33)\n",
    "\n",
    "plt.imshow(P, cmap='viridis', norm=colors.LogNorm(vmin=1e-4), origin='lower')\n",
    "plt.title('(2000.77,2000.33) on WFC1 (Detector Space)')\n",
    "plt.colorbar()"
   ]
  }
 ],
 "metadata": {
  "kernelspec": {
   "display_name": "Python 3 (ipykernel)",
   "language": "python",
   "name": "python3"
  },
  "language_info": {
   "codemirror_mode": {
    "name": "ipython",
    "version": 3
   },
   "file_extension": ".py",
   "mimetype": "text/x-python",
   "name": "python",
   "nbconvert_exporter": "python",
   "pygments_lexer": "ipython3",
   "version": "3.11.9"
  },
  "widgets": {
   "application/vnd.jupyter.widget-state+json": {
    "state": {
     "24c39434bcad4c219ca98356569f1074": {
      "model_module": "@jupyter-widgets/base",
      "model_module_version": "2.0.0",
      "model_name": "LayoutModel",
      "state": {
       "_model_module": "@jupyter-widgets/base",
       "_model_module_version": "2.0.0",
       "_model_name": "LayoutModel",
       "_view_count": null,
       "_view_module": "@jupyter-widgets/base",
       "_view_module_version": "2.0.0",
       "_view_name": "LayoutView",
       "align_content": null,
       "align_items": null,
       "align_self": null,
       "border_bottom": null,
       "border_left": null,
       "border_right": null,
       "border_top": null,
       "bottom": null,
       "display": null,
       "flex": null,
       "flex_flow": null,
       "grid_area": null,
       "grid_auto_columns": null,
       "grid_auto_flow": null,
       "grid_auto_rows": null,
       "grid_column": null,
       "grid_gap": null,
       "grid_row": null,
       "grid_template_areas": null,
       "grid_template_columns": null,
       "grid_template_rows": null,
       "height": null,
       "justify_content": null,
       "justify_items": null,
       "left": null,
       "margin": null,
       "max_height": null,
       "max_width": null,
       "min_height": null,
       "min_width": null,
       "object_fit": null,
       "object_position": null,
       "order": null,
       "overflow": null,
       "padding": null,
       "right": null,
       "top": null,
       "visibility": null,
       "width": null
      }
     },
     "4f0b83560dff491e91f6b12ce4bcb095": {
      "model_module": "@jupyter-widgets/controls",
      "model_module_version": "2.0.0",
      "model_name": "SliderStyleModel",
      "state": {
       "_model_module": "@jupyter-widgets/controls",
       "_model_module_version": "2.0.0",
       "_model_name": "SliderStyleModel",
       "_view_count": null,
       "_view_module": "@jupyter-widgets/base",
       "_view_module_version": "2.0.0",
       "_view_name": "StyleView",
       "description_width": "",
       "handle_color": null
      }
     },
     "5b0539458f1d44369ca58190864b0b3b": {
      "model_module": "@jupyter-widgets/controls",
      "model_module_version": "2.0.0",
      "model_name": "VBoxModel",
      "state": {
       "_dom_classes": [
        "widget-interact"
       ],
       "_model_module": "@jupyter-widgets/controls",
       "_model_module_version": "2.0.0",
       "_model_name": "VBoxModel",
       "_view_count": null,
       "_view_module": "@jupyter-widgets/controls",
       "_view_module_version": "2.0.0",
       "_view_name": "VBoxView",
       "box_style": "",
       "children": [
        "IPY_MODEL_e74e94f59efe4115b9a543f902af68ef",
        "IPY_MODEL_fa08b7f3414e43348374639ca6810192"
       ],
       "layout": "IPY_MODEL_7790cbd7572942638ac1797535f22687",
       "tabbable": null,
       "tooltip": null
      }
     },
     "7790cbd7572942638ac1797535f22687": {
      "model_module": "@jupyter-widgets/base",
      "model_module_version": "2.0.0",
      "model_name": "LayoutModel",
      "state": {
       "_model_module": "@jupyter-widgets/base",
       "_model_module_version": "2.0.0",
       "_model_name": "LayoutModel",
       "_view_count": null,
       "_view_module": "@jupyter-widgets/base",
       "_view_module_version": "2.0.0",
       "_view_name": "LayoutView",
       "align_content": null,
       "align_items": null,
       "align_self": null,
       "border_bottom": null,
       "border_left": null,
       "border_right": null,
       "border_top": null,
       "bottom": null,
       "display": null,
       "flex": null,
       "flex_flow": null,
       "grid_area": null,
       "grid_auto_columns": null,
       "grid_auto_flow": null,
       "grid_auto_rows": null,
       "grid_column": null,
       "grid_gap": null,
       "grid_row": null,
       "grid_template_areas": null,
       "grid_template_columns": null,
       "grid_template_rows": null,
       "height": null,
       "justify_content": null,
       "justify_items": null,
       "left": null,
       "margin": null,
       "max_height": null,
       "max_width": null,
       "min_height": null,
       "min_width": null,
       "object_fit": null,
       "object_position": null,
       "order": null,
       "overflow": null,
       "padding": null,
       "right": null,
       "top": null,
       "visibility": null,
       "width": null
      }
     },
     "a8c47c87a17845beacf1c52530b44a5f": {
      "model_module": "@jupyter-widgets/base",
      "model_module_version": "2.0.0",
      "model_name": "LayoutModel",
      "state": {
       "_model_module": "@jupyter-widgets/base",
       "_model_module_version": "2.0.0",
       "_model_name": "LayoutModel",
       "_view_count": null,
       "_view_module": "@jupyter-widgets/base",
       "_view_module_version": "2.0.0",
       "_view_name": "LayoutView",
       "align_content": null,
       "align_items": null,
       "align_self": null,
       "border_bottom": null,
       "border_left": null,
       "border_right": null,
       "border_top": null,
       "bottom": null,
       "display": null,
       "flex": null,
       "flex_flow": null,
       "grid_area": null,
       "grid_auto_columns": null,
       "grid_auto_flow": null,
       "grid_auto_rows": null,
       "grid_column": null,
       "grid_gap": null,
       "grid_row": null,
       "grid_template_areas": null,
       "grid_template_columns": null,
       "grid_template_rows": null,
       "height": null,
       "justify_content": null,
       "justify_items": null,
       "left": null,
       "margin": null,
       "max_height": null,
       "max_width": null,
       "min_height": null,
       "min_width": null,
       "object_fit": null,
       "object_position": null,
       "order": null,
       "overflow": null,
       "padding": null,
       "right": null,
       "top": null,
       "visibility": null,
       "width": null
      }
     },
     "e74e94f59efe4115b9a543f902af68ef": {
      "model_module": "@jupyter-widgets/controls",
      "model_module_version": "2.0.0",
      "model_name": "IntSliderModel",
      "state": {
       "_dom_classes": [],
       "_model_module": "@jupyter-widgets/controls",
       "_model_module_version": "2.0.0",
       "_model_name": "IntSliderModel",
       "_view_count": null,
       "_view_module": "@jupyter-widgets/controls",
       "_view_module_version": "2.0.0",
       "_view_name": "IntSliderView",
       "behavior": "drag-tap",
       "continuous_update": true,
       "description": "grid_index",
       "description_allow_html": false,
       "disabled": false,
       "layout": "IPY_MODEL_24c39434bcad4c219ca98356569f1074",
       "max": 89,
       "min": 0,
       "orientation": "horizontal",
       "readout": true,
       "readout_format": "d",
       "step": 1,
       "style": "IPY_MODEL_4f0b83560dff491e91f6b12ce4bcb095",
       "tabbable": null,
       "tooltip": null,
       "value": 44
      }
     },
     "fa08b7f3414e43348374639ca6810192": {
      "model_module": "@jupyter-widgets/output",
      "model_module_version": "1.0.0",
      "model_name": "OutputModel",
      "state": {
       "_dom_classes": [],
       "_model_module": "@jupyter-widgets/output",
       "_model_module_version": "1.0.0",
       "_model_name": "OutputModel",
       "_view_count": null,
       "_view_module": "@jupyter-widgets/output",
       "_view_module_version": "1.0.0",
       "_view_name": "OutputView",
       "layout": "IPY_MODEL_a8c47c87a17845beacf1c52530b44a5f",
       "msg_id": "",
       "outputs": [
        {
         "data": {
          "image/png": "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",
          "text/plain": "<Figure size 640x480 with 2 Axes>"
         },
         "metadata": {},
         "output_type": "display_data"
        }
       ],
       "tabbable": null,
       "tooltip": null
      }
     }
    },
    "version_major": 2,
    "version_minor": 0
   }
  }
 },
 "nbformat": 4,
 "nbformat_minor": 5
}
