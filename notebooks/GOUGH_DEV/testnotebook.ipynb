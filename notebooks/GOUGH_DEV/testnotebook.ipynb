{
  "cells": [
    {
      "cell_type": "code",
      "execution_count": 1,
      "id": "hello-world-cell",
      "metadata": {
        "execution": {
          "iopub.execute_input": "2025-03-28T13:45:28.887294Z",
          "iopub.status.busy": "2025-03-28T13:45:28.887106Z",
          "iopub.status.idle": "2025-03-28T13:45:28.892801Z",
          "shell.execute_reply": "2025-03-28T13:45:28.892239Z"
        }
      },
      "outputs": [
        {
          "name": "stdout",
          "output_type": "stream",
          "text": [
            "Helloooso world\n"
          ]
        }
      ],
      "source": [
        "print('Helloooso world')"
      ]
    }
  ],
  "metadata": {
    "kernelspec": {
      "display_name": "Python 3",
      "language": "python",
      "name": "python3"
    },
    "language_info": {
      "codemirror_mode": {
        "name": "ipython",
        "version": 3
      },
      "file_extension": ".py",
      "mimetype": "text/x-python",
      "name": "python",
      "nbconvert_exporter": "python",
      "pygments_lexer": "ipython3",
      "version": "3.11.11"
    }
  },
  "nbformat": 4,
  "nbformat_minor": 5
}
